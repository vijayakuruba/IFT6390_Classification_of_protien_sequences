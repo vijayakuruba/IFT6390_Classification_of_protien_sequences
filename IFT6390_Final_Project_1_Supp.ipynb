{
 "cells": [
  {
   "cell_type": "markdown",
   "metadata": {
    "id": "7UmUHbiGiEMW"
   },
   "source": [
    "# IFT6390: Final Project\n",
    "\n",
    "The final project pertains to the problem of finding novel [antimicrobial peptides](https://en.wikipedia.org/wiki/Antimicrobial_peptides) (AMP) which may turn out to be key in the fight against antibiotics resistance. The World Health Organization qualifies antibiotic resistance as one of the [''biggest threats to global health, food security, and development today''](https://www.who.int/news-room/fact-sheets/detail/antibiotic-resistance).\n",
    "\n",
    "Given the limited time frame of this project, I have scoped down the problems to two main tracks:\n",
    "\n",
    "1. **Classification**: classifying protein sequences as AMP or non-AMP: a binary classification problem\n",
    "\n",
    "    1.1 You are allowed to use Scikit-learn. You need to provide the following baselines: Random Forest, SVM, Neural Network. Use TF-IDF as a baseline feature extractor (you can use sklearn) for each of those.  \n",
    "2. **Generation**: Given a corpus of AMP sequences, learn a character-level language model. You should implement a baseline using a Markov model. Then implement a sequential model using an RNN or LSTM. \n",
    "\n",
    "You should pick one of the two options. Choose your own adventure. You can work in teams of **three people max**.\n",
    "\n",
    "---\n",
    "Le projet final a trait au problème de découverte de [peptides antimicrobien](https://fr.wikipedia.org/wiki/Peptide_antimicrobien) qui pourraient s'avérer utile dans la bataille contre la résistance antibiotique. L'Organisation mondiale de la Santé estime que la résistance antibiotique est l'une des plus [grande menace à la santé globale, la sécurité alimentaire ainsi que le dévelopment de nos jours](https://www.who.int/news-room/fact-sheets/detail/antibiotic-resistance).\n",
    "\n",
    "Étant donnée la durée limitée de ce projet, j'ai établi les deux directions de recherche suivantes: \n",
    "\n",
    "1. **Classification**: classifier les séquence de peptides antimicrobiens (AMPS) et non-antimicrobiens (non-AMP).\n",
    "\n",
    "  1.1 Vous pouvez utiliser Scikit-learn. Vous devez toutefois fournir des points de comparaisons avec les algorithmes suivants: forêts aléatoires (random forest), SVM, réseaux de neurones. De plus, utilisez TF-IDF (scikit-learn) pour transformer les séquences de textes en vecteurs de charactéristiques.\n",
    "\n",
    "2.**Modèle génératif**: étant donné un ensemble de séquences d'AMPs, apprendre un modèle de langage au niveaux des charactères. Vous devez également implémenter un modèle Markoviens pour fins de comparaison. Implémentez ensuite le modèle génératif avec un RNN ou un LSTM (voir démo de Viet). \n",
    "\n",
    "Vous devez choisir une des deux options. Vous pouvez travailler en équipe de trois personnes maximum. \n",
    "\n",
    "\n",
    "\n",
    "\n",
    "\n"
   ]
  },
  {
   "cell_type": "markdown",
   "metadata": {
    "id": "UYGrjhhbiRiF"
   },
   "source": [
    "# Dataset\n",
    "\n",
    "The dataset in this project comes from two open source projects: amPEPpy and AMPlify. \n",
    "\n",
    "---\n",
    "\n",
    "L'ensemble de données provient des projets amPEPpy et AMPlify. "
   ]
  },
  {
   "cell_type": "code",
   "execution_count": null,
   "metadata": {
    "colab": {
     "base_uri": "https://localhost:8080/"
    },
    "id": "tktJPs8MhLOr",
    "outputId": "dd79e8a9-0392-450f-90e0-9d1480181e14"
   },
   "outputs": [],
   "source": [
    "!pip install biopython\n",
    "!wget https://raw.githubusercontent.com/bcgsc/AMPlify/master/data/AMP_20190407.fa\n",
    "!wget https://raw.githubusercontent.com/bcgsc/AMPlify/master/data/non_AMP_20190413.fa\n",
    "!wget https://raw.githubusercontent.com/tlawrence3/amPEPpy/master/training_data/M_model_train_AMP_sequence.numbered.fasta\n",
    "!wget https://raw.githubusercontent.com/tlawrence3/amPEPpy/master/training_data/M_model_train_nonAMP_sequence.numbered.fasta"
   ]
  },
  {
   "cell_type": "code",
   "execution_count": 1,
   "metadata": {
    "id": "HQgO-_AxhaKS"
   },
   "outputs": [],
   "source": [
    "from Bio import SeqIO\n",
    "import matplotlib.pyplot as plt"
   ]
  },
  {
   "cell_type": "code",
   "execution_count": 2,
   "metadata": {
    "id": "svHX_fr4hPQg"
   },
   "outputs": [],
   "source": [
    "def fasta_to_str_set(name):\n",
    "  return {str(rec.seq) for rec in SeqIO.parse(name, 'fasta')}"
   ]
  },
  {
   "cell_type": "code",
   "execution_count": 3,
   "metadata": {
    "id": "due0S5wYhQ-5"
   },
   "outputs": [],
   "source": [
    "positive_examples = fasta_to_str_set('AMP_20190407.fa').union(fasta_to_str_set('M_model_train_AMP_sequence.numbered.fasta'))\n",
    "#positive_examples = fasta_to_str_set('M_model_train_AMP_sequence.numbered.fasta')\n",
    "negative_examples = fasta_to_str_set('non_AMP_20190413.fa').union(fasta_to_str_set('M_model_train_nonAMP_sequence.numbered.fasta'))\n",
    "#negative_examples = fasta_to_str_set('M_model_train_nonAMP_sequence.numbered.fasta')"
   ]
  },
  {
   "cell_type": "markdown",
   "metadata": {
    "id": "0cfO3VqZikeU"
   },
   "source": [
    "Once we have merged the two data sources, the positive class has:\n",
    "\n",
    "---\n",
    "\n",
    "Une fois les sources de données combinées, la classe positive a:"
   ]
  },
  {
   "cell_type": "code",
   "execution_count": 4,
   "metadata": {
    "colab": {
     "base_uri": "https://localhost:8080/"
    },
    "id": "nMv1E41mhrLB",
    "outputId": "e6ee9694-a484-4c61-e98a-b81071823bb4"
   },
   "outputs": [
    {
     "name": "stdout",
     "output_type": "stream",
     "text": [
      "5264 examples\n"
     ]
    }
   ],
   "source": [
    "print(f\"{len(positive_examples)} examples\")"
   ]
  },
  {
   "cell_type": "markdown",
   "metadata": {
    "id": "XMvOwI8cjAAK"
   },
   "source": [
    "and the negative class (non-AMPs) has:"
   ]
  },
  {
   "cell_type": "code",
   "execution_count": 5,
   "metadata": {
    "colab": {
     "base_uri": "https://localhost:8080/"
    },
    "id": "chlRMLqli5uE",
    "outputId": "87d533f1-e986-4c9f-9593-33320afeacc4"
   },
   "outputs": [
    {
     "name": "stdout",
     "output_type": "stream",
     "text": [
      "167732 examples\n"
     ]
    }
   ],
   "source": [
    "print(f\"{len(negative_examples)} examples\")"
   ]
  },
  {
   "cell_type": "markdown",
   "metadata": {
    "id": "WwJd8DiSjyHv"
   },
   "source": [
    "We have way more non-AMPs than AMP. This will be a challenge. Furthermore, the distribution of the sequence lengths varies a lot between the two classes. You should probably do something about this.\n",
    "\n",
    "---\n",
    "\n",
    "Nous avons également beaucoup plus de non-AMPs que d'AMPs. C'est là le défi. De plus, la distribution de la longeur des séquences varie beaucoup entre les deux classes. Vous devrez tenter de palier à ce problème. "
   ]
  },
  {
   "cell_type": "code",
   "execution_count": 6,
   "metadata": {
    "colab": {
     "base_uri": "https://localhost:8080/",
     "height": 298
    },
    "id": "eL4FBivbjDc4",
    "outputId": "32a1ba8e-1b73-48bd-d10c-2f1a8d320b5d"
   },
   "outputs": [
    {
     "data": {
      "text/plain": [
       "Text(0.5, 1.0, 'Negative Sequence Lengths')"
      ]
     },
     "execution_count": 6,
     "metadata": {},
     "output_type": "execute_result"
    },
    {
     "data": {
      "image/png": "[encoded data removed]",
      "text/plain": [
       "<Figure size 432x288 with 2 Axes>"
      ]
     },
     "metadata": {
      "needs_background": "light"
     },
     "output_type": "display_data"
    }
   ],
   "source": [
    "fig, axes = plt.subplots(1,2)\n",
    "axes[0].hist([len(seq) for seq in positive_examples])\n",
    "axes[0].set_title('Positive Sequence Lengths')\n",
    "axes[1].hist([len(seq) for seq in negative_examples])\n",
    "axes[1].set_title('Negative Sequence Lengths')"
   ]
  },
  {
   "cell_type": "markdown",
   "metadata": {
    "id": "gPqDJ5_JkYVH"
   },
   "source": [
    "Let's have a look at the data. For example, the first AMP in the dataset is: \n",
    "\n",
    "---\n",
    "\n",
    "Jettons un coup d'oeil aux données. Le premier exemple d'AMP est:"
   ]
  },
  {
   "cell_type": "code",
   "execution_count": 7,
   "metadata": {
    "colab": {
     "base_uri": "https://localhost:8080/",
     "height": 35
    },
    "id": "jmPKW4ICjSk4",
    "outputId": "df51c7b6-b1de-4b85-9f7c-d3aa7e4240ea"
   },
   "outputs": [
    {
     "data": {
      "text/plain": [
       "'RAIGGGLSSVGGGSSTIKY'"
      ]
     },
     "execution_count": 7,
     "metadata": {},
     "output_type": "execute_result"
    }
   ],
   "source": [
    "list(positive_examples)[0]"
   ]
  },
  {
   "cell_type": "markdown",
   "metadata": {
    "id": "cBOQwaD9kwoG"
   },
   "source": [
    "This string describes the sequence of [amino acids](https://en.wikipedia.org/wiki/Amino_acid) present in the given AMP. There are $20$ possible such *standard* amino acids present in the genetic code. To know more about the meaning of each of those letter, see [this section](https://en.wikipedia.org/wiki/Amino_acid#Table_of_standard_amino_acid_abbreviations_and_properties) of the Wikipedia page on amino acids.\n",
    "\n",
    "A non-AMP looks like:\n",
    "\n",
    "---\n",
    "\n",
    "Cette séquence décrit les amino acides présent dans l'AMP donné. Il y a $20$ aminos acides standard dans le code génétique. Pour en connaître plus sur la signification de chaque lettre, voir la page [wikipedia](https://en.wikipedia.org/wiki/Amino_acid#Table_of_standard_amino_acid_abbreviations_and_properties). "
   ]
  },
  {
   "cell_type": "code",
   "execution_count": 8,
   "metadata": {
    "colab": {
     "base_uri": "https://localhost:8080/",
     "height": 35
    },
    "id": "QMcOXgdbkh-p",
    "outputId": "3ce3e122-3236-4ae5-a7f2-8889f55fd615"
   },
   "outputs": [
    {
     "data": {
      "text/plain": [
       "'MEDPFYEVKADASNQMEQVRKLYNSFMAARNSGVLSPNTELTYAIDELSETLKDLKAAVEIAMKNSEHFGLDEEELKSRRRFVSELDIELNNIQLKMGAAPSTPVSTEPYTVDNGASAGLSEEDHAVNRQYQEQLYQQQDVMLDGVYDTIGNIRGQAALMGEELGQQADLLDTLDNSIETTNSKLRRGMKRLKDFTIASADSKSGCCITVLIIILIALLVLVIVL'"
      ]
     },
     "execution_count": 8,
     "metadata": {},
     "output_type": "execute_result"
    }
   ],
   "source": [
    "list(negative_examples)[0]"
   ]
  },
  {
   "cell_type": "markdown",
   "metadata": {
    "id": "8oh0vDvMLsN9"
   },
   "source": [
    "# Deliverables\n",
    "\n",
    "You should provide a Colab notebook containing your code, figures and analysis. The code should be runnable and the figures reproducible. What I'm looking for in your report is to understand the thought process that led you to model your problem in a particular way. I want to see how you go about validating your results: discuss limitations, what can go wrong, what went wrong and how you addressed those issues. The final accuracy number is less important than how you got there. For each algorithm, also please provide a quick math overview of how it works under the hood.\n",
    "\n",
    "The due date (firm) is April 30th. \n",
    "\n",
    "---\n",
    "\n",
    "Vous devez remettre un cahier Colab contenant votre code, figures et analyses. Le code doit être exécutable et doit pouvoir reproduire les figures. Le point auquel sur lequel je vais m'attarder le plus est de comprendre le développement de vos idées. Je veux pouvoir comprendre comment vous avez validé vos résultats: en discutant les limitations, qu'est-ce qui peut mal tourner et comment s'attaquer aux problèmes. La précision finale du modèle est moins importante que l'analyse de votre approche elle-même. Pour chaque algorithme, veuillez également fournir un survol mathématique des concepts principaux. \n",
    "\n",
    "La date finale (ferme) est le 30 avril. "
   ]
  },
  {
   "cell_type": "markdown",
   "metadata": {},
   "source": [
    "# Dataset"
   ]
  },
  {
   "cell_type": "code",
   "execution_count": 9,
   "metadata": {},
   "outputs": [],
   "source": [
    "from sklearn.feature_extraction.text import TfidfVectorizer"
   ]
  },
  {
   "cell_type": "code",
   "execution_count": 10,
   "metadata": {},
   "outputs": [],
   "source": [
    "def dummy(doc):\n",
    "    return doc"
   ]
  },
  {
   "cell_type": "code",
   "execution_count": 11,
   "metadata": {},
   "outputs": [],
   "source": [
    "positive_examples = fasta_to_str_set('AMP_20190407.fa')\n",
    "#.union(fasta_to_str_set('M_model_train_AMP_sequence.numbered.fasta'))\n",
    "#positive_examples = fasta_to_str_set('M_model_train_AMP_sequence.numbered.fasta')\n",
    "negative_examples = fasta_to_str_set('non_AMP_20190413.fa')\n",
    "#.union(fasta_to_str_set('M_model_train_nonAMP_sequence.numbered.fasta'))\n",
    "#negative_examples = fasta_to_str_set('M_model_train_nonAMP_sequence.numbered.fasta')"
   ]
  },
  {
   "cell_type": "code",
   "execution_count": 12,
   "metadata": {},
   "outputs": [],
   "source": [
    "vectorizer = TfidfVectorizer(tokenizer=dummy,preprocessor=dummy,lowercase=False)     "
   ]
  },
  {
   "cell_type": "code",
   "execution_count": 13,
   "metadata": {},
   "outputs": [
    {
     "name": "stdout",
     "output_type": "stream",
     "text": [
      "(4173, 20)\n",
      "4173\n",
      "20\n"
     ]
    }
   ],
   "source": [
    "X1 = vectorizer.fit_transform(positive_examples)\n",
    "print(X1.shape)\n",
    "features1 = vectorizer.get_feature_names()\n",
    "print(len(positive_examples))\n",
    "print(len(features1))"
   ]
  },
  {
   "cell_type": "code",
   "execution_count": 14,
   "metadata": {},
   "outputs": [
    {
     "data": {
      "text/plain": [
       "'GLMDTIKGVAKNVAASLLEKLKCKVTGC'"
      ]
     },
     "execution_count": 14,
     "metadata": {},
     "output_type": "execute_result"
    }
   ],
   "source": [
    "list(positive_examples)[1]"
   ]
  },
  {
   "cell_type": "code",
   "execution_count": 15,
   "metadata": {},
   "outputs": [
    {
     "name": "stdout",
     "output_type": "stream",
     "text": [
      "['A', 'C', 'D', 'E', 'F', 'G', 'H', 'I', 'K', 'L', 'M', 'N', 'P', 'Q', 'R', 'S', 'T', 'V', 'W', 'Y']\n"
     ]
    }
   ],
   "source": [
    "print(features1)"
   ]
  },
  {
   "cell_type": "code",
   "execution_count": 16,
   "metadata": {},
   "outputs": [
    {
     "name": "stdout",
     "output_type": "stream",
     "text": [
      "(4173, 20)\n",
      "4173\n",
      "20\n"
     ]
    }
   ],
   "source": [
    "X2 = vectorizer.fit_transform(negative_examples)\n",
    "print(X2.shape)\n",
    "features2 = vectorizer.get_feature_names()\n",
    "print(len(negative_examples))\n",
    "print(len(features2))"
   ]
  },
  {
   "cell_type": "code",
   "execution_count": 17,
   "metadata": {},
   "outputs": [
    {
     "name": "stdout",
     "output_type": "stream",
     "text": [
      "['A', 'C', 'D', 'E', 'F', 'G', 'H', 'I', 'K', 'L', 'M', 'N', 'P', 'Q', 'R', 'S', 'T', 'V', 'W', 'Y']\n"
     ]
    }
   ],
   "source": [
    "print(features1)"
   ]
  },
  {
   "cell_type": "code",
   "execution_count": 18,
   "metadata": {},
   "outputs": [
    {
     "data": {
      "image/png": "[encoded data removed]",
      "text/plain": [
       "<Figure size 432x288 with 2 Axes>"
      ]
     },
     "metadata": {
      "needs_background": "light"
     },
     "output_type": "display_data"
    }
   ],
   "source": [
    "fig, axes = plt.subplots(1,2)\n",
    "axes[0].hist([len(seq) for seq in positive_examples])\n",
    "axes[0].set_title('Positive Sequence Lengths')\n",
    "axes[1].hist([len(seq) for seq in negative_examples])\n",
    "axes[1].set_title('Negative Sequence Lengths')\n",
    "plt.show()"
   ]
  },
  {
   "cell_type": "code",
   "execution_count": 19,
   "metadata": {},
   "outputs": [
    {
     "name": "stdout",
     "output_type": "stream",
     "text": [
      "(8346, 3)\n"
     ]
    }
   ],
   "source": [
    "import pandas as pd \n",
    "import numpy as np\n",
    "df_orig_p=pd.DataFrame(positive_examples,columns=['Sequence'])\n",
    "df_orig_p['Label']=1\n",
    "df_orig_p['SqLen'] = np.array([len(seq) for seq in positive_examples])\n",
    "df_orig_n=pd.DataFrame(negative_examples,columns=['Sequence'])\n",
    "df_orig_n['SqLen'] = np.array([len(seq) for seq in negative_examples])\n",
    "df_orig_n['Label']=0\n",
    "\n",
    "df1 = pd.DataFrame()\n",
    "df1 = df1.append(df_orig_p,ignore_index=True)\n",
    "df1 = df1.append(df_orig_n,ignore_index=True)\n",
    "print(df1.shape)"
   ]
  },
  {
   "cell_type": "code",
   "execution_count": 20,
   "metadata": {},
   "outputs": [
    {
     "data": {
      "text/plain": [
       "Index(['Sequence', 'Label', 'SqLen'], dtype='object')"
      ]
     },
     "execution_count": 20,
     "metadata": {},
     "output_type": "execute_result"
    }
   ],
   "source": [
    "df1.columns"
   ]
  },
  {
   "cell_type": "code",
   "execution_count": 21,
   "metadata": {},
   "outputs": [
    {
     "data": {
      "text/html": [
       "<div>\n",
       "<style scoped>\n",
       "    .dataframe tbody tr th:only-of-type {\n",
       "        vertical-align: middle;\n",
       "    }\n",
       "\n",
       "    .dataframe tbody tr th {\n",
       "        vertical-align: top;\n",
       "    }\n",
       "\n",
       "    .dataframe thead th {\n",
       "        text-align: right;\n",
       "    }\n",
       "</style>\n",
       "<table border=\"1\" class=\"dataframe\">\n",
       "  <thead>\n",
       "    <tr style=\"text-align: right;\">\n",
       "      <th></th>\n",
       "      <th>Sequence</th>\n",
       "      <th>Label</th>\n",
       "      <th>SqLen</th>\n",
       "    </tr>\n",
       "  </thead>\n",
       "  <tbody>\n",
       "    <tr>\n",
       "      <th>0</th>\n",
       "      <td>RAIGGGLSSVGGGSSTIKY</td>\n",
       "      <td>1</td>\n",
       "      <td>19</td>\n",
       "    </tr>\n",
       "    <tr>\n",
       "      <th>1</th>\n",
       "      <td>GLMDTIKGVAKNVAASLLEKLKCKVTGC</td>\n",
       "      <td>1</td>\n",
       "      <td>28</td>\n",
       "    </tr>\n",
       "    <tr>\n",
       "      <th>2</th>\n",
       "      <td>FFFLSRIF</td>\n",
       "      <td>1</td>\n",
       "      <td>8</td>\n",
       "    </tr>\n",
       "    <tr>\n",
       "      <th>3</th>\n",
       "      <td>FLPIIASVAAKLIPSIVCRITKKC</td>\n",
       "      <td>1</td>\n",
       "      <td>24</td>\n",
       "    </tr>\n",
       "    <tr>\n",
       "      <th>4</th>\n",
       "      <td>YIFHLMD</td>\n",
       "      <td>1</td>\n",
       "      <td>7</td>\n",
       "    </tr>\n",
       "  </tbody>\n",
       "</table>\n",
       "</div>"
      ],
      "text/plain": [
       "                       Sequence  Label  SqLen\n",
       "0           RAIGGGLSSVGGGSSTIKY      1     19\n",
       "1  GLMDTIKGVAKNVAASLLEKLKCKVTGC      1     28\n",
       "2                      FFFLSRIF      1      8\n",
       "3      FLPIIASVAAKLIPSIVCRITKKC      1     24\n",
       "4                       YIFHLMD      1      7"
      ]
     },
     "execution_count": 21,
     "metadata": {},
     "output_type": "execute_result"
    }
   ],
   "source": [
    "df1.head()"
   ]
  },
  {
   "cell_type": "code",
   "execution_count": 22,
   "metadata": {},
   "outputs": [
    {
     "data": {
      "text/plain": [
       "44"
      ]
     },
     "execution_count": 22,
     "metadata": {},
     "output_type": "execute_result"
    }
   ],
   "source": [
    "len(\"MSKLVQAISDAVQAGQNQDWAKLGTSIVGIVENGVGILGKLFGF\")"
   ]
  },
  {
   "cell_type": "code",
   "execution_count": 23,
   "metadata": {},
   "outputs": [
    {
     "data": {
      "text/plain": [
       "17"
      ]
     },
     "execution_count": 23,
     "metadata": {},
     "output_type": "execute_result"
    }
   ],
   "source": [
    "len(\"AVNIPFKVHFRCKAAFC\")"
   ]
  },
  {
   "cell_type": "code",
   "execution_count": 24,
   "metadata": {},
   "outputs": [],
   "source": [
    "# pre processing data\n",
    "def cleanData(sentence):\n",
    "    # Tokenize sequence to charecters\n",
    "    sentence=list(sentence)\n",
    "    return sentence\n",
    "\n",
    "df1['Sequence']  = df1['Sequence'] .map(lambda x: cleanData(x))"
   ]
  },
  {
   "cell_type": "code",
   "execution_count": 25,
   "metadata": {},
   "outputs": [],
   "source": [
    "X = df1.Sequence\n",
    "y = df1.Label"
   ]
  },
  {
   "cell_type": "code",
   "execution_count": 26,
   "metadata": {},
   "outputs": [
    {
     "data": {
      "text/plain": [
       "0    [R, A, I, G, G, G, L, S, S, V, G, G, G, S, S, ...\n",
       "1    [G, L, M, D, T, I, K, G, V, A, K, N, V, A, A, ...\n",
       "2                             [F, F, F, L, S, R, I, F]\n",
       "3    [F, L, P, I, I, A, S, V, A, A, K, L, I, P, S, ...\n",
       "4                                [Y, I, F, H, L, M, D]\n",
       "Name: Sequence, dtype: object"
      ]
     },
     "execution_count": 26,
     "metadata": {},
     "output_type": "execute_result"
    }
   ],
   "source": [
    "X.head()"
   ]
  },
  {
   "cell_type": "code",
   "execution_count": 27,
   "metadata": {},
   "outputs": [
    {
     "data": {
      "text/plain": [
       "0    1\n",
       "1    1\n",
       "2    1\n",
       "3    1\n",
       "4    1\n",
       "Name: Label, dtype: int64"
      ]
     },
     "execution_count": 27,
     "metadata": {},
     "output_type": "execute_result"
    }
   ],
   "source": [
    "y.head()"
   ]
  },
  {
   "cell_type": "code",
   "execution_count": 28,
   "metadata": {},
   "outputs": [],
   "source": [
    "from sklearn.model_selection import train_test_split\n",
    "\n",
    "from sklearn.ensemble import RandomForestClassifier\n",
    "\n",
    "from sklearn.model_selection import KFold\n",
    "from sklearn.model_selection import cross_validate\n",
    "from sklearn.model_selection import GridSearchCV\n",
    "\n",
    "from sklearn.metrics import classification_report\n",
    "\n",
    "from sklearn.pipeline import Pipeline\n",
    "\n",
    "from pprint import pprint"
   ]
  },
  {
   "cell_type": "code",
   "execution_count": 39,
   "metadata": {},
   "outputs": [],
   "source": [
    "X_train, X_test, y_train, y_test = train_test_split(X, y, stratify=y, test_size=0.2, shuffle=True)"
   ]
  },
  {
   "cell_type": "code",
   "execution_count": 40,
   "metadata": {},
   "outputs": [],
   "source": [
    "def dummy(doc):\n",
    "    return doc\n",
    "\n",
    "tfidf = TfidfVectorizer(tokenizer=dummy,preprocessor=dummy,lowercase=False)    "
   ]
  },
  {
   "cell_type": "code",
   "execution_count": 41,
   "metadata": {},
   "outputs": [],
   "source": [
    "X_train_t = tfidf.fit_transform(X_train)\n",
    "X_test_t = tfidf.transform(X_test)"
   ]
  },
  {
   "cell_type": "code",
   "execution_count": 42,
   "metadata": {},
   "outputs": [
    {
     "data": {
      "text/plain": [
       "['A',\n",
       " 'C',\n",
       " 'D',\n",
       " 'E',\n",
       " 'F',\n",
       " 'G',\n",
       " 'H',\n",
       " 'I',\n",
       " 'K',\n",
       " 'L',\n",
       " 'M',\n",
       " 'N',\n",
       " 'P',\n",
       " 'Q',\n",
       " 'R',\n",
       " 'S',\n",
       " 'T',\n",
       " 'V',\n",
       " 'W',\n",
       " 'Y']"
      ]
     },
     "execution_count": 42,
     "metadata": {},
     "output_type": "execute_result"
    }
   ],
   "source": [
    "tfidf.get_feature_names()"
   ]
  },
  {
   "cell_type": "code",
   "execution_count": 43,
   "metadata": {},
   "outputs": [
    {
     "data": {
      "text/plain": [
       "20"
      ]
     },
     "execution_count": 43,
     "metadata": {},
     "output_type": "execute_result"
    }
   ],
   "source": [
    "len(tfidf.get_feature_names())"
   ]
  },
  {
   "cell_type": "code",
   "execution_count": 44,
   "metadata": {},
   "outputs": [
    {
     "name": "stdout",
     "output_type": "stream",
     "text": [
      "              precision    recall  f1-score   support\n",
      "\n",
      "           0       0.87      0.89      0.88       835\n",
      "           1       0.88      0.86      0.87       835\n",
      "\n",
      "    accuracy                           0.87      1670\n",
      "   macro avg       0.87      0.87      0.87      1670\n",
      "weighted avg       0.87      0.87      0.87      1670\n",
      "\n"
     ]
    }
   ],
   "source": [
    "rfs = RandomForestClassifier()\n",
    "\n",
    "rfs.fit(X_train_t,y_train)\n",
    "\n",
    "y_pred = rfs.predict(X_test_t)\n",
    "\n",
    "print(classification_report(y_test, y_pred))"
   ]
  },
  {
   "cell_type": "code",
   "execution_count": 54,
   "metadata": {},
   "outputs": [
    {
     "name": "stdout",
     "output_type": "stream",
     "text": [
      "{'bootstrap': True,\n",
      " 'ccp_alpha': 0.0,\n",
      " 'class_weight': None,\n",
      " 'criterion': 'gini',\n",
      " 'max_depth': None,\n",
      " 'max_features': 'auto',\n",
      " 'max_leaf_nodes': None,\n",
      " 'max_samples': None,\n",
      " 'min_impurity_decrease': 0.0,\n",
      " 'min_impurity_split': None,\n",
      " 'min_samples_leaf': 1,\n",
      " 'min_samples_split': 2,\n",
      " 'min_weight_fraction_leaf': 0.0,\n",
      " 'n_estimators': 100,\n",
      " 'n_jobs': None,\n",
      " 'oob_score': False,\n",
      " 'random_state': None,\n",
      " 'verbose': 0,\n",
      " 'warm_start': False}\n"
     ]
    }
   ],
   "source": [
    "pprint(rfs.get_params())"
   ]
  },
  {
   "cell_type": "code",
   "execution_count": 35,
   "metadata": {},
   "outputs": [],
   "source": [
    "k_fold = KFold(n_splits=5, shuffle=True,random_state=1)\n",
    "\n",
    "X_t = tfidf.fit_transform(X)\n",
    "scores = cross_validate(rfs, X_t, y, scoring=['accuracy','f1','precision','roc_auc'], cv=k_fold, return_train_score=True)"
   ]
  },
  {
   "cell_type": "code",
   "execution_count": 36,
   "metadata": {},
   "outputs": [
    {
     "name": "stdout",
     "output_type": "stream",
     "text": [
      "Reg: Test Accuracy: 0.8834 (+/- 0.0056)\n",
      "Reg: Test f1 score: 0.8800 (+/- 0.0041)\n",
      "Reg: Test precision: 0.9065 (+/- 0.0079)\n",
      "Reg: Test roc_auc: 0.9518 (+/- 0.0022)\n"
     ]
    }
   ],
   "source": [
    "print(\"Reg: Test Accuracy: %0.4f (+/- %0.4f)\" % (scores['test_accuracy'].mean(), scores['test_accuracy'].std()))\n",
    "print(\"Reg: Test f1 score: %0.4f (+/- %0.4f)\" % (scores['test_f1'].mean(), scores['test_f1'].std()))\n",
    "print(\"Reg: Test precision: %0.4f (+/- %0.4f)\" % (scores['test_precision'].mean(), scores['test_precision'].std()))\n",
    "print(\"Reg: Test roc_auc: %0.4f (+/- %0.4f)\" % (scores['test_roc_auc'].mean(), scores['test_roc_auc'].std()))"
   ]
  },
  {
   "cell_type": "code",
   "execution_count": 46,
   "metadata": {},
   "outputs": [
    {
     "name": "stdout",
     "output_type": "stream",
     "text": [
      "{'model__max_depth': None, 'model__n_estimators': 1000}\n",
      "('              precision    recall  f1-score   support\\n'\n",
      " '\\n'\n",
      " '           0       0.89      0.87      0.88       853\\n'\n",
      " '           1       0.86      0.88      0.87       817\\n'\n",
      " '\\n'\n",
      " '    accuracy                           0.88      1670\\n'\n",
      " '   macro avg       0.88      0.88      0.88      1670\\n'\n",
      " 'weighted avg       0.88      0.88      0.88      1670\\n')\n"
     ]
    }
   ],
   "source": [
    "\n",
    "parameters = {\n",
    "  'model__max_depth': [None,10,20,50],\n",
    "  'model__n_estimators':[100,500,1000,1500,2000]\n",
    "  }\n",
    "\n",
    "pipeline = Pipeline([('tfidf', tfidf),('model',rfs)])\n",
    "\n",
    "grid = GridSearchCV(pipeline, cv=k_fold, n_jobs=-1, param_grid=parameters)\n",
    "grid.fit(X_train, y_train)\n",
    "\n",
    "print(grid.best_params_)\n",
    "\n",
    "pprint(classification_report(grid.best_estimator_.predict(X_test), y_test))\n"
   ]
  },
  {
   "cell_type": "code",
   "execution_count": 47,
   "metadata": {},
   "outputs": [],
   "source": [
    "#positive_examples = fasta_to_str_set('AMP_20190407.fa')\n",
    "#.union(fasta_to_str_set('M_model_train_AMP_sequence.numbered.fasta'))\n",
    "positive_examples = fasta_to_str_set('M_model_train_AMP_sequence.numbered.fasta')\n",
    "#negative_examples = fasta_to_str_set('non_AMP_20190413.fa')\n",
    "#.union(fasta_to_str_set('M_model_train_nonAMP_sequence.numbered.fasta'))\n",
    "negative_examples = fasta_to_str_set('M_model_train_nonAMP_sequence.numbered.fasta')"
   ]
  },
  {
   "cell_type": "code",
   "execution_count": 48,
   "metadata": {},
   "outputs": [
    {
     "data": {
      "text/plain": [
       "Text(0.5, 1.0, 'Negative Sequence Lengths')"
      ]
     },
     "execution_count": 48,
     "metadata": {},
     "output_type": "execute_result"
    },
    {
     "data": {
      "image/png": "[encoded data removed]",
      "text/plain": [
       "<Figure size 432x288 with 2 Axes>"
      ]
     },
     "metadata": {
      "needs_background": "light"
     },
     "output_type": "display_data"
    }
   ],
   "source": [
    "fig, axes = plt.subplots(1,2)\n",
    "axes[0].hist([len(seq) for seq in positive_examples])\n",
    "axes[0].set_title('Positive Sequence Lengths')\n",
    "axes[1].hist([len(seq) for seq in negative_examples])\n",
    "axes[1].set_title('Negative Sequence Lengths')"
   ]
  },
  {
   "cell_type": "markdown",
   "metadata": {},
   "source": [
    "The dataset merges in one balanced data set and one unbalanced data set. Th end result is an unbalanced dataset.\n",
    "\n",
    "The aim of this study is to create the optimum Random Forest Model for this dataset.\n",
    "\n",
    "We will evaluate Random Forest Classifiers on the two component datasets to see if the positive to negative sample ratio affects model performance."
   ]
  },
  {
   "cell_type": "code",
   "execution_count": 49,
   "metadata": {},
   "outputs": [
    {
     "name": "stdout",
     "output_type": "stream",
     "text": [
      "Positive :  (3268, 3)\n",
      "Negative :  (166791, 3)\n",
      "(170059, 3)\n"
     ]
    }
   ],
   "source": [
    "df_orig_p1 = pd.DataFrame(positive_examples,columns=['Sequence'])\n",
    "df_orig_p1['Label'] = 1\n",
    "df_orig_p1['SqLen'] = np.array([len(seq) for seq in positive_examples])\n",
    "print(\"Positive : \", df_orig_p1.shape)\n",
    "\n",
    "df_orig_n1 = pd.DataFrame(negative_examples,columns=['Sequence'])\n",
    "df_orig_n1['SqLen'] = np.array([len(seq) for seq in negative_examples])\n",
    "df_orig_n1['Label'] = 0\n",
    "print(\"Negative : \", df_orig_n1.shape)\n",
    "\n",
    "df2 = pd.DataFrame()\n",
    "df2 = df2.append(df_orig_p1,ignore_index=True)\n",
    "df2 = df2.append(df_orig_n1,ignore_index=True)\n",
    "print(df2.shape)"
   ]
  },
  {
   "cell_type": "code",
   "execution_count": 59,
   "metadata": {},
   "outputs": [],
   "source": [
    "df2['Sequence']  = df2['Sequence'] .map(lambda x: cleanData(x))\n",
    "\n",
    "X = df2.Sequence\n",
    "y = df2.Label\n",
    "\n",
    "X_train, X_test, y_train, y_test = train_test_split(X, y, stratify=y, test_size=0.2, shuffle=True)\n",
    "\n",
    "X_train_t = tfidf.fit_transform(X_train)\n",
    "X_test_t = tfidf.transform(X_test)"
   ]
  },
  {
   "cell_type": "code",
   "execution_count": 51,
   "metadata": {},
   "outputs": [
    {
     "data": {
      "text/plain": [
       "['A',\n",
       " 'C',\n",
       " 'D',\n",
       " 'E',\n",
       " 'F',\n",
       " 'G',\n",
       " 'H',\n",
       " 'I',\n",
       " 'K',\n",
       " 'L',\n",
       " 'M',\n",
       " 'N',\n",
       " 'P',\n",
       " 'Q',\n",
       " 'R',\n",
       " 'S',\n",
       " 'T',\n",
       " 'V',\n",
       " 'W',\n",
       " 'Y']"
      ]
     },
     "execution_count": 51,
     "metadata": {},
     "output_type": "execute_result"
    }
   ],
   "source": [
    "tfidf.get_feature_names()"
   ]
  },
  {
   "cell_type": "code",
   "execution_count": 52,
   "metadata": {},
   "outputs": [
    {
     "data": {
      "text/plain": [
       "20"
      ]
     },
     "execution_count": 52,
     "metadata": {},
     "output_type": "execute_result"
    }
   ],
   "source": [
    "len(tfidf.get_feature_names())"
   ]
  },
  {
   "cell_type": "code",
   "execution_count": 53,
   "metadata": {},
   "outputs": [
    {
     "name": "stdout",
     "output_type": "stream",
     "text": [
      "              precision    recall  f1-score   support\n",
      "\n",
      "           0       0.99      1.00      0.99     33358\n",
      "           1       0.69      0.51      0.59       654\n",
      "\n",
      "    accuracy                           0.99     34012\n",
      "   macro avg       0.84      0.75      0.79     34012\n",
      "weighted avg       0.98      0.99      0.99     34012\n",
      "\n"
     ]
    }
   ],
   "source": [
    "rfs = RandomForestClassifier()\n",
    "\n",
    "rfs.fit(X_train_t,y_train)\n",
    "\n",
    "y_pred = rfs.predict(X_test_t)\n",
    "\n",
    "print(classification_report(y_test, y_pred))"
   ]
  },
  {
   "cell_type": "code",
   "execution_count": 55,
   "metadata": {},
   "outputs": [
    {
     "name": "stdout",
     "output_type": "stream",
     "text": [
      "{'bootstrap': True,\n",
      " 'ccp_alpha': 0.0,\n",
      " 'class_weight': None,\n",
      " 'criterion': 'gini',\n",
      " 'max_depth': None,\n",
      " 'max_features': 'auto',\n",
      " 'max_leaf_nodes': None,\n",
      " 'max_samples': None,\n",
      " 'min_impurity_decrease': 0.0,\n",
      " 'min_impurity_split': None,\n",
      " 'min_samples_leaf': 1,\n",
      " 'min_samples_split': 2,\n",
      " 'min_weight_fraction_leaf': 0.0,\n",
      " 'n_estimators': 100,\n",
      " 'n_jobs': None,\n",
      " 'oob_score': False,\n",
      " 'random_state': None,\n",
      " 'verbose': 0,\n",
      " 'warm_start': False}\n"
     ]
    }
   ],
   "source": [
    "pprint(rfs.get_params())"
   ]
  },
  {
   "cell_type": "code",
   "execution_count": 56,
   "metadata": {},
   "outputs": [],
   "source": [
    "X_t = tfidf.fit_transform(X)\n",
    "scores = cross_validate(rfs, X_t, y, scoring=['accuracy','f1','precision','roc_auc'], cv=k_fold, return_train_score=True)"
   ]
  },
  {
   "cell_type": "code",
   "execution_count": 57,
   "metadata": {},
   "outputs": [
    {
     "name": "stdout",
     "output_type": "stream",
     "text": [
      "Reg: Test Accuracy: 0.9863 (+/- 0.0005)\n",
      "Reg: Test f1 score: 0.5836 (+/- 0.0097)\n",
      "Reg: Test precision: 0.7013 (+/- 0.0272)\n",
      "Reg: Test roc_auc: 0.9800 (+/- 0.0033)\n"
     ]
    }
   ],
   "source": [
    "print(\"Reg: Test Accuracy: %0.4f (+/- %0.4f)\" % (scores['test_accuracy'].mean(), scores['test_accuracy'].std()))\n",
    "print(\"Reg: Test f1 score: %0.4f (+/- %0.4f)\" % (scores['test_f1'].mean(), scores['test_f1'].std()))\n",
    "print(\"Reg: Test precision: %0.4f (+/- %0.4f)\" % (scores['test_precision'].mean(), scores['test_precision'].std()))\n",
    "print(\"Reg: Test roc_auc: %0.4f (+/- %0.4f)\" % (scores['test_roc_auc'].mean(), scores['test_roc_auc'].std()))"
   ]
  },
  {
   "cell_type": "code",
   "execution_count": null,
   "metadata": {},
   "outputs": [],
   "source": [
    "\n",
    "parameters = {\n",
    "  'model__max_depth': [None,10,20,50],\n",
    "  'model__n_estimators':[100,500,1000,1500,2000]\n",
    "  }\n",
    "\n",
    "pipeline = Pipeline([('tfidf', tfidf),('model',rfs)])\n",
    "\n",
    "grid = GridSearchCV(pipeline, cv=k_fold, n_jobs=-1, param_grid=parameters)\n",
    "grid.fit(X_train, y_train)\n",
    "\n",
    "print(grid.best_params_)\n",
    "\n",
    "pprint(classification_report(grid.best_estimator_.predict(X_test), y_test))"
   ]
  },
  {
   "cell_type": "code",
   "execution_count": null,
   "metadata": {},
   "outputs": [],
   "source": [
    "As we see the Balanced Dataset yields bad metrics. The TFIDF features are not the best this problem.\n",
    "Unbalanced Dataset - biased to class with larger number of samples.\n",
    "So, for the merged data set, we need to find the correct balance."
   ]
  },
  {
   "cell_type": "markdown",
   "metadata": {},
   "source": [
    "First we will upsample the minority class to match the majority class numbers."
   ]
  },
  {
   "cell_type": "code",
   "execution_count": null,
   "metadata": {},
   "outputs": [],
   "source": [
    "positive_examples = fasta_to_str_set('AMP_20190407.fa').union(fasta_to_str_set('M_model_train_AMP_sequence.numbered.fasta'))\n",
    "negative_examples = fasta_to_str_set('non_AMP_20190413.fa').union(fasta_to_str_set('M_model_train_nonAMP_sequence.numbered.fasta'))"
   ]
  },
  {
   "cell_type": "code",
   "execution_count": null,
   "metadata": {},
   "outputs": [],
   "source": [
    "from sklearn.utils import resample\n",
    "\n",
    "df_orig_p1 = pd.DataFrame(positive_examples,columns=['Sequence'])\n",
    "df_orig_p1['Label'] = 1\n",
    "df_orig_p1['SqLen'] = np.array([len(seq) for seq in positive_examples])\n",
    "pos_samples = df_orig_p1.shape[0]\n",
    "print(\"Positive : \", df_orig_p1.shape)\n",
    "\n",
    "df_orig_n1 = pd.DataFrame(negative_examples,columns=['Sequence'])\n",
    "df_orig_n1['SqLen'] = np.array([len(seq) for seq in negative_examples])\n",
    "df_orig_n1['Label'] = 0\n",
    "neg_samples = df_orig_n1.shape[0]\n",
    "print(\"Negative : \", df_orig_n1.shape)\n",
    "\n",
    "# match negative samples\n",
    "df_orig_p1_upsampled = resample(df_orig_p1, replace=True, n_samples=neg_samples, random_state=1)\n",
    "\n",
    "df3 = pd.DataFrame()\n",
    "df3 = df3.append(df_orig_p1_upsampled,ignore_index=True)\n",
    "df3 = df3.append(df_orig_n1,ignore_index=True)\n",
    "print(df3.shape)"
   ]
  },
  {
   "cell_type": "code",
   "execution_count": null,
   "metadata": {},
   "outputs": [],
   "source": [
    "df3['Sequence']  = df3['Sequence'] .map(lambda x: cleanData(x))\n",
    "\n",
    "X = df3.Sequence\n",
    "y = df3.Label\n",
    "\n",
    "X_train, X_test, y_train, y_test = train_test_split(X, y, stratify=y, test_size=0.2, shuffle=True)\n",
    "\n",
    "X_train_t = tfidf.fit_transform(X_train)\n",
    "X_test_t = tfidf.transform(X_test)"
   ]
  },
  {
   "cell_type": "code",
   "execution_count": null,
   "metadata": {},
   "outputs": [],
   "source": [
    "rfs = RandomForestClassifier()\n",
    "\n",
    "rfs.fit(X_train_t,y_train)\n",
    "\n",
    "y_pred = rfs.predict(X_test_t)\n",
    "\n",
    "print(classification_report(y_test, y_pred))"
   ]
  },
  {
   "cell_type": "code",
   "execution_count": null,
   "metadata": {},
   "outputs": [],
   "source": [
    "X_t = tfidf.fit_transform(X)\n",
    "scores = cross_validate(rfs, X_t, y, scoring=['accuracy','f1','precision','roc_auc'], cv=k_fold, return_train_score=True)"
   ]
  },
  {
   "cell_type": "code",
   "execution_count": null,
   "metadata": {},
   "outputs": [],
   "source": [
    "print(\"Reg: Test Accuracy: %0.4f (+/- %0.4f)\" % (scores['test_accuracy'].mean(), scores['test_accuracy'].std()))\n",
    "print(\"Reg: Test f1 score: %0.4f (+/- %0.4f)\" % (scores['test_f1'].mean(), scores['test_f1'].std()))\n",
    "print(\"Reg: Test precision: %0.4f (+/- %0.4f)\" % (scores['test_precision'].mean(), scores['test_precision'].std()))\n",
    "print(\"Reg: Test roc_auc: %0.4f (+/- %0.4f)\" % (scores['test_roc_auc'].mean(), scores['test_roc_auc'].std()))"
   ]
  },
  {
   "cell_type": "code",
   "execution_count": null,
   "metadata": {},
   "outputs": [],
   "source": [
    "parameters = {\n",
    "  'model__max_depth': [None,10,20,50],\n",
    "  'model__n_estimators':[100,500,1000,1500,2000]\n",
    "  }\n",
    "\n",
    "pipeline = Pipeline([('tfidf', tfidf),('model',rfs)])\n",
    "\n",
    "grid = GridSearchCV(pipeline, cv=k_fold, n_jobs=-1, param_grid=parameters)\n",
    "grid.fit(X_train, y_train)\n",
    "\n",
    "print(grid.best_params_)\n",
    "\n",
    "pprint(classification_report(grid.best_estimator_.predict(X_test), y_test))"
   ]
  },
  {
   "cell_type": "markdown",
   "metadata": {},
   "source": [
    "Now we downsample the majority class to match minority numbers"
   ]
  },
  {
   "cell_type": "code",
   "execution_count": null,
   "metadata": {},
   "outputs": [],
   "source": [
    "from sklearn.utils import resample\n",
    "\n",
    "df_orig_p1 = pd.DataFrame(positive_examples,columns=['Sequence'])\n",
    "df_orig_p1['Label'] = 1\n",
    "df_orig_p1['SqLen'] = np.array([len(seq) for seq in positive_examples])\n",
    "pos_samples = df_orig_p1.shape[0]\n",
    "print(\"Positive : \", df_orig_p1.shape)\n",
    "\n",
    "df_orig_n1 = pd.DataFrame(negative_examples,columns=['Sequence'])\n",
    "df_orig_n1['SqLen'] = np.array([len(seq) for seq in negative_examples])\n",
    "df_orig_n1['Label'] = 0\n",
    "neg_samples = df_orig_n1.shape[0]\n",
    "print(\"Negative : \", df_orig_n1.shape)\n",
    "\n",
    "# match positive samples\n",
    "df_orig_n1_resampled = resample(df_orig_n1, replace=True, n_samples=pos_samples, random_state=1)\n",
    "\n",
    "df4 = pd.DataFrame()\n",
    "df4 = df4.append(df_orig_p1,ignore_index=True)\n",
    "df4 = df4.append(df_orig_n1_resampled,ignore_index=True)\n",
    "print(df4.shape)"
   ]
  },
  {
   "cell_type": "code",
   "execution_count": null,
   "metadata": {},
   "outputs": [],
   "source": [
    "\n",
    "fig, axes = plt.subplots(1,2)\n",
    "axes[0].hist([len(seq) for seq in df4[df4.Label == 1].Sequence ])\n",
    "axes[0].set_title('Positive Sequence Lengths')\n",
    "axes[1].hist([len(seq) for seq in df4[df4.Label == 0].Sequence ])\n",
    "axes[1].set_title('Negative Sequence Lengths')"
   ]
  },
  {
   "cell_type": "code",
   "execution_count": null,
   "metadata": {},
   "outputs": [],
   "source": [
    "df4['Sequence']  = df4['Sequence'] .map(lambda x: cleanData(x))\n",
    "\n",
    "X = df4.Sequence\n",
    "y = df4.Label\n",
    "\n",
    "X_train, X_test, y_train, y_test = train_test_split(X, y, stratify=y, test_size=0.2, shuffle=True)\n",
    "\n",
    "X_train_t = tfidf.fit_transform(X_train)\n",
    "X_test_t = tfidf.transform(X_test)"
   ]
  },
  {
   "cell_type": "code",
   "execution_count": null,
   "metadata": {},
   "outputs": [],
   "source": [
    "rfs = RandomForestClassifier()\n",
    "\n",
    "rfs.fit(X_train_t,y_train)\n",
    "\n",
    "y_pred = rfs.predict(X_test_t)\n",
    "\n",
    "print(classification_report(y_test, y_pred))"
   ]
  },
  {
   "cell_type": "code",
   "execution_count": null,
   "metadata": {},
   "outputs": [],
   "source": [
    "X_t = tfidf.fit_transform(X)\n",
    "scores = cross_validate(rfs, X_t, y, scoring=['accuracy','f1','precision','roc_auc'], cv=k_fold, return_train_score=True)"
   ]
  },
  {
   "cell_type": "code",
   "execution_count": null,
   "metadata": {},
   "outputs": [],
   "source": [
    "print(\"Reg: Test Accuracy: %0.4f (+/- %0.4f)\" % (scores['test_accuracy'].mean(), scores['test_accuracy'].std()))\n",
    "print(\"Reg: Test f1 score: %0.4f (+/- %0.4f)\" % (scores['test_f1'].mean(), scores['test_f1'].std()))\n",
    "print(\"Reg: Test precision: %0.4f (+/- %0.4f)\" % (scores['test_precision'].mean(), scores['test_precision'].std()))\n",
    "print(\"Reg: Test roc_auc: %0.4f (+/- %0.4f)\" % (scores['test_roc_auc'].mean(), scores['test_roc_auc'].std()))"
   ]
  },
  {
   "cell_type": "code",
   "execution_count": null,
   "metadata": {},
   "outputs": [],
   "source": [
    "parameters = {\n",
    "  'model__max_depth': [None,10,20,50],\n",
    "  'model__n_estimators':[100,500,1000,1500,2000]\n",
    "  }\n",
    "\n",
    "pipeline = Pipeline([('tfidf', tfidf),('model',rfs)])\n",
    "\n",
    "grid = GridSearchCV(pipeline, cv=k_fold, n_jobs=-1, param_grid=parameters)\n",
    "grid.fit(X_train, y_train)\n",
    "\n",
    "print(grid.best_params_)\n",
    "\n",
    "pprint(classification_report(grid.best_estimator_.predict(X_test), y_test))"
   ]
  },
  {
   "cell_type": "markdown",
   "metadata": {},
   "source": [
    "P:N 1:2, Downsample the majority class to match twice of the minority numbers"
   ]
  },
  {
   "cell_type": "code",
   "execution_count": null,
   "metadata": {},
   "outputs": [],
   "source": [
    "from sklearn.utils import resample\n",
    "\n",
    "df_orig_p1 = pd.DataFrame(positive_examples,columns=['Sequence'])\n",
    "df_orig_p1['Label'] = 1\n",
    "df_orig_p1['SqLen'] = np.array([len(seq) for seq in positive_examples])\n",
    "pos_samples = df_orig_p1.shape[0]\n",
    "print(\"Positive : \", df_orig_p1.shape)\n",
    "\n",
    "df_orig_n1 = pd.DataFrame(negative_examples,columns=['Sequence'])\n",
    "df_orig_n1['SqLen'] = np.array([len(seq) for seq in negative_examples])\n",
    "df_orig_n1['Label'] = 0\n",
    "neg_samples = df_orig_n1.shape[0]\n",
    "print(\"Negative : \", df_orig_n1.shape)\n",
    "\n",
    "# match positive samples\n",
    "df_orig_n1_resampled = resample(df_orig_n1, replace=False, n_samples=2*pos_samples, random_state=1)\n",
    "\n",
    "df5 = pd.DataFrame()\n",
    "df5 = df5.append(df_orig_p1,ignore_index=True)\n",
    "df5 = df5.append(df_orig_n1_resampled,ignore_index=True)\n",
    "print(df5.shape)"
   ]
  },
  {
   "cell_type": "code",
   "execution_count": null,
   "metadata": {},
   "outputs": [],
   "source": [
    "\n",
    "fig, axes = plt.subplots(1,2)\n",
    "axes[0].hist([len(seq) for seq in df5[df5.Label == 1].Sequence ])\n",
    "axes[0].set_title('Positive Sequence Lengths')\n",
    "axes[1].hist([len(seq) for seq in df5[df5.Label == 0].Sequence ])\n",
    "axes[1].set_title('Negative Sequence Lengths')"
   ]
  },
  {
   "cell_type": "code",
   "execution_count": null,
   "metadata": {},
   "outputs": [],
   "source": [
    "df5['Sequence']  = df5['Sequence'] .map(lambda x: cleanData(x))\n",
    "\n",
    "X = df5.Sequence\n",
    "y = df5.Label\n",
    "\n",
    "X_train, X_test, y_train, y_test = train_test_split(X, y, stratify=y, test_size=0.2, shuffle=True)\n",
    "\n",
    "X_train_t = tfidf.fit_transform(X_train)\n",
    "X_test_t = tfidf.transform(X_test)"
   ]
  },
  {
   "cell_type": "code",
   "execution_count": null,
   "metadata": {},
   "outputs": [],
   "source": [
    "rfs = RandomForestClassifier()\n",
    "\n",
    "rfs.fit(X_train_t,y_train)\n",
    "\n",
    "y_pred = rfs.predict(X_test_t)\n",
    "\n",
    "print(classification_report(y_test, y_pred))"
   ]
  },
  {
   "cell_type": "code",
   "execution_count": null,
   "metadata": {},
   "outputs": [],
   "source": [
    "X_t = tfidf.fit_transform(X)\n",
    "scores = cross_validate(rfs, X_t, y, scoring=['accuracy','f1','precision','roc_auc'], cv=k_fold, return_train_score=True)"
   ]
  },
  {
   "cell_type": "code",
   "execution_count": null,
   "metadata": {},
   "outputs": [],
   "source": [
    "print(\"Reg: Test Accuracy: %0.4f (+/- %0.4f)\" % (scores['test_accuracy'].mean(), scores['test_accuracy'].std()))\n",
    "print(\"Reg: Test f1 score: %0.4f (+/- %0.4f)\" % (scores['test_f1'].mean(), scores['test_f1'].std()))\n",
    "print(\"Reg: Test precision: %0.4f (+/- %0.4f)\" % (scores['test_precision'].mean(), scores['test_precision'].std()))\n",
    "print(\"Reg: Test roc_auc: %0.4f (+/- %0.4f)\" % (scores['test_roc_auc'].mean(), scores['test_roc_auc'].std()))"
   ]
  },
  {
   "cell_type": "code",
   "execution_count": null,
   "metadata": {},
   "outputs": [],
   "source": [
    "parameters = {\n",
    "  'model__max_depth': [None,10,20,50],\n",
    "  'model__n_estimators':[100,500,1000,1500,2000]\n",
    "  }\n",
    "\n",
    "pipeline = Pipeline([('tfidf', tfidf),('model',rfs)])\n",
    "\n",
    "grid = GridSearchCV(pipeline, cv=k_fold, n_jobs=-1, param_grid=parameters)\n",
    "grid.fit(X_train, y_train)\n",
    "\n",
    "print(grid.best_params_)\n",
    "\n",
    "pprint(classification_report(grid.best_estimator_.predict(X_test), y_test))"
   ]
  },
  {
   "cell_type": "markdown",
   "metadata": {},
   "source": [
    "P:N 1:3, "
   ]
  },
  {
   "cell_type": "code",
   "execution_count": null,
   "metadata": {},
   "outputs": [],
   "source": [
    "from sklearn.utils import resample\n",
    "\n",
    "df_orig_p1 = pd.DataFrame(positive_examples,columns=['Sequence'])\n",
    "df_orig_p1['Label'] = 1\n",
    "df_orig_p1['SqLen'] = np.array([len(seq) for seq in positive_examples])\n",
    "pos_samples = df_orig_p1.shape[0]\n",
    "print(\"Positive : \", df_orig_p1.shape)\n",
    "\n",
    "df_orig_n1 = pd.DataFrame(negative_examples,columns=['Sequence'])\n",
    "df_orig_n1['SqLen'] = np.array([len(seq) for seq in negative_examples])\n",
    "df_orig_n1['Label'] = 0\n",
    "neg_samples = df_orig_n1.shape[0]\n",
    "print(\"Negative : \", df_orig_n1.shape)\n",
    "\n",
    "df6 = pd.DataFrame()\n",
    "df6 = df6.append(df_orig_p1,ignore_index=True)\n",
    "df6 = df6.append(df_orig_n1,ignore_index=True)\n",
    "print(df6.shape)\n",
    "\n"
   ]
  },
  {
   "cell_type": "code",
   "execution_count": null,
   "metadata": {},
   "outputs": [],
   "source": [
    "\n",
    "fig, axes = plt.subplots(1,2)\n",
    "axes[0].hist([len(seq) for seq in df6[df6.Label == 1].Sequence ])\n",
    "axes[0].set_title('Positive Sequence Lengths')\n",
    "axes[1].hist([len(seq) for seq in df6[df6.Label == 0].Sequence ])\n",
    "axes[1].set_title('Negative Sequence Lengths')"
   ]
  },
  {
   "cell_type": "code",
   "execution_count": null,
   "metadata": {},
   "outputs": [],
   "source": [
    "# match positive samples\n",
    "df_orig_n1_resampled = resample(df_orig_n1, replace=False, n_samples=3 * pos_samples, random_state=1)\n",
    "\n",
    "df7 = pd.DataFrame()\n",
    "df7 = df7.append(df_orig_p1,ignore_index=True)\n",
    "df7 = df7.append(df_orig_n1_resampled,ignore_index=True)\n",
    "print(df7.shape)"
   ]
  },
  {
   "cell_type": "code",
   "execution_count": null,
   "metadata": {},
   "outputs": [],
   "source": [
    "df7[df7.Label == 1].Sequence "
   ]
  },
  {
   "cell_type": "code",
   "execution_count": null,
   "metadata": {},
   "outputs": [],
   "source": [
    "#df7[df7.Label == 1].Sequence \n",
    "#df7[df7.Label == 0].Sequence\n",
    "\n",
    "fig, axes = plt.subplots(1,2)\n",
    "axes[0].hist([len(seq) for seq in df7[df7.Label == 1].Sequence ])\n",
    "axes[0].set_title('Positive Sequence Lengths')\n",
    "axes[1].hist([len(seq) for seq in df7[df7.Label == 0].Sequence ])\n",
    "axes[1].set_title('Negative Sequence Lengths')"
   ]
  },
  {
   "cell_type": "code",
   "execution_count": null,
   "metadata": {},
   "outputs": [],
   "source": [
    "df7['Sequence']  = df7['Sequence'] .map(lambda x: cleanData(x))\n",
    "\n",
    "X = df7.Sequence\n",
    "y = df7.Label\n",
    "\n",
    "X_train, X_test, y_train, y_test = train_test_split(X, y, stratify=y, test_size=0.2, shuffle=True)\n",
    "\n",
    "X_train_t = tfidf.fit_transform(X_train)\n",
    "X_test_t = tfidf.transform(X_test)"
   ]
  },
  {
   "cell_type": "code",
   "execution_count": null,
   "metadata": {},
   "outputs": [],
   "source": [
    "rfs = RandomForestClassifier()\n",
    "\n",
    "rfs.fit(X_train_t,y_train)\n",
    "\n",
    "y_pred = rfs.predict(X_test_t)\n",
    "\n",
    "print(classification_report(y_test, y_pred))"
   ]
  },
  {
   "cell_type": "code",
   "execution_count": null,
   "metadata": {},
   "outputs": [],
   "source": [
    "pprint(rfs.get_params())"
   ]
  },
  {
   "cell_type": "code",
   "execution_count": null,
   "metadata": {},
   "outputs": [],
   "source": [
    "df6['Sequence']  = df6['Sequence'] .map(lambda x: cleanData(x))\n",
    "\n",
    "X = df6.Sequence\n",
    "y = df6.Label\n",
    "\n",
    "X_t = tfidf.fit_transform(X)\n",
    "scores = cross_validate(rfs, X_t, y, scoring=['accuracy','f1','precision','roc_auc'], cv=k_fold, return_train_score=True)"
   ]
  },
  {
   "cell_type": "code",
   "execution_count": null,
   "metadata": {},
   "outputs": [],
   "source": [
    "print(\"Reg: Test Accuracy: %0.4f (+/- %0.4f)\" % (scores['test_accuracy'].mean(), scores['test_accuracy'].std()))\n",
    "print(\"Reg: Test f1 score: %0.4f (+/- %0.4f)\" % (scores['test_f1'].mean(), scores['test_f1'].std()))\n",
    "print(\"Reg: Test precision: %0.4f (+/- %0.4f)\" % (scores['test_precision'].mean(), scores['test_precision'].std()))\n",
    "print(\"Reg: Test roc_auc: %0.4f (+/- %0.4f)\" % (scores['test_roc_auc'].mean(), scores['test_roc_auc'].std()))"
   ]
  },
  {
   "cell_type": "code",
   "execution_count": null,
   "metadata": {},
   "outputs": [],
   "source": [
    "\n",
    "parameters = {\n",
    "  'model__max_depth': [None,10,20,50],\n",
    "  'model__n_estimators':[100,500,1000,1500,2000]\n",
    "  }\n",
    "\n",
    "pipeline = Pipeline([('tfidf', tfidf),('model',rfs)])\n",
    "\n",
    "grid = GridSearchCV(pipeline, cv=k_fold, n_jobs=-1, param_grid=parameters)\n",
    "grid.fit(df6.Sequence, df6.Label)\n",
    "print(grid.best_params_)\n",
    "pprint(classification_report(grid.best_estimator_.predict(X), y))"
   ]
  },
  {
   "cell_type": "code",
   "execution_count": null,
   "metadata": {},
   "outputs": [],
   "source": []
  },
  {
   "cell_type": "code",
   "execution_count": null,
   "metadata": {},
   "outputs": [],
   "source": [
    "#to try with few more parameters, Not tried\n",
    "parameters = {\n",
    "  'model__n_estimators':[100,500,1000,1500,3500],\n",
    "  'model__max_features': ['auto', 'sqrt', 'log2'],\n",
    "  'model__min_samples_split': [2,5,10,15,20],\n",
    "  'model__max_depth': [None,10,20,30,40,50],\n",
    "  'model__min_samples_leaf' : [1,2,5,10,15]\n",
    "  }"
   ]
  },
  {
   "cell_type": "code",
   "execution_count": null,
   "metadata": {},
   "outputs": [],
   "source": [
    "pipeline = Pipeline([('tfidf', tfidf),('model',rfs)])\n",
    "\n",
    "grid = GridSearchCV(pipeline, cv=k_fold, n_jobs=-1, param_grid=parameters)\n",
    "grid.fit(X, y)"
   ]
  },
  {
   "cell_type": "code",
   "execution_count": null,
   "metadata": {},
   "outputs": [],
   "source": []
  },
  {
   "cell_type": "code",
   "execution_count": null,
   "metadata": {},
   "outputs": [],
   "source": []
  },
  {
   "cell_type": "markdown",
   "metadata": {},
   "source": [
    "References:\n",
    "    \n",
    "    [1] AmPEP: Sequence-based prediction of antimicrobial peptides using distribution patterns of amino acid properties and random forest Pratiti Bhadra, Jielu Yan, Jinyan Li, Simon Fong & Shirley W. I. Siu https://www.nature.com/articles/s41598-018-19752-w.pdf\n",
    "    \n",
    "    [2] Encodings and models for antimicrobial peptide classification for multi-resistant pathogens Sebastian Spänig and Dominik Heider* https://biodatamining.biomedcentral.com/track/pdf/10.1186/s13040-019-0196-x.pdf\n",
    "    \n",
    "    [3]"
   ]
  }
 ],
 "metadata": {
  "colab": {
   "collapsed_sections": [],
   "name": "IFT6390 Final Project.ipynb",
   "provenance": [],
   "toc_visible": true
  },
  "kernelspec": {
   "display_name": "Python 3",
   "language": "python",
   "name": "python3"
  },
  "language_info": {
   "codemirror_mode": {
    "name": "ipython",
    "version": 3
   },
   "file_extension": ".py",
   "mimetype": "text/x-python",
   "name": "python",
   "nbconvert_exporter": "python",
   "pygments_lexer": "ipython3",
   "version": "3.8.6"
  }
 },
 "nbformat": 4,
 "nbformat_minor": 4
}

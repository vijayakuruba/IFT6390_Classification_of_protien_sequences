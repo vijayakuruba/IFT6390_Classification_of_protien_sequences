{
  "nbformat": 4,
  "nbformat_minor": 0,
  "metadata": {
    "kernelspec": {
      "display_name": "Python 3",
      "language": "python",
      "name": "python3"
    },
    "language_info": {
      "codemirror_mode": {
        "name": "ipython",
        "version": 3
      },
      "file_extension": ".py",
      "mimetype": "text/x-python",
      "name": "python",
      "nbconvert_exporter": "python",
      "pygments_lexer": "ipython3",
      "version": "3.6.12"
    },
    "colab": {
      "name": "IFT 6390_Final_Project -1 .ipynb",
      "provenance": [],
      "collapsed_sections": [],
      "machine_shape": "hm",
      "include_colab_link": true
    },
    "accelerator": "GPU"
  },
  "cells": [
    {
      "cell_type": "markdown",
      "metadata": {
        "id": "view-in-github",
        "colab_type": "text"
      },
      "source": [
        "<a href=\"https://colab.research.google.com/github/vijayakuruba/IFT6390_Text-Generation/blob/main/IFT_6390_Final_Project_1_.ipynb\" target=\"_parent\"><img src=\"https://colab.research.google.com/assets/colab-badge.svg\" alt=\"Open In Colab\"/></a>"
      ]
    },
    {
      "cell_type": "markdown",
      "metadata": {
        "id": "9mSwy9yaanTh"
      },
      "source": [
        "# IFT6390: Final Project\n",
        "\n",
        "The final project pertains to the problem of finding novel [antimicrobial peptides](https://en.wikipedia.org/wiki/Antimicrobial_peptides) (AMP) which may turn out to be key in the fight against antibiotics resistance. The World Health Organization qualifies antibiotic resistance as one of the [''biggest threats to global health, food security, and development today''](https://www.who.int/news-room/fact-sheets/detail/antibiotic-resistance).\n",
        "\n",
        "Given the limited time frame of this project, I have scoped down the problems to two main tracks:\n",
        "\n",
        "1. **Classification**: classifying protein sequences as AMP or non-AMP: a binary classification problem\n",
        "  1.1 You are allowed to use Scikit-learn. You need to provide the following baselines: Random Forest, SVM, Neural Network. Use TF-IDF as a baseline feature extractor (you can use sklearn) for each of those.  \n",
        "2. **Generation**: Given a corpus of AMP sequences, learn a character-level language model. You should implement a baseline using a Markov model. Then implement a sequential model using an RNN or LSTM. \n",
        "\n",
        "You should pick one of the two options. Choose your own adventure. You can work in teams of **three people max**."
      ]
    },
    {
      "cell_type": "markdown",
      "metadata": {
        "id": "XHaAlZgaay2P"
      },
      "source": [
        "# Dataset\n",
        "\n",
        "The dataset in this project comes from two open source projects: amPEPpy and AMPlify."
      ]
    },
    {
      "cell_type": "code",
      "metadata": {
        "id": "SPkBZUw2a4Pw",
        "colab": {
          "base_uri": "https://localhost:8080/"
        },
        "outputId": "b92181ea-efd3-41d2-a6d0-2e804ecb65de"
      },
      "source": [
        "!pip install biopython\n",
        "!wget https://raw.githubusercontent.com/bcgsc/AMPlify/master/data/AMP_20190407.fa\n",
        "!wget https://raw.githubusercontent.com/bcgsc/AMPlify/master/data/non_AMP_20190413.fa\n",
        "!wget https://raw.githubusercontent.com/tlawrence3/amPEPpy/master/training_data/M_model_train_AMP_sequence.numbered.fasta\n",
        "!wget https://raw.githubusercontent.com/tlawrence3/amPEPpy/master/training_data/M_model_train_nonAMP_sequence.numbered.fasta"
      ],
      "execution_count": 1,
      "outputs": [
        {
          "output_type": "stream",
          "text": [
            "Collecting biopython\n",
            "\u001b[?25l  Downloading https://files.pythonhosted.org/packages/3a/cd/0098eaff841850c01da928c7f509b72fd3e1f51d77b772e24de9e2312471/biopython-1.78-cp37-cp37m-manylinux1_x86_64.whl (2.3MB)\n",
            "\u001b[K     |████████████████████████████████| 2.3MB 7.5MB/s \n",
            "\u001b[?25hRequirement already satisfied: numpy in /usr/local/lib/python3.7/dist-packages (from biopython) (1.19.5)\n",
            "Installing collected packages: biopython\n",
            "Successfully installed biopython-1.78\n",
            "--2021-04-20 17:30:58--  https://raw.githubusercontent.com/bcgsc/AMPlify/master/data/AMP_20190407.fa\n",
            "Resolving raw.githubusercontent.com (raw.githubusercontent.com)... 185.199.111.133, 185.199.110.133, 185.199.109.133, ...\n",
            "Connecting to raw.githubusercontent.com (raw.githubusercontent.com)|185.199.111.133|:443... connected.\n",
            "HTTP request sent, awaiting response... 200 OK\n",
            "Length: 166037 (162K) [text/plain]\n",
            "Saving to: ‘AMP_20190407.fa’\n",
            "\n",
            "AMP_20190407.fa     100%[===================>] 162.15K  --.-KB/s    in 0.01s   \n",
            "\n",
            "2021-04-20 17:30:58 (10.6 MB/s) - ‘AMP_20190407.fa’ saved [166037/166037]\n",
            "\n",
            "--2021-04-20 17:30:58--  https://raw.githubusercontent.com/bcgsc/AMPlify/master/data/non_AMP_20190413.fa\n",
            "Resolving raw.githubusercontent.com (raw.githubusercontent.com)... 185.199.111.133, 185.199.110.133, 185.199.109.133, ...\n",
            "Connecting to raw.githubusercontent.com (raw.githubusercontent.com)|185.199.111.133|:443... connected.\n",
            "HTTP request sent, awaiting response... 200 OK\n",
            "Length: 186539 (182K) [text/plain]\n",
            "Saving to: ‘non_AMP_20190413.fa’\n",
            "\n",
            "non_AMP_20190413.fa 100%[===================>] 182.17K  --.-KB/s    in 0.02s   \n",
            "\n",
            "2021-04-20 17:30:59 (10.3 MB/s) - ‘non_AMP_20190413.fa’ saved [186539/186539]\n",
            "\n",
            "--2021-04-20 17:30:59--  https://raw.githubusercontent.com/tlawrence3/amPEPpy/master/training_data/M_model_train_AMP_sequence.numbered.fasta\n",
            "Resolving raw.githubusercontent.com (raw.githubusercontent.com)... 185.199.111.133, 185.199.110.133, 185.199.109.133, ...\n",
            "Connecting to raw.githubusercontent.com (raw.githubusercontent.com)|185.199.111.133|:443... connected.\n",
            "HTTP request sent, awaiting response... 200 OK\n",
            "Length: 182506 (178K) [text/plain]\n",
            "Saving to: ‘M_model_train_AMP_sequence.numbered.fasta’\n",
            "\n",
            "M_model_train_AMP_s 100%[===================>] 178.23K  --.-KB/s    in 0.01s   \n",
            "\n",
            "2021-04-20 17:30:59 (13.5 MB/s) - ‘M_model_train_AMP_sequence.numbered.fasta’ saved [182506/182506]\n",
            "\n",
            "--2021-04-20 17:30:59--  https://raw.githubusercontent.com/tlawrence3/amPEPpy/master/training_data/M_model_train_nonAMP_sequence.numbered.fasta\n",
            "Resolving raw.githubusercontent.com (raw.githubusercontent.com)... 185.199.110.133, 185.199.108.133, 185.199.109.133, ...\n",
            "Connecting to raw.githubusercontent.com (raw.githubusercontent.com)|185.199.110.133|:443... connected.\n",
            "HTTP request sent, awaiting response... 200 OK\n",
            "Length: 28767041 (27M) [text/plain]\n",
            "Saving to: ‘M_model_train_nonAMP_sequence.numbered.fasta’\n",
            "\n",
            "M_model_train_nonAM 100%[===================>]  27.43M  88.1MB/s    in 0.3s    \n",
            "\n",
            "2021-04-20 17:31:00 (88.1 MB/s) - ‘M_model_train_nonAMP_sequence.numbered.fasta’ saved [28767041/28767041]\n",
            "\n"
          ],
          "name": "stdout"
        }
      ]
    },
    {
      "cell_type": "code",
      "metadata": {
        "id": "gw9YWiZMa_V-"
      },
      "source": [
        "from Bio import SeqIO\n",
        "import matplotlib.pyplot as plt"
      ],
      "execution_count": 2,
      "outputs": []
    },
    {
      "cell_type": "code",
      "metadata": {
        "id": "OJnps8NibCAB"
      },
      "source": [
        "def fasta_to_str_set(name):\n",
        "  return {str(rec.seq) for rec in SeqIO.parse(name, 'fasta')}"
      ],
      "execution_count": 3,
      "outputs": []
    },
    {
      "cell_type": "code",
      "metadata": {
        "id": "LNNE4j8BbEIm"
      },
      "source": [
        "positive_examples = fasta_to_str_set('AMP_20190407.fa').union(fasta_to_str_set('M_model_train_AMP_sequence.numbered.fasta'))\n",
        "negative_examples = fasta_to_str_set('non_AMP_20190413.fa').union(fasta_to_str_set('M_model_train_nonAMP_sequence.numbered.fasta'))"
      ],
      "execution_count": 4,
      "outputs": []
    },
    {
      "cell_type": "markdown",
      "metadata": {
        "id": "f8RqlzTWbG7M"
      },
      "source": [
        "Once we have merged the two data sources, the positive class has:"
      ]
    },
    {
      "cell_type": "code",
      "metadata": {
        "colab": {
          "base_uri": "https://localhost:8080/"
        },
        "id": "SVGpbwnBbJTP",
        "outputId": "9eea0a0a-0418-44f8-bbc1-b79e39504933"
      },
      "source": [
        "print(f\"{len(positive_examples)} examples\")"
      ],
      "execution_count": 5,
      "outputs": [
        {
          "output_type": "stream",
          "text": [
            "5264 examples\n"
          ],
          "name": "stdout"
        }
      ]
    },
    {
      "cell_type": "markdown",
      "metadata": {
        "id": "f2hwUdjKbM6O"
      },
      "source": [
        "and the negative class (non-AMPs) has:"
      ]
    },
    {
      "cell_type": "code",
      "metadata": {
        "colab": {
          "base_uri": "https://localhost:8080/"
        },
        "id": "lfdCfD9abPcm",
        "outputId": "bd77b274-c62f-4c05-b263-6d7e87af13b1"
      },
      "source": [
        "print(f\"{len(negative_examples)} examples\")"
      ],
      "execution_count": 6,
      "outputs": [
        {
          "output_type": "stream",
          "text": [
            "167732 examples\n"
          ],
          "name": "stdout"
        }
      ]
    },
    {
      "cell_type": "markdown",
      "metadata": {
        "id": "DEkWmk9ObVcu"
      },
      "source": [
        "We have way more non-AMPs than AMP. This will be a challenge. Furthermore, the distribution of the sequence lengths varies a lot between the two classes. You should probably do something about this."
      ]
    },
    {
      "cell_type": "code",
      "metadata": {
        "colab": {
          "base_uri": "https://localhost:8080/",
          "height": 298
        },
        "id": "-8uAVlDdbYTw",
        "outputId": "692d15f3-5a56-4571-804e-c70ef0b76a82"
      },
      "source": [
        "fig, axes = plt.subplots(1,2)\n",
        "axes[0].hist([len(seq) for seq in positive_examples])\n",
        "axes[0].set_title('Positive Sequence Lengths')\n",
        "axes[1].hist([len(seq) for seq in negative_examples])\n",
        "axes[1].set_title('Negative Sequence Lengths')"
      ],
      "execution_count": null,
      "outputs": [
        {
          "output_type": "execute_result",
          "data": {
            "text/plain": [
              "Text(0.5, 1.0, 'Negative Sequence Lengths')"
            ]
          },
          "metadata": {
            "tags": []
          },
          "execution_count": 7
        },
        {
          "output_type": "display_data",
          "data": {
            "image/png": "[encoded data removed]",
            "text/plain": [
              "<Figure size 432x288 with 2 Axes>"
            ]
          },
          "metadata": {
            "tags": [],
            "needs_background": "light"
          }
        }
      ]
    },
    {
      "cell_type": "markdown",
      "metadata": {
        "id": "sg4rjr7NbaoP"
      },
      "source": [
        "Let's have a look at the data. For example, the first AMP in the dataset is:"
      ]
    },
    {
      "cell_type": "code",
      "metadata": {
        "colab": {
          "base_uri": "https://localhost:8080/",
          "height": 35
        },
        "id": "KF4zdceQbcFp",
        "outputId": "3ca6b8a9-9fa0-4a70-af33-7a090c29d5f6"
      },
      "source": [
        "list(positive_examples)[0]"
      ],
      "execution_count": null,
      "outputs": [
        {
          "output_type": "execute_result",
          "data": {
            "application/vnd.google.colaboratory.intrinsic+json": {
              "type": "string"
            },
            "text/plain": [
              "'TKKFPNRRKTAFCSNWNQKIKTV'"
            ]
          },
          "metadata": {
            "tags": []
          },
          "execution_count": 6
        }
      ]
    },
    {
      "cell_type": "markdown",
      "metadata": {
        "id": "bzPbw8Q0beyh"
      },
      "source": [
        "This string describes the sequence of [amino acids](https://en.wikipedia.org/wiki/Amino_acid) present in the given AMP. There are $20$ possible such *standard* amino acids present in the genetic code. To know more about the meaning of each of those letter, see [this section](https://en.wikipedia.org/wiki/Amino_acid#Table_of_standard_amino_acid_abbreviations_and_properties) of the Wikipedia page on amino acids.\n",
        "\n",
        "A non-AMP looks like:"
      ]
    },
    {
      "cell_type": "code",
      "metadata": {
        "id": "t64mv7WTbm8m",
        "colab": {
          "base_uri": "https://localhost:8080/",
          "height": 52
        },
        "outputId": "54239463-3b00-4a7e-b680-dbcfc4409feb"
      },
      "source": [
        "list(negative_examples)[0]"
      ],
      "execution_count": null,
      "outputs": [
        {
          "output_type": "execute_result",
          "data": {
            "application/vnd.google.colaboratory.intrinsic+json": {
              "type": "string"
            },
            "text/plain": [
              "'MVNYPSGVRAGGYPQKKKNQNIRYGKRGMGLEEMINQANDYYLVNHQAVIHKKPTPITVVHVDYPDRSMAKITEAYYVQPSTTDYNGVVSGKYIDFDAKETKNKTNMPLKNFHQHQITHLKNVLENGGIGFLVLGFTTLSEYYIFPASLLIKIWDKAKAGGEKSLPYKIVSKQGIKINSKMIPSLDYLPALKKLFNI'"
            ]
          },
          "metadata": {
            "tags": []
          },
          "execution_count": 10
        }
      ]
    },
    {
      "cell_type": "code",
      "metadata": {
        "id": "he8snbbCpUDZ"
      },
      "source": [
        "import pandas as pd \n",
        "df_p=pd.DataFrame(positive_examples,columns=['Sequences'])\n",
        "df_p['Labels']=1\n",
        "df_n=pd.DataFrame(negative_examples,columns=['Sequences'])\n",
        "df_n['Labels']=0\n"
      ],
      "execution_count": 7,
      "outputs": []
    },
    {
      "cell_type": "code",
      "metadata": {
        "colab": {
          "base_uri": "https://localhost:8080/"
        },
        "id": "VbOO1_91wijs",
        "outputId": "0d088898-ffd7-49d5-923b-69e8182d14e8"
      },
      "source": [
        "print('positive_examples shape is:', df_p.shape)\n",
        "print('negative_examples shape is:', df_n.shape)"
      ],
      "execution_count": 8,
      "outputs": [
        {
          "output_type": "stream",
          "text": [
            "positive_examples shape is: (5264, 2)\n",
            "negative_examples shape is: (167732, 2)\n"
          ],
          "name": "stdout"
        }
      ]
    },
    {
      "cell_type": "code",
      "metadata": {
        "colab": {
          "base_uri": "https://localhost:8080/",
          "height": 402
        },
        "id": "1S3fKmx8wI_L",
        "outputId": "d9ddf803-e3d8-43bd-c560-ddfa3825122b"
      },
      "source": [
        "df=pd.DataFrame()\n",
        "df=df.append(df_p,ignore_index=True)\n",
        "df=df.append(df_n,ignore_index=True)\n",
        "df"
      ],
      "execution_count": 9,
      "outputs": [
        {
          "output_type": "execute_result",
          "data": {
            "text/html": [
              "<div>\n",
              "<style scoped>\n",
              "    .dataframe tbody tr th:only-of-type {\n",
              "        vertical-align: middle;\n",
              "    }\n",
              "\n",
              "    .dataframe tbody tr th {\n",
              "        vertical-align: top;\n",
              "    }\n",
              "\n",
              "    .dataframe thead th {\n",
              "        text-align: right;\n",
              "    }\n",
              "</style>\n",
              "<table border=\"1\" class=\"dataframe\">\n",
              "  <thead>\n",
              "    <tr style=\"text-align: right;\">\n",
              "      <th></th>\n",
              "      <th>Sequences</th>\n",
              "      <th>Labels</th>\n",
              "    </tr>\n",
              "  </thead>\n",
              "  <tbody>\n",
              "    <tr>\n",
              "      <th>0</th>\n",
              "      <td>FRSGILKLASKIPSVLCAVLKNC</td>\n",
              "      <td>1</td>\n",
              "    </tr>\n",
              "    <tr>\n",
              "      <th>1</th>\n",
              "      <td>GLLNVIKDTAQNLFAAALDKLKCKVTKCN</td>\n",
              "      <td>1</td>\n",
              "    </tr>\n",
              "    <tr>\n",
              "      <th>2</th>\n",
              "      <td>LIDHLGAPRWAVDTILGAIAVGNLASWVLALVPGPGWAVKAGLATA...</td>\n",
              "      <td>1</td>\n",
              "    </tr>\n",
              "    <tr>\n",
              "      <th>3</th>\n",
              "      <td>VKEGIEKAGVCPADNVRCFKSDPPQCHTDQDCLGERKCCYLHCGFK...</td>\n",
              "      <td>1</td>\n",
              "    </tr>\n",
              "    <tr>\n",
              "      <th>4</th>\n",
              "      <td>GLVDVLGKVGGLIKKLLP</td>\n",
              "      <td>1</td>\n",
              "    </tr>\n",
              "    <tr>\n",
              "      <th>...</th>\n",
              "      <td>...</td>\n",
              "      <td>...</td>\n",
              "    </tr>\n",
              "    <tr>\n",
              "      <th>172991</th>\n",
              "      <td>MNIVKNELLYEGKAKKIYKTDDENTLYVVYKDSATAFNGEKKAEIS...</td>\n",
              "      <td>0</td>\n",
              "    </tr>\n",
              "    <tr>\n",
              "      <th>172992</th>\n",
              "      <td>MGLLDNLFGRKQQNSSSVAKERLLTVLVHDRVHLTPHDMEEMKREI...</td>\n",
              "      <td>0</td>\n",
              "    </tr>\n",
              "    <tr>\n",
              "      <th>172993</th>\n",
              "      <td>MRILGIDYGDSRIGVAISDPMGWTAQGLEMIKSKDSLKKAVLRLSE...</td>\n",
              "      <td>0</td>\n",
              "    </tr>\n",
              "    <tr>\n",
              "      <th>172994</th>\n",
              "      <td>MRHAKAGRKLNRTASHRKAMFANMAASLITHEQIVTTLPKAKEIRP...</td>\n",
              "      <td>0</td>\n",
              "    </tr>\n",
              "    <tr>\n",
              "      <th>172995</th>\n",
              "      <td>MGNLFVKKPKITEVDRAILSLKTQRRKLGQYQQQLEKVIEAEKQAA...</td>\n",
              "      <td>0</td>\n",
              "    </tr>\n",
              "  </tbody>\n",
              "</table>\n",
              "<p>172996 rows × 2 columns</p>\n",
              "</div>"
            ],
            "text/plain": [
              "                                                Sequences  Labels\n",
              "0                                 FRSGILKLASKIPSVLCAVLKNC       1\n",
              "1                           GLLNVIKDTAQNLFAAALDKLKCKVTKCN       1\n",
              "2       LIDHLGAPRWAVDTILGAIAVGNLASWVLALVPGPGWAVKAGLATA...       1\n",
              "3       VKEGIEKAGVCPADNVRCFKSDPPQCHTDQDCLGERKCCYLHCGFK...       1\n",
              "4                                      GLVDVLGKVGGLIKKLLP       1\n",
              "...                                                   ...     ...\n",
              "172991  MNIVKNELLYEGKAKKIYKTDDENTLYVVYKDSATAFNGEKKAEIS...       0\n",
              "172992  MGLLDNLFGRKQQNSSSVAKERLLTVLVHDRVHLTPHDMEEMKREI...       0\n",
              "172993  MRILGIDYGDSRIGVAISDPMGWTAQGLEMIKSKDSLKKAVLRLSE...       0\n",
              "172994  MRHAKAGRKLNRTASHRKAMFANMAASLITHEQIVTTLPKAKEIRP...       0\n",
              "172995  MGNLFVKKPKITEVDRAILSLKTQRRKLGQYQQQLEKVIEAEKQAA...       0\n",
              "\n",
              "[172996 rows x 2 columns]"
            ]
          },
          "metadata": {
            "tags": []
          },
          "execution_count": 9
        }
      ]
    },
    {
      "cell_type": "code",
      "metadata": {
        "colab": {
          "base_uri": "https://localhost:8080/"
        },
        "id": "Y_Ze8iBIymJR",
        "outputId": "c3243c7c-257a-4ace-ebd2-b01076a56302"
      },
      "source": [
        "! pip install nltk\n",
        "\n",
        "import nltk\n",
        "nltk.download('punkt')\n",
        "nltk.download('stopwords')\n",
        "nltk.download('averaged_perceptron_tagger')\n",
        "nltk.download('maxent_ne_chunker')\n",
        "nltk.download('words')"
      ],
      "execution_count": 10,
      "outputs": [
        {
          "output_type": "stream",
          "text": [
            "Requirement already satisfied: nltk in /usr/local/lib/python3.7/dist-packages (3.2.5)\n",
            "Requirement already satisfied: six in /usr/local/lib/python3.7/dist-packages (from nltk) (1.15.0)\n",
            "[nltk_data] Downloading package punkt to /root/nltk_data...\n",
            "[nltk_data]   Unzipping tokenizers/punkt.zip.\n",
            "[nltk_data] Downloading package stopwords to /root/nltk_data...\n",
            "[nltk_data]   Unzipping corpora/stopwords.zip.\n",
            "[nltk_data] Downloading package averaged_perceptron_tagger to\n",
            "[nltk_data]     /root/nltk_data...\n",
            "[nltk_data]   Unzipping taggers/averaged_perceptron_tagger.zip.\n",
            "[nltk_data] Downloading package maxent_ne_chunker to\n",
            "[nltk_data]     /root/nltk_data...\n",
            "[nltk_data]   Unzipping chunkers/maxent_ne_chunker.zip.\n",
            "[nltk_data] Downloading package words to /root/nltk_data...\n",
            "[nltk_data]   Unzipping corpora/words.zip.\n"
          ],
          "name": "stdout"
        },
        {
          "output_type": "execute_result",
          "data": {
            "text/plain": [
              "True"
            ]
          },
          "metadata": {
            "tags": []
          },
          "execution_count": 10
        }
      ]
    },
    {
      "cell_type": "code",
      "metadata": {
        "colab": {
          "base_uri": "https://localhost:8080/"
        },
        "id": "XVNDxicexlch",
        "outputId": "ae95b132-d08c-4c91-8edd-274529a7e22d"
      },
      "source": [
        "import nltk \n",
        "import re\n",
        "from nltk.corpus import stopwords\n",
        "nltk.download('stopwords')\n",
        "nltk.download('wordnet')\n",
        "from nltk.stem import WordNetLemmatizer \n",
        "from nltk.stem import SnowballStemmer\n",
        "\n",
        "stemmer = SnowballStemmer('english')\n",
        "lemmatizer = WordNetLemmatizer() \n",
        "\n",
        "# get stop words from nltk\n",
        "stopWords = stopwords.words('english')\n",
        "\n",
        "# pre processing data\n",
        "def cleanData(sentence):\n",
        "    processedList = \"\"\n",
        "    \n",
        "# Tokenize words\n",
        "    #sentence=nltk.word_tokenize(sentence)\n",
        "    sentence=list(sentence)\n",
        "\n",
        "    \n",
        "    return sentence"
      ],
      "execution_count": 11,
      "outputs": [
        {
          "output_type": "stream",
          "text": [
            "[nltk_data] Downloading package stopwords to /root/nltk_data...\n",
            "[nltk_data]   Package stopwords is already up-to-date!\n",
            "[nltk_data] Downloading package wordnet to /root/nltk_data...\n",
            "[nltk_data]   Unzipping corpora/wordnet.zip.\n"
          ],
          "name": "stdout"
        }
      ]
    },
    {
      "cell_type": "code",
      "metadata": {
        "id": "DOIKvMuqyQ_V"
      },
      "source": [
        "cleanData(df['Sequences'][2])"
      ],
      "execution_count": null,
      "outputs": []
    },
    {
      "cell_type": "code",
      "metadata": {
        "id": "Hrhj7giz6Ozb"
      },
      "source": [
        "# clean data \n",
        "df['Sequences'] = df['Sequences'].map(lambda x: cleanData(x))"
      ],
      "execution_count": 13,
      "outputs": []
    },
    {
      "cell_type": "code",
      "metadata": {
        "colab": {
          "base_uri": "https://localhost:8080/"
        },
        "id": "LlOfQUcR7fRW",
        "outputId": "e600f7b2-52f0-458f-df84-d50c914e8f90"
      },
      "source": [
        "df['Sequences'] "
      ],
      "execution_count": 16,
      "outputs": [
        {
          "output_type": "execute_result",
          "data": {
            "text/plain": [
              "0         [F, R, S, G, I, L, K, L, A, S, K, I, P, S, V, ...\n",
              "1         [G, L, L, N, V, I, K, D, T, A, Q, N, L, F, A, ...\n",
              "2         [L, I, D, H, L, G, A, P, R, W, A, V, D, T, I, ...\n",
              "3         [V, K, E, G, I, E, K, A, G, V, C, P, A, D, N, ...\n",
              "4         [G, L, V, D, V, L, G, K, V, G, G, L, I, K, K, ...\n",
              "                                ...                        \n",
              "172991    [M, N, I, V, K, N, E, L, L, Y, E, G, K, A, K, ...\n",
              "172992    [M, G, L, L, D, N, L, F, G, R, K, Q, Q, N, S, ...\n",
              "172993    [M, R, I, L, G, I, D, Y, G, D, S, R, I, G, V, ...\n",
              "172994    [M, R, H, A, K, A, G, R, K, L, N, R, T, A, S, ...\n",
              "172995    [M, G, N, L, F, V, K, K, P, K, I, T, E, V, D, ...\n",
              "Name: Sequences, Length: 172996, dtype: object"
            ]
          },
          "metadata": {
            "tags": []
          },
          "execution_count": 16
        }
      ]
    },
    {
      "cell_type": "code",
      "metadata": {
        "colab": {
          "base_uri": "https://localhost:8080/"
        },
        "id": "1IQmt0UH20Vr",
        "outputId": "d6dd3566-1e6a-4cc6-d145-b5ae69364947"
      },
      "source": [
        "from sklearn.feature_extraction.text import TfidfVectorizer\n",
        "\n",
        "X=df['Sequences'] \n",
        "y=df['Labels'] \n",
        "\n",
        "def dummy(doc):\n",
        "    return doc\n",
        "\n",
        "vectorizer = TfidfVectorizer(tokenizer=dummy,preprocessor=dummy,lowercase=False)\n",
        "\n",
        "vectorizer.fit(X)\n",
        "\n",
        "x_transform = vectorizer.transform(X).toarray()\n",
        "\n",
        "word = vectorizer.get_feature_names()\n"
      ],
      "execution_count": 29,
      "outputs": [
        {
          "output_type": "stream",
          "text": [
            "/usr/local/lib/python3.7/dist-packages/sklearn/feature_extraction/text.py:507: UserWarning: The parameter 'token_pattern' will not be used since 'tokenizer' is not None'\n",
            "  warnings.warn(\"The parameter 'token_pattern' will not be used\"\n"
          ],
          "name": "stderr"
        }
      ]
    },
    {
      "cell_type": "code",
      "metadata": {
        "id": "EQT-3XruYfhI"
      },
      "source": [
        "x_transform\n",
        "word"
      ],
      "execution_count": null,
      "outputs": []
    },
    {
      "cell_type": "code",
      "metadata": {
        "id": "GFqDMwwB9ZRh",
        "colab": {
          "base_uri": "https://localhost:8080/",
          "height": 281
        },
        "outputId": "b2009e65-b253-4dbc-d477-06f7684ccc62"
      },
      "source": [
        "import numpy as np\n",
        "\n",
        "TFIDF_mean = np.mean(x_transform, axis=0)\n",
        "\n",
        "TFIDF_mean \n",
        "TFIDF_mean = np.array(TFIDF_mean)[0].tolist()\n",
        "\n",
        "# Feature_importance=top_feats(TFIDF_mean ,Word, Imp_Feat)\n",
        "\n",
        "topn_ids = np.argsort(TFIDF_mean)[::-1][:1000]\n",
        "names = np.array(word)\n",
        "# print(names[topn_ids])\n",
        "top_feats = [(word[i], TFIDF_mean[i]) for i in topn_ids]\n",
        "df_feat = pd.DataFrame(top_feats, index=names[topn_ids])\n",
        "df_feat.columns = ['FEATURE', 'Feat_IMP_value']\n",
        "\n",
        "Feature_importance = df_feat\n",
        "df_feat[:150].plot.bar(y='Feat_IMP_value', title='Feature Importances', rot=90)\n",
        "plt.ylabel('Relative Feature Importance  ')\n",
        "New_FI_index = Feature_importance.reset_index()\n",
        "del New_FI_index['index']\n",
        "plt.show()\n",
        "#plt.savefig('feature_Importance.png')"
      ],
      "execution_count": 26,
      "outputs": [
        {
          "output_type": "display_data",
          "data": {
            "image/png": "[encoded data removed]",
            "text/plain": [
              "<Figure size 432x288 with 1 Axes>"
            ]
          },
          "metadata": {
            "tags": [],
            "needs_background": "light"
          }
        }
      ]
    },
    {
      "cell_type": "markdown",
      "metadata": {
        "id": "NN76-Ny4gEEE"
      },
      "source": [
        "#Train_Test_Split"
      ]
    },
    {
      "cell_type": "code",
      "metadata": {
        "id": "TE5DgLbPgLEC"
      },
      "source": [
        "\n",
        "from sklearn.model_selection import KFold\n",
        "from sklearn.model_selection import train_test_split\n",
        "from sklearn.model_selection import GridSearchCV\n",
        "import xgboost\n",
        "from sklearn.ensemble import VotingRegressor\n",
        "from sklearn.model_selection import cross_val_score\n",
        "from sklearn.model_selection import LeaveOneOut\n",
        "from sklearn.metrics import classification_report\n",
        "from sklearn.metrics import accuracy_score, confusion_matrix\n",
        "\n",
        "from sklearn.ensemble import RandomForestClassifier\n",
        "from sklearn.svm import LinearSVC"
      ],
      "execution_count": null,
      "outputs": []
    },
    {
      "cell_type": "code",
      "metadata": {
        "id": "cF7197oVEMfW"
      },
      "source": [
        "from sklearn.model_selection import train_test_split\n",
        "\n",
        "X_train, X_test, y_train, y_test = train_test_split(x_transform , y,\n",
        "    stratify=y, \n",
        "    test_size=0.2, shuffle=True)"
      ],
      "execution_count": 21,
      "outputs": []
    },
    {
      "cell_type": "markdown",
      "metadata": {
        "id": "a76ZJQe_gbpI"
      },
      "source": [
        "#Intitialisation"
      ]
    },
    {
      "cell_type": "code",
      "metadata": {
        "id": "o1EmV5YIgikT"
      },
      "source": [
        "result = pd.DataFrame(columns = (\"classifers\",\"Training\",\"Testing\"))\n",
        "classifier, train_scores, test_scores = [],[],[]"
      ],
      "execution_count": 50,
      "outputs": []
    },
    {
      "cell_type": "code",
      "metadata": {
        "id": "G7cWadl7jBYZ"
      },
      "source": [
        ""
      ],
      "execution_count": null,
      "outputs": []
    },
    {
      "cell_type": "markdown",
      "metadata": {
        "id": "WQHy9-D-jB4S"
      },
      "source": [
        "#Cross validation "
      ]
    },
    {
      "cell_type": "code",
      "metadata": {
        "id": "pUnQk0HKgo4I"
      },
      "source": [
        "#We will decide to go for K fold=5 or LOOCV\n",
        "k_fold = KFold(n_splits=5, shuffle=True,random_state=1)"
      ],
      "execution_count": null,
      "outputs": []
    },
    {
      "cell_type": "markdown",
      "metadata": {
        "id": "9wrIuu7QjX7S"
      },
      "source": [
        "#Baselines"
      ]
    },
    {
      "cell_type": "markdown",
      "metadata": {
        "id": "EAxJ6Xw2gqyk"
      },
      "source": [
        "##Random Forest Classifier"
      ]
    },
    {
      "cell_type": "code",
      "metadata": {
        "colab": {
          "base_uri": "https://localhost:8080/"
        },
        "id": "3Rf4Y1nlEz_K",
        "outputId": "82d776cc-0c3e-4393-9d36-559b33b8ec65"
      },
      "source": [
        "rfs = RandomForestClassifier()\n",
        "rfs.fit(X_train,y_train)"
      ],
      "execution_count": 22,
      "outputs": [
        {
          "output_type": "execute_result",
          "data": {
            "text/plain": [
              "RandomForestClassifier(bootstrap=True, ccp_alpha=0.0, class_weight=None,\n",
              "                       criterion='gini', max_depth=None, max_features='auto',\n",
              "                       max_leaf_nodes=None, max_samples=None,\n",
              "                       min_impurity_decrease=0.0, min_impurity_split=None,\n",
              "                       min_samples_leaf=1, min_samples_split=2,\n",
              "                       min_weight_fraction_leaf=0.0, n_estimators=100,\n",
              "                       n_jobs=None, oob_score=False, random_state=None,\n",
              "                       verbose=0, warm_start=False)"
            ]
          },
          "metadata": {
            "tags": []
          },
          "execution_count": 22
        }
      ]
    },
    {
      "cell_type": "code",
      "metadata": {
        "id": "bg2bllAZHvv5"
      },
      "source": [
        "y_pred = rfs.predict(X_test)"
      ],
      "execution_count": 33,
      "outputs": []
    },
    {
      "cell_type": "code",
      "metadata": {
        "colab": {
          "base_uri": "https://localhost:8080/"
        },
        "id": "4aNHrouRIArM",
        "outputId": "a295b0ea-f81c-4632-93a7-247dfec95d59"
      },
      "source": [
        "from sklearn.metrics import accuracy_score, confusion_matrix\n",
        "accuracy_score(y_test, y_pred)"
      ],
      "execution_count": 34,
      "outputs": [
        {
          "output_type": "execute_result",
          "data": {
            "text/plain": [
              "0.9811271676300578"
            ]
          },
          "metadata": {
            "tags": []
          },
          "execution_count": 34
        }
      ]
    },
    {
      "cell_type": "markdown",
      "metadata": {
        "id": "YZc06du0g4CV"
      },
      "source": [
        "###Tune parameters"
      ]
    },
    {
      "cell_type": "code",
      "metadata": {
        "id": "MYBHCU6behsr"
      },
      "source": [
        "#to do Hyper parameter search using Grid search"
      ],
      "execution_count": null,
      "outputs": []
    },
    {
      "cell_type": "markdown",
      "metadata": {
        "id": "GDVVXh2khC8Q"
      },
      "source": [
        "### Final Random forest Model"
      ]
    },
    {
      "cell_type": "code",
      "metadata": {
        "id": "3n-vnmvChGi-"
      },
      "source": [
        "# implement with best Hyperparameters and calculate score"
      ],
      "execution_count": null,
      "outputs": []
    },
    {
      "cell_type": "code",
      "metadata": {
        "id": "-rPxUL2UoOWE",
        "outputId": "1672c78d-0784-454d-c0e4-72bd478e1d4d",
        "colab": {
          "base_uri": "https://localhost:8080/"
        }
      },
      "source": [
        "y_pred = rfs.predict(X_test)\n",
        "print(\"Test accuracy\",rfs.score(X_test, y_test))\n",
        "print(\"Train accuracy\",rfs.score(X_train, y_train))\n",
        "\n",
        "classifier.append(\"RFS\")\n",
        "train_scores.append(rfs.score(X_train, y_train))\n",
        "test_scores.append(rfs.score(X_test, y_test))"
      ],
      "execution_count": 51,
      "outputs": [
        {
          "output_type": "stream",
          "text": [
            "Test accuracy 0.9811271676300578\n",
            "Train accuracy 0.9958163530737882\n"
          ],
          "name": "stdout"
        }
      ]
    },
    {
      "cell_type": "markdown",
      "metadata": {
        "id": "X9IdaQLThOC7"
      },
      "source": [
        "##SVM classifier"
      ]
    },
    {
      "cell_type": "code",
      "metadata": {
        "colab": {
          "base_uri": "https://localhost:8080/"
        },
        "id": "oZ7HKFxcekWS",
        "outputId": "5bbf927d-9a24-466e-dc66-f541de338481"
      },
      "source": [
        "#SVM\n",
        "from sklearn.svm import LinearSVC\n",
        "\n",
        "svc=LinearSVC(random_state=0, tol=1e-5)\n",
        "svc.fit(X_train,y_train)"
      ],
      "execution_count": 36,
      "outputs": [
        {
          "output_type": "execute_result",
          "data": {
            "text/plain": [
              "LinearSVC(C=1.0, class_weight=None, dual=True, fit_intercept=True,\n",
              "          intercept_scaling=1, loss='squared_hinge', max_iter=1000,\n",
              "          multi_class='ovr', penalty='l2', random_state=0, tol=1e-05,\n",
              "          verbose=0)"
            ]
          },
          "metadata": {
            "tags": []
          },
          "execution_count": 36
        }
      ]
    },
    {
      "cell_type": "code",
      "metadata": {
        "colab": {
          "base_uri": "https://localhost:8080/"
        },
        "id": "zELZVYHgfqFw",
        "outputId": "9c6797c0-adb1-4ddd-8a5d-8da11767d627"
      },
      "source": [
        "y_pred = svc.predict(X_test)\n",
        "accuracy_score(y_test, y_pred)"
      ],
      "execution_count": 38,
      "outputs": [
        {
          "output_type": "execute_result",
          "data": {
            "text/plain": [
              "0.9714161849710983"
            ]
          },
          "metadata": {
            "tags": []
          },
          "execution_count": 38
        }
      ]
    },
    {
      "cell_type": "markdown",
      "metadata": {
        "id": "o8FZIcjQhU8W"
      },
      "source": [
        "###Tune parameters"
      ]
    },
    {
      "cell_type": "code",
      "metadata": {
        "id": "TzFpUsSPhZnx"
      },
      "source": [
        "#to do Hyper parameter search using Grid search"
      ],
      "execution_count": null,
      "outputs": []
    },
    {
      "cell_type": "markdown",
      "metadata": {
        "id": "OHG7Vb0mhb0b"
      },
      "source": [
        "### Final SVC Model"
      ]
    },
    {
      "cell_type": "code",
      "metadata": {
        "id": "b5rUU4rshegf"
      },
      "source": [
        "# implement with best Hyperparameters and calculate score"
      ],
      "execution_count": null,
      "outputs": []
    },
    {
      "cell_type": "code",
      "metadata": {
        "id": "e08pkccDoEOp"
      },
      "source": [
        "y_pred = svc.predict(X_test)\n",
        "print(\"Test accuracy\",svc.score(X_test, y_test))\n",
        "print(\"Train accuracy\",svc.score(X_train, y_train))\n",
        "\n",
        "classifier.append(\"SVC\")\n",
        "train_scores.append(svc.score(X_train, y_train))\n",
        "test_scores.append(svc.score(X_test, y_test))"
      ],
      "execution_count": null,
      "outputs": []
    },
    {
      "cell_type": "markdown",
      "metadata": {
        "id": "UqNPSHYHiFfm"
      },
      "source": [
        "##Neural Network"
      ]
    },
    {
      "cell_type": "code",
      "metadata": {
        "colab": {
          "base_uri": "https://localhost:8080/"
        },
        "id": "WKH81sHyiIwa",
        "outputId": "82e0bd61-c3da-4cb4-f8b1-bccbdb3e9021"
      },
      "source": [
        "#implement\n",
        "\n",
        "from sklearn.neural_network import MLPClassifier\n",
        "\n",
        "Nnw=MLPClassifier(alpha=1e-05, hidden_layer_sizes=(5, 2), random_state=1)#Adam\n",
        "Nnw.fit(X_train,y_train)"
      ],
      "execution_count": 39,
      "outputs": [
        {
          "output_type": "execute_result",
          "data": {
            "text/plain": [
              "MLPClassifier(activation='relu', alpha=1e-05, batch_size='auto', beta_1=0.9,\n",
              "              beta_2=0.999, early_stopping=False, epsilon=1e-08,\n",
              "              hidden_layer_sizes=(5, 2), learning_rate='constant',\n",
              "              learning_rate_init=0.001, max_fun=15000, max_iter=200,\n",
              "              momentum=0.9, n_iter_no_change=10, nesterovs_momentum=True,\n",
              "              power_t=0.5, random_state=1, shuffle=True, solver='adam',\n",
              "              tol=0.0001, validation_fraction=0.1, verbose=False,\n",
              "              warm_start=False)"
            ]
          },
          "metadata": {
            "tags": []
          },
          "execution_count": 39
        }
      ]
    },
    {
      "cell_type": "markdown",
      "metadata": {
        "id": "6Ry30ECeiKYi"
      },
      "source": [
        "###Tune parameters"
      ]
    },
    {
      "cell_type": "code",
      "metadata": {
        "id": "XWBOgmPjiOku"
      },
      "source": [
        "#to do Hyper parameter search using Grid search"
      ],
      "execution_count": null,
      "outputs": []
    },
    {
      "cell_type": "markdown",
      "metadata": {
        "id": "RLRbP3gKiXQq"
      },
      "source": [
        "### Final Neural Network Model"
      ]
    },
    {
      "cell_type": "code",
      "metadata": {
        "id": "BYsLC1eEia73"
      },
      "source": [
        "# implement with best Hyperparameters and calculate score"
      ],
      "execution_count": null,
      "outputs": []
    },
    {
      "cell_type": "code",
      "metadata": {
        "id": "-Z_jjcLbn6Jd",
        "outputId": "eccb895e-bde6-42a4-daed-33c8d6b7ea09",
        "colab": {
          "base_uri": "https://localhost:8080/"
        }
      },
      "source": [
        "y_pred = Nnw.predict(X_test)\n",
        "print(\"Test accuracy\",Nnw.score(X_test, y_test))\n",
        "print(\"Train accuracy\",Nnw.score(X_train, y_train))\n",
        "\n",
        "classifier.append(\"NNW\")\n",
        "train_scores.append(Nnw.score(X_train, y_train))\n",
        "test_scores.append(Nnw.score(X_test, y_test))"
      ],
      "execution_count": 48,
      "outputs": [
        {
          "output_type": "stream",
          "text": [
            "Test accuracy 0.9803468208092485\n",
            "Train accuracy 0.9808592733894043\n"
          ],
          "name": "stdout"
        }
      ]
    },
    {
      "cell_type": "markdown",
      "metadata": {
        "id": "HYOfgD9bjS5w"
      },
      "source": [
        "# Improvements : Ensemble method with Crossvalidation"
      ]
    },
    {
      "cell_type": "code",
      "metadata": {
        "id": "I5RxG6x5kZ4g"
      },
      "source": [
        "##### Trying to improve with the ensemble of all predictors\n",
        "from sklearn.ensemble import VotingRegressor\n",
        "\n",
        "Reg_vote = VotingRegressor(\n",
        "    estimators=[\n",
        "        ('rfs', rfs), # Random Forest\n",
        "        ('svc', svc), # SVC\n",
        "        ('Nn', Nnw), # Neural Network\n",
        "          ])\n",
        "Reg_vote.fit(X_train, y_train)\n",
        "Reg_vote.score(X_val, y_val)"
      ],
      "execution_count": null,
      "outputs": []
    },
    {
      "cell_type": "code",
      "metadata": {
        "id": "NyGPBstzkrW6"
      },
      "source": [
        "scores = cross_val_score(Reg_vote, X_train, y_train, cv=k_fold)\n",
        "print(\"Reg: Accuracy: %0.4f (+/- %0.4f)\" % (scores.mean(), scores.std()))"
      ],
      "execution_count": null,
      "outputs": []
    }
  ]
}
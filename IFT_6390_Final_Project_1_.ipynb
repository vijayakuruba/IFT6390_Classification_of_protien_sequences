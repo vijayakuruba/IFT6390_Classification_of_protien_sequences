{
  "nbformat": 4,
  "nbformat_minor": 0,
  "metadata": {
    "kernelspec": {
      "display_name": "Python 3",
      "language": "python",
      "name": "python3"
    },
    "language_info": {
      "codemirror_mode": {
        "name": "ipython",
        "version": 3
      },
      "file_extension": ".py",
      "mimetype": "text/x-python",
      "name": "python",
      "nbconvert_exporter": "python",
      "pygments_lexer": "ipython3",
      "version": "3.6.12"
    },
    "colab": {
      "name": "IFT 6390_Final_Project -1 .ipynb",
      "provenance": [],
      "collapsed_sections": [],
      "machine_shape": "hm",
      "include_colab_link": true
    },
    "accelerator": "GPU"
  },
  "cells": [
    {
      "cell_type": "markdown",
      "metadata": {
        "id": "view-in-github",
        "colab_type": "text"
      },
      "source": [
        "<a href=\"https://colab.research.google.com/github/vijayakuruba/IFT6390_Text-Generation/blob/main/IFT_6390_Final_Project_1_.ipynb\" target=\"_parent\"><img src=\"https://colab.research.google.com/assets/colab-badge.svg\" alt=\"Open In Colab\"/></a>"
      ]
    },
    {
      "cell_type": "markdown",
      "metadata": {
        "id": "9mSwy9yaanTh"
      },
      "source": [
        "# IFT6390: Final Project\n",
        "\n",
        "The final project pertains to the problem of finding novel [antimicrobial peptides](https://en.wikipedia.org/wiki/Antimicrobial_peptides) (AMP) which may turn out to be key in the fight against antibiotics resistance. The World Health Organization qualifies antibiotic resistance as one of the [''biggest threats to global health, food security, and development today''](https://www.who.int/news-room/fact-sheets/detail/antibiotic-resistance).\n",
        "\n",
        "Given the limited time frame of this project, I have scoped down the problems to two main tracks:\n",
        "\n",
        "1. **Classification**: classifying protein sequences as AMP or non-AMP: a binary classification problem\n",
        "  1.1 You are allowed to use Scikit-learn. You need to provide the following baselines: Random Forest, SVM, Neural Network. Use TF-IDF as a baseline feature extractor (you can use sklearn) for each of those.  \n",
        "2. **Generation**: Given a corpus of AMP sequences, learn a character-level language model. You should implement a baseline using a Markov model. Then implement a sequential model using an RNN or LSTM. \n",
        "\n",
        "You should pick one of the two options. Choose your own adventure. You can work in teams of **three people max**."
      ]
    },
    {
      "cell_type": "markdown",
      "metadata": {
        "id": "XHaAlZgaay2P"
      },
      "source": [
        "# Dataset\n",
        "\n",
        "The dataset in this project comes from two open source projects: amPEPpy and AMPlify."
      ]
    },
    {
      "cell_type": "code",
      "metadata": {
        "id": "SPkBZUw2a4Pw",
        "colab": {
          "base_uri": "https://localhost:8080/"
        },
        "outputId": "b92181ea-efd3-41d2-a6d0-2e804ecb65de"
      },
      "source": [
        "!pip install biopython\n",
        "!wget https://raw.githubusercontent.com/bcgsc/AMPlify/master/data/AMP_20190407.fa\n",
        "!wget https://raw.githubusercontent.com/bcgsc/AMPlify/master/data/non_AMP_20190413.fa\n",
        "!wget https://raw.githubusercontent.com/tlawrence3/amPEPpy/master/training_data/M_model_train_AMP_sequence.numbered.fasta\n",
        "!wget https://raw.githubusercontent.com/tlawrence3/amPEPpy/master/training_data/M_model_train_nonAMP_sequence.numbered.fasta"
      ],
      "execution_count": 1,
      "outputs": [
        {
          "output_type": "stream",
          "text": [
            "Collecting biopython\n",
            "\u001b[?25l  Downloading https://files.pythonhosted.org/packages/3a/cd/0098eaff841850c01da928c7f509b72fd3e1f51d77b772e24de9e2312471/biopython-1.78-cp37-cp37m-manylinux1_x86_64.whl (2.3MB)\n",
            "\u001b[K     |████████████████████████████████| 2.3MB 7.5MB/s \n",
            "\u001b[?25hRequirement already satisfied: numpy in /usr/local/lib/python3.7/dist-packages (from biopython) (1.19.5)\n",
            "Installing collected packages: biopython\n",
            "Successfully installed biopython-1.78\n",
            "--2021-04-20 17:30:58--  https://raw.githubusercontent.com/bcgsc/AMPlify/master/data/AMP_20190407.fa\n",
            "Resolving raw.githubusercontent.com (raw.githubusercontent.com)... 185.199.111.133, 185.199.110.133, 185.199.109.133, ...\n",
            "Connecting to raw.githubusercontent.com (raw.githubusercontent.com)|185.199.111.133|:443... connected.\n",
            "HTTP request sent, awaiting response... 200 OK\n",
            "Length: 166037 (162K) [text/plain]\n",
            "Saving to: ‘AMP_20190407.fa’\n",
            "\n",
            "AMP_20190407.fa     100%[===================>] 162.15K  --.-KB/s    in 0.01s   \n",
            "\n",
            "2021-04-20 17:30:58 (10.6 MB/s) - ‘AMP_20190407.fa’ saved [166037/166037]\n",
            "\n",
            "--2021-04-20 17:30:58--  https://raw.githubusercontent.com/bcgsc/AMPlify/master/data/non_AMP_20190413.fa\n",
            "Resolving raw.githubusercontent.com (raw.githubusercontent.com)... 185.199.111.133, 185.199.110.133, 185.199.109.133, ...\n",
            "Connecting to raw.githubusercontent.com (raw.githubusercontent.com)|185.199.111.133|:443... connected.\n",
            "HTTP request sent, awaiting response... 200 OK\n",
            "Length: 186539 (182K) [text/plain]\n",
            "Saving to: ‘non_AMP_20190413.fa’\n",
            "\n",
            "non_AMP_20190413.fa 100%[===================>] 182.17K  --.-KB/s    in 0.02s   \n",
            "\n",
            "2021-04-20 17:30:59 (10.3 MB/s) - ‘non_AMP_20190413.fa’ saved [186539/186539]\n",
            "\n",
            "--2021-04-20 17:30:59--  https://raw.githubusercontent.com/tlawrence3/amPEPpy/master/training_data/M_model_train_AMP_sequence.numbered.fasta\n",
            "Resolving raw.githubusercontent.com (raw.githubusercontent.com)... 185.199.111.133, 185.199.110.133, 185.199.109.133, ...\n",
            "Connecting to raw.githubusercontent.com (raw.githubusercontent.com)|185.199.111.133|:443... connected.\n",
            "HTTP request sent, awaiting response... 200 OK\n",
            "Length: 182506 (178K) [text/plain]\n",
            "Saving to: ‘M_model_train_AMP_sequence.numbered.fasta’\n",
            "\n",
            "M_model_train_AMP_s 100%[===================>] 178.23K  --.-KB/s    in 0.01s   \n",
            "\n",
            "2021-04-20 17:30:59 (13.5 MB/s) - ‘M_model_train_AMP_sequence.numbered.fasta’ saved [182506/182506]\n",
            "\n",
            "--2021-04-20 17:30:59--  https://raw.githubusercontent.com/tlawrence3/amPEPpy/master/training_data/M_model_train_nonAMP_sequence.numbered.fasta\n",
            "Resolving raw.githubusercontent.com (raw.githubusercontent.com)... 185.199.110.133, 185.199.108.133, 185.199.109.133, ...\n",
            "Connecting to raw.githubusercontent.com (raw.githubusercontent.com)|185.199.110.133|:443... connected.\n",
            "HTTP request sent, awaiting response... 200 OK\n",
            "Length: 28767041 (27M) [text/plain]\n",
            "Saving to: ‘M_model_train_nonAMP_sequence.numbered.fasta’\n",
            "\n",
            "M_model_train_nonAM 100%[===================>]  27.43M  88.1MB/s    in 0.3s    \n",
            "\n",
            "2021-04-20 17:31:00 (88.1 MB/s) - ‘M_model_train_nonAMP_sequence.numbered.fasta’ saved [28767041/28767041]\n",
            "\n"
          ],
          "name": "stdout"
        }
      ]
    },
    {
      "cell_type": "code",
      "metadata": {
        "id": "gw9YWiZMa_V-"
      },
      "source": [
        "from Bio import SeqIO\n",
        "import matplotlib.pyplot as plt"
      ],
      "execution_count": 2,
      "outputs": []
    },
    {
      "cell_type": "code",
      "metadata": {
        "id": "OJnps8NibCAB"
      },
      "source": [
        "def fasta_to_str_set(name):\n",
        "  return {str(rec.seq) for rec in SeqIO.parse(name, 'fasta')}"
      ],
      "execution_count": 3,
      "outputs": []
    },
    {
      "cell_type": "code",
      "metadata": {
        "id": "LNNE4j8BbEIm"
      },
      "source": [
        "positive_examples = fasta_to_str_set('AMP_20190407.fa').union(fasta_to_str_set('M_model_train_AMP_sequence.numbered.fasta'))\n",
        "negative_examples = fasta_to_str_set('non_AMP_20190413.fa').union(fasta_to_str_set('M_model_train_nonAMP_sequence.numbered.fasta'))"
      ],
      "execution_count": 4,
      "outputs": []
    },
    {
      "cell_type": "markdown",
      "metadata": {
        "id": "f8RqlzTWbG7M"
      },
      "source": [
        "Once we have merged the two data sources, the positive class has:"
      ]
    },
    {
      "cell_type": "code",
      "metadata": {
        "colab": {
          "base_uri": "https://localhost:8080/"
        },
        "id": "SVGpbwnBbJTP",
        "outputId": "9eea0a0a-0418-44f8-bbc1-b79e39504933"
      },
      "source": [
        "print(f\"{len(positive_examples)} examples\")"
      ],
      "execution_count": 5,
      "outputs": [
        {
          "output_type": "stream",
          "text": [
            "5264 examples\n"
          ],
          "name": "stdout"
        }
      ]
    },
    {
      "cell_type": "markdown",
      "metadata": {
        "id": "f2hwUdjKbM6O"
      },
      "source": [
        "and the negative class (non-AMPs) has:"
      ]
    },
    {
      "cell_type": "code",
      "metadata": {
        "colab": {
          "base_uri": "https://localhost:8080/"
        },
        "id": "lfdCfD9abPcm",
        "outputId": "bd77b274-c62f-4c05-b263-6d7e87af13b1"
      },
      "source": [
        "print(f\"{len(negative_examples)} examples\")"
      ],
      "execution_count": 6,
      "outputs": [
        {
          "output_type": "stream",
          "text": [
            "167732 examples\n"
          ],
          "name": "stdout"
        }
      ]
    },
    {
      "cell_type": "markdown",
      "metadata": {
        "id": "DEkWmk9ObVcu"
      },
      "source": [
        "We have way more non-AMPs than AMP. This will be a challenge. Furthermore, the distribution of the sequence lengths varies a lot between the two classes. You should probably do something about this."
      ]
    },
    {
      "cell_type": "code",
      "metadata": {
        "colab": {
          "base_uri": "https://localhost:8080/",
          "height": 298
        },
        "id": "-8uAVlDdbYTw",
        "outputId": "692d15f3-5a56-4571-804e-c70ef0b76a82"
      },
      "source": [
        "fig, axes = plt.subplots(1,2)\n",
        "axes[0].hist([len(seq) for seq in positive_examples])\n",
        "axes[0].set_title('Positive Sequence Lengths')\n",
        "axes[1].hist([len(seq) for seq in negative_examples])\n",
        "axes[1].set_title('Negative Sequence Lengths')"
      ],
      "execution_count": null,
      "outputs": [
        {
          "output_type": "execute_result",
          "data": {
            "text/plain": [
              "Text(0.5, 1.0, 'Negative Sequence Lengths')"
            ]
          },
          "metadata": {
            "tags": []
          },
          "execution_count": 7
        },
        {
          "output_type": "display_data",
          "data": {
            "image/png": "[encoded data removed]",
            "text/plain": [
              "<Figure size 432x288 with 2 Axes>"
            ]
          },
          "metadata": {
            "tags": [],
            "needs_background": "light"
          }
        }
      ]
    },
    {
      "cell_type": "markdown",
      "metadata": {
        "id": "sg4rjr7NbaoP"
      },
      "source": [
        "Let's have a look at the data. For example, the first AMP in the dataset is:"
      ]
    },
    {
      "cell_type": "code",
      "metadata": {
        "colab": {
          "base_uri": "https://localhost:8080/",
          "height": 35
        },
        "id": "KF4zdceQbcFp",
        "outputId": "3ca6b8a9-9fa0-4a70-af33-7a090c29d5f6"
      },
      "source": [
        "list(positive_examples)[0]"
      ],
      "execution_count": null,
      "outputs": [
        {
          "output_type": "execute_result",
          "data": {
            "application/vnd.google.colaboratory.intrinsic+json": {
              "type": "string"
            },
            "text/plain": [
              "'TKKFPNRRKTAFCSNWNQKIKTV'"
            ]
          },
          "metadata": {
            "tags": []
          },
          "execution_count": 6
        }
      ]
    },
    {
      "cell_type": "markdown",
      "metadata": {
        "id": "bzPbw8Q0beyh"
      },
      "source": [
        "This string describes the sequence of [amino acids](https://en.wikipedia.org/wiki/Amino_acid) present in the given AMP. There are $20$ possible such *standard* amino acids present in the genetic code. To know more about the meaning of each of those letter, see [this section](https://en.wikipedia.org/wiki/Amino_acid#Table_of_standard_amino_acid_abbreviations_and_properties) of the Wikipedia page on amino acids.\n",
        "\n",
        "A non-AMP looks like:"
      ]
    },
    {
      "cell_type": "code",
      "metadata": {
        "id": "t64mv7WTbm8m",
        "colab": {
          "base_uri": "https://localhost:8080/",
          "height": 52
        },
        "outputId": "54239463-3b00-4a7e-b680-dbcfc4409feb"
      },
      "source": [
        "list(negative_examples)[0]"
      ],
      "execution_count": null,
      "outputs": [
        {
          "output_type": "execute_result",
          "data": {
            "application/vnd.google.colaboratory.intrinsic+json": {
              "type": "string"
            },
            "text/plain": [
              "'MVNYPSGVRAGGYPQKKKNQNIRYGKRGMGLEEMINQANDYYLVNHQAVIHKKPTPITVVHVDYPDRSMAKITEAYYVQPSTTDYNGVVSGKYIDFDAKETKNKTNMPLKNFHQHQITHLKNVLENGGIGFLVLGFTTLSEYYIFPASLLIKIWDKAKAGGEKSLPYKIVSKQGIKINSKMIPSLDYLPALKKLFNI'"
            ]
          },
          "metadata": {
            "tags": []
          },
          "execution_count": 10
        }
      ]
    },
    {
      "cell_type": "code",
      "metadata": {
        "id": "he8snbbCpUDZ"
      },
      "source": [
        "import pandas as pd \n",
        "df_p=pd.DataFrame(positive_examples,columns=['Sequences'])\n",
        "df_p['Labels']=1\n",
        "df_n=pd.DataFrame(negative_examples,columns=['Sequences'])\n",
        "df_n['Labels']=0\n"
      ],
      "execution_count": 7,
      "outputs": []
    },
    {
      "cell_type": "code",
      "metadata": {
        "colab": {
          "base_uri": "https://localhost:8080/"
        },
        "id": "VbOO1_91wijs",
        "outputId": "0d088898-ffd7-49d5-923b-69e8182d14e8"
      },
      "source": [
        "print('positive_examples shape is:', df_p.shape)\n",
        "print('negative_examples shape is:', df_n.shape)"
      ],
      "execution_count": 8,
      "outputs": [
        {
          "output_type": "stream",
          "text": [
            "positive_examples shape is: (5264, 2)\n",
            "negative_examples shape is: (167732, 2)\n"
          ],
          "name": "stdout"
        }
      ]
    },
    {
      "cell_type": "code",
      "metadata": {
        "colab": {
          "base_uri": "https://localhost:8080/",
          "height": 402
        },
        "id": "1S3fKmx8wI_L",
        "outputId": "d9ddf803-e3d8-43bd-c560-ddfa3825122b"
      },
      "source": [
        "df=pd.DataFrame()\n",
        "df=df.append(df_p,ignore_index=True)\n",
        "df=df.append(df_n,ignore_index=True)\n",
        "df"
      ],
      "execution_count": 9,
      "outputs": [
        {
          "output_type": "execute_result",
          "data": {
            "text/html": [
              "<div>\n",
              "<style scoped>\n",
              "    .dataframe tbody tr th:only-of-type {\n",
              "        vertical-align: middle;\n",
              "    }\n",
              "\n",
              "    .dataframe tbody tr th {\n",
              "        vertical-align: top;\n",
              "    }\n",
              "\n",
              "    .dataframe thead th {\n",
              "        text-align: right;\n",
              "    }\n",
              "</style>\n",
              "<table border=\"1\" class=\"dataframe\">\n",
              "  <thead>\n",
              "    <tr style=\"text-align: right;\">\n",
              "      <th></th>\n",
              "      <th>Sequences</th>\n",
              "      <th>Labels</th>\n",
              "    </tr>\n",
              "  </thead>\n",
              "  <tbody>\n",
              "    <tr>\n",
              "      <th>0</th>\n",
              "      <td>FRSGILKLASKIPSVLCAVLKNC</td>\n",
              "      <td>1</td>\n",
              "    </tr>\n",
              "    <tr>\n",
              "      <th>1</th>\n",
              "      <td>GLLNVIKDTAQNLFAAALDKLKCKVTKCN</td>\n",
              "      <td>1</td>\n",
              "    </tr>\n",
              "    <tr>\n",
              "      <th>2</th>\n",
              "      <td>LIDHLGAPRWAVDTILGAIAVGNLASWVLALVPGPGWAVKAGLATA...</td>\n",
              "      <td>1</td>\n",
              "    </tr>\n",
              "    <tr>\n",
              "      <th>3</th>\n",
              "      <td>VKEGIEKAGVCPADNVRCFKSDPPQCHTDQDCLGERKCCYLHCGFK...</td>\n",
              "      <td>1</td>\n",
              "    </tr>\n",
              "    <tr>\n",
              "      <th>4</th>\n",
              "      <td>GLVDVLGKVGGLIKKLLP</td>\n",
              "      <td>1</td>\n",
              "    </tr>\n",
              "    <tr>\n",
              "      <th>...</th>\n",
              "      <td>...</td>\n",
              "      <td>...</td>\n",
              "    </tr>\n",
              "    <tr>\n",
              "      <th>172991</th>\n",
              "      <td>MNIVKNELLYEGKAKKIYKTDDENTLYVVYKDSATAFNGEKKAEIS...</td>\n",
              "      <td>0</td>\n",
              "    </tr>\n",
              "    <tr>\n",
              "      <th>172992</th>\n",
              "      <td>MGLLDNLFGRKQQNSSSVAKERLLTVLVHDRVHLTPHDMEEMKREI...</td>\n",
              "      <td>0</td>\n",
              "    </tr>\n",
              "    <tr>\n",
              "      <th>172993</th>\n",
              "      <td>MRILGIDYGDSRIGVAISDPMGWTAQGLEMIKSKDSLKKAVLRLSE...</td>\n",
              "      <td>0</td>\n",
              "    </tr>\n",
              "    <tr>\n",
              "      <th>172994</th>\n",
              "      <td>MRHAKAGRKLNRTASHRKAMFANMAASLITHEQIVTTLPKAKEIRP...</td>\n",
              "      <td>0</td>\n",
              "    </tr>\n",
              "    <tr>\n",
              "      <th>172995</th>\n",
              "      <td>MGNLFVKKPKITEVDRAILSLKTQRRKLGQYQQQLEKVIEAEKQAA...</td>\n",
              "      <td>0</td>\n",
              "    </tr>\n",
              "  </tbody>\n",
              "</table>\n",
              "<p>172996 rows × 2 columns</p>\n",
              "</div>"
            ],
            "text/plain": [
              "                                                Sequences  Labels\n",
              "0                                 FRSGILKLASKIPSVLCAVLKNC       1\n",
              "1                           GLLNVIKDTAQNLFAAALDKLKCKVTKCN       1\n",
              "2       LIDHLGAPRWAVDTILGAIAVGNLASWVLALVPGPGWAVKAGLATA...       1\n",
              "3       VKEGIEKAGVCPADNVRCFKSDPPQCHTDQDCLGERKCCYLHCGFK...       1\n",
              "4                                      GLVDVLGKVGGLIKKLLP       1\n",
              "...                                                   ...     ...\n",
              "172991  MNIVKNELLYEGKAKKIYKTDDENTLYVVYKDSATAFNGEKKAEIS...       0\n",
              "172992  MGLLDNLFGRKQQNSSSVAKERLLTVLVHDRVHLTPHDMEEMKREI...       0\n",
              "172993  MRILGIDYGDSRIGVAISDPMGWTAQGLEMIKSKDSLKKAVLRLSE...       0\n",
              "172994  MRHAKAGRKLNRTASHRKAMFANMAASLITHEQIVTTLPKAKEIRP...       0\n",
              "172995  MGNLFVKKPKITEVDRAILSLKTQRRKLGQYQQQLEKVIEAEKQAA...       0\n",
              "\n",
              "[172996 rows x 2 columns]"
            ]
          },
          "metadata": {
            "tags": []
          },
          "execution_count": 9
        }
      ]
    },
    {
      "cell_type": "code",
      "metadata": {
        "colab": {
          "base_uri": "https://localhost:8080/"
        },
        "id": "Y_Ze8iBIymJR",
        "outputId": "c3243c7c-257a-4ace-ebd2-b01076a56302"
      },
      "source": [
        "! pip install nltk\n",
        "\n",
        "import nltk\n",
        "nltk.download('punkt')\n",
        "nltk.download('stopwords')\n",
        "nltk.download('averaged_perceptron_tagger')\n",
        "nltk.download('maxent_ne_chunker')\n",
        "nltk.download('words')"
      ],
      "execution_count": 10,
      "outputs": [
        {
          "output_type": "stream",
          "text": [
            "Requirement already satisfied: nltk in /usr/local/lib/python3.7/dist-packages (3.2.5)\n",
            "Requirement already satisfied: six in /usr/local/lib/python3.7/dist-packages (from nltk) (1.15.0)\n",
            "[nltk_data] Downloading package punkt to /root/nltk_data...\n",
            "[nltk_data]   Unzipping tokenizers/punkt.zip.\n",
            "[nltk_data] Downloading package stopwords to /root/nltk_data...\n",
            "[nltk_data]   Unzipping corpora/stopwords.zip.\n",
            "[nltk_data] Downloading package averaged_perceptron_tagger to\n",
            "[nltk_data]     /root/nltk_data...\n",
            "[nltk_data]   Unzipping taggers/averaged_perceptron_tagger.zip.\n",
            "[nltk_data] Downloading package maxent_ne_chunker to\n",
            "[nltk_data]     /root/nltk_data...\n",
            "[nltk_data]   Unzipping chunkers/maxent_ne_chunker.zip.\n",
            "[nltk_data] Downloading package words to /root/nltk_data...\n",
            "[nltk_data]   Unzipping corpora/words.zip.\n"
          ],
          "name": "stdout"
        },
        {
          "output_type": "execute_result",
          "data": {
            "text/plain": [
              "True"
            ]
          },
          "metadata": {
            "tags": []
          },
          "execution_count": 10
        }
      ]
    },
    {
      "cell_type": "code",
      "metadata": {
        "colab": {
          "base_uri": "https://localhost:8080/"
        },
        "id": "XVNDxicexlch",
        "outputId": "ae95b132-d08c-4c91-8edd-274529a7e22d"
      },
      "source": [
        "import nltk \n",
        "import re\n",
        "from nltk.corpus import stopwords\n",
        "nltk.download('stopwords')\n",
        "nltk.download('wordnet')\n",
        "from nltk.stem import WordNetLemmatizer \n",
        "from nltk.stem import SnowballStemmer\n",
        "\n",
        "stemmer = SnowballStemmer('english')\n",
        "lemmatizer = WordNetLemmatizer() \n",
        "\n",
        "# get stop words from nltk\n",
        "stopWords = stopwords.words('english')\n",
        "\n",
        "# pre processing data\n",
        "def cleanData(sentence):\n",
        "    processedList = \"\"\n",
        "    \n",
        "# Tokenize words\n",
        "    #sentence=nltk.word_tokenize(sentence)\n",
        "    sentence=list(sentence)\n",
        "\n",
        "    \n",
        "    return sentence"
      ],
      "execution_count": 11,
      "outputs": [
        {
          "output_type": "stream",
          "text": [
            "[nltk_data] Downloading package stopwords to /root/nltk_data...\n",
            "[nltk_data]   Package stopwords is already up-to-date!\n",
            "[nltk_data] Downloading package wordnet to /root/nltk_data...\n",
            "[nltk_data]   Unzipping corpora/wordnet.zip.\n"
          ],
          "name": "stdout"
        }
      ]
    },
    {
      "cell_type": "code",
      "metadata": {
        "id": "DOIKvMuqyQ_V"
      },
      "source": [
        "cleanData(df['Sequences'][2])"
      ],
      "execution_count": null,
      "outputs": []
    },
    {
      "cell_type": "code",
      "metadata": {
        "id": "Hrhj7giz6Ozb"
      },
      "source": [
        "# clean data \n",
        "df['Sequences'] = df['Sequences'].map(lambda x: cleanData(x))"
      ],
      "execution_count": 13,
      "outputs": []
    },
    {
      "cell_type": "code",
      "metadata": {
        "colab": {
          "base_uri": "https://localhost:8080/"
        },
        "id": "LlOfQUcR7fRW",
        "outputId": "e600f7b2-52f0-458f-df84-d50c914e8f90"
      },
      "source": [
        "df['Sequences'] "
      ],
      "execution_count": 16,
      "outputs": [
        {
          "output_type": "execute_result",
          "data": {
            "text/plain": [
              "0         [F, R, S, G, I, L, K, L, A, S, K, I, P, S, V, ...\n",
              "1         [G, L, L, N, V, I, K, D, T, A, Q, N, L, F, A, ...\n",
              "2         [L, I, D, H, L, G, A, P, R, W, A, V, D, T, I, ...\n",
              "3         [V, K, E, G, I, E, K, A, G, V, C, P, A, D, N, ...\n",
              "4         [G, L, V, D, V, L, G, K, V, G, G, L, I, K, K, ...\n",
              "                                ...                        \n",
              "172991    [M, N, I, V, K, N, E, L, L, Y, E, G, K, A, K, ...\n",
              "172992    [M, G, L, L, D, N, L, F, G, R, K, Q, Q, N, S, ...\n",
              "172993    [M, R, I, L, G, I, D, Y, G, D, S, R, I, G, V, ...\n",
              "172994    [M, R, H, A, K, A, G, R, K, L, N, R, T, A, S, ...\n",
              "172995    [M, G, N, L, F, V, K, K, P, K, I, T, E, V, D, ...\n",
              "Name: Sequences, Length: 172996, dtype: object"
            ]
          },
          "metadata": {
            "tags": []
          },
          "execution_count": 16
        }
      ]
    },
    {
      "cell_type": "code",
      "metadata": {
        "colab": {
          "base_uri": "https://localhost:8080/"
        },
        "id": "1IQmt0UH20Vr",
        "outputId": "d6dd3566-1e6a-4cc6-d145-b5ae69364947"
      },
      "source": [
        "from sklearn.feature_extraction.text import TfidfVectorizer\n",
        "\n",
        "X=df['Sequences'] \n",
        "y=df['Labels'] \n",
        "\n",
        "def dummy(doc):\n",
        "    return doc\n",
        "\n",
        "vectorizer = TfidfVectorizer(tokenizer=dummy,preprocessor=dummy,lowercase=False)\n",
        "\n",
        "vectorizer.fit(X)\n",
        "\n",
        "x_transform = vectorizer.transform(X).toarray()\n",
        "\n",
        "word = vectorizer.get_feature_names()\n"
      ],
      "execution_count": 29,
      "outputs": [
        {
          "output_type": "stream",
          "text": [
            "/usr/local/lib/python3.7/dist-packages/sklearn/feature_extraction/text.py:507: UserWarning: The parameter 'token_pattern' will not be used since 'tokenizer' is not None'\n",
            "  warnings.warn(\"The parameter 'token_pattern' will not be used\"\n"
          ],
          "name": "stderr"
        }
      ]
    },
    {
      "cell_type": "code",
      "metadata": {
        "id": "EQT-3XruYfhI"
      },
      "source": [
        "x_transform\n",
        "word"
      ],
      "execution_count": null,
      "outputs": []
    },
    {
      "cell_type": "code",
      "metadata": {
        "id": "GFqDMwwB9ZRh",
        "outputId": "b2009e65-b253-4dbc-d477-06f7684ccc62",
        "colab": {
          "base_uri": "https://localhost:8080/",
          "height": 281
        }
      },
      "source": [
        "import numpy as np\n",
        "\n",
        "TFIDF_mean = np.mean(x_transform, axis=0)\n",
        "\n",
        "TFIDF_mean \n",
        "TFIDF_mean = np.array(TFIDF_mean)[0].tolist()\n",
        "\n",
        "# Feature_importance=top_feats(TFIDF_mean ,Word, Imp_Feat)\n",
        "\n",
        "topn_ids = np.argsort(TFIDF_mean)[::-1][:1000]\n",
        "names = np.array(word)\n",
        "# print(names[topn_ids])\n",
        "top_feats = [(word[i], TFIDF_mean[i]) for i in topn_ids]\n",
        "df_feat = pd.DataFrame(top_feats, index=names[topn_ids])\n",
        "df_feat.columns = ['FEATURE', 'Feat_IMP_value']\n",
        "\n",
        "Feature_importance = df_feat\n",
        "df_feat[:150].plot.bar(y='Feat_IMP_value', title='Feature Importances', rot=90)\n",
        "plt.ylabel('Relative Feature Importance  ')\n",
        "New_FI_index = Feature_importance.reset_index()\n",
        "del New_FI_index['index']\n",
        "plt.show()\n",
        "#plt.savefig('feature_Importance.png')"
      ],
      "execution_count": 26,
      "outputs": [
        {
          "output_type": "display_data",
          "data": {
            "image/png": "[encoded data removed]",
            "text/plain": [
              "<Figure size 432x288 with 1 Axes>"
            ]
          },
          "metadata": {
            "tags": [],
            "needs_background": "light"
          }
        }
      ]
    },
    {
      "cell_type": "code",
      "metadata": {
        "id": "cF7197oVEMfW"
      },
      "source": [
        "from sklearn.model_selection import train_test_split\n",
        "\n",
        "X_train, X_test, y_train, y_test = train_test_split(x_transform , y,\n",
        "    stratify=y, \n",
        "    test_size=0.2, shuffle=True)"
      ],
      "execution_count": 21,
      "outputs": []
    },
    {
      "cell_type": "code",
      "metadata": {
        "colab": {
          "base_uri": "https://localhost:8080/"
        },
        "id": "3Rf4Y1nlEz_K",
        "outputId": "82d776cc-0c3e-4393-9d36-559b33b8ec65"
      },
      "source": [
        "from sklearn.ensemble import RandomForestClassifier\n",
        "\n",
        "rfs = RandomForestClassifier()\n",
        "rfs.fit(X_train,y_train)"
      ],
      "execution_count": 22,
      "outputs": [
        {
          "output_type": "execute_result",
          "data": {
            "text/plain": [
              "RandomForestClassifier(bootstrap=True, ccp_alpha=0.0, class_weight=None,\n",
              "                       criterion='gini', max_depth=None, max_features='auto',\n",
              "                       max_leaf_nodes=None, max_samples=None,\n",
              "                       min_impurity_decrease=0.0, min_impurity_split=None,\n",
              "                       min_samples_leaf=1, min_samples_split=2,\n",
              "                       min_weight_fraction_leaf=0.0, n_estimators=100,\n",
              "                       n_jobs=None, oob_score=False, random_state=None,\n",
              "                       verbose=0, warm_start=False)"
            ]
          },
          "metadata": {
            "tags": []
          },
          "execution_count": 22
        }
      ]
    },
    {
      "cell_type": "code",
      "metadata": {
        "id": "bg2bllAZHvv5"
      },
      "source": [
        "Z = rfs.predict(X_test)"
      ],
      "execution_count": 23,
      "outputs": []
    },
    {
      "cell_type": "code",
      "metadata": {
        "colab": {
          "base_uri": "https://localhost:8080/"
        },
        "id": "4aNHrouRIArM",
        "outputId": "3beb1af1-1682-43b2-8c4b-a759bd1f2f05"
      },
      "source": [
        "from sklearn.metrics import accuracy_score, confusion_matrix\n",
        "accuracy_score(y_test, Z)"
      ],
      "execution_count": 32,
      "outputs": [
        {
          "output_type": "execute_result",
          "data": {
            "text/plain": [
              "0.9811271676300578"
            ]
          },
          "metadata": {
            "tags": []
          },
          "execution_count": 32
        }
      ]
    },
    {
      "cell_type": "markdown",
      "metadata": {
        "id": "rc2chsA2du5P"
      },
      "source": [
        "Saved files as 2 categories as text files"
      ]
    },
    {
      "cell_type": "code",
      "metadata": {
        "id": "llz018zmcX0b"
      },
      "source": [
        "!mkdir data_seq\n",
        "!cd data_seq"
      ],
      "execution_count": null,
      "outputs": []
    },
    {
      "cell_type": "code",
      "metadata": {
        "id": "rMftHtV1FuW0"
      },
      "source": [
        "import pandas as pd \n",
        "\n",
        "\n",
        "positive_examples = fasta_to_str_set('AMP_20190407.fa').union(fasta_to_str_set('M_model_train_AMP_sequence.numbered.fasta'))\n",
        "negative_examples = fasta_to_str_set('non_AMP_20190413.fa').union(fasta_to_str_set('M_model_train_nonAMP_sequence.numbered.fasta')) \n",
        "\n",
        "df_p=pd.DataFrame(positive_examples)\n",
        "df_p.to_csv(r'/content/data_seq/positive_examples.txt', header=None, index=None, sep='\\t', mode='a')\n",
        "\n",
        "df_n=pd.DataFrame(positive_examples)\n",
        "df_n.to_csv(r'/content/data_seq/negative_examples.txt', header=None, index=None, sep='\\t', mode='a')\n"
      ],
      "execution_count": null,
      "outputs": []
    },
    {
      "cell_type": "markdown",
      "metadata": {
        "id": "2yeIY_eTcO7l"
      },
      "source": [
        "# Data Preprocessing\n"
      ]
    },
    {
      "cell_type": "code",
      "metadata": {
        "id": "lCxiNY34I1QT"
      },
      "source": [
        "#To Implement"
      ],
      "execution_count": null,
      "outputs": []
    },
    {
      "cell_type": "markdown",
      "metadata": {
        "id": "88ubnKbrE7Q-"
      },
      "source": [
        "# Accessing Data "
      ]
    },
    {
      "cell_type": "code",
      "metadata": {
        "id": "NHDxQ2wHOML_",
        "colab": {
          "base_uri": "https://localhost:8080/"
        },
        "outputId": "f6ee033d-8793-42dc-ae99-90b742867672"
      },
      "source": [
        "from __future__ import unicode_literals, print_function, division\n",
        "from io import open\n",
        "import glob\n",
        "import os\n",
        "import unicodedata\n",
        "import string\n",
        "\n",
        "all_letters = string.ascii_letters + \" .,;'-\"\n",
        "n_letters = len(all_letters) + 1 # Plus EOS marker\n",
        "\n",
        "def findFiles(path): return glob.glob(path)\n",
        "\n",
        "# Turn a Unicode string to plain ASCII, thanks to https://stackoverflow.com/a/518232/2809427\n",
        "def unicodeToAscii(s):\n",
        "    return ''.join(\n",
        "        c for c in unicodedata.normalize('NFD', s)\n",
        "        if unicodedata.category(c) != 'Mn'\n",
        "        and c in all_letters\n",
        "    )\n",
        "\n",
        "# Read a file and split into lines\n",
        "def readLines(filename):\n",
        "    lines = open(filename, encoding='utf-8').read().strip().split('\\n')\n",
        "    return [unicodeToAscii(line) for line in lines]\n",
        "\n",
        "\n",
        "# Build the category_lines dictionary, a list of lines per category\n",
        "category_lines = {}\n",
        "all_categories = []\n",
        "for filename in findFiles('data_seq/*.txt'):\n",
        "    category = os.path.splitext(os.path.basename(filename))[0]\n",
        "    all_categories.append(category)\n",
        "    lines = readLines(filename)\n",
        "    category_lines[category] = lines\n",
        "\n",
        "n_categories = len(all_categories)\n",
        "\n",
        "if n_categories == 0:\n",
        "    raise RuntimeError('Data not found. Make sure that you downloaded data '\n",
        "        'the current directory.')\n",
        "\n",
        "print('# categories:', n_categories, all_categories)\n",
        "#print(category_lines['positive_examples'])"
      ],
      "execution_count": null,
      "outputs": [
        {
          "output_type": "stream",
          "text": [
            "# categories: 2 ['positive_examples', 'negative_examples']\n"
          ],
          "name": "stdout"
        }
      ]
    },
    {
      "cell_type": "markdown",
      "metadata": {
        "id": "AbhdtZQmIulk"
      },
      "source": [
        "#BASELINE MARKOV CHAIN"
      ]
    },
    {
      "cell_type": "code",
      "metadata": {
        "id": "U_e2gJ2DIyRF"
      },
      "source": [
        "#To Implement"
      ],
      "execution_count": null,
      "outputs": []
    },
    {
      "cell_type": "markdown",
      "metadata": {
        "id": "nMotoH_3OMMC"
      },
      "source": [
        "Training\n",
        "=========\n",
        "Preparing for Training\n",
        "----------------------\n",
        "\n",
        "First of all, helper functions to get random pairs of (category, line):\n",
        "\n",
        "\n"
      ]
    },
    {
      "cell_type": "code",
      "metadata": {
        "id": "8x-2uN7FOMMD"
      },
      "source": [
        "import random\n",
        "\n",
        "# Random item from a list\n",
        "def randomChoice(l):\n",
        "    return l[random.randint(0, len(l) - 1)]\n",
        "\n",
        "# Get a random category and random line from that category\n",
        "def randomTrainingPair():\n",
        "    category = randomChoice(all_categories)\n",
        "    line = randomChoice(category_lines[category])\n",
        "    #print(category,line)\n",
        "    return category, line\n",
        "  "
      ],
      "execution_count": null,
      "outputs": []
    },
    {
      "cell_type": "markdown",
      "metadata": {
        "id": "MykP7YNjOMME"
      },
      "source": [
        "For each timestep (that is, for each letter in a training word) the\n",
        "inputs of the network will be\n",
        "``(category, current letter, hidden state)`` and the outputs will be\n",
        "``(next letter, next hidden state)``. So for each training set, we'll\n",
        "need the category, a set of input letters, and a set of output/target\n",
        "letters.\n",
        "\n",
        "Since we are predicting the next letter from the current letter for each\n",
        "timestep, the letter pairs are groups of consecutive letters from the\n",
        "line - e.g. for ``\"ABCD<EOS>\"`` we would create (\"A\", \"B\"), (\"B\", \"C\"),\n",
        "(\"C\", \"D\"), (\"D\", \"EOS\").\n",
        "\n",
        ".. figure:: https://i.imgur.com/JH58tXY.png\n",
        "   :alt:\n",
        "\n",
        "The category tensor is a `one-hot\n",
        "tensor <https://en.wikipedia.org/wiki/One-hot>`__ of size\n",
        "``<1 x n_categories>``. When training we feed it to the network at every\n",
        "timestep - this is a design choice, it could have been included as part\n",
        "of initial hidden state or some other strategy.\n",
        "\n",
        "\n"
      ]
    },
    {
      "cell_type": "code",
      "metadata": {
        "id": "29_HwhnVOMMF"
      },
      "source": [
        "# One-hot vector for category\n",
        "def categoryTensor(category):\n",
        "    li = all_categories.index(category)\n",
        "    tensor = torch.zeros(1, n_categories)\n",
        "    tensor[0][li] = 1\n",
        "    return tensor\n",
        "\n",
        "# One-hot matrix of first to last letters (not including EOS) for input\n",
        "def inputTensor(line):\n",
        "    tensor = torch.zeros(len(line), 1, n_letters)\n",
        "    for li in range(len(line)):\n",
        "        letter = line[li]\n",
        "        tensor[li][0][all_letters.find(letter)] = 1\n",
        "    return tensor\n",
        "\n",
        "# LongTensor of second letter to end (EOS) for target\n",
        "def targetTensor(line):\n",
        "    letter_indexes = [all_letters.find(line[li]) for li in range(1, len(line))]\n",
        "    letter_indexes.append(n_letters - 1) # EOS\n",
        "    return torch.LongTensor(letter_indexes)"
      ],
      "execution_count": null,
      "outputs": []
    },
    {
      "cell_type": "markdown",
      "metadata": {
        "id": "1dJc0_-MOMMF"
      },
      "source": [
        "For convenience during training we'll make a ``randomTrainingExample``\n",
        "function that fetches a random (category, line) pair and turns them into\n",
        "the required (category, input, target) tensors.\n",
        "\n",
        "\n"
      ]
    },
    {
      "cell_type": "code",
      "metadata": {
        "id": "pUXmDbuYOMMF"
      },
      "source": [
        "# Make category, input, and target tensors from a random category, line pair\n",
        "def randomTrainingExample():\n",
        "    category, line = randomTrainingPair()\n",
        "    category_tensor = categoryTensor(category)\n",
        "    input_line_tensor = inputTensor(line)\n",
        "    target_line_tensor = targetTensor(line)\n",
        "    return category_tensor, input_line_tensor, target_line_tensor"
      ],
      "execution_count": null,
      "outputs": []
    },
    {
      "cell_type": "markdown",
      "metadata": {
        "id": "HEJb4M03FahP"
      },
      "source": [
        "#RNN"
      ]
    },
    {
      "cell_type": "markdown",
      "metadata": {
        "id": "AiTy44kJFeZS"
      },
      "source": [
        "This network extends the last tutorial's RNN <#Creating-the-Network>__ with an extra argument for the category tensor, which is concatenated along with the others. The category tensor is a one-hot vector just like the letter input.\n",
        "\n",
        "We will interpret the output as the probability of the next letter. When sampling, the most likely output letter is used as the next input letter.\n",
        "\n",
        "I added a second linear layer o2o (after combining hidden and output) to give it more muscle to work with. There's also a dropout layer, which randomly zeros parts of its input <https://arxiv.org/abs/1207.0580>__ with a given probability (here 0.1) and is usually used to fuzz inputs to prevent overfitting. Here we're using it towards the end of the network to purposely add some chaos and increase sampling variety.\n",
        "\n",
        ".. figure:: https://i.imgur.com/jzVrf7f.png :alt:"
      ]
    },
    {
      "cell_type": "code",
      "metadata": {
        "id": "1ciWJCSfFl5l"
      },
      "source": [
        "import torch\n",
        "import torch.nn as nn\n",
        "\n",
        "class RNN(nn.Module):\n",
        "    def __init__(self, input_size, hidden_size, output_size):\n",
        "        super(RNN, self).__init__()\n",
        "        self.hidden_size = hidden_size\n",
        "\n",
        "        self.i2h = nn.Linear(n_categories + input_size + hidden_size, hidden_size)\n",
        "        self.i2o = nn.Linear(n_categories + input_size + hidden_size, output_size)\n",
        "        self.o2o = nn.Linear(hidden_size + output_size, output_size)\n",
        "        self.dropout = nn.Dropout(0.1)\n",
        "        self.softmax = nn.LogSoftmax(dim=1)\n",
        "\n",
        "    def forward(self, category, input, hidden):\n",
        "        input_combined = torch.cat((category, input, hidden), 1)\n",
        "        hidden = self.i2h(input_combined)\n",
        "        output = self.i2o(input_combined)\n",
        "        output_combined = torch.cat((hidden, output), 1)\n",
        "        output = self.o2o(output_combined)\n",
        "        output = self.dropout(output)\n",
        "        output = self.softmax(output)\n",
        "        return output, hidden\n",
        "\n",
        "    def initHidden(self):\n",
        "        return torch.zeros(1, self.hidden_size)"
      ],
      "execution_count": null,
      "outputs": []
    },
    {
      "cell_type": "markdown",
      "metadata": {
        "id": "l9PFgtK7OMMG"
      },
      "source": [
        "Training the Network\n",
        "--------------------\n",
        "\n",
        "In contrast to classification, where only the last output is used, we\n",
        "are making a prediction at every step, so we are calculating loss at\n",
        "every step.\n",
        "\n",
        "The magic of autograd allows you to simply sum these losses at each step\n",
        "and call backward at the end.\n",
        "\n",
        "\n"
      ]
    },
    {
      "cell_type": "code",
      "metadata": {
        "id": "xXWKm2eCOMMG"
      },
      "source": [
        "criterion = nn.NLLLoss()\n",
        "\n",
        "learning_rate = 0.0005\n",
        "\n",
        "def train(category_tensor, input_line_tensor, target_line_tensor):\n",
        "    target_line_tensor.unsqueeze_(-1)\n",
        "    hidden = rnn.initHidden()\n",
        "\n",
        "    rnn.zero_grad()\n",
        "\n",
        "    loss = 0\n",
        "\n",
        "    for i in range(input_line_tensor.size(0)):\n",
        "        output, hidden = rnn(category_tensor, input_line_tensor[i], hidden)\n",
        "        l = criterion(output, target_line_tensor[i])\n",
        "        loss += l\n",
        "\n",
        "    loss.backward()\n",
        "\n",
        "    for p in rnn.parameters():\n",
        "        p.data.add_(p.grad.data, alpha=-learning_rate)\n",
        "\n",
        "    return output, loss.item() / input_line_tensor.size(0)"
      ],
      "execution_count": null,
      "outputs": []
    },
    {
      "cell_type": "markdown",
      "metadata": {
        "id": "ffvnYhsmOMMH"
      },
      "source": [
        "To keep track of how long training takes I am adding a\n",
        "``timeSince(timestamp)`` function which returns a human readable string:\n",
        "\n",
        "\n"
      ]
    },
    {
      "cell_type": "code",
      "metadata": {
        "id": "vV-tLzjkOMMH"
      },
      "source": [
        "import time\n",
        "import math\n",
        "\n",
        "def timeSince(since):\n",
        "    now = time.time()\n",
        "    s = now - since\n",
        "    m = math.floor(s / 60)\n",
        "    s -= m * 60\n",
        "    return '%dm %ds' % (m, s)"
      ],
      "execution_count": null,
      "outputs": []
    },
    {
      "cell_type": "markdown",
      "metadata": {
        "id": "IMVgELyXOMMH"
      },
      "source": [
        "Training is business as usual - call train a bunch of times and wait a\n",
        "few minutes, printing the current time and loss every ``print_every``\n",
        "examples, and keeping store of an average loss per ``plot_every`` examples\n",
        "in ``all_losses`` for plotting later.\n",
        "\n",
        "\n"
      ]
    },
    {
      "cell_type": "code",
      "metadata": {
        "id": "x0c8I6VoOMMI"
      },
      "source": [
        "rnn = RNN(n_letters, 128, n_letters)\n",
        "\n",
        "n_iters = 10000\n",
        "print_every = 500\n",
        "plot_every = 50\n",
        "all_losses = []\n",
        "total_loss = 0 # Reset every plot_every iters\n",
        "\n",
        "start = time.time()\n",
        "\n",
        "for iter in range(1, n_iters + 1):\n",
        "    output, loss = train(*randomTrainingExample())\n",
        "    total_loss += loss\n",
        "\n",
        "    print(output, loss)\n",
        "\n",
        "    if iter % print_every == 0:\n",
        "        print('%s (%d %d%%) %.4f' % (timeSince(start), iter, iter / n_iters * 100, loss))\n",
        "\n",
        "    if iter % plot_every == 0:\n",
        "        all_losses.append(total_loss / plot_every)\n",
        "        total_loss = 0"
      ],
      "execution_count": null,
      "outputs": []
    },
    {
      "cell_type": "markdown",
      "metadata": {
        "id": "kfjIsVT-OMMI"
      },
      "source": [
        "Plotting the Losses\n",
        "-------------------\n",
        "\n",
        "Plotting the historical loss from all\\_losses shows the network\n",
        "learning:\n",
        "\n",
        "\n"
      ]
    },
    {
      "cell_type": "code",
      "metadata": {
        "id": "3184w7E2OMMJ",
        "colab": {
          "base_uri": "https://localhost:8080/",
          "height": 282
        },
        "outputId": "8375a9a0-82d1-4ca1-ddc6-a133a7b05c87"
      },
      "source": [
        "import matplotlib.pyplot as plt\n",
        "import matplotlib.ticker as ticker\n",
        "\n",
        "plt.figure()\n",
        "plt.plot(all_losses)"
      ],
      "execution_count": null,
      "outputs": [
        {
          "output_type": "execute_result",
          "data": {
            "text/plain": [
              "[<matplotlib.lines.Line2D at 0x7f219956f950>]"
            ]
          },
          "metadata": {
            "tags": []
          },
          "execution_count": 80
        },
        {
          "output_type": "display_data",
          "data": {
            "image/png": "[encoded data removed]",
            "text/plain": [
              "<Figure size 432x288 with 1 Axes>"
            ]
          },
          "metadata": {
            "tags": [],
            "needs_background": "light"
          }
        }
      ]
    },
    {
      "cell_type": "markdown",
      "metadata": {
        "id": "1UgY-mW2OMMJ"
      },
      "source": [
        "Sampling the Network\n",
        "====================\n",
        "\n",
        "To sample we give the network a letter and ask what the next one is,\n",
        "feed that in as the next letter, and repeat until the EOS token.\n",
        "\n",
        "-  Create tensors for input category, starting letter, and empty hidden\n",
        "   state\n",
        "-  Create a string ``output_name`` with the starting letter\n",
        "-  Up to a maximum output length,\n",
        "\n",
        "   -  Feed the current letter to the network\n",
        "   -  Get the next letter from highest output, and next hidden state\n",
        "   -  If the letter is EOS, stop here\n",
        "   -  If a regular letter, add to ``output_name`` and continue\n",
        "\n",
        "-  Return the final name\n",
        "\n",
        ".. Note::\n",
        "   Rather than having to give it a starting letter, another\n",
        "   strategy would have been to include a \"start of string\" token in\n",
        "   training and have the network choose its own starting letter.\n",
        "\n",
        "\n"
      ]
    },
    {
      "cell_type": "code",
      "metadata": {
        "id": "RiqLB97TOMMJ",
        "colab": {
          "base_uri": "https://localhost:8080/"
        },
        "outputId": "13f24322-f0ed-475d-eb49-ce87818e6193"
      },
      "source": [
        "max_length = 100\n",
        "\n",
        "# Sample from a category and starting letter\n",
        "def sample(category, start_letter='A'):\n",
        "    with torch.no_grad():  # no need to track history in sampling\n",
        "        category_tensor = categoryTensor(category)\n",
        "        input = inputTensor(start_letter)\n",
        "        hidden = rnn.initHidden()\n",
        "\n",
        "        output_name = start_letter\n",
        "\n",
        "        for i in range(max_length):\n",
        "            output, hidden = rnn(category_tensor, input[0], hidden)\n",
        "            topv, topi = output.topk(1)\n",
        "            topi = topi[0][0]\n",
        "            if topi == n_letters - 1:\n",
        "                break\n",
        "            else:\n",
        "                letter = all_letters[topi]\n",
        "                output_name += letter\n",
        "            input = inputTensor(letter)\n",
        "\n",
        "        return output_name\n",
        "\n",
        "# Get multiple samples from one category and multiple starting letters\n",
        "def samples(category, start_letters='MNP'):\n",
        "    for start_letter in start_letters:\n",
        "        print(sample(category, start_letter))\n",
        "\n",
        "samples('positive_examples', 'MNP')\n",
        "\n",
        "samples('negative_examples', 'MNP')\n",
        "\n"
      ],
      "execution_count": null,
      "outputs": [
        {
          "output_type": "stream",
          "text": [
            "MLPPIPKPIPPPIPPPIGKCLKKILKKILKKLLKKLAKKLLKKLLKKLLKKLLKKLLKKLLKKLLKKLLKKLLKKLLKKLLKGLGKGLGGLLKKLLKKLLK\n",
            "NLPPIPPPPPRPPPPPPCPPPPPPCPPPPPPPPPPPPPPPPPPPRPPPPPPPPPPPRPPPPPPPPPPPPPRPPPPRPPPPPPPPPPPPPPPPPPPPPPPPP\n",
            "PLPPPPPPPRPPPPRPPPPPPPPPPPPPPPPPPPPPPPPPPPPPPPPPPPPPPPPPPPPPPPPRRPPPRPPPPPPPPPPPPPRPPPPPPPPPPPPPPPPPP\n",
            "MLPGILKKIGKKLGKGLGKLLKKLLKKLAGKLAGKAAKKVAKKAAKKAAKKAAKKAAKKAAKKAAKKAAKKAAKGLGKGLGKLLKKLLKNLGKGLGKLLKK\n",
            "NLPPILKGLGKGLKKAAKKAAKKAAGKAAKKAAKKAAKKAAKKAAKKAGKKAGKGLGKGLGKLAKKIAKKLAKKAAKKAAKKAAGKAAGKAAKGAAKKAAK\n",
            "PLPPPLPPIPKKIGKKIGKGLGKLLKKLLKKAAKGLGKGLGKLAGKAAKKAAKKALKKAAKKVAKKAAKKAAKGLGKKLGKGLKKAAKKAAGKAAKKAAKK\n"
          ],
          "name": "stdout"
        }
      ]
    }
  ]
}
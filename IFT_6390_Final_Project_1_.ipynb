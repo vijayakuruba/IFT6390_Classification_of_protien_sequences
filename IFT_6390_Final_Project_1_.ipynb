{
  "nbformat": 4,
  "nbformat_minor": 0,
  "metadata": {
    "kernelspec": {
      "display_name": "Python 3",
      "language": "python",
      "name": "python3"
    },
    "language_info": {
      "codemirror_mode": {
        "name": "ipython",
        "version": 3
      },
      "file_extension": ".py",
      "mimetype": "text/x-python",
      "name": "python",
      "nbconvert_exporter": "python",
      "pygments_lexer": "ipython3",
      "version": "3.6.12"
    },
    "colab": {
      "name": "IFT 6390_Final_Project -1 .ipynb",
      "provenance": [],
      "collapsed_sections": [],
      "toc_visible": true,
      "machine_shape": "hm",
      "include_colab_link": true
    }
  },
  "cells": [
    {
      "cell_type": "markdown",
      "metadata": {
        "id": "view-in-github",
        "colab_type": "text"
      },
      "source": [
        "<a href=\"https://colab.research.google.com/github/vijayakuruba/IFT6390_Classification_of_AMP_sequences/blob/main/IFT_6390_Final_Project_1_.ipynb\" target=\"_parent\"><img src=\"https://colab.research.google.com/assets/colab-badge.svg\" alt=\"Open In Colab\"/></a>"
      ]
    },
    {
      "cell_type": "markdown",
      "metadata": {
        "id": "9mSwy9yaanTh"
      },
      "source": [
        "# IFT6390: Final Project\n",
        "\n",
        "The final project pertains to the problem of finding novel [antimicrobial peptides](https://en.wikipedia.org/wiki/Antimicrobial_peptides) (AMP) which may turn out to be key in the fight against antibiotics resistance. The World Health Organization qualifies antibiotic resistance as one of the [''biggest threats to global health, food security, and development today''](https://www.who.int/news-room/fact-sheets/detail/antibiotic-resistance).\n",
        "\n",
        "Given the limited time frame of this project, I have scoped down the problems to two main tracks:\n",
        "\n",
        "1. **Classification**: classifying protein sequences as AMP or non-AMP: a binary classification problem\n",
        "  1.1 You are allowed to use Scikit-learn. You need to provide the following baselines: Random Forest, SVM, Neural Network. Use TF-IDF as a baseline feature extractor (you can use sklearn) for each of those.  \n",
        "2. **Generation**: Given a corpus of AMP sequences, learn a character-level language model. You should implement a baseline using a Markov model. Then implement a sequential model using an RNN or LSTM. \n",
        "\n",
        "You should pick one of the two options. Choose your own adventure. You can work in teams of **three people max**."
      ]
    },
    {
      "cell_type": "markdown",
      "metadata": {
        "id": "XHaAlZgaay2P"
      },
      "source": [
        "# Dataset\n",
        "\n",
        "The dataset in this project comes from two open source projects: amPEPpy and AMPlify."
      ]
    },
    {
      "cell_type": "code",
      "metadata": {
        "id": "SPkBZUw2a4Pw"
      },
      "source": [
        "!pip install biopython\n",
        "!wget https://raw.githubusercontent.com/bcgsc/AMPlify/master/data/AMP_20190407.fa\n",
        "!wget https://raw.githubusercontent.com/bcgsc/AMPlify/master/data/non_AMP_20190413.fa\n",
        "!wget https://raw.githubusercontent.com/tlawrence3/amPEPpy/master/training_data/M_model_train_AMP_sequence.numbered.fasta\n",
        "!wget https://raw.githubusercontent.com/tlawrence3/amPEPpy/master/training_data/M_model_train_nonAMP_sequence.numbered.fasta"
      ],
      "execution_count": null,
      "outputs": []
    },
    {
      "cell_type": "code",
      "metadata": {
        "id": "gw9YWiZMa_V-"
      },
      "source": [
        "from Bio import SeqIO\n",
        "import matplotlib.pyplot as plt"
      ],
      "execution_count": null,
      "outputs": []
    },
    {
      "cell_type": "code",
      "metadata": {
        "id": "OJnps8NibCAB"
      },
      "source": [
        "def fasta_to_str_set(name):\n",
        "  return {str(rec.seq) for rec in SeqIO.parse(name, 'fasta')}"
      ],
      "execution_count": null,
      "outputs": []
    },
    {
      "cell_type": "code",
      "metadata": {
        "id": "LNNE4j8BbEIm"
      },
      "source": [
        "positive_examples = fasta_to_str_set('AMP_20190407.fa').union(fasta_to_str_set('M_model_train_AMP_sequence.numbered.fasta'))\n",
        "negative_examples = fasta_to_str_set('non_AMP_20190413.fa').union(fasta_to_str_set('M_model_train_nonAMP_sequence.numbered.fasta'))"
      ],
      "execution_count": null,
      "outputs": []
    },
    {
      "cell_type": "markdown",
      "metadata": {
        "id": "f8RqlzTWbG7M"
      },
      "source": [
        "Once we have merged the two data sources, the positive class has:"
      ]
    },
    {
      "cell_type": "code",
      "metadata": {
        "colab": {
          "base_uri": "https://localhost:8080/"
        },
        "id": "SVGpbwnBbJTP",
        "outputId": "b905cd10-8e1f-458d-b45d-02e237d5bc4b"
      },
      "source": [
        "print(f\"{len(positive_examples)} examples\")"
      ],
      "execution_count": null,
      "outputs": [
        {
          "output_type": "stream",
          "text": [
            "5264 examples\n"
          ],
          "name": "stdout"
        }
      ]
    },
    {
      "cell_type": "markdown",
      "metadata": {
        "id": "f2hwUdjKbM6O"
      },
      "source": [
        "and the negative class (non-AMPs) has:"
      ]
    },
    {
      "cell_type": "code",
      "metadata": {
        "colab": {
          "base_uri": "https://localhost:8080/"
        },
        "id": "lfdCfD9abPcm",
        "outputId": "d48baca4-d52d-408f-f62b-07bbcaf87190"
      },
      "source": [
        "print(f\"{len(negative_examples)} examples\")"
      ],
      "execution_count": null,
      "outputs": [
        {
          "output_type": "stream",
          "text": [
            "167732 examples\n"
          ],
          "name": "stdout"
        }
      ]
    },
    {
      "cell_type": "markdown",
      "metadata": {
        "id": "sZI7wRDpTX7W"
      },
      "source": [
        "Let's have a look at the data. For example, the first AMP and Non AMP in the dataset is:"
      ]
    },
    {
      "cell_type": "code",
      "metadata": {
        "colab": {
          "base_uri": "https://localhost:8080/"
        },
        "id": "z7rnaW4PTWYk",
        "outputId": "87596cf9-c4d3-4e94-f156-5acf964abd5d"
      },
      "source": [
        "print('First AMP sample is : ',list(positive_examples)[0])\n",
        "print('First Non AMP sample is :',list(negative_examples)[0])"
      ],
      "execution_count": null,
      "outputs": [
        {
          "output_type": "stream",
          "text": [
            "First AMP sample is :  FLPIVGRLISGLL\n",
            "First Non AMP sample is : MPARFDCFVTGTDTEIGKTLVSAVLLTRLADAGYRAAGLKPIAAGTLAGAPTRTNEDVEQLRAAASVNLPFDTVCPWLLDAPMSPHLAAAREGVTITLPPILDAFAHARSLADAVVVEGVGGFRVPLSDDFDTAEMAVALGLPVVLVVGLRLGCLNHAALTAEAIAARGLHLAGWVGNVVDPSMAGLDDNVATLRRWINAPHLGTIPRLPHADARLAAAHVDIAPLLARTAETRR\n"
          ],
          "name": "stdout"
        }
      ]
    },
    {
      "cell_type": "markdown",
      "metadata": {
        "id": "DEkWmk9ObVcu"
      },
      "source": [
        "We have 2 challenges here:\n",
        "1. Imbalanced dataset: No of non-AMPs are more way higher than AMP. \n",
        "2. the distribution of the sequence lengths varies a lot between the two classes. "
      ]
    },
    {
      "cell_type": "markdown",
      "metadata": {
        "id": "jFcxUPXFPZ6Z"
      },
      "source": [
        "## Exploratory data Analysis"
      ]
    },
    {
      "cell_type": "code",
      "metadata": {
        "colab": {
          "base_uri": "https://localhost:8080/",
          "height": 298
        },
        "id": "QqXYCrWhPL55",
        "outputId": "848d49e4-4c0e-4fae-dfdf-de4bbe107618"
      },
      "source": [
        "# Visualise samples\n",
        "\n",
        "#Original dataset\n",
        "\n",
        "fig, axes = plt.subplots(1,2)\n",
        "axes[0].hist([len(seq) for seq in positive_examples])\n",
        "axes[0].set_title('Positive Sequence Lengths')\n",
        "axes[1].hist([len(seq) for seq in negative_examples])\n",
        "axes[1].set_title('Negative Sequence Lengths')"
      ],
      "execution_count": null,
      "outputs": [
        {
          "output_type": "execute_result",
          "data": {
            "text/plain": [
              "Text(0.5, 1.0, 'Negative Sequence Lengths')"
            ]
          },
          "metadata": {
            "tags": []
          },
          "execution_count": 106
        },
        {
          "output_type": "display_data",
          "data": {
            "image/png": "[encoded data removed]",
            "text/plain": [
              "<Figure size 432x288 with 2 Axes>"
            ]
          },
          "metadata": {
            "tags": [],
            "needs_background": "light"
          }
        }
      ]
    },
    {
      "cell_type": "markdown",
      "metadata": {
        "id": "pujyM6SaPfw_"
      },
      "source": [
        "## Feature importance\n",
        "Lets see which Amino acid is more important. We have used TFIDI Tokenizor to count the raw frequencies and plotted the features which are more frequent or Important"
      ]
    },
    {
      "cell_type": "code",
      "metadata": {
        "id": "FTQ8UEKiQFUc"
      },
      "source": [
        "#TFIDI Tokenizor: This function will be used downstream\n",
        "\n",
        "def dummy(doc):\n",
        "    return doc\n",
        "tfidf = TfidfVectorizer(tokenizer=dummy,preprocessor=dummy,lowercase=False)  "
      ],
      "execution_count": null,
      "outputs": []
    },
    {
      "cell_type": "code",
      "metadata": {
        "id": "l8TBznTGRBp9"
      },
      "source": [
        "# create Datarame with original dataset\n",
        "\n",
        "# Dataframe with original data\n",
        "\n",
        "import pandas as pd \n",
        "df_orig_p=pd.DataFrame(positive_examples,columns=['Sequences'])\n",
        "df_orig_p['Labels']=1\n",
        "df_orig_n=pd.DataFrame(negative_examples,columns=['Sequences'])\n",
        "df_orig_n['Labels']=0\n",
        "\n",
        "df=pd.DataFrame()\n",
        "df=df.append(df_orig_p,ignore_index=True)\n",
        "df=df.append(df_orig_n,ignore_index=True)\n",
        "print(df.shape)\n",
        "df"
      ],
      "execution_count": null,
      "outputs": []
    },
    {
      "cell_type": "markdown",
      "metadata": {
        "id": "GUjEG6ZrSUKg"
      },
      "source": [
        "This string describes the sequence of amino acids present in the given AMP. There are  20  possible such standard amino acids present in the genetic code. \n",
        "We can see from the plot below that the most frequent amino acid code is Leucine(L) followed by Alanine(A), Valine(V) and Glycine(G)."
      ]
    },
    {
      "cell_type": "code",
      "metadata": {
        "colab": {
          "base_uri": "https://localhost:8080/",
          "height": 281
        },
        "id": "Vrtswz56PfHW",
        "outputId": "2746ae0e-7e82-4ed6-e9f3-e43bbc25120d"
      },
      "source": [
        "#TfidfVectorizer\n",
        "\n",
        "import numpy as np\n",
        "\n",
        "X=df['Sequences']\n",
        "\n",
        "X_transform = tfidf.fit_transform(X)\n",
        "word = tfidf.get_feature_names()\n",
        "\n",
        "TFIDF_mean = np.mean(X_transform, axis=0)\n",
        "\n",
        "TFIDF_mean = np.array(TFIDF_mean)[0].tolist()\n",
        "\n",
        "# Feature_importance=top_feats(TFIDF_mean ,Word, Imp_Feat)\n",
        "\n",
        "topn_ids = np.argsort(TFIDF_mean)[::-1][:1000]\n",
        "names = np.array(word)\n",
        "# print(names[topn_ids])\n",
        "top_feats = [(word[i], TFIDF_mean[i]) for i in topn_ids]\n",
        "df_feat = pd.DataFrame(top_feats, index=names[topn_ids])\n",
        "df_feat.columns = ['FEATURE', 'Feat_IMP_value']\n",
        "\n",
        "Feature_importance = df_feat\n",
        "df_feat[:30].plot.bar(y='Feat_IMP_value', title='Feature Importances', rot=90)\n",
        "plt.ylabel('Relative Feature Importance  ')\n",
        "New_FI_index = Feature_importance.reset_index()\n",
        "del New_FI_index['index']\n",
        "plt.show()\n",
        "#plt.savefig('feature_Importance.png')"
      ],
      "execution_count": null,
      "outputs": [
        {
          "output_type": "display_data",
          "data": {
            "image/png": "[encoded data removed]",
            "text/plain": [
              "<Figure size 432x288 with 1 Axes>"
            ]
          },
          "metadata": {
            "tags": [],
            "needs_background": "light"
          }
        }
      ]
    },
    {
      "cell_type": "markdown",
      "metadata": {
        "id": "v2sbxg0iSlJa"
      },
      "source": [
        "#Construct Non AMP Dataset\n",
        "\n",
        "To addres the issue of the the distribution of the sequence lengths  between the two classes, I have reconstructed non AMP dats such that, I have included only the sequences whose legths are present in AMP sequence. For example samples whose sequence length is 145 is discared since this length is not present in AMP sequence. \n",
        "After this , Non AMP samples are reduced to 109344. \n",
        "\n",
        "Even after this still we have imbalanced dataset issue which will be addressed with Oversampling and Undersampling techniques."
      ]
    },
    {
      "cell_type": "markdown",
      "metadata": {
        "id": "gcSOIznAVkR9"
      },
      "source": [
        "First construct Non AMP samples:"
      ]
    },
    {
      "cell_type": "code",
      "metadata": {
        "colab": {
          "base_uri": "https://localhost:8080/"
        },
        "id": "Kokty1MfLVIY",
        "outputId": "32d77a45-febd-4175-a9b7-1550b171e250"
      },
      "source": [
        "import numpy as np\n",
        "\n",
        "lenp=[]\n",
        "for seq in positive_examples:\n",
        "    lenp.append(len(seq))\n",
        "ulenp=np.unique(lenp)\n",
        "print(ulenp)"
      ],
      "execution_count": null,
      "outputs": [
        {
          "output_type": "stream",
          "text": [
            "[  2   4   5   6   7   8   9  10  11  12  13  14  15  16  17  18  19  20\n",
            "  21  22  23  24  25  26  27  28  29  30  31  32  33  34  35  36  37  38\n",
            "  39  40  41  42  43  44  45  46  47  48  49  50  51  52  53  54  55  56\n",
            "  57  58  59  60  61  62  63  64  65  66  67  68  69  70  71  72  73  74\n",
            "  75  76  77  78  79  80  81  82  83  84  85  86  87  88  89  90  91  92\n",
            "  93  94  95  96  97  98  99 100 101 102 103 104 106 107 108 109 110 111\n",
            " 112 113 114 116 117 118 119 120 121 122 123 124 125 126 127 128 129 130\n",
            " 131 133 134 135 136 137 138 140 141 142 143 146 148 149 150 152 153 154\n",
            " 155 157 158 161 163 164 166 169 172 174 177 183 185 187 188 190 191 192\n",
            " 194 198 200 201 204 206 207 208 215 219 220 221 222 225 226 230 231 235\n",
            " 239 241 243 244 245 247 255]\n"
          ],
          "name": "stdout"
        }
      ]
    },
    {
      "cell_type": "code",
      "metadata": {
        "colab": {
          "base_uri": "https://localhost:8080/"
        },
        "id": "Dj17gzp1OyPe",
        "outputId": "37f4e64f-ca06-4e8a-be78-5880fde44f42"
      },
      "source": [
        "lenn=[]\n",
        "for seq in negative_examples:\n",
        "    lenn.append(len(seq))\n",
        "print(np.unique(lenn))"
      ],
      "execution_count": null,
      "outputs": [
        {
          "output_type": "stream",
          "text": [
            "[  2   3   4   5   6   7   8   9  10  11  12  13  14  15  16  17  18  19\n",
            "  20  21  22  23  24  25  26  27  28  29  30  31  32  33  34  35  36  37\n",
            "  38  39  40  41  42  43  44  45  46  47  48  49  50  51  52  53  54  55\n",
            "  56  57  58  59  60  61  62  63  64  65  66  67  68  69  70  71  72  73\n",
            "  74  75  76  77  78  79  80  81  82  83  84  85  86  87  88  89  90  91\n",
            "  92  93  94  95  96  97  98  99 100 101 102 103 104 105 106 107 108 109\n",
            " 110 111 112 113 114 115 116 117 118 119 120 121 122 123 124 125 126 127\n",
            " 128 129 130 131 132 133 134 135 136 137 138 139 140 141 142 143 144 145\n",
            " 146 147 148 149 150 151 152 153 154 155 156 157 158 159 160 161 162 163\n",
            " 164 165 166 167 168 169 170 171 172 173 174 175 176 177 178 179 180 181\n",
            " 182 183 184 185 186 187 188 189 190 191 192 193 194 195 196 197 198 199\n",
            " 200 201 202 203 204 205 206 207 208 209 210 211 212 213 214 215 216 217\n",
            " 218 219 220 221 222 223 224 225 226 227 228 229 230 231 232 233 234 235\n",
            " 236 237 238 239 240 241 242 243 244 245 246 247 248 249 250 251 252 253\n",
            " 254 255]\n"
          ],
          "name": "stdout"
        }
      ]
    },
    {
      "cell_type": "code",
      "metadata": {
        "colab": {
          "base_uri": "https://localhost:8080/"
        },
        "id": "DSobTIPwRT1K",
        "outputId": "c2e745d4-88b8-4d2d-c31d-114bb658f7a0"
      },
      "source": [
        "negative_examples_new=[]\n",
        "for i in ulenp:\n",
        "    for seq in negative_examples: \n",
        "        if len(seq)==i:\n",
        "           negative_examples_new.append(seq)\n",
        "\n",
        "print(len(negative_examples_new))"
      ],
      "execution_count": null,
      "outputs": [
        {
          "output_type": "stream",
          "text": [
            "109344\n"
          ],
          "name": "stdout"
        }
      ]
    },
    {
      "cell_type": "markdown",
      "metadata": {
        "id": "k3wVrs_yStJO"
      },
      "source": [
        "Lets visualise the samples after reconstructing the negative samples\n",
        "Still we have imbalanced data issue"
      ]
    },
    {
      "cell_type": "code",
      "metadata": {
        "colab": {
          "base_uri": "https://localhost:8080/",
          "height": 298
        },
        "id": "-8uAVlDdbYTw",
        "outputId": "6d176a50-aa55-4a51-f583-7d7087db74fc"
      },
      "source": [
        "# after removing sequences in Non AMP whose length is not in postivie sample \n",
        "\n",
        "fig, axes = plt.subplots(1,2)\n",
        "axes[0].hist([len(seq) for seq in positive_examples])\n",
        "axes[0].set_title('Positive Sequence Lengths')\n",
        "axes[1].hist([len(seq) for seq in negative_examples_new])\n",
        "axes[1].set_title('Negative Sequence Lengths')"
      ],
      "execution_count": null,
      "outputs": [
        {
          "output_type": "execute_result",
          "data": {
            "text/plain": [
              "Text(0.5, 1.0, 'Negative Sequence Lengths')"
            ]
          },
          "metadata": {
            "tags": []
          },
          "execution_count": 117
        },
        {
          "output_type": "display_data",
          "data": {
            "image/png": "[encoded data removed]",
            "text/plain": [
              "<Figure size 432x288 with 2 Axes>"
            ]
          },
          "metadata": {
            "tags": [],
            "needs_background": "light"
          }
        }
      ]
    },
    {
      "cell_type": "code",
      "metadata": {
        "id": "he8snbbCpUDZ"
      },
      "source": [
        "df_recon_n=pd.DataFrame(negative_examples_new,columns=['Sequences'])\n",
        "df_recon_n['Labels']=0"
      ],
      "execution_count": null,
      "outputs": []
    },
    {
      "cell_type": "code",
      "metadata": {
        "colab": {
          "base_uri": "https://localhost:8080/"
        },
        "id": "VbOO1_91wijs",
        "outputId": "82d2169e-1b2d-4058-c921-f911db8b71c2"
      },
      "source": [
        "print('positive_examples shape is:', df_orig_p.shape)\n",
        "print('Original negative_examples shape is:', df_orig_n.shape)\n",
        "print('Reconstructed negative_examples shape is:', df_recon_n.shape)"
      ],
      "execution_count": null,
      "outputs": [
        {
          "output_type": "stream",
          "text": [
            "positive_examples shape is: (5264, 2)\n",
            "Original negative_examples shape is: (167732, 2)\n",
            "Reconstructed negative_examples shape is: (109344, 2)\n"
          ],
          "name": "stdout"
        }
      ]
    },
    {
      "cell_type": "code",
      "metadata": {
        "colab": {
          "base_uri": "https://localhost:8080/",
          "height": 418
        },
        "id": "1S3fKmx8wI_L",
        "outputId": "07291d8d-5ae9-4c36-aa89-171679efb89f"
      },
      "source": [
        "# dataframe with new datset\n",
        "df_new=pd.DataFrame()\n",
        "df_new=df_new.append(df_orig_p,ignore_index=True)\n",
        "df_new=df_new.append(df_recon_n,ignore_index=True)\n",
        "print(df_new.shape)\n",
        "df_new"
      ],
      "execution_count": null,
      "outputs": [
        {
          "output_type": "stream",
          "text": [
            "(114608, 2)\n"
          ],
          "name": "stdout"
        },
        {
          "output_type": "execute_result",
          "data": {
            "text/html": [
              "<div>\n",
              "<style scoped>\n",
              "    .dataframe tbody tr th:only-of-type {\n",
              "        vertical-align: middle;\n",
              "    }\n",
              "\n",
              "    .dataframe tbody tr th {\n",
              "        vertical-align: top;\n",
              "    }\n",
              "\n",
              "    .dataframe thead th {\n",
              "        text-align: right;\n",
              "    }\n",
              "</style>\n",
              "<table border=\"1\" class=\"dataframe\">\n",
              "  <thead>\n",
              "    <tr style=\"text-align: right;\">\n",
              "      <th></th>\n",
              "      <th>Sequences</th>\n",
              "      <th>Labels</th>\n",
              "    </tr>\n",
              "  </thead>\n",
              "  <tbody>\n",
              "    <tr>\n",
              "      <th>0</th>\n",
              "      <td>FLPIVGRLISGLL</td>\n",
              "      <td>1</td>\n",
              "    </tr>\n",
              "    <tr>\n",
              "      <th>1</th>\n",
              "      <td>APQMKTRDVLERTHKCFLVGGECKSECSSWEYEYVFCYTGPCCVMR...</td>\n",
              "      <td>1</td>\n",
              "    </tr>\n",
              "    <tr>\n",
              "      <th>2</th>\n",
              "      <td>KRGLWESLKRKATKLGDDIRNTLRNFKIKFPVPRQG</td>\n",
              "      <td>1</td>\n",
              "    </tr>\n",
              "    <tr>\n",
              "      <th>3</th>\n",
              "      <td>TNYGNGVGVPDAIMAGIIKLIFIFNIRQGYNFGKKAT</td>\n",
              "      <td>1</td>\n",
              "    </tr>\n",
              "    <tr>\n",
              "      <th>4</th>\n",
              "      <td>RADTQTYQPYNKDWIKEKIYVLLRRQAQQAGK</td>\n",
              "      <td>1</td>\n",
              "    </tr>\n",
              "    <tr>\n",
              "      <th>...</th>\n",
              "      <td>...</td>\n",
              "      <td>...</td>\n",
              "    </tr>\n",
              "    <tr>\n",
              "      <th>114603</th>\n",
              "      <td>MRHPLVMGNWKLNGSTHMVNELIANLRKELSTVEGCGVAIAPPAIY...</td>\n",
              "      <td>0</td>\n",
              "    </tr>\n",
              "    <tr>\n",
              "      <th>114604</th>\n",
              "      <td>MPRYKLTIEYDGGPFCGWQYQTNGPSVQGALEAAVKAICGDDVRVH...</td>\n",
              "      <td>0</td>\n",
              "    </tr>\n",
              "    <tr>\n",
              "      <th>114605</th>\n",
              "      <td>MEMVDSCHFSPSEFFYDSSCIPSPEEGYTEDYEHGMSIYGAHKKDL...</td>\n",
              "      <td>0</td>\n",
              "    </tr>\n",
              "    <tr>\n",
              "      <th>114606</th>\n",
              "      <td>MFNLFPPFGANTAIFNDAPQPWQVGFQDGASPTQEGITELHDSIFF...</td>\n",
              "      <td>0</td>\n",
              "    </tr>\n",
              "    <tr>\n",
              "      <th>114607</th>\n",
              "      <td>MSMPFYVSPEQLMKDRADYARKGIARGRSVVVAAYDGGIAFATENP...</td>\n",
              "      <td>0</td>\n",
              "    </tr>\n",
              "  </tbody>\n",
              "</table>\n",
              "<p>114608 rows × 2 columns</p>\n",
              "</div>"
            ],
            "text/plain": [
              "                                                Sequences  Labels\n",
              "0                                           FLPIVGRLISGLL       1\n",
              "1       APQMKTRDVLERTHKCFLVGGECKSECSSWEYEYVFCYTGPCCVMR...       1\n",
              "2                    KRGLWESLKRKATKLGDDIRNTLRNFKIKFPVPRQG       1\n",
              "3                   TNYGNGVGVPDAIMAGIIKLIFIFNIRQGYNFGKKAT       1\n",
              "4                        RADTQTYQPYNKDWIKEKIYVLLRRQAQQAGK       1\n",
              "...                                                   ...     ...\n",
              "114603  MRHPLVMGNWKLNGSTHMVNELIANLRKELSTVEGCGVAIAPPAIY...       0\n",
              "114604  MPRYKLTIEYDGGPFCGWQYQTNGPSVQGALEAAVKAICGDDVRVH...       0\n",
              "114605  MEMVDSCHFSPSEFFYDSSCIPSPEEGYTEDYEHGMSIYGAHKKDL...       0\n",
              "114606  MFNLFPPFGANTAIFNDAPQPWQVGFQDGASPTQEGITELHDSIFF...       0\n",
              "114607  MSMPFYVSPEQLMKDRADYARKGIARGRSVVVAAYDGGIAFATENP...       0\n",
              "\n",
              "[114608 rows x 2 columns]"
            ]
          },
          "metadata": {
            "tags": []
          },
          "execution_count": 123
        }
      ]
    },
    {
      "cell_type": "markdown",
      "metadata": {
        "id": "So_a8rk1pDQ2"
      },
      "source": [
        "#Data Preprocessing\n",
        "\n",
        "Issue of Imbalance data is addressed with Oversampling and undersample techniques"
      ]
    },
    {
      "cell_type": "markdown",
      "metadata": {
        "id": "VRueWhFrnUXD"
      },
      "source": [
        "Imbalanced data is managed with Random oversampling from imblearn, which oversamples the minority class"
      ]
    },
    {
      "cell_type": "code",
      "metadata": {
        "id": "XPeSVDUjaAgE"
      },
      "source": [
        "X = df_new['Sequences']\n",
        "y=  df_new['Labels'] \n"
      ],
      "execution_count": null,
      "outputs": []
    },
    {
      "cell_type": "code",
      "metadata": {
        "id": "RHNekzKobLLP"
      },
      "source": [
        "X = X.values.reshape(-1,1)"
      ],
      "execution_count": null,
      "outputs": []
    },
    {
      "cell_type": "code",
      "metadata": {
        "colab": {
          "base_uri": "https://localhost:8080/"
        },
        "id": "eeUxrmrDgzX0",
        "outputId": "46c2175e-097d-4d24-c7c8-d8f8f9aa225c"
      },
      "source": [
        "from imblearn.over_sampling import RandomOverSampler\n",
        "\n",
        "os =  RandomOverSampler(sampling_strategy='minority')\n",
        "X_res, y_res = os.fit_sample(X , y)"
      ],
      "execution_count": null,
      "outputs": [
        {
          "output_type": "stream",
          "text": [
            "/usr/local/lib/python3.7/dist-packages/sklearn/externals/six.py:31: FutureWarning: The module is deprecated in version 0.21 and will be removed in version 0.23 since we've dropped support for Python 2.7. Please rely on the official version of six (https://pypi.org/project/six/).\n",
            "  \"(https://pypi.org/project/six/).\", FutureWarning)\n",
            "/usr/local/lib/python3.7/dist-packages/sklearn/utils/deprecation.py:144: FutureWarning: The sklearn.neighbors.base module is  deprecated in version 0.22 and will be removed in version 0.24. The corresponding classes / functions should instead be imported from sklearn.neighbors. Anything that cannot be imported from sklearn.neighbors is now part of the private API.\n",
            "  warnings.warn(message, FutureWarning)\n",
            "/usr/local/lib/python3.7/dist-packages/sklearn/utils/deprecation.py:87: FutureWarning: Function safe_indexing is deprecated; safe_indexing is deprecated in version 0.22 and will be removed in version 0.24.\n",
            "  warnings.warn(msg, category=FutureWarning)\n"
          ],
          "name": "stderr"
        }
      ]
    },
    {
      "cell_type": "code",
      "metadata": {
        "colab": {
          "base_uri": "https://localhost:8080/"
        },
        "id": "qVCTegWNg8iB",
        "outputId": "265a25c7-ce7c-4a47-82f5-b45c6b885e38"
      },
      "source": [
        "X_res.shape,y_res.shape"
      ],
      "execution_count": null,
      "outputs": [
        {
          "output_type": "execute_result",
          "data": {
            "text/plain": [
              "((218688, 1), (218688,))"
            ]
          },
          "metadata": {
            "tags": []
          },
          "execution_count": 20
        }
      ]
    },
    {
      "cell_type": "code",
      "metadata": {
        "colab": {
          "base_uri": "https://localhost:8080/"
        },
        "id": "EdgQvNXWiBOe",
        "outputId": "4b656f6f-540c-4fc2-e650-f9db89d6cdb5"
      },
      "source": [
        "from collections import Counter\n",
        "\n",
        "print('Original dataset shape {}'.format(Counter(y)))\n",
        "print('Resampled dataset shape {}'.format(Counter(y_res)))"
      ],
      "execution_count": null,
      "outputs": [
        {
          "output_type": "stream",
          "text": [
            "Original dataset shape Counter({0: 109344, 1: 5264})\n",
            "Resampled dataset shape Counter({1: 109344, 0: 109344})\n"
          ],
          "name": "stdout"
        }
      ]
    },
    {
      "cell_type": "code",
      "metadata": {
        "id": "niZL6-COwaJo"
      },
      "source": [
        "dftrain=pd.DataFrame(X_res)\n",
        "dftrain.columns =['Sequences']\n",
        "dftrain['Labels']=y_res"
      ],
      "execution_count": null,
      "outputs": []
    },
    {
      "cell_type": "code",
      "metadata": {
        "colab": {
          "base_uri": "https://localhost:8080/",
          "height": 402
        },
        "id": "SBeS4fibifcC",
        "outputId": "240f83f6-a1f4-4d9e-8419-eb1a3616c872"
      },
      "source": [
        "dftrain"
      ],
      "execution_count": null,
      "outputs": [
        {
          "output_type": "execute_result",
          "data": {
            "text/html": [
              "<div>\n",
              "<style scoped>\n",
              "    .dataframe tbody tr th:only-of-type {\n",
              "        vertical-align: middle;\n",
              "    }\n",
              "\n",
              "    .dataframe tbody tr th {\n",
              "        vertical-align: top;\n",
              "    }\n",
              "\n",
              "    .dataframe thead th {\n",
              "        text-align: right;\n",
              "    }\n",
              "</style>\n",
              "<table border=\"1\" class=\"dataframe\">\n",
              "  <thead>\n",
              "    <tr style=\"text-align: right;\">\n",
              "      <th></th>\n",
              "      <th>Sequences</th>\n",
              "      <th>Labels</th>\n",
              "    </tr>\n",
              "  </thead>\n",
              "  <tbody>\n",
              "    <tr>\n",
              "      <th>0</th>\n",
              "      <td>FLPIVGRLISGLL</td>\n",
              "      <td>1</td>\n",
              "    </tr>\n",
              "    <tr>\n",
              "      <th>1</th>\n",
              "      <td>APQMKTRDVLERTHKCFLVGGECKSECSSWEYEYVFCYTGPCCVMR...</td>\n",
              "      <td>1</td>\n",
              "    </tr>\n",
              "    <tr>\n",
              "      <th>2</th>\n",
              "      <td>KRGLWESLKRKATKLGDDIRNTLRNFKIKFPVPRQG</td>\n",
              "      <td>1</td>\n",
              "    </tr>\n",
              "    <tr>\n",
              "      <th>3</th>\n",
              "      <td>TNYGNGVGVPDAIMAGIIKLIFIFNIRQGYNFGKKAT</td>\n",
              "      <td>1</td>\n",
              "    </tr>\n",
              "    <tr>\n",
              "      <th>4</th>\n",
              "      <td>RADTQTYQPYNKDWIKEKIYVLLRRQAQQAGK</td>\n",
              "      <td>1</td>\n",
              "    </tr>\n",
              "    <tr>\n",
              "      <th>...</th>\n",
              "      <td>...</td>\n",
              "      <td>...</td>\n",
              "    </tr>\n",
              "    <tr>\n",
              "      <th>218683</th>\n",
              "      <td>IMGPVLGLVSNALGGLLKNL</td>\n",
              "      <td>1</td>\n",
              "    </tr>\n",
              "    <tr>\n",
              "      <th>218684</th>\n",
              "      <td>FFHHIFRGIVHVGKTIHRLVTG</td>\n",
              "      <td>1</td>\n",
              "    </tr>\n",
              "    <tr>\n",
              "      <th>218685</th>\n",
              "      <td>IIGHLIKTALGFLGL</td>\n",
              "      <td>1</td>\n",
              "    </tr>\n",
              "    <tr>\n",
              "      <th>218686</th>\n",
              "      <td>FFPTIAGLTKLFCAITKKC</td>\n",
              "      <td>1</td>\n",
              "    </tr>\n",
              "    <tr>\n",
              "      <th>218687</th>\n",
              "      <td>PKRKSATKGDEPA</td>\n",
              "      <td>1</td>\n",
              "    </tr>\n",
              "  </tbody>\n",
              "</table>\n",
              "<p>218688 rows × 2 columns</p>\n",
              "</div>"
            ],
            "text/plain": [
              "                                                Sequences  Labels\n",
              "0                                           FLPIVGRLISGLL       1\n",
              "1       APQMKTRDVLERTHKCFLVGGECKSECSSWEYEYVFCYTGPCCVMR...       1\n",
              "2                    KRGLWESLKRKATKLGDDIRNTLRNFKIKFPVPRQG       1\n",
              "3                   TNYGNGVGVPDAIMAGIIKLIFIFNIRQGYNFGKKAT       1\n",
              "4                        RADTQTYQPYNKDWIKEKIYVLLRRQAQQAGK       1\n",
              "...                                                   ...     ...\n",
              "218683                               IMGPVLGLVSNALGGLLKNL       1\n",
              "218684                             FFHHIFRGIVHVGKTIHRLVTG       1\n",
              "218685                                    IIGHLIKTALGFLGL       1\n",
              "218686                                FFPTIAGLTKLFCAITKKC       1\n",
              "218687                                      PKRKSATKGDEPA       1\n",
              "\n",
              "[218688 rows x 2 columns]"
            ]
          },
          "metadata": {
            "tags": []
          },
          "execution_count": 23
        }
      ]
    },
    {
      "cell_type": "markdown",
      "metadata": {
        "id": "VNssXYU9axkS"
      },
      "source": [
        "Visualize the new oversampled data"
      ]
    },
    {
      "cell_type": "code",
      "metadata": {
        "id": "DxZnjaY94T0p"
      },
      "source": [
        "#positive_examples=dftrain.query['Labels'==1]\n",
        "\n",
        "options = [1]  \n",
        "    \n",
        "# selecting rows based on condition  \n",
        "datap = dftrain[dftrain['Labels'].isin(options)]  \n",
        "positive_examples=datap['Sequences']"
      ],
      "execution_count": null,
      "outputs": []
    },
    {
      "cell_type": "code",
      "metadata": {
        "colab": {
          "base_uri": "https://localhost:8080/"
        },
        "id": "0PBF6C6eaXqe",
        "outputId": "fac017fe-4db7-4ea0-8f78-67a1654ed15e"
      },
      "source": [
        "positive_examples"
      ],
      "execution_count": null,
      "outputs": [
        {
          "output_type": "execute_result",
          "data": {
            "text/plain": [
              "0                                             FLPIVGRLISGLL\n",
              "1         APQMKTRDVLERTHKCFLVGGECKSECSSWEYEYVFCYTGPCCVMR...\n",
              "2                      KRGLWESLKRKATKLGDDIRNTLRNFKIKFPVPRQG\n",
              "3                     TNYGNGVGVPDAIMAGIIKLIFIFNIRQGYNFGKKAT\n",
              "4                          RADTQTYQPYNKDWIKEKIYVLLRRQAQQAGK\n",
              "                                ...                        \n",
              "218683                                 IMGPVLGLVSNALGGLLKNL\n",
              "218684                               FFHHIFRGIVHVGKTIHRLVTG\n",
              "218685                                      IIGHLIKTALGFLGL\n",
              "218686                                  FFPTIAGLTKLFCAITKKC\n",
              "218687                                        PKRKSATKGDEPA\n",
              "Name: Sequences, Length: 109344, dtype: object"
            ]
          },
          "metadata": {
            "tags": []
          },
          "execution_count": 25
        }
      ]
    },
    {
      "cell_type": "code",
      "metadata": {
        "id": "-DuAzLjqBigS"
      },
      "source": [
        "#positive_examples=dftrain.query['Labels'==1]\n",
        "\n",
        "options = [0]  \n",
        "    \n",
        "# selecting rows based on condition  \n",
        "datan = dftrain[dftrain['Labels'].isin(options)]  \n",
        "negative_examples=datan['Sequences']"
      ],
      "execution_count": null,
      "outputs": []
    },
    {
      "cell_type": "code",
      "metadata": {
        "colab": {
          "base_uri": "https://localhost:8080/"
        },
        "id": "yB3sFVH9aTh_",
        "outputId": "fef92695-10ea-4700-a603-79997926c4cf"
      },
      "source": [
        "negative_examples"
      ],
      "execution_count": null,
      "outputs": [
        {
          "output_type": "execute_result",
          "data": {
            "text/plain": [
              "5264                                                     GW\n",
              "5265                                                   LWSG\n",
              "5266                                                   YMRF\n",
              "5267                                                   FLRF\n",
              "5268                                                   GSWD\n",
              "                                ...                        \n",
              "114603    MRHPLVMGNWKLNGSTHMVNELIANLRKELSTVEGCGVAIAPPAIY...\n",
              "114604    MPRYKLTIEYDGGPFCGWQYQTNGPSVQGALEAAVKAICGDDVRVH...\n",
              "114605    MEMVDSCHFSPSEFFYDSSCIPSPEEGYTEDYEHGMSIYGAHKKDL...\n",
              "114606    MFNLFPPFGANTAIFNDAPQPWQVGFQDGASPTQEGITELHDSIFF...\n",
              "114607    MSMPFYVSPEQLMKDRADYARKGIARGRSVVVAAYDGGIAFATENP...\n",
              "Name: Sequences, Length: 109344, dtype: object"
            ]
          },
          "metadata": {
            "tags": []
          },
          "execution_count": 27
        }
      ]
    },
    {
      "cell_type": "code",
      "metadata": {
        "colab": {
          "base_uri": "https://localhost:8080/",
          "height": 298
        },
        "id": "B4wdQEONA2u7",
        "outputId": "55929452-dda8-4272-a2f6-032169d696f4"
      },
      "source": [
        "\n",
        "fig, axes = plt.subplots(1,2)\n",
        "axes[0].hist([len(seq) for seq in positive_examples])\n",
        "axes[0].set_title('Positive Sequence Lengths')\n",
        "axes[1].hist([len(seq) for seq in negative_examples])\n",
        "axes[1].set_title('Negative Sequence Lengths')"
      ],
      "execution_count": null,
      "outputs": [
        {
          "output_type": "execute_result",
          "data": {
            "text/plain": [
              "Text(0.5, 1.0, 'Negative Sequence Lengths')"
            ]
          },
          "metadata": {
            "tags": []
          },
          "execution_count": 28
        },
        {
          "output_type": "display_data",
          "data": {
            "image/png": "[encoded data removed]",
            "text/plain": [
              "<Figure size 432x288 with 2 Axes>"
            ]
          },
          "metadata": {
            "tags": [],
            "needs_background": "light"
          }
        }
      ]
    },
    {
      "cell_type": "markdown",
      "metadata": {
        "id": "xSKLTjuRzHLO"
      },
      "source": [
        "Here I am using Undersampling techniques with Random undersampling from imblearn, which undersamples the majority class"
      ]
    },
    {
      "cell_type": "code",
      "metadata": {
        "colab": {
          "base_uri": "https://localhost:8080/"
        },
        "id": "1DSpGJX5zHYS",
        "outputId": "f3f5a553-f268-47a4-891f-dae9ac64b051"
      },
      "source": [
        "from imblearn.under_sampling import RandomUnderSampler\n",
        "\n",
        "os =  RandomUnderSampler(sampling_strategy='majority')\n",
        "X_res_u, y_res_u = os.fit_sample(X , y)"
      ],
      "execution_count": null,
      "outputs": [
        {
          "output_type": "stream",
          "text": [
            "/usr/local/lib/python3.7/dist-packages/sklearn/utils/deprecation.py:87: FutureWarning: Function safe_indexing is deprecated; safe_indexing is deprecated in version 0.22 and will be removed in version 0.24.\n",
            "  warnings.warn(msg, category=FutureWarning)\n"
          ],
          "name": "stderr"
        }
      ]
    },
    {
      "cell_type": "code",
      "metadata": {
        "colab": {
          "base_uri": "https://localhost:8080/"
        },
        "id": "rAmIbxJGz184",
        "outputId": "1580cf7a-cd85-4596-8190-3edbda9f1a8b"
      },
      "source": [
        "print('Original dataset shape {}'.format(Counter(y)))\n",
        "print('Resampled dataset shape {}'.format(Counter(y_res_u)))"
      ],
      "execution_count": null,
      "outputs": [
        {
          "output_type": "stream",
          "text": [
            "Original dataset shape Counter({0: 109344, 1: 5264})\n",
            "Resampled dataset shape Counter({0: 5264, 1: 5264})\n"
          ],
          "name": "stdout"
        }
      ]
    },
    {
      "cell_type": "code",
      "metadata": {
        "id": "TxJ81JkJz8x7"
      },
      "source": [
        "dftrain_u=pd.DataFrame(X_res_u)\n",
        "dftrain_u.columns =['Sequences']\n",
        "dftrain_u['Labels']=y_res_u"
      ],
      "execution_count": null,
      "outputs": []
    },
    {
      "cell_type": "markdown",
      "metadata": {
        "id": "YYK9CimX0GJO"
      },
      "source": [
        "Visualize the new oversampled data"
      ]
    },
    {
      "cell_type": "code",
      "metadata": {
        "colab": {
          "base_uri": "https://localhost:8080/",
          "height": 298
        },
        "id": "_2SFuewD0FP2",
        "outputId": "cace415e-393a-4ae1-e84f-492ef7fb34dd"
      },
      "source": [
        "#positive_examples=dftrain.query['Labels'==1]\n",
        " \n",
        "datapu = dftrain_u[dftrain_u['Labels'].isin([1])]  \n",
        "positive_examples=datapu['Sequences']\n",
        " \n",
        "datanu = dftrain_u[dftrain_u['Labels'].isin([0])]  \n",
        "negative_examples=datanu['Sequences']\n",
        "\n",
        "fig, axes = plt.subplots(1,2)\n",
        "axes[0].hist([len(seq) for seq in positive_examples])\n",
        "axes[0].set_title('Positive Sequence Lengths')\n",
        "axes[1].hist([len(seq) for seq in negative_examples])\n",
        "axes[1].set_title('Negative Sequence Lengths')"
      ],
      "execution_count": null,
      "outputs": [
        {
          "output_type": "execute_result",
          "data": {
            "text/plain": [
              "Text(0.5, 1.0, 'Negative Sequence Lengths')"
            ]
          },
          "metadata": {
            "tags": []
          },
          "execution_count": 77
        },
        {
          "output_type": "display_data",
          "data": {
            "image/png": "[encoded data removed]",
            "text/plain": [
              "<Figure size 432x288 with 2 Axes>"
            ]
          },
          "metadata": {
            "tags": [],
            "needs_background": "light"
          }
        }
      ]
    },
    {
      "cell_type": "markdown",
      "metadata": {
        "id": "o_2my11AoWlM"
      },
      "source": [
        "#Tokenize Charecters\n",
        "\n",
        "Tokenize the sequence in to chanrecters"
      ]
    },
    {
      "cell_type": "code",
      "metadata": {
        "id": "XVNDxicexlch"
      },
      "source": [
        "# pre processing data\n",
        "def cleanData(sentence):\n",
        "    processedList = \"\"\n",
        "    \n",
        "# Tokenize sequence to charecters\n",
        "    sentence=list(sentence)\n",
        "  \n",
        "    return sentence"
      ],
      "execution_count": null,
      "outputs": []
    },
    {
      "cell_type": "code",
      "metadata": {
        "id": "TE5DgLbPgLEC"
      },
      "source": [
        "\n",
        "from sklearn.model_selection import KFold\n",
        "from sklearn.model_selection import train_test_split\n",
        "from sklearn.model_selection import GridSearchCV\n",
        "import xgboost\n",
        "from sklearn.ensemble import VotingRegressor\n",
        "from sklearn.model_selection import cross_val_score\n",
        "from sklearn.model_selection import LeaveOneOut\n",
        "from sklearn.metrics import classification_report\n",
        "from sklearn.metrics import accuracy_score, confusion_matrix,roc_auc_score,f1_score\n",
        "from sklearn.svm import SVC\n",
        "\n",
        "\n",
        "from sklearn.ensemble import RandomForestClassifier\n",
        "from sklearn.svm import LinearSVC\n",
        "from sklearn.pipeline import make_pipeline\n",
        "from sklearn.model_selection import cross_val_score\n",
        "from sklearn.model_selection import cross_validate\n",
        "from sklearn.feature_extraction.text import TfidfVectorizer\n",
        "from sklearn.pipeline import Pipeline"
      ],
      "execution_count": null,
      "outputs": []
    },
    {
      "cell_type": "markdown",
      "metadata": {
        "id": "a76ZJQe_gbpI"
      },
      "source": [
        "#Intitialisation"
      ]
    },
    {
      "cell_type": "code",
      "metadata": {
        "id": "o1EmV5YIgikT"
      },
      "source": [
        "# Havent used yet\n",
        "result = pd.DataFrame(columns = (\"classifers\",\"Training\",\"Testing\"))\n",
        "classifier, train_scores, test_scores = [],[],[]"
      ],
      "execution_count": null,
      "outputs": []
    },
    {
      "cell_type": "markdown",
      "metadata": {
        "id": "WQHy9-D-jB4S"
      },
      "source": [
        "#Cross validation "
      ]
    },
    {
      "cell_type": "code",
      "metadata": {
        "id": "pUnQk0HKgo4I"
      },
      "source": [
        "#Cross validation with K fold=5\n",
        "k_fold = KFold(n_splits=5, shuffle=True,random_state=1)"
      ],
      "execution_count": null,
      "outputs": []
    },
    {
      "cell_type": "markdown",
      "metadata": {
        "id": "9wrIuu7QjX7S"
      },
      "source": [
        "#Baselines"
      ]
    },
    {
      "cell_type": "markdown",
      "metadata": {
        "id": "zou8qefXDW_E"
      },
      "source": [
        "Random Forest :  Random forests (Breiman, 2001) is a substantial modification of bagging that builds a large collection of de-correlated trees, and then averages them. Random Forest = Bagging of trees+Random feature selection \n",
        "\n",
        "1. Each decision tree is trained using a slightly different version of the training set, using both by\n",
        "\n",
        "*   Bootstrapping (random selection of examples, withreplacement)\n",
        "*   Randomly selecting a subset of features (reduce the inputdimension)\n",
        "\n",
        "2.\tThe capacity of each tree (i.e. depth) is chosen using cross validation.\n",
        "\n",
        "3.\tThe final prediction is a majority vote, like in Bagging\n",
        "\n",
        "Algorithim:\n",
        "1. For b = 1 to B:\\\n",
        "(a) Draw a bootstrap sample Z∗ of size N from the training data.\\\n",
        "(b) Grow a random-forest tree ${T_b}$ to the bootstrapped data, by recursively repeating the following steps for each terminal node of\n",
        "the tree, until the minimum node size ${n_{min}}$ is reached.\\\n",
        "i. Select m variables at random from the p variables.\\\n",
        "ii. Pick the best variable/split-point among the m.\\\n",
        "iii. Split the node into two daughter nodes.\n",
        "2. Output the ensemble of trees {${T_b}^B_1$} .\\\n",
        "To make a prediction at a new point x:\\\n",
        "Classification: Let $C_b(x)$ be the class prediction of the bth random-forest\n",
        "tree. Then $C^B_{rf} (x) = majority vote$ $[{C^b(x)}]^B_1$  .\n",
        "\n"
      ]
    },
    {
      "cell_type": "markdown",
      "metadata": {
        "id": "EAxJ6Xw2gqyk"
      },
      "source": [
        "##Random Forest Classifier with oversampling data"
      ]
    },
    {
      "cell_type": "code",
      "metadata": {
        "colab": {
          "base_uri": "https://localhost:8080/"
        },
        "id": "34uXjE3OoodI",
        "outputId": "dbead747-6fcd-47a8-97d7-f23d18275cdb"
      },
      "source": [
        "# tokenize charecters\n",
        "dftrain['Sequences']  = dftrain['Sequences'] .map(lambda x: cleanData(x))\n",
        "dftrain['Sequences']"
      ],
      "execution_count": null,
      "outputs": [
        {
          "output_type": "execute_result",
          "data": {
            "text/plain": [
              "0                   [F, L, P, I, V, G, R, L, I, S, G, L, L]\n",
              "1         [A, P, Q, M, K, T, R, D, V, L, E, R, T, H, K, ...\n",
              "2         [K, R, G, L, W, E, S, L, K, R, K, A, T, K, L, ...\n",
              "3         [T, N, Y, G, N, G, V, G, V, P, D, A, I, M, A, ...\n",
              "4         [R, A, D, T, Q, T, Y, Q, P, Y, N, K, D, W, I, ...\n",
              "                                ...                        \n",
              "218683    [I, M, G, P, V, L, G, L, V, S, N, A, L, G, G, ...\n",
              "218684    [F, F, H, H, I, F, R, G, I, V, H, V, G, K, T, ...\n",
              "218685        [I, I, G, H, L, I, K, T, A, L, G, F, L, G, L]\n",
              "218686    [F, F, P, T, I, A, G, L, T, K, L, F, C, A, I, ...\n",
              "218687              [P, K, R, K, S, A, T, K, G, D, E, P, A]\n",
              "Name: Sequences, Length: 218688, dtype: object"
            ]
          },
          "metadata": {
            "tags": []
          },
          "execution_count": 34
        }
      ]
    },
    {
      "cell_type": "code",
      "metadata": {
        "id": "Gf5A_tOb9qPA"
      },
      "source": [
        "rfs = RandomForestClassifier()"
      ],
      "execution_count": null,
      "outputs": []
    },
    {
      "cell_type": "code",
      "metadata": {
        "id": "pxBPOmt29oXf"
      },
      "source": [
        "X_rs=dftrain['Sequences'] \n",
        "y_rs=dftrain['Labels'] "
      ],
      "execution_count": null,
      "outputs": []
    },
    {
      "cell_type": "code",
      "metadata": {
        "id": "JLM11XDMnBFw"
      },
      "source": [
        "X_train, X_test, y_train, y_test = train_test_split(X_rs, y_rs, stratify=y_rs, \n",
        "    test_size=0.2, shuffle=True)"
      ],
      "execution_count": null,
      "outputs": []
    },
    {
      "cell_type": "code",
      "metadata": {
        "id": "CL6q7VjMbCbX"
      },
      "source": [
        "#TFIDI Tokenizor\n",
        "\n",
        "def dummy(doc):\n",
        "    return doc\n",
        "tfidf = TfidfVectorizer(tokenizer=dummy,preprocessor=dummy,lowercase=False)    "
      ],
      "execution_count": null,
      "outputs": []
    },
    {
      "cell_type": "code",
      "metadata": {
        "colab": {
          "base_uri": "https://localhost:8080/"
        },
        "id": "iUlhwYgywJ3w",
        "outputId": "9d204f70-7c64-46d7-be55-640c8965f420"
      },
      "source": [
        "X_train = tfidf.fit_transform(X_train)\n",
        "X_test = tfidf.transform(X_test)\n",
        "\n",
        "rfs.fit(X_train,y_train)\n",
        "y_pred = rfs.predict(X_test)\n",
        "accuracy_score(y_test, y_pred)"
      ],
      "execution_count": null,
      "outputs": [
        {
          "output_type": "execute_result",
          "data": {
            "text/plain": [
              "0.992363619735699"
            ]
          },
          "metadata": {
            "tags": []
          },
          "execution_count": 69
        }
      ]
    },
    {
      "cell_type": "code",
      "metadata": {
        "colab": {
          "base_uri": "https://localhost:8080/"
        },
        "id": "G2-Qt_ZqyOk4",
        "outputId": "7ded7e60-bf21-4d26-9e62-5d307b972d57"
      },
      "source": [
        "print(classification_report(y_test, y_pred))"
      ],
      "execution_count": null,
      "outputs": [
        {
          "output_type": "stream",
          "text": [
            "              precision    recall  f1-score   support\n",
            "\n",
            "           0       1.00      0.98      0.99     21869\n",
            "           1       0.98      1.00      0.99     21869\n",
            "\n",
            "    accuracy                           0.99     43738\n",
            "   macro avg       0.99      0.99      0.99     43738\n",
            "weighted avg       0.99      0.99      0.99     43738\n",
            "\n"
          ],
          "name": "stdout"
        }
      ]
    },
    {
      "cell_type": "markdown",
      "metadata": {
        "id": "3Ohvs9ssyaPz"
      },
      "source": [
        "As we can see , Definetly model is overfitting data"
      ]
    },
    {
      "cell_type": "code",
      "metadata": {
        "id": "6Q-nyoSoFHIb"
      },
      "source": [
        "scores = cross_validate(clf_rf1, X_rs, y_rs, scoring=['accuracy','f1','precision','roc_auc'], cv=k_fold, return_train_score=True)"
      ],
      "execution_count": null,
      "outputs": []
    },
    {
      "cell_type": "code",
      "metadata": {
        "colab": {
          "base_uri": "https://localhost:8080/"
        },
        "id": "tCswhRF6iRv9",
        "outputId": "64f4c7a5-56af-4abe-add2-58ac7716b0f7"
      },
      "source": [
        "print(\"Reg: Test Accuracy: %0.4f (+/- %0.4f)\" % (scores['test_accuracy'].mean(), scores['test_accuracy'].std()))\n",
        "print(\"Reg: Test f1 score: %0.4f (+/- %0.4f)\" % (scores['test_f1'].mean(), scores['test_f1'].std()))\n",
        "print(\"Reg: Test precision: %0.4f (+/- %0.4f)\" % (scores['test_precision'].mean(), scores['test_precision'].std()))\n",
        "print(\"Reg: Test roc_auc: %0.4f (+/- %0.4f)\" % (scores['test_roc_auc'].mean(), scores['test_roc_auc'].std()))"
      ],
      "execution_count": null,
      "outputs": [
        {
          "output_type": "stream",
          "text": [
            "Reg: Test Accuracy: 0.9928 (+/- 0.0003)\n",
            "Reg: Test f1 score: 0.9929 (+/- 0.0003)\n",
            "Reg: Test precision: 0.9859 (+/- 0.0006)\n",
            "Reg: Test roc_auc: 0.9953 (+/- 0.0002)\n"
          ],
          "name": "stdout"
        }
      ]
    },
    {
      "cell_type": "markdown",
      "metadata": {
        "id": "XzgmasMqypmp"
      },
      "source": [
        "##Random Forest Classifier with Undersampling data"
      ]
    },
    {
      "cell_type": "code",
      "metadata": {
        "colab": {
          "base_uri": "https://localhost:8080/"
        },
        "id": "3asuqxHWjMuz",
        "outputId": "0a7a2dea-27c4-4a26-a3f2-a30a669064de"
      },
      "source": [
        "# tokenize charecters\n",
        "dftrain_u['Sequences']  = dftrain_u['Sequences'] .map(lambda x: cleanData(x))\n",
        "dftrain_u['Sequences']"
      ],
      "execution_count": null,
      "outputs": [
        {
          "output_type": "execute_result",
          "data": {
            "text/plain": [
              "0        [M, R, T, E, Q, L, T, A, K, A, M, E, K, V, N, ...\n",
              "1        [M, A, A, A, Q, V, K, N, E, K, I, G, N, P, K, ...\n",
              "2        [M, K, N, L, I, K, N, K, I, K, L, S, T, Y, N, ...\n",
              "3        [M, I, R, R, R, K, K, V, R, K, L, R, G, S, H, ...\n",
              "4        [M, A, I, L, A, K, A, V, G, R, R, K, E, A, V, ...\n",
              "                               ...                        \n",
              "10523    [G, L, W, S, K, I, K, E, V, G, K, E, A, A, K, ...\n",
              "10524    [V, L, E, V, Y, Y, T, S, L, R, C, R, C, V, Q, ...\n",
              "10525                 [G, I, H, R, I, L, K, Y, G, K, P, S]\n",
              "10526    [K, L, G, I, D, V, S, Q, P, T, S, T, S, S, F, ...\n",
              "10527                       [G, G, G, G, G, G, H, L, V, A]\n",
              "Name: Sequences, Length: 10528, dtype: object"
            ]
          },
          "metadata": {
            "tags": []
          },
          "execution_count": 78
        }
      ]
    },
    {
      "cell_type": "code",
      "metadata": {
        "id": "Io0UUDs908m-"
      },
      "source": [
        "X_rsu=dftrain_u['Sequences'] \n",
        "y_rsu=dftrain_u['Labels'] "
      ],
      "execution_count": null,
      "outputs": []
    },
    {
      "cell_type": "code",
      "metadata": {
        "id": "PYONUPZW1Dyq"
      },
      "source": [
        "X_train, X_test, y_train, y_test = train_test_split(X_rsu, y_rsu, stratify=y_rsu, \n",
        "    test_size=0.2, shuffle=True)"
      ],
      "execution_count": null,
      "outputs": []
    },
    {
      "cell_type": "code",
      "metadata": {
        "colab": {
          "base_uri": "https://localhost:8080/"
        },
        "id": "mr4tJ2Hc1I8F",
        "outputId": "8cf649a8-b8b2-4836-ca73-b0e8abdc8d59"
      },
      "source": [
        "X_train = tfidf.fit_transform(X_train)\n",
        "X_test = tfidf.transform(X_test)\n",
        "\n",
        "rfs.fit(X_train,y_train)\n",
        "y_pred = rfs.predict(X_test)\n",
        "accuracy_score(y_test, y_pred)"
      ],
      "execution_count": null,
      "outputs": [
        {
          "output_type": "execute_result",
          "data": {
            "text/plain": [
              "0.9344729344729344"
            ]
          },
          "metadata": {
            "tags": []
          },
          "execution_count": 82
        }
      ]
    },
    {
      "cell_type": "code",
      "metadata": {
        "colab": {
          "base_uri": "https://localhost:8080/"
        },
        "id": "YrrQyGSe1VUC",
        "outputId": "32886c60-8f0e-4acf-efd8-7be2f50037ad"
      },
      "source": [
        "print(classification_report(y_test, y_pred))"
      ],
      "execution_count": null,
      "outputs": [
        {
          "output_type": "stream",
          "text": [
            "              precision    recall  f1-score   support\n",
            "\n",
            "           0       0.94      0.93      0.93      1053\n",
            "           1       0.93      0.94      0.94      1053\n",
            "\n",
            "    accuracy                           0.93      2106\n",
            "   macro avg       0.93      0.93      0.93      2106\n",
            "weighted avg       0.93      0.93      0.93      2106\n",
            "\n"
          ],
          "name": "stdout"
        }
      ]
    },
    {
      "cell_type": "markdown",
      "metadata": {
        "id": "Mvx0itSQ1iiX"
      },
      "source": [
        "Since the data is less, I would like to see the effects of hyperparameters"
      ]
    },
    {
      "cell_type": "code",
      "metadata": {
        "colab": {
          "base_uri": "https://localhost:8080/"
        },
        "id": "_Zogw3XN1ivz",
        "outputId": "42b791d1-fb2c-49ac-fb52-1d76cb0cf4ff"
      },
      "source": [
        "X_train, X_test, y_train, y_test = train_test_split(X_rsu, y_rsu, stratify=y_rsu, \n",
        "    test_size=0.2, shuffle=True)\n",
        "\n",
        "\n",
        "parameters = {\n",
        "  'model__max_depth': [None,10,20,50],\n",
        "  'model__n_estimators':[100,500,1000,1500,2000]\n",
        "  }\n",
        "\n",
        "pipeline = Pipeline([('tfidf', tfidf),('model',rfs)])\n",
        "\n",
        "grid = GridSearchCV(pipeline, cv=k_fold, n_jobs=-1, param_grid=parameters)\n",
        "grid.fit(X_train, y_train)\n",
        "print('finished')\n",
        "\n"
      ],
      "execution_count": null,
      "outputs": [
        {
          "output_type": "stream",
          "text": [
            "finished\n"
          ],
          "name": "stdout"
        }
      ]
    },
    {
      "cell_type": "code",
      "metadata": {
        "id": "1lleEOMt3V85"
      },
      "source": [
        "#to try with few more parameters, Not tried\n",
        "parameters = {\n",
        "  'model__n_estimators':[100,500,1000,1500,3500],\n",
        "  'model__max_features': ['auto', 'sqrt', 'log2'],\n",
        "  'model__min_samples_split': [2,5,10,15,20],\n",
        "  'model__max_depth': [None,10,20,30,40,50],\n",
        "  'model__min_samples_leaf' : [1,2,5,10,15]\n",
        "  }"
      ],
      "execution_count": null,
      "outputs": []
    },
    {
      "cell_type": "code",
      "metadata": {
        "colab": {
          "base_uri": "https://localhost:8080/"
        },
        "id": "pDszOjz5BA3P",
        "outputId": "fc00b8a1-fa02-4101-e1a8-0048c717699c"
      },
      "source": [
        "print(\"Best parameters set found on development set:\")\n",
        "print()\n",
        "print(grid.best_params_)"
      ],
      "execution_count": null,
      "outputs": [
        {
          "output_type": "stream",
          "text": [
            "Best parameters set found on development set:\n",
            "\n",
            "{'model__max_depth': None, 'model__n_estimators': 500}\n"
          ],
          "name": "stdout"
        }
      ]
    },
    {
      "cell_type": "code",
      "metadata": {
        "colab": {
          "base_uri": "https://localhost:8080/"
        },
        "id": "AzVQC8JoBHix",
        "outputId": "a8c966cd-b3c7-4495-bbb0-62b89e1d248c"
      },
      "source": [
        "print(\"Grid scores on development set:\")\n",
        "print()\n",
        "means = grid.cv_results_['mean_test_score']\n",
        "stds = grid.cv_results_['std_test_score']\n",
        "for mean, std, params in zip(means, stds, grid.cv_results_['params']):\n",
        "    print(\"%0.3f (+/-%0.03f) for %r\"\n",
        "          % (mean, std * 2, params))"
      ],
      "execution_count": null,
      "outputs": [
        {
          "output_type": "stream",
          "text": [
            "Grid scores on development set:\n",
            "\n",
            "0.936 (+/-0.013) for {'model__max_depth': None, 'model__n_estimators': 100}\n",
            "0.936 (+/-0.010) for {'model__max_depth': None, 'model__n_estimators': 500}\n",
            "0.936 (+/-0.011) for {'model__max_depth': None, 'model__n_estimators': 1000}\n",
            "0.936 (+/-0.012) for {'model__max_depth': None, 'model__n_estimators': 1500}\n",
            "0.935 (+/-0.011) for {'model__max_depth': None, 'model__n_estimators': 2000}\n",
            "0.932 (+/-0.010) for {'model__max_depth': 10, 'model__n_estimators': 100}\n",
            "0.931 (+/-0.011) for {'model__max_depth': 10, 'model__n_estimators': 500}\n",
            "0.931 (+/-0.008) for {'model__max_depth': 10, 'model__n_estimators': 1000}\n",
            "0.931 (+/-0.010) for {'model__max_depth': 10, 'model__n_estimators': 1500}\n",
            "0.930 (+/-0.010) for {'model__max_depth': 10, 'model__n_estimators': 2000}\n",
            "0.935 (+/-0.014) for {'model__max_depth': 20, 'model__n_estimators': 100}\n",
            "0.935 (+/-0.011) for {'model__max_depth': 20, 'model__n_estimators': 500}\n",
            "0.935 (+/-0.011) for {'model__max_depth': 20, 'model__n_estimators': 1000}\n",
            "0.935 (+/-0.011) for {'model__max_depth': 20, 'model__n_estimators': 1500}\n",
            "0.935 (+/-0.011) for {'model__max_depth': 20, 'model__n_estimators': 2000}\n",
            "0.934 (+/-0.010) for {'model__max_depth': 50, 'model__n_estimators': 100}\n",
            "0.935 (+/-0.009) for {'model__max_depth': 50, 'model__n_estimators': 500}\n",
            "0.936 (+/-0.010) for {'model__max_depth': 50, 'model__n_estimators': 1000}\n",
            "0.936 (+/-0.011) for {'model__max_depth': 50, 'model__n_estimators': 1500}\n",
            "0.935 (+/-0.011) for {'model__max_depth': 50, 'model__n_estimators': 2000}\n"
          ],
          "name": "stdout"
        }
      ]
    },
    {
      "cell_type": "code",
      "metadata": {
        "colab": {
          "base_uri": "https://localhost:8080/",
          "height": 69
        },
        "id": "wrdMWGEuBf6M",
        "outputId": "145fcdaf-b218-47c8-f194-c7afa2542d6e"
      },
      "source": [
        "classification_report(grid.best_estimator_.predict(X_test), y_test)\n"
      ],
      "execution_count": null,
      "outputs": [
        {
          "output_type": "execute_result",
          "data": {
            "application/vnd.google.colaboratory.intrinsic+json": {
              "type": "string"
            },
            "text/plain": [
              "'              precision    recall  f1-score   support\\n\\n           0       0.92      0.94      0.93      1033\\n           1       0.94      0.93      0.94      1073\\n\\n    accuracy                           0.93      2106\\n   macro avg       0.93      0.93      0.93      2106\\nweighted avg       0.93      0.93      0.93      2106\\n'"
            ]
          },
          "metadata": {
            "tags": []
          },
          "execution_count": 100
        }
      ]
    },
    {
      "cell_type": "code",
      "metadata": {
        "id": "JloQZ0FitRCo"
      },
      "source": [
        ""
      ],
      "execution_count": null,
      "outputs": []
    },
    {
      "cell_type": "markdown",
      "metadata": {
        "id": "XAfcR181q9t3"
      },
      "source": [
        "##SMOTE\n",
        "This is another Technnique in oversampling :  we can try later\n",
        "This has to be done after transform data"
      ]
    },
    {
      "cell_type": "code",
      "metadata": {
        "colab": {
          "base_uri": "https://localhost:8080/"
        },
        "id": "ZF_jkI21rD5-",
        "outputId": "96d42461-7d6e-4465-89d8-e8b9ae9c54ec"
      },
      "source": [
        "# tokenize charecters\n",
        "df['Sequences']  = df['Sequences'] .map(lambda x: cleanData(x))0"
      ],
      "execution_count": null,
      "outputs": [
        {
          "output_type": "execute_result",
          "data": {
            "text/plain": [
              "0         [R, T, C, E, N, L, A, D, K, Y, R, G, P, C, F, ...\n",
              "1         [V, F, G, T, L, G, S, T, D, D, S, L, F, G, R, ...\n",
              "2         [G, I, F, S, K, K, A, G, K, G, F, K, K, K, S, ...\n",
              "3         [R, I, G, S, F, L, G, A, L, A, S, K, L, P, T, ...\n",
              "4                      [G, I, H, D, I, L, K, Y, G, K, P, A]\n",
              "                                ...                        \n",
              "114603    [M, E, K, C, E, G, I, V, I, R, Q, T, S, Y, R, ...\n",
              "114604    [M, D, R, L, V, I, G, G, R, E, L, K, N, R, L, ...\n",
              "114605    [M, K, V, K, V, F, D, L, N, G, Q, P, V, D, E, ...\n",
              "114606    [M, S, T, N, L, H, W, Q, S, F, G, Q, G, P, D, ...\n",
              "114607    [M, Q, L, T, N, K, K, I, V, V, T, G, V, S, S, ...\n",
              "Name: Sequences, Length: 114608, dtype: object"
            ]
          },
          "metadata": {
            "tags": []
          },
          "execution_count": 300
        }
      ]
    },
    {
      "cell_type": "code",
      "metadata": {
        "colab": {
          "base_uri": "https://localhost:8080/"
        },
        "id": "uHPHAQM8rLwk",
        "outputId": "9b4672ae-8ba6-4f33-c662-2f18f2eb2026"
      },
      "source": [
        "#TfidfVectorizer\n",
        "\n",
        "X_s=df['Sequences'] \n",
        "y_s=df['Labels'] \n",
        "\n",
        "x_transform_s,word_s = tfdi(X_s)"
      ],
      "execution_count": null,
      "outputs": [
        {
          "output_type": "stream",
          "text": [
            "/usr/local/lib/python3.7/dist-packages/sklearn/feature_extraction/text.py:507: UserWarning: The parameter 'token_pattern' will not be used since 'tokenizer' is not None'\n",
            "  warnings.warn(\"The parameter 'token_pattern' will not be used\"\n"
          ],
          "name": "stderr"
        }
      ]
    },
    {
      "cell_type": "code",
      "metadata": {
        "colab": {
          "base_uri": "https://localhost:8080/"
        },
        "id": "d1DIAxFHsH28",
        "outputId": "2235ed83-8a18-42bf-d5b2-bd7bdb44c602"
      },
      "source": [
        "# Imbalance data with SMOTE\n",
        "from imblearn.over_sampling import SMOTE\n",
        "\n",
        "sm =  SMOTE(sampling_strategy='minority')\n",
        "X_res_s, y_res_s = sm.fit_sample(x_transform_s , y_s)"
      ],
      "execution_count": null,
      "outputs": [
        {
          "output_type": "stream",
          "text": [
            "/usr/local/lib/python3.7/dist-packages/sklearn/utils/deprecation.py:87: FutureWarning: Function safe_indexing is deprecated; safe_indexing is deprecated in version 0.22 and will be removed in version 0.24.\n",
            "  warnings.warn(msg, category=FutureWarning)\n"
          ],
          "name": "stderr"
        }
      ]
    },
    {
      "cell_type": "code",
      "metadata": {
        "colab": {
          "base_uri": "https://localhost:8080/"
        },
        "id": "fSpNyqqysYfW",
        "outputId": "72c41287-9e74-41e0-85ae-1d52acc3f866"
      },
      "source": [
        "print('Original dataset shape {}'.format(Counter(y_s)))\n",
        "print('Resampled dataset shape {}'.format(Counter(y_res_s)))"
      ],
      "execution_count": null,
      "outputs": [
        {
          "output_type": "stream",
          "text": [
            "Original dataset shape Counter({0: 109344, 1: 5264})\n",
            "Resampled dataset shape Counter({1: 109344, 0: 109344})\n"
          ],
          "name": "stdout"
        }
      ]
    },
    {
      "cell_type": "code",
      "metadata": {
        "id": "aOH3jYL1qePj"
      },
      "source": [
        "# SMOTE data\n",
        "\n",
        "X_train, X_test, y_train, y_test = train_test_split(X_res_s, y_res_s,\n",
        "    stratify=y_res_s, \n",
        "    test_size=0.2, shuffle=True)"
      ],
      "execution_count": null,
      "outputs": []
    },
    {
      "cell_type": "code",
      "metadata": {
        "colab": {
          "base_uri": "https://localhost:8080/"
        },
        "id": "xOmbCQQQr1YV",
        "outputId": "3b61a6da-071a-4d84-be2d-34d7f908aced"
      },
      "source": [
        "rfs = RandomForestClassifier()\n",
        "rfs.fit(X_train,y_train)\n",
        "y_pred = rfs.predict(X_test)\n",
        "accuracy_score(y_test, y_pred)"
      ],
      "execution_count": null,
      "outputs": [
        {
          "output_type": "execute_result",
          "data": {
            "text/plain": [
              "0.9807718688554575"
            ]
          },
          "metadata": {
            "tags": []
          },
          "execution_count": 310
        }
      ]
    },
    {
      "cell_type": "code",
      "metadata": {
        "colab": {
          "base_uri": "https://localhost:8080/"
        },
        "id": "hpGjqj1jvVW2",
        "outputId": "e3977b94-fd2f-4afe-8257-cf2d024c080b"
      },
      "source": [
        "from sklearn.metrics import scorer, accuracy_score, f1_score, confusion_matrix, roc_auc_score\n",
        "print('ROCAUC score:',roc_auc_score(y_test, y_pred))\n",
        "print('Accuracy score:',accuracy_score(y_test, y_pred))\n",
        "print('F1 score:',f1_score(y_test, y_pred))"
      ],
      "execution_count": null,
      "outputs": [
        {
          "output_type": "stream",
          "text": [
            "ROCAUC score: 0.9807718688554574\n",
            "Accuracy score: 0.9807718688554575\n",
            "F1 score: 0.980823167255729\n"
          ],
          "name": "stdout"
        },
        {
          "output_type": "stream",
          "text": [
            "/usr/local/lib/python3.7/dist-packages/sklearn/utils/deprecation.py:144: FutureWarning: The sklearn.metrics.scorer module is  deprecated in version 0.22 and will be removed in version 0.24. The corresponding classes / functions should instead be imported from sklearn.metrics. Anything that cannot be imported from sklearn.metrics is now part of the private API.\n",
            "  warnings.warn(message, FutureWarning)\n"
          ],
          "name": "stderr"
        }
      ]
    },
    {
      "cell_type": "code",
      "metadata": {
        "colab": {
          "base_uri": "https://localhost:8080/"
        },
        "id": "x4K3Ar9-vtBG",
        "outputId": "37bd018e-3677-4baf-eef2-a8d12d95a524"
      },
      "source": [
        "from sklearn.metrics import classification_report\n",
        "print(classification_report(y_test, y_pred))"
      ],
      "execution_count": null,
      "outputs": [
        {
          "output_type": "stream",
          "text": [
            "              precision    recall  f1-score   support\n",
            "\n",
            "           0       0.98      0.98      0.98     21869\n",
            "           1       0.98      0.98      0.98     21869\n",
            "\n",
            "    accuracy                           0.98     43738\n",
            "   macro avg       0.98      0.98      0.98     43738\n",
            "weighted avg       0.98      0.98      0.98     43738\n",
            "\n"
          ],
          "name": "stdout"
        }
      ]
    },
    {
      "cell_type": "markdown",
      "metadata": {
        "id": "X9IdaQLThOC7"
      },
      "source": [
        "##SVM classifier"
      ]
    },
    {
      "cell_type": "markdown",
      "metadata": {
        "id": "C5pHllRmTFBL"
      },
      "source": [
        "![image.png](data:image/png;base64,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)"
      ]
    },
    {
      "cell_type": "markdown",
      "metadata": {
        "id": "NADfDnQeTMk4"
      },
      "source": [
        "SVM algorithm learns a simple linear discriminant function g(x) =(w, x)+ b\n",
        "\n",
        "• Finds a hyperplane, with geometric motivation of aim for maximum margin.\n",
        "\n",
        "• It is very popular method in its lienar and Nonlinear form. Nonlinear version uses the kernel trick.\n",
        "\n",
        "Linear Model:\n",
        "\\begin{equation}\n",
        " f(x) = \\mathbf{w}^T \\mathbf{x} + b   \n",
        "\\end{equation}\n",
        "On Hyper plane :\n",
        "\\begin{equation}\n",
        "f(x) =\\mathbf{w}^T \\mathbf{x} + b=0    \n",
        "\\end{equation}\n",
        "Constraints are:\n",
        "\\begin{equation}\n",
        " \\mathbf{w}^T \\mathbf{x_i} + b\\geq 1 \\quad \\text{if} \\quad y_i=1 \n",
        " \\end{equation}\n",
        "\\begin{equation}\n",
        " \\mathbf{w}^T \\mathbf{x_i} + b\\leq -1 \\quad \\text{if} \\quad y_i=-1   \n",
        "\\end{equation}\n",
        "\n",
        "In general \n",
        "\\begin{equation}\n",
        "    y_i(\\mathbf{w}^T \\mathbf{x_i} + b)\\geq 1 \\quad \\forall \\quad i \\in 1...N \n",
        "\\end{equation}\n",
        "\n",
        "Let $x_1$ be the point on boundary and $x_2$ be  the projection on hyperplane\n",
        "\\begin{equation}\n",
        "     \\mathbf{x_1-x_2} =\\gamma  \\frac{\\mathbf{w}}{\\| \\mathbf{w}\\|} \n",
        "\\end{equation}\n",
        "\n",
        "\n"
      ]
    },
    {
      "cell_type": "markdown",
      "metadata": {
        "id": "sQxgJypN27cR"
      },
      "source": [
        "### Penalized SVM\n",
        "\n",
        " Penalize Algorithms (Cost-Sensitive Training)\n",
        "The tactic is to use penalized learning algorithms that increase the cost of classification mistakes on the minority class.\n",
        "\n",
        "A popular algorithm for this technique is Penalized-SVM.\n",
        "\n",
        "During training, we can use the argument class_weight=’balanced’ to penalize mistakes on the minority class by an amount proportional to how under-represented it is.\n",
        "\n",
        "We also want to include the argument probability=True if we want to enable probability estimates for SVM algorithms.\n",
        "\n",
        "Let’s train a model using Penalized-SVM on the **original imbalanced dataset**:"
      ]
    },
    {
      "cell_type": "code",
      "metadata": {
        "colab": {
          "base_uri": "https://localhost:8080/"
        },
        "id": "65D14TK86HeQ",
        "outputId": "1f23cccc-8998-40ed-c6f4-17f89547af36"
      },
      "source": [
        "#Take dataframe with original dataset\n",
        "\n",
        "# tokenize charecters\n",
        "df['Sequences']  = df['Sequences'] .map(lambda x: cleanData(x))\n",
        "print(df['Sequences'].shape)\n",
        "df['Sequences']"
      ],
      "execution_count": null,
      "outputs": [
        {
          "output_type": "stream",
          "text": [
            "(172996,)\n"
          ],
          "name": "stdout"
        },
        {
          "output_type": "execute_result",
          "data": {
            "text/plain": [
              "0                   [F, L, P, I, V, G, R, L, I, S, G, L, L]\n",
              "1         [A, P, Q, M, K, T, R, D, V, L, E, R, T, H, K, ...\n",
              "2         [K, R, G, L, W, E, S, L, K, R, K, A, T, K, L, ...\n",
              "3         [T, N, Y, G, N, G, V, G, V, P, D, A, I, M, A, ...\n",
              "4         [R, A, D, T, Q, T, Y, Q, P, Y, N, K, D, W, I, ...\n",
              "                                ...                        \n",
              "172991    [M, H, E, M, S, I, A, E, G, I, V, Q, L, L, E, ...\n",
              "172992    [M, A, P, K, K, K, E, V, T, R, I, A, K, L, N, ...\n",
              "172993    [M, P, L, D, V, A, L, K, K, K, Y, Y, D, E, V, ...\n",
              "172994    [M, I, G, L, N, H, Y, L, I, V, S, G, L, L, F, ...\n",
              "172995    [M, E, L, K, L, S, N, E, K, G, E, A, A, G, Q, ...\n",
              "Name: Sequences, Length: 172996, dtype: object"
            ]
          },
          "metadata": {
            "tags": []
          },
          "execution_count": 143
        }
      ]
    },
    {
      "cell_type": "code",
      "metadata": {
        "id": "MbORkfUpZMHr"
      },
      "source": [
        "X=df['Sequences']\n",
        "y=df['Labels'] "
      ],
      "execution_count": null,
      "outputs": []
    },
    {
      "cell_type": "code",
      "metadata": {
        "id": "0FJa2rSd6dt5"
      },
      "source": [
        "X_train, X_test, y_train, y_test = train_test_split(X,y,stratify=y, \n",
        "    test_size=0.2, shuffle=True)\n",
        "\n",
        "X_train = tfidf.fit_transform(X_train)\n",
        "X_test = tfidf.transform(X_test)"
      ],
      "execution_count": null,
      "outputs": []
    },
    {
      "cell_type": "code",
      "metadata": {
        "id": "oZ7HKFxcekWS"
      },
      "source": [
        "#SVM\n",
        "svc=SVC(random_state=0, tol=1e-5,class_weight='balanced', probability=True)\n"
      ],
      "execution_count": null,
      "outputs": []
    },
    {
      "cell_type": "code",
      "metadata": {
        "colab": {
          "base_uri": "https://localhost:8080/"
        },
        "id": "zELZVYHgfqFw",
        "outputId": "04255cba-b278-4b6e-bc88-c0c0f83795b9"
      },
      "source": [
        "svc.fit(X_train,y_train)\n",
        "y_pred = svc.predict(X_test)\n",
        "accuracy_score(y_test, y_pred)"
      ],
      "execution_count": null,
      "outputs": [
        {
          "output_type": "execute_result",
          "data": {
            "text/plain": [
              "0.9722543352601156"
            ]
          },
          "metadata": {
            "tags": []
          },
          "execution_count": 149
        }
      ]
    },
    {
      "cell_type": "markdown",
      "metadata": {
        "id": "8q4D8sLcMKAx"
      },
      "source": [
        "We can see that positive samples F1 score is 67% only."
      ]
    },
    {
      "cell_type": "code",
      "metadata": {
        "id": "fWee1fcOK-Xp",
        "colab": {
          "base_uri": "https://localhost:8080/"
        },
        "outputId": "dbee56d7-efb5-4ede-c1c1-31eeb0527f18"
      },
      "source": [
        "from sklearn.metrics import classification_report\n",
        "print(classification_report(y_test, y_pred))"
      ],
      "execution_count": null,
      "outputs": [
        {
          "output_type": "stream",
          "text": [
            "              precision    recall  f1-score   support\n",
            "\n",
            "           0       1.00      0.97      0.99     33547\n",
            "           1       0.53      0.91      0.67      1053\n",
            "\n",
            "    accuracy                           0.97     34600\n",
            "   macro avg       0.76      0.94      0.83     34600\n",
            "weighted avg       0.98      0.97      0.98     34600\n",
            "\n"
          ],
          "name": "stdout"
        }
      ]
    },
    {
      "cell_type": "code",
      "metadata": {
        "colab": {
          "base_uri": "https://localhost:8080/"
        },
        "id": "TzFeuXiyMclA",
        "outputId": "d5ce9180-1153-4a8f-9650-874e929e3bb1"
      },
      "source": [
        "print('ROCAUC score:',roc_auc_score(y_test, y_pred ))\n",
        "print('Accuracy score:',accuracy_score(y_test, y_pred ))\n",
        "print('F1 score:',f1_score(y_test, y_pred ))\n",
        "print(confusion_matrix(y_test, y_pred))"
      ],
      "execution_count": null,
      "outputs": [
        {
          "output_type": "stream",
          "text": [
            "ROCAUC score: 0.9410785695600036\n",
            "Accuracy score: 0.9722543352601156\n",
            "F1 score: 0.6657381615598886\n",
            "[[32684   863]\n",
            " [   97   956]]\n"
          ],
          "name": "stdout"
        }
      ]
    },
    {
      "cell_type": "markdown",
      "metadata": {
        "id": "iLhWm-fJi8Mt"
      },
      "source": [
        "SVM module is taking 1hr to execute, So we dicided to use Linear SVC where the kernel is linear, but it is much faster than svm model."
      ]
    },
    {
      "cell_type": "code",
      "metadata": {
        "colab": {
          "base_uri": "https://localhost:8080/"
        },
        "id": "eZvm9cePjJ8D",
        "outputId": "0cbe0f71-e92e-435e-ff54-ca2c61d14cc0"
      },
      "source": [
        "#Linear SVC\n",
        "\n",
        "svlc=LinearSVC(random_state=0, tol=1e-5,class_weight='balanced')\n",
        "svlc.fit(X_train,y_train)\n",
        "y_pred = svlc.predict(X_test)\n",
        "print(classification_report(y_test, y_pred))\n",
        "print('ROCAUC score:',roc_auc_score(y_test, y_pred ))\n",
        "print('Accuracy score:',accuracy_score(y_test, y_pred ))\n",
        "print('F1 score:',f1_score(y_test, y_pred ))\n",
        "print(confusion_matrix(y_test, y_pred))"
      ],
      "execution_count": null,
      "outputs": [
        {
          "output_type": "stream",
          "text": [
            "              precision    recall  f1-score   support\n",
            "\n",
            "           0       1.00      0.93      0.96     33547\n",
            "           1       0.28      0.90      0.43      1053\n",
            "\n",
            "    accuracy                           0.93     34600\n",
            "   macro avg       0.64      0.91      0.69     34600\n",
            "weighted avg       0.97      0.93      0.94     34600\n",
            "\n",
            "ROCAUC score: 0.911965653437817\n",
            "Accuracy score: 0.9265028901734104\n",
            "F1 score: 0.4260889189799142\n",
            "[[31113  2434]\n",
            " [  109   944]]\n"
          ],
          "name": "stdout"
        }
      ]
    },
    {
      "cell_type": "markdown",
      "metadata": {
        "id": "TCzUsiIpOJbz"
      },
      "source": [
        "###Tune parameters"
      ]
    },
    {
      "cell_type": "code",
      "metadata": {
        "colab": {
          "base_uri": "https://localhost:8080/"
        },
        "id": "xcQye8H5L9Yq",
        "outputId": "37d7b7ec-9a73-4720-f5cb-26456a64fc5d"
      },
      "source": [
        "X=df['Sequences']\n",
        "y=df['Labels'] \n",
        "\n",
        "X_train, X_test, y_train, y_test = train_test_split(X,y,stratify=y, \n",
        "    test_size=0.2, shuffle=True)\n",
        "\n",
        "parameters = {\n",
        "  'model__C':[0.1,1,10,100]\n",
        "  }\n",
        "\n",
        "pipeline = Pipeline([('tfidf', tfidf),('model',svlc)])\n",
        "\n",
        "grid = GridSearchCV(pipeline, cv=k_fold, n_jobs=-1, param_grid=parameters)\n",
        "grid.fit(X_train, y_train)\n",
        "print('finished')"
      ],
      "execution_count": null,
      "outputs": [
        {
          "output_type": "stream",
          "text": [
            "/usr/local/lib/python3.7/dist-packages/joblib/externals/loky/process_executor.py:691: UserWarning: A worker stopped while some jobs were given to the executor. This can be caused by a too short worker timeout or by a memory leak.\n",
            "  \"timeout or by a memory leak.\", UserWarning\n"
          ],
          "name": "stderr"
        },
        {
          "output_type": "stream",
          "text": [
            "finished\n"
          ],
          "name": "stdout"
        },
        {
          "output_type": "stream",
          "text": [
            "/usr/local/lib/python3.7/dist-packages/sklearn/svm/_base.py:947: ConvergenceWarning: Liblinear failed to converge, increase the number of iterations.\n",
            "  \"the number of iterations.\", ConvergenceWarning)\n"
          ],
          "name": "stderr"
        }
      ]
    },
    {
      "cell_type": "code",
      "metadata": {
        "id": "Xo8VEhtky1Mm",
        "colab": {
          "base_uri": "https://localhost:8080/"
        },
        "outputId": "8c9c12f3-ded8-425e-c100-2e3b34dcfc8c"
      },
      "source": [
        "print(\"Best parameters set found on development set:\")\n",
        "print()\n",
        "print(grid.best_params_)"
      ],
      "execution_count": null,
      "outputs": [
        {
          "output_type": "stream",
          "text": [
            "Best parameters set found on development set:\n",
            "\n",
            "{'model__C': 100}\n"
          ],
          "name": "stdout"
        }
      ]
    },
    {
      "cell_type": "code",
      "metadata": {
        "id": "qoNyMEwuy2-P",
        "colab": {
          "base_uri": "https://localhost:8080/"
        },
        "outputId": "b387b526-7664-43dc-f056-8546c867ec14"
      },
      "source": [
        "print(\"Grid scores on development set:\")\n",
        "print()\n",
        "means = grid.cv_results_['mean_test_score']\n",
        "stds = grid.cv_results_['std_test_score']\n",
        "for mean, std, params in zip(means, stds, grid.cv_results_['params']):\n",
        "    print(\"%0.3f (+/-%0.03f) for %r\"\n",
        "          % (mean, std * 2, params))"
      ],
      "execution_count": null,
      "outputs": [
        {
          "output_type": "stream",
          "text": [
            "Grid scores on development set:\n",
            "\n",
            "0.927 (+/-0.004) for {'model__C': 0.1}\n",
            "0.927 (+/-0.003) for {'model__C': 1}\n",
            "0.931 (+/-0.004) for {'model__C': 10}\n",
            "0.964 (+/-0.005) for {'model__C': 100}\n"
          ],
          "name": "stdout"
        }
      ]
    },
    {
      "cell_type": "code",
      "metadata": {
        "id": "bDj8_mzBtThq",
        "colab": {
          "base_uri": "https://localhost:8080/"
        },
        "outputId": "b63a2a80-6e01-42e9-85f6-e0c5e98e6963"
      },
      "source": [
        "y_pred=grid.best_estimator_.predict(X_test)\n",
        "print(classification_report(y_test, y_pred))\n",
        "print(confusion_matrix(y_test, y_pred))"
      ],
      "execution_count": null,
      "outputs": [
        {
          "output_type": "stream",
          "text": [
            "              precision    recall  f1-score   support\n",
            "\n",
            "           0       0.99      0.97      0.98     33547\n",
            "           1       0.45      0.75      0.56      1053\n",
            "\n",
            "    accuracy                           0.96     34600\n",
            "   macro avg       0.72      0.86      0.77     34600\n",
            "weighted avg       0.98      0.96      0.97     34600\n",
            "\n",
            "[[32562   985]\n",
            " [  261   792]]\n"
          ],
          "name": "stdout"
        }
      ]
    },
    {
      "cell_type": "markdown",
      "metadata": {
        "id": "dyc-c5unucuQ"
      },
      "source": [
        "We can see that scores have been improved with hyperparameter tuning"
      ]
    },
    {
      "cell_type": "markdown",
      "metadata": {
        "id": "UqNPSHYHiFfm"
      },
      "source": [
        "##Neural Network"
      ]
    },
    {
      "cell_type": "code",
      "metadata": {
        "id": "WKH81sHyiIwa"
      },
      "source": [
        "#implement\n",
        "\n",
        "from sklearn.neural_network import MLPClassifier\n",
        "\n",
        "Nnw=MLPClassifier(alpha=1e-05, hidden_layer_sizes=(5, 2), random_state=1)#Adam\n"
      ],
      "execution_count": null,
      "outputs": []
    },
    {
      "cell_type": "code",
      "metadata": {
        "colab": {
          "base_uri": "https://localhost:8080/"
        },
        "id": "SN3w1UUsAZyc",
        "outputId": "5c4e08da-9109-4131-bd96-610018d06ac4"
      },
      "source": [
        "Nnw.fit(X_train,y_train)\n",
        "y_pred = Nnw.predict(X_test)\n",
        "accuracy_score(y_test, y_pred)"
      ],
      "execution_count": null,
      "outputs": [
        {
          "output_type": "execute_result",
          "data": {
            "text/plain": [
              "0.9285289679454937"
            ]
          },
          "metadata": {
            "tags": []
          },
          "execution_count": 180
        }
      ]
    },
    {
      "cell_type": "markdown",
      "metadata": {
        "id": "6Ry30ECeiKYi"
      },
      "source": [
        "###Tune parameters"
      ]
    },
    {
      "cell_type": "code",
      "metadata": {
        "id": "XWBOgmPjiOku"
      },
      "source": [
        "#to do Hyper parameter search using Grid search"
      ],
      "execution_count": null,
      "outputs": []
    },
    {
      "cell_type": "markdown",
      "metadata": {
        "id": "RLRbP3gKiXQq"
      },
      "source": [
        "### Final Neural Network Model"
      ]
    },
    {
      "cell_type": "code",
      "metadata": {
        "id": "BYsLC1eEia73"
      },
      "source": [
        "# implement with best Hyperparameters and calculate score"
      ],
      "execution_count": null,
      "outputs": []
    },
    {
      "cell_type": "code",
      "metadata": {
        "id": "-Z_jjcLbn6Jd"
      },
      "source": [
        "y_pred = Nnw.predict(X_test)\n",
        "print(\"Test accuracy\",Nnw.score(X_test, y_test))\n",
        "print(\"Train accuracy\",Nnw.score(X_train, y_train))\n",
        "\n",
        "classifier.append(\"NNW\")\n",
        "train_scores.append(Nnw.score(X_train, y_train))\n",
        "test_scores.append(Nnw.score(X_test, y_test))"
      ],
      "execution_count": null,
      "outputs": []
    },
    {
      "cell_type": "markdown",
      "metadata": {
        "id": "HYOfgD9bjS5w"
      },
      "source": [
        "# Improvements : Ensemble method with Crossvalidation"
      ]
    },
    {
      "cell_type": "code",
      "metadata": {
        "id": "I5RxG6x5kZ4g"
      },
      "source": [
        "##### Trying to improve with the ensemble of all predictors\n",
        "from sklearn.ensemble import VotingRegressor\n",
        "\n",
        "Reg_vote = VotingRegressor(\n",
        "    estimators=[\n",
        "        ('rfs', rfs), # Random Forest\n",
        "        ('svc', svc), # SVC\n",
        "        ('Nn', Nnw), # Neural Network\n",
        "          ])\n",
        "Reg_vote.fit(X_train, y_train)\n",
        "Reg_vote.score(X_val, y_val)"
      ],
      "execution_count": null,
      "outputs": []
    },
    {
      "cell_type": "code",
      "metadata": {
        "id": "NyGPBstzkrW6"
      },
      "source": [
        "scores = cross_val_score(Reg_vote, X_train, y_train, cv=k_fold)\n",
        "print(\"Reg: Accuracy: %0.4f (+/- %0.4f)\" % (scores.mean(), scores.std()))"
      ],
      "execution_count": null,
      "outputs": []
    }
  ]
}
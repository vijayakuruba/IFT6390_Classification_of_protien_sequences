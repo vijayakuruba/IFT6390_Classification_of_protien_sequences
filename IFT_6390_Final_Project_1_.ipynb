{
  "nbformat": 4,
  "nbformat_minor": 0,
  "metadata": {
    "kernelspec": {
      "display_name": "Python 3",
      "language": "python",
      "name": "python3"
    },
    "language_info": {
      "codemirror_mode": {
        "name": "ipython",
        "version": 3
      },
      "file_extension": ".py",
      "mimetype": "text/x-python",
      "name": "python",
      "nbconvert_exporter": "python",
      "pygments_lexer": "ipython3",
      "version": "3.6.12"
    },
    "colab": {
      "name": "IFT 6390_Final_Project -1 .ipynb",
      "provenance": [],
      "collapsed_sections": [],
      "machine_shape": "hm",
      "include_colab_link": true
    }
  },
  "cells": [
    {
      "cell_type": "markdown",
      "metadata": {
        "id": "view-in-github",
        "colab_type": "text"
      },
      "source": [
        "<a href=\"https://colab.research.google.com/github/vijayakuruba/IFT6390_Classification_of_AMP_sequences/blob/main/IFT_6390_Final_Project_1_.ipynb\" target=\"_parent\"><img src=\"https://colab.research.google.com/assets/colab-badge.svg\" alt=\"Open In Colab\"/></a>"
      ]
    },
    {
      "cell_type": "markdown",
      "metadata": {
        "id": "9mSwy9yaanTh"
      },
      "source": [
        "# IFT6390: Final Project\n",
        "\n",
        "The final project pertains to the problem of finding novel [antimicrobial peptides](https://en.wikipedia.org/wiki/Antimicrobial_peptides) (AMP) which may turn out to be key in the fight against antibiotics resistance. The World Health Organization qualifies antibiotic resistance as one of the [''biggest threats to global health, food security, and development today''](https://www.who.int/news-room/fact-sheets/detail/antibiotic-resistance).\n",
        "\n",
        "Given the limited time frame of this project, I have scoped down the problems to two main tracks:\n",
        "\n",
        "1. **Classification**: classifying protein sequences as AMP or non-AMP: a binary classification problem\n",
        "  1.1 You are allowed to use Scikit-learn. You need to provide the following baselines: Random Forest, SVM, Neural Network. Use TF-IDF as a baseline feature extractor (you can use sklearn) for each of those.  \n",
        "2. **Generation**: Given a corpus of AMP sequences, learn a character-level language model. You should implement a baseline using a Markov model. Then implement a sequential model using an RNN or LSTM. \n",
        "\n",
        "You should pick one of the two options. Choose your own adventure. You can work in teams of **three people max**."
      ]
    },
    {
      "cell_type": "markdown",
      "metadata": {
        "id": "XHaAlZgaay2P"
      },
      "source": [
        "# Dataset\n",
        "\n",
        "The dataset in this project comes from two open source projects: amPEPpy and AMPlify."
      ]
    },
    {
      "cell_type": "code",
      "metadata": {
        "id": "SPkBZUw2a4Pw"
      },
      "source": [
        "!pip install biopython\n",
        "!wget https://raw.githubusercontent.com/bcgsc/AMPlify/master/data/AMP_20190407.fa\n",
        "!wget https://raw.githubusercontent.com/bcgsc/AMPlify/master/data/non_AMP_20190413.fa\n",
        "!wget https://raw.githubusercontent.com/tlawrence3/amPEPpy/master/training_data/M_model_train_AMP_sequence.numbered.fasta\n",
        "!wget https://raw.githubusercontent.com/tlawrence3/amPEPpy/master/training_data/M_model_train_nonAMP_sequence.numbered.fasta"
      ],
      "execution_count": null,
      "outputs": []
    },
    {
      "cell_type": "code",
      "metadata": {
        "id": "gw9YWiZMa_V-"
      },
      "source": [
        "from Bio import SeqIO\n",
        "import matplotlib.pyplot as plt"
      ],
      "execution_count": 2,
      "outputs": []
    },
    {
      "cell_type": "code",
      "metadata": {
        "id": "OJnps8NibCAB"
      },
      "source": [
        "def fasta_to_str_set(name):\n",
        "  return {str(rec.seq) for rec in SeqIO.parse(name, 'fasta')}"
      ],
      "execution_count": 3,
      "outputs": []
    },
    {
      "cell_type": "code",
      "metadata": {
        "id": "LNNE4j8BbEIm"
      },
      "source": [
        "positive_examples = fasta_to_str_set('AMP_20190407.fa').union(fasta_to_str_set('M_model_train_AMP_sequence.numbered.fasta'))\n",
        "negative_examples = fasta_to_str_set('non_AMP_20190413.fa').union(fasta_to_str_set('M_model_train_nonAMP_sequence.numbered.fasta'))"
      ],
      "execution_count": 103,
      "outputs": []
    },
    {
      "cell_type": "markdown",
      "metadata": {
        "id": "f8RqlzTWbG7M"
      },
      "source": [
        "Once we have merged the two data sources, the positive class has:"
      ]
    },
    {
      "cell_type": "code",
      "metadata": {
        "colab": {
          "base_uri": "https://localhost:8080/"
        },
        "id": "SVGpbwnBbJTP",
        "outputId": "b905cd10-8e1f-458d-b45d-02e237d5bc4b"
      },
      "source": [
        "print(f\"{len(positive_examples)} examples\")"
      ],
      "execution_count": 104,
      "outputs": [
        {
          "output_type": "stream",
          "text": [
            "5264 examples\n"
          ],
          "name": "stdout"
        }
      ]
    },
    {
      "cell_type": "markdown",
      "metadata": {
        "id": "f2hwUdjKbM6O"
      },
      "source": [
        "and the negative class (non-AMPs) has:"
      ]
    },
    {
      "cell_type": "code",
      "metadata": {
        "colab": {
          "base_uri": "https://localhost:8080/"
        },
        "id": "lfdCfD9abPcm",
        "outputId": "d48baca4-d52d-408f-f62b-07bbcaf87190"
      },
      "source": [
        "print(f\"{len(negative_examples)} examples\")"
      ],
      "execution_count": 105,
      "outputs": [
        {
          "output_type": "stream",
          "text": [
            "167732 examples\n"
          ],
          "name": "stdout"
        }
      ]
    },
    {
      "cell_type": "markdown",
      "metadata": {
        "id": "sZI7wRDpTX7W"
      },
      "source": [
        "Let's have a look at the data. For example, the first AMP and Non AMP in the dataset is:"
      ]
    },
    {
      "cell_type": "code",
      "metadata": {
        "colab": {
          "base_uri": "https://localhost:8080/"
        },
        "id": "z7rnaW4PTWYk",
        "outputId": "87596cf9-c4d3-4e94-f156-5acf964abd5d"
      },
      "source": [
        "print('First AMP sample is : ',list(positive_examples)[0])\n",
        "print('First Non AMP sample is :',list(negative_examples)[0])"
      ],
      "execution_count": 119,
      "outputs": [
        {
          "output_type": "stream",
          "text": [
            "First AMP sample is :  FLPIVGRLISGLL\n",
            "First Non AMP sample is : MPARFDCFVTGTDTEIGKTLVSAVLLTRLADAGYRAAGLKPIAAGTLAGAPTRTNEDVEQLRAAASVNLPFDTVCPWLLDAPMSPHLAAAREGVTITLPPILDAFAHARSLADAVVVEGVGGFRVPLSDDFDTAEMAVALGLPVVLVVGLRLGCLNHAALTAEAIAARGLHLAGWVGNVVDPSMAGLDDNVATLRRWINAPHLGTIPRLPHADARLAAAHVDIAPLLARTAETRR\n"
          ],
          "name": "stdout"
        }
      ]
    },
    {
      "cell_type": "markdown",
      "metadata": {
        "id": "DEkWmk9ObVcu"
      },
      "source": [
        "We have 2 challenges here:\n",
        "1. Imbalanced dataset: No of non-AMPs are more way higher than AMP. \n",
        "2. the distribution of the sequence lengths varies a lot between the two classes. "
      ]
    },
    {
      "cell_type": "markdown",
      "metadata": {
        "id": "jFcxUPXFPZ6Z"
      },
      "source": [
        "## Exploratory data Analysis"
      ]
    },
    {
      "cell_type": "code",
      "metadata": {
        "colab": {
          "base_uri": "https://localhost:8080/",
          "height": 298
        },
        "id": "QqXYCrWhPL55",
        "outputId": "848d49e4-4c0e-4fae-dfdf-de4bbe107618"
      },
      "source": [
        "# Visualise samples\n",
        "\n",
        "#Original dataset\n",
        "\n",
        "fig, axes = plt.subplots(1,2)\n",
        "axes[0].hist([len(seq) for seq in positive_examples])\n",
        "axes[0].set_title('Positive Sequence Lengths')\n",
        "axes[1].hist([len(seq) for seq in negative_examples])\n",
        "axes[1].set_title('Negative Sequence Lengths')"
      ],
      "execution_count": 106,
      "outputs": [
        {
          "output_type": "execute_result",
          "data": {
            "text/plain": [
              "Text(0.5, 1.0, 'Negative Sequence Lengths')"
            ]
          },
          "metadata": {
            "tags": []
          },
          "execution_count": 106
        },
        {
          "output_type": "display_data",
          "data": {
            "image/png": "[encoded data removed]",
            "text/plain": [
              "<Figure size 432x288 with 2 Axes>"
            ]
          },
          "metadata": {
            "tags": [],
            "needs_background": "light"
          }
        }
      ]
    },
    {
      "cell_type": "markdown",
      "metadata": {
        "id": "pujyM6SaPfw_"
      },
      "source": [
        "## Feature importance\n",
        "Lets see which Amino acid is more important. We have used TFIDI Tokenizor to count the raw frequencies and plotted the features which are more frequent or Important"
      ]
    },
    {
      "cell_type": "code",
      "metadata": {
        "id": "FTQ8UEKiQFUc"
      },
      "source": [
        "#TFIDI Tokenizor: This function will be used downstream\n",
        "\n",
        "def dummy(doc):\n",
        "    return doc\n",
        "tfidf = TfidfVectorizer(tokenizer=dummy,preprocessor=dummy,lowercase=False)  "
      ],
      "execution_count": 109,
      "outputs": []
    },
    {
      "cell_type": "code",
      "metadata": {
        "id": "l8TBznTGRBp9"
      },
      "source": [
        "# create Datarame with original dataset\n",
        "\n",
        "# Dataframe with original data\n",
        "\n",
        "import pandas as pd \n",
        "df_orig_p=pd.DataFrame(positive_examples,columns=['Sequences'])\n",
        "df_orig_p['Labels']=1\n",
        "df_orig_n=pd.DataFrame(negative_examples,columns=['Sequences'])\n",
        "df_orig_n['Labels']=0\n",
        "\n",
        "df=pd.DataFrame()\n",
        "df=df.append(df_orig_p,ignore_index=True)\n",
        "df=df.append(df_orig_n,ignore_index=True)\n",
        "print(df.shape)\n",
        "df"
      ],
      "execution_count": null,
      "outputs": []
    },
    {
      "cell_type": "markdown",
      "metadata": {
        "id": "GUjEG6ZrSUKg"
      },
      "source": [
        "This string describes the sequence of amino acids present in the given AMP. There are  20  possible such standard amino acids present in the genetic code. \n",
        "We can see from the plot below that the most frequent amino acid code is Leucine(L) followed by Alanine(A), Valine(V) and Glycine(G)."
      ]
    },
    {
      "cell_type": "code",
      "metadata": {
        "colab": {
          "base_uri": "https://localhost:8080/",
          "height": 281
        },
        "id": "Vrtswz56PfHW",
        "outputId": "2746ae0e-7e82-4ed6-e9f3-e43bbc25120d"
      },
      "source": [
        "#TfidfVectorizer\n",
        "\n",
        "import numpy as np\n",
        "\n",
        "X=df['Sequences']\n",
        "\n",
        "X_transform = tfidf.fit_transform(X)\n",
        "word = tfidf.get_feature_names()\n",
        "\n",
        "TFIDF_mean = np.mean(X_transform, axis=0)\n",
        "\n",
        "TFIDF_mean = np.array(TFIDF_mean)[0].tolist()\n",
        "\n",
        "# Feature_importance=top_feats(TFIDF_mean ,Word, Imp_Feat)\n",
        "\n",
        "topn_ids = np.argsort(TFIDF_mean)[::-1][:1000]\n",
        "names = np.array(word)\n",
        "# print(names[topn_ids])\n",
        "top_feats = [(word[i], TFIDF_mean[i]) for i in topn_ids]\n",
        "df_feat = pd.DataFrame(top_feats, index=names[topn_ids])\n",
        "df_feat.columns = ['FEATURE', 'Feat_IMP_value']\n",
        "\n",
        "Feature_importance = df_feat\n",
        "df_feat[:30].plot.bar(y='Feat_IMP_value', title='Feature Importances', rot=90)\n",
        "plt.ylabel('Relative Feature Importance  ')\n",
        "New_FI_index = Feature_importance.reset_index()\n",
        "del New_FI_index['index']\n",
        "plt.show()\n",
        "#plt.savefig('feature_Importance.png')"
      ],
      "execution_count": 113,
      "outputs": [
        {
          "output_type": "display_data",
          "data": {
            "image/png": "[encoded data removed]",
            "text/plain": [
              "<Figure size 432x288 with 1 Axes>"
            ]
          },
          "metadata": {
            "tags": [],
            "needs_background": "light"
          }
        }
      ]
    },
    {
      "cell_type": "markdown",
      "metadata": {
        "id": "v2sbxg0iSlJa"
      },
      "source": [
        "#Construct Non AMP Dataset\n",
        "\n",
        "To addres the issue of the the distribution of the sequence lengths  between the two classes, I have reconstructed non AMP dats such that, I have included only the sequences whose legths are present in AMP sequence. For example samples whose sequence length is 145 is discared since this length is not present in AMP sequence. \n",
        "After this , Non AMP samples are reduced to 109344. \n",
        "\n",
        "Even after this still we have imbalanced dataset issue which will be addressed with Oversampling and Undersampling techniques."
      ]
    },
    {
      "cell_type": "markdown",
      "metadata": {
        "id": "gcSOIznAVkR9"
      },
      "source": [
        "First construct Non AMP samples:"
      ]
    },
    {
      "cell_type": "code",
      "metadata": {
        "colab": {
          "base_uri": "https://localhost:8080/"
        },
        "id": "Kokty1MfLVIY",
        "outputId": "32d77a45-febd-4175-a9b7-1550b171e250"
      },
      "source": [
        "import numpy as np\n",
        "\n",
        "lenp=[]\n",
        "for seq in positive_examples:\n",
        "    lenp.append(len(seq))\n",
        "ulenp=np.unique(lenp)\n",
        "print(ulenp)"
      ],
      "execution_count": 114,
      "outputs": [
        {
          "output_type": "stream",
          "text": [
            "[  2   4   5   6   7   8   9  10  11  12  13  14  15  16  17  18  19  20\n",
            "  21  22  23  24  25  26  27  28  29  30  31  32  33  34  35  36  37  38\n",
            "  39  40  41  42  43  44  45  46  47  48  49  50  51  52  53  54  55  56\n",
            "  57  58  59  60  61  62  63  64  65  66  67  68  69  70  71  72  73  74\n",
            "  75  76  77  78  79  80  81  82  83  84  85  86  87  88  89  90  91  92\n",
            "  93  94  95  96  97  98  99 100 101 102 103 104 106 107 108 109 110 111\n",
            " 112 113 114 116 117 118 119 120 121 122 123 124 125 126 127 128 129 130\n",
            " 131 133 134 135 136 137 138 140 141 142 143 146 148 149 150 152 153 154\n",
            " 155 157 158 161 163 164 166 169 172 174 177 183 185 187 188 190 191 192\n",
            " 194 198 200 201 204 206 207 208 215 219 220 221 222 225 226 230 231 235\n",
            " 239 241 243 244 245 247 255]\n"
          ],
          "name": "stdout"
        }
      ]
    },
    {
      "cell_type": "code",
      "metadata": {
        "colab": {
          "base_uri": "https://localhost:8080/"
        },
        "id": "Dj17gzp1OyPe",
        "outputId": "37f4e64f-ca06-4e8a-be78-5880fde44f42"
      },
      "source": [
        "lenn=[]\n",
        "for seq in negative_examples:\n",
        "    lenn.append(len(seq))\n",
        "print(np.unique(lenn))"
      ],
      "execution_count": 115,
      "outputs": [
        {
          "output_type": "stream",
          "text": [
            "[  2   3   4   5   6   7   8   9  10  11  12  13  14  15  16  17  18  19\n",
            "  20  21  22  23  24  25  26  27  28  29  30  31  32  33  34  35  36  37\n",
            "  38  39  40  41  42  43  44  45  46  47  48  49  50  51  52  53  54  55\n",
            "  56  57  58  59  60  61  62  63  64  65  66  67  68  69  70  71  72  73\n",
            "  74  75  76  77  78  79  80  81  82  83  84  85  86  87  88  89  90  91\n",
            "  92  93  94  95  96  97  98  99 100 101 102 103 104 105 106 107 108 109\n",
            " 110 111 112 113 114 115 116 117 118 119 120 121 122 123 124 125 126 127\n",
            " 128 129 130 131 132 133 134 135 136 137 138 139 140 141 142 143 144 145\n",
            " 146 147 148 149 150 151 152 153 154 155 156 157 158 159 160 161 162 163\n",
            " 164 165 166 167 168 169 170 171 172 173 174 175 176 177 178 179 180 181\n",
            " 182 183 184 185 186 187 188 189 190 191 192 193 194 195 196 197 198 199\n",
            " 200 201 202 203 204 205 206 207 208 209 210 211 212 213 214 215 216 217\n",
            " 218 219 220 221 222 223 224 225 226 227 228 229 230 231 232 233 234 235\n",
            " 236 237 238 239 240 241 242 243 244 245 246 247 248 249 250 251 252 253\n",
            " 254 255]\n"
          ],
          "name": "stdout"
        }
      ]
    },
    {
      "cell_type": "code",
      "metadata": {
        "colab": {
          "base_uri": "https://localhost:8080/"
        },
        "id": "DSobTIPwRT1K",
        "outputId": "c2e745d4-88b8-4d2d-c31d-114bb658f7a0"
      },
      "source": [
        "negative_examples_new=[]\n",
        "for i in ulenp:\n",
        "    for seq in negative_examples: \n",
        "        if len(seq)==i:\n",
        "           negative_examples_new.append(seq)\n",
        "\n",
        "print(len(negative_examples_new))"
      ],
      "execution_count": 116,
      "outputs": [
        {
          "output_type": "stream",
          "text": [
            "109344\n"
          ],
          "name": "stdout"
        }
      ]
    },
    {
      "cell_type": "markdown",
      "metadata": {
        "id": "k3wVrs_yStJO"
      },
      "source": [
        "Lets visualise the samples after reconstructing the negative samples\n",
        "Still we have imbalanced data issue"
      ]
    },
    {
      "cell_type": "code",
      "metadata": {
        "colab": {
          "base_uri": "https://localhost:8080/",
          "height": 298
        },
        "id": "-8uAVlDdbYTw",
        "outputId": "6d176a50-aa55-4a51-f583-7d7087db74fc"
      },
      "source": [
        "# after removing sequences in Non AMP whose length is not in postivie sample \n",
        "\n",
        "fig, axes = plt.subplots(1,2)\n",
        "axes[0].hist([len(seq) for seq in positive_examples])\n",
        "axes[0].set_title('Positive Sequence Lengths')\n",
        "axes[1].hist([len(seq) for seq in negative_examples_new])\n",
        "axes[1].set_title('Negative Sequence Lengths')"
      ],
      "execution_count": 117,
      "outputs": [
        {
          "output_type": "execute_result",
          "data": {
            "text/plain": [
              "Text(0.5, 1.0, 'Negative Sequence Lengths')"
            ]
          },
          "metadata": {
            "tags": []
          },
          "execution_count": 117
        },
        {
          "output_type": "display_data",
          "data": {
            "image/png": "[encoded data removed]",
            "text/plain": [
              "<Figure size 432x288 with 2 Axes>"
            ]
          },
          "metadata": {
            "tags": [],
            "needs_background": "light"
          }
        }
      ]
    },
    {
      "cell_type": "code",
      "metadata": {
        "id": "he8snbbCpUDZ"
      },
      "source": [
        "df_recon_n=pd.DataFrame(negative_examples_new,columns=['Sequences'])\n",
        "df_recon_n['Labels']=0"
      ],
      "execution_count": 121,
      "outputs": []
    },
    {
      "cell_type": "code",
      "metadata": {
        "colab": {
          "base_uri": "https://localhost:8080/"
        },
        "id": "VbOO1_91wijs",
        "outputId": "82d2169e-1b2d-4058-c921-f911db8b71c2"
      },
      "source": [
        "print('positive_examples shape is:', df_orig_p.shape)\n",
        "print('Original negative_examples shape is:', df_orig_n.shape)\n",
        "print('Reconstructed negative_examples shape is:', df_recon_n.shape)"
      ],
      "execution_count": 122,
      "outputs": [
        {
          "output_type": "stream",
          "text": [
            "positive_examples shape is: (5264, 2)\n",
            "Original negative_examples shape is: (167732, 2)\n",
            "Reconstructed negative_examples shape is: (109344, 2)\n"
          ],
          "name": "stdout"
        }
      ]
    },
    {
      "cell_type": "code",
      "metadata": {
        "colab": {
          "base_uri": "https://localhost:8080/",
          "height": 418
        },
        "id": "1S3fKmx8wI_L",
        "outputId": "07291d8d-5ae9-4c36-aa89-171679efb89f"
      },
      "source": [
        "# dataframe with new datset\n",
        "df_new=pd.DataFrame()\n",
        "df_new=df_new.append(df_orig_p,ignore_index=True)\n",
        "df_new=df_new.append(df_recon_n,ignore_index=True)\n",
        "print(df_new.shape)\n",
        "df_new"
      ],
      "execution_count": 123,
      "outputs": [
        {
          "output_type": "stream",
          "text": [
            "(114608, 2)\n"
          ],
          "name": "stdout"
        },
        {
          "output_type": "execute_result",
          "data": {
            "text/html": [
              "<div>\n",
              "<style scoped>\n",
              "    .dataframe tbody tr th:only-of-type {\n",
              "        vertical-align: middle;\n",
              "    }\n",
              "\n",
              "    .dataframe tbody tr th {\n",
              "        vertical-align: top;\n",
              "    }\n",
              "\n",
              "    .dataframe thead th {\n",
              "        text-align: right;\n",
              "    }\n",
              "</style>\n",
              "<table border=\"1\" class=\"dataframe\">\n",
              "  <thead>\n",
              "    <tr style=\"text-align: right;\">\n",
              "      <th></th>\n",
              "      <th>Sequences</th>\n",
              "      <th>Labels</th>\n",
              "    </tr>\n",
              "  </thead>\n",
              "  <tbody>\n",
              "    <tr>\n",
              "      <th>0</th>\n",
              "      <td>FLPIVGRLISGLL</td>\n",
              "      <td>1</td>\n",
              "    </tr>\n",
              "    <tr>\n",
              "      <th>1</th>\n",
              "      <td>APQMKTRDVLERTHKCFLVGGECKSECSSWEYEYVFCYTGPCCVMR...</td>\n",
              "      <td>1</td>\n",
              "    </tr>\n",
              "    <tr>\n",
              "      <th>2</th>\n",
              "      <td>KRGLWESLKRKATKLGDDIRNTLRNFKIKFPVPRQG</td>\n",
              "      <td>1</td>\n",
              "    </tr>\n",
              "    <tr>\n",
              "      <th>3</th>\n",
              "      <td>TNYGNGVGVPDAIMAGIIKLIFIFNIRQGYNFGKKAT</td>\n",
              "      <td>1</td>\n",
              "    </tr>\n",
              "    <tr>\n",
              "      <th>4</th>\n",
              "      <td>RADTQTYQPYNKDWIKEKIYVLLRRQAQQAGK</td>\n",
              "      <td>1</td>\n",
              "    </tr>\n",
              "    <tr>\n",
              "      <th>...</th>\n",
              "      <td>...</td>\n",
              "      <td>...</td>\n",
              "    </tr>\n",
              "    <tr>\n",
              "      <th>114603</th>\n",
              "      <td>MRHPLVMGNWKLNGSTHMVNELIANLRKELSTVEGCGVAIAPPAIY...</td>\n",
              "      <td>0</td>\n",
              "    </tr>\n",
              "    <tr>\n",
              "      <th>114604</th>\n",
              "      <td>MPRYKLTIEYDGGPFCGWQYQTNGPSVQGALEAAVKAICGDDVRVH...</td>\n",
              "      <td>0</td>\n",
              "    </tr>\n",
              "    <tr>\n",
              "      <th>114605</th>\n",
              "      <td>MEMVDSCHFSPSEFFYDSSCIPSPEEGYTEDYEHGMSIYGAHKKDL...</td>\n",
              "      <td>0</td>\n",
              "    </tr>\n",
              "    <tr>\n",
              "      <th>114606</th>\n",
              "      <td>MFNLFPPFGANTAIFNDAPQPWQVGFQDGASPTQEGITELHDSIFF...</td>\n",
              "      <td>0</td>\n",
              "    </tr>\n",
              "    <tr>\n",
              "      <th>114607</th>\n",
              "      <td>MSMPFYVSPEQLMKDRADYARKGIARGRSVVVAAYDGGIAFATENP...</td>\n",
              "      <td>0</td>\n",
              "    </tr>\n",
              "  </tbody>\n",
              "</table>\n",
              "<p>114608 rows × 2 columns</p>\n",
              "</div>"
            ],
            "text/plain": [
              "                                                Sequences  Labels\n",
              "0                                           FLPIVGRLISGLL       1\n",
              "1       APQMKTRDVLERTHKCFLVGGECKSECSSWEYEYVFCYTGPCCVMR...       1\n",
              "2                    KRGLWESLKRKATKLGDDIRNTLRNFKIKFPVPRQG       1\n",
              "3                   TNYGNGVGVPDAIMAGIIKLIFIFNIRQGYNFGKKAT       1\n",
              "4                        RADTQTYQPYNKDWIKEKIYVLLRRQAQQAGK       1\n",
              "...                                                   ...     ...\n",
              "114603  MRHPLVMGNWKLNGSTHMVNELIANLRKELSTVEGCGVAIAPPAIY...       0\n",
              "114604  MPRYKLTIEYDGGPFCGWQYQTNGPSVQGALEAAVKAICGDDVRVH...       0\n",
              "114605  MEMVDSCHFSPSEFFYDSSCIPSPEEGYTEDYEHGMSIYGAHKKDL...       0\n",
              "114606  MFNLFPPFGANTAIFNDAPQPWQVGFQDGASPTQEGITELHDSIFF...       0\n",
              "114607  MSMPFYVSPEQLMKDRADYARKGIARGRSVVVAAYDGGIAFATENP...       0\n",
              "\n",
              "[114608 rows x 2 columns]"
            ]
          },
          "metadata": {
            "tags": []
          },
          "execution_count": 123
        }
      ]
    },
    {
      "cell_type": "markdown",
      "metadata": {
        "id": "So_a8rk1pDQ2"
      },
      "source": [
        "#Data Preprocessing\n",
        "\n",
        "Issue of Imbalance data is addressed with Oversampling and undersample techniques"
      ]
    },
    {
      "cell_type": "markdown",
      "metadata": {
        "id": "VRueWhFrnUXD"
      },
      "source": [
        "Imbalanced data is managed with Random oversampling from imblearn, which oversamples the minority class"
      ]
    },
    {
      "cell_type": "code",
      "metadata": {
        "id": "XPeSVDUjaAgE"
      },
      "source": [
        "X = df_new['Sequences']\n",
        "y=  df_new['Labels'] \n"
      ],
      "execution_count": 124,
      "outputs": []
    },
    {
      "cell_type": "code",
      "metadata": {
        "id": "RHNekzKobLLP"
      },
      "source": [
        "X = X.values.reshape(-1,1)"
      ],
      "execution_count": 18,
      "outputs": []
    },
    {
      "cell_type": "code",
      "metadata": {
        "colab": {
          "base_uri": "https://localhost:8080/"
        },
        "id": "eeUxrmrDgzX0",
        "outputId": "46c2175e-097d-4d24-c7c8-d8f8f9aa225c"
      },
      "source": [
        "from imblearn.over_sampling import RandomOverSampler\n",
        "\n",
        "os =  RandomOverSampler(sampling_strategy='minority')\n",
        "X_res, y_res = os.fit_sample(X , y)"
      ],
      "execution_count": 19,
      "outputs": [
        {
          "output_type": "stream",
          "text": [
            "/usr/local/lib/python3.7/dist-packages/sklearn/externals/six.py:31: FutureWarning: The module is deprecated in version 0.21 and will be removed in version 0.23 since we've dropped support for Python 2.7. Please rely on the official version of six (https://pypi.org/project/six/).\n",
            "  \"(https://pypi.org/project/six/).\", FutureWarning)\n",
            "/usr/local/lib/python3.7/dist-packages/sklearn/utils/deprecation.py:144: FutureWarning: The sklearn.neighbors.base module is  deprecated in version 0.22 and will be removed in version 0.24. The corresponding classes / functions should instead be imported from sklearn.neighbors. Anything that cannot be imported from sklearn.neighbors is now part of the private API.\n",
            "  warnings.warn(message, FutureWarning)\n",
            "/usr/local/lib/python3.7/dist-packages/sklearn/utils/deprecation.py:87: FutureWarning: Function safe_indexing is deprecated; safe_indexing is deprecated in version 0.22 and will be removed in version 0.24.\n",
            "  warnings.warn(msg, category=FutureWarning)\n"
          ],
          "name": "stderr"
        }
      ]
    },
    {
      "cell_type": "code",
      "metadata": {
        "colab": {
          "base_uri": "https://localhost:8080/"
        },
        "id": "qVCTegWNg8iB",
        "outputId": "265a25c7-ce7c-4a47-82f5-b45c6b885e38"
      },
      "source": [
        "X_res.shape,y_res.shape"
      ],
      "execution_count": 20,
      "outputs": [
        {
          "output_type": "execute_result",
          "data": {
            "text/plain": [
              "((218688, 1), (218688,))"
            ]
          },
          "metadata": {
            "tags": []
          },
          "execution_count": 20
        }
      ]
    },
    {
      "cell_type": "code",
      "metadata": {
        "colab": {
          "base_uri": "https://localhost:8080/"
        },
        "id": "EdgQvNXWiBOe",
        "outputId": "4b656f6f-540c-4fc2-e650-f9db89d6cdb5"
      },
      "source": [
        "from collections import Counter\n",
        "\n",
        "print('Original dataset shape {}'.format(Counter(y)))\n",
        "print('Resampled dataset shape {}'.format(Counter(y_res)))"
      ],
      "execution_count": 21,
      "outputs": [
        {
          "output_type": "stream",
          "text": [
            "Original dataset shape Counter({0: 109344, 1: 5264})\n",
            "Resampled dataset shape Counter({1: 109344, 0: 109344})\n"
          ],
          "name": "stdout"
        }
      ]
    },
    {
      "cell_type": "code",
      "metadata": {
        "id": "niZL6-COwaJo"
      },
      "source": [
        "dftrain=pd.DataFrame(X_res)\n",
        "dftrain.columns =['Sequences']\n",
        "dftrain['Labels']=y_res"
      ],
      "execution_count": 22,
      "outputs": []
    },
    {
      "cell_type": "code",
      "metadata": {
        "colab": {
          "base_uri": "https://localhost:8080/",
          "height": 402
        },
        "id": "SBeS4fibifcC",
        "outputId": "240f83f6-a1f4-4d9e-8419-eb1a3616c872"
      },
      "source": [
        "dftrain"
      ],
      "execution_count": 23,
      "outputs": [
        {
          "output_type": "execute_result",
          "data": {
            "text/html": [
              "<div>\n",
              "<style scoped>\n",
              "    .dataframe tbody tr th:only-of-type {\n",
              "        vertical-align: middle;\n",
              "    }\n",
              "\n",
              "    .dataframe tbody tr th {\n",
              "        vertical-align: top;\n",
              "    }\n",
              "\n",
              "    .dataframe thead th {\n",
              "        text-align: right;\n",
              "    }\n",
              "</style>\n",
              "<table border=\"1\" class=\"dataframe\">\n",
              "  <thead>\n",
              "    <tr style=\"text-align: right;\">\n",
              "      <th></th>\n",
              "      <th>Sequences</th>\n",
              "      <th>Labels</th>\n",
              "    </tr>\n",
              "  </thead>\n",
              "  <tbody>\n",
              "    <tr>\n",
              "      <th>0</th>\n",
              "      <td>FLPIVGRLISGLL</td>\n",
              "      <td>1</td>\n",
              "    </tr>\n",
              "    <tr>\n",
              "      <th>1</th>\n",
              "      <td>APQMKTRDVLERTHKCFLVGGECKSECSSWEYEYVFCYTGPCCVMR...</td>\n",
              "      <td>1</td>\n",
              "    </tr>\n",
              "    <tr>\n",
              "      <th>2</th>\n",
              "      <td>KRGLWESLKRKATKLGDDIRNTLRNFKIKFPVPRQG</td>\n",
              "      <td>1</td>\n",
              "    </tr>\n",
              "    <tr>\n",
              "      <th>3</th>\n",
              "      <td>TNYGNGVGVPDAIMAGIIKLIFIFNIRQGYNFGKKAT</td>\n",
              "      <td>1</td>\n",
              "    </tr>\n",
              "    <tr>\n",
              "      <th>4</th>\n",
              "      <td>RADTQTYQPYNKDWIKEKIYVLLRRQAQQAGK</td>\n",
              "      <td>1</td>\n",
              "    </tr>\n",
              "    <tr>\n",
              "      <th>...</th>\n",
              "      <td>...</td>\n",
              "      <td>...</td>\n",
              "    </tr>\n",
              "    <tr>\n",
              "      <th>218683</th>\n",
              "      <td>IMGPVLGLVSNALGGLLKNL</td>\n",
              "      <td>1</td>\n",
              "    </tr>\n",
              "    <tr>\n",
              "      <th>218684</th>\n",
              "      <td>FFHHIFRGIVHVGKTIHRLVTG</td>\n",
              "      <td>1</td>\n",
              "    </tr>\n",
              "    <tr>\n",
              "      <th>218685</th>\n",
              "      <td>IIGHLIKTALGFLGL</td>\n",
              "      <td>1</td>\n",
              "    </tr>\n",
              "    <tr>\n",
              "      <th>218686</th>\n",
              "      <td>FFPTIAGLTKLFCAITKKC</td>\n",
              "      <td>1</td>\n",
              "    </tr>\n",
              "    <tr>\n",
              "      <th>218687</th>\n",
              "      <td>PKRKSATKGDEPA</td>\n",
              "      <td>1</td>\n",
              "    </tr>\n",
              "  </tbody>\n",
              "</table>\n",
              "<p>218688 rows × 2 columns</p>\n",
              "</div>"
            ],
            "text/plain": [
              "                                                Sequences  Labels\n",
              "0                                           FLPIVGRLISGLL       1\n",
              "1       APQMKTRDVLERTHKCFLVGGECKSECSSWEYEYVFCYTGPCCVMR...       1\n",
              "2                    KRGLWESLKRKATKLGDDIRNTLRNFKIKFPVPRQG       1\n",
              "3                   TNYGNGVGVPDAIMAGIIKLIFIFNIRQGYNFGKKAT       1\n",
              "4                        RADTQTYQPYNKDWIKEKIYVLLRRQAQQAGK       1\n",
              "...                                                   ...     ...\n",
              "218683                               IMGPVLGLVSNALGGLLKNL       1\n",
              "218684                             FFHHIFRGIVHVGKTIHRLVTG       1\n",
              "218685                                    IIGHLIKTALGFLGL       1\n",
              "218686                                FFPTIAGLTKLFCAITKKC       1\n",
              "218687                                      PKRKSATKGDEPA       1\n",
              "\n",
              "[218688 rows x 2 columns]"
            ]
          },
          "metadata": {
            "tags": []
          },
          "execution_count": 23
        }
      ]
    },
    {
      "cell_type": "markdown",
      "metadata": {
        "id": "VNssXYU9axkS"
      },
      "source": [
        "Visualize the new oversampled data"
      ]
    },
    {
      "cell_type": "code",
      "metadata": {
        "id": "DxZnjaY94T0p"
      },
      "source": [
        "#positive_examples=dftrain.query['Labels'==1]\n",
        "\n",
        "options = [1]  \n",
        "    \n",
        "# selecting rows based on condition  \n",
        "datap = dftrain[dftrain['Labels'].isin(options)]  \n",
        "positive_examples=datap['Sequences']"
      ],
      "execution_count": 24,
      "outputs": []
    },
    {
      "cell_type": "code",
      "metadata": {
        "colab": {
          "base_uri": "https://localhost:8080/"
        },
        "id": "0PBF6C6eaXqe",
        "outputId": "fac017fe-4db7-4ea0-8f78-67a1654ed15e"
      },
      "source": [
        "positive_examples"
      ],
      "execution_count": 25,
      "outputs": [
        {
          "output_type": "execute_result",
          "data": {
            "text/plain": [
              "0                                             FLPIVGRLISGLL\n",
              "1         APQMKTRDVLERTHKCFLVGGECKSECSSWEYEYVFCYTGPCCVMR...\n",
              "2                      KRGLWESLKRKATKLGDDIRNTLRNFKIKFPVPRQG\n",
              "3                     TNYGNGVGVPDAIMAGIIKLIFIFNIRQGYNFGKKAT\n",
              "4                          RADTQTYQPYNKDWIKEKIYVLLRRQAQQAGK\n",
              "                                ...                        \n",
              "218683                                 IMGPVLGLVSNALGGLLKNL\n",
              "218684                               FFHHIFRGIVHVGKTIHRLVTG\n",
              "218685                                      IIGHLIKTALGFLGL\n",
              "218686                                  FFPTIAGLTKLFCAITKKC\n",
              "218687                                        PKRKSATKGDEPA\n",
              "Name: Sequences, Length: 109344, dtype: object"
            ]
          },
          "metadata": {
            "tags": []
          },
          "execution_count": 25
        }
      ]
    },
    {
      "cell_type": "code",
      "metadata": {
        "id": "-DuAzLjqBigS"
      },
      "source": [
        "#positive_examples=dftrain.query['Labels'==1]\n",
        "\n",
        "options = [0]  \n",
        "    \n",
        "# selecting rows based on condition  \n",
        "datan = dftrain[dftrain['Labels'].isin(options)]  \n",
        "negative_examples=datan['Sequences']"
      ],
      "execution_count": 26,
      "outputs": []
    },
    {
      "cell_type": "code",
      "metadata": {
        "colab": {
          "base_uri": "https://localhost:8080/"
        },
        "id": "yB3sFVH9aTh_",
        "outputId": "fef92695-10ea-4700-a603-79997926c4cf"
      },
      "source": [
        "negative_examples"
      ],
      "execution_count": 27,
      "outputs": [
        {
          "output_type": "execute_result",
          "data": {
            "text/plain": [
              "5264                                                     GW\n",
              "5265                                                   LWSG\n",
              "5266                                                   YMRF\n",
              "5267                                                   FLRF\n",
              "5268                                                   GSWD\n",
              "                                ...                        \n",
              "114603    MRHPLVMGNWKLNGSTHMVNELIANLRKELSTVEGCGVAIAPPAIY...\n",
              "114604    MPRYKLTIEYDGGPFCGWQYQTNGPSVQGALEAAVKAICGDDVRVH...\n",
              "114605    MEMVDSCHFSPSEFFYDSSCIPSPEEGYTEDYEHGMSIYGAHKKDL...\n",
              "114606    MFNLFPPFGANTAIFNDAPQPWQVGFQDGASPTQEGITELHDSIFF...\n",
              "114607    MSMPFYVSPEQLMKDRADYARKGIARGRSVVVAAYDGGIAFATENP...\n",
              "Name: Sequences, Length: 109344, dtype: object"
            ]
          },
          "metadata": {
            "tags": []
          },
          "execution_count": 27
        }
      ]
    },
    {
      "cell_type": "code",
      "metadata": {
        "colab": {
          "base_uri": "https://localhost:8080/",
          "height": 298
        },
        "id": "B4wdQEONA2u7",
        "outputId": "55929452-dda8-4272-a2f6-032169d696f4"
      },
      "source": [
        "\n",
        "fig, axes = plt.subplots(1,2)\n",
        "axes[0].hist([len(seq) for seq in positive_examples])\n",
        "axes[0].set_title('Positive Sequence Lengths')\n",
        "axes[1].hist([len(seq) for seq in negative_examples])\n",
        "axes[1].set_title('Negative Sequence Lengths')"
      ],
      "execution_count": 28,
      "outputs": [
        {
          "output_type": "execute_result",
          "data": {
            "text/plain": [
              "Text(0.5, 1.0, 'Negative Sequence Lengths')"
            ]
          },
          "metadata": {
            "tags": []
          },
          "execution_count": 28
        },
        {
          "output_type": "display_data",
          "data": {
            "image/png": "[encoded data removed]",
            "text/plain": [
              "<Figure size 432x288 with 2 Axes>"
            ]
          },
          "metadata": {
            "tags": [],
            "needs_background": "light"
          }
        }
      ]
    },
    {
      "cell_type": "markdown",
      "metadata": {
        "id": "xSKLTjuRzHLO"
      },
      "source": [
        "Here I am using Undersampling techniques with Random undersampling from imblearn, which undersamples the majority class"
      ]
    },
    {
      "cell_type": "code",
      "metadata": {
        "colab": {
          "base_uri": "https://localhost:8080/"
        },
        "id": "1DSpGJX5zHYS",
        "outputId": "f3f5a553-f268-47a4-891f-dae9ac64b051"
      },
      "source": [
        "from imblearn.under_sampling import RandomUnderSampler\n",
        "\n",
        "os =  RandomUnderSampler(sampling_strategy='majority')\n",
        "X_res_u, y_res_u = os.fit_sample(X , y)"
      ],
      "execution_count": 71,
      "outputs": [
        {
          "output_type": "stream",
          "text": [
            "/usr/local/lib/python3.7/dist-packages/sklearn/utils/deprecation.py:87: FutureWarning: Function safe_indexing is deprecated; safe_indexing is deprecated in version 0.22 and will be removed in version 0.24.\n",
            "  warnings.warn(msg, category=FutureWarning)\n"
          ],
          "name": "stderr"
        }
      ]
    },
    {
      "cell_type": "code",
      "metadata": {
        "colab": {
          "base_uri": "https://localhost:8080/"
        },
        "id": "rAmIbxJGz184",
        "outputId": "1580cf7a-cd85-4596-8190-3edbda9f1a8b"
      },
      "source": [
        "print('Original dataset shape {}'.format(Counter(y)))\n",
        "print('Resampled dataset shape {}'.format(Counter(y_res_u)))"
      ],
      "execution_count": 72,
      "outputs": [
        {
          "output_type": "stream",
          "text": [
            "Original dataset shape Counter({0: 109344, 1: 5264})\n",
            "Resampled dataset shape Counter({0: 5264, 1: 5264})\n"
          ],
          "name": "stdout"
        }
      ]
    },
    {
      "cell_type": "code",
      "metadata": {
        "id": "TxJ81JkJz8x7"
      },
      "source": [
        "dftrain_u=pd.DataFrame(X_res_u)\n",
        "dftrain_u.columns =['Sequences']\n",
        "dftrain_u['Labels']=y_res_u"
      ],
      "execution_count": 73,
      "outputs": []
    },
    {
      "cell_type": "markdown",
      "metadata": {
        "id": "YYK9CimX0GJO"
      },
      "source": [
        "Visualize the new oversampled data"
      ]
    },
    {
      "cell_type": "code",
      "metadata": {
        "colab": {
          "base_uri": "https://localhost:8080/",
          "height": 298
        },
        "id": "_2SFuewD0FP2",
        "outputId": "cace415e-393a-4ae1-e84f-492ef7fb34dd"
      },
      "source": [
        "#positive_examples=dftrain.query['Labels'==1]\n",
        " \n",
        "datapu = dftrain_u[dftrain_u['Labels'].isin([1])]  \n",
        "positive_examples=datapu['Sequences']\n",
        " \n",
        "datanu = dftrain_u[dftrain_u['Labels'].isin([0])]  \n",
        "negative_examples=datanu['Sequences']\n",
        "\n",
        "fig, axes = plt.subplots(1,2)\n",
        "axes[0].hist([len(seq) for seq in positive_examples])\n",
        "axes[0].set_title('Positive Sequence Lengths')\n",
        "axes[1].hist([len(seq) for seq in negative_examples])\n",
        "axes[1].set_title('Negative Sequence Lengths')"
      ],
      "execution_count": 77,
      "outputs": [
        {
          "output_type": "execute_result",
          "data": {
            "text/plain": [
              "Text(0.5, 1.0, 'Negative Sequence Lengths')"
            ]
          },
          "metadata": {
            "tags": []
          },
          "execution_count": 77
        },
        {
          "output_type": "display_data",
          "data": {
            "image/png": "[encoded data removed]",
            "text/plain": [
              "<Figure size 432x288 with 2 Axes>"
            ]
          },
          "metadata": {
            "tags": [],
            "needs_background": "light"
          }
        }
      ]
    },
    {
      "cell_type": "markdown",
      "metadata": {
        "id": "o_2my11AoWlM"
      },
      "source": [
        "#Tokenize Charecters\n",
        "\n",
        "Tokenize the sequence in to chanrecters"
      ]
    },
    {
      "cell_type": "code",
      "metadata": {
        "id": "XVNDxicexlch"
      },
      "source": [
        "# pre processing data\n",
        "def cleanData(sentence):\n",
        "    processedList = \"\"\n",
        "    \n",
        "# Tokenize sequence to charecters\n",
        "    sentence=list(sentence)\n",
        "  \n",
        "    return sentence"
      ],
      "execution_count": 30,
      "outputs": []
    },
    {
      "cell_type": "code",
      "metadata": {
        "id": "TE5DgLbPgLEC"
      },
      "source": [
        "\n",
        "from sklearn.model_selection import KFold\n",
        "from sklearn.model_selection import train_test_split\n",
        "from sklearn.model_selection import GridSearchCV\n",
        "import xgboost\n",
        "from sklearn.ensemble import VotingRegressor\n",
        "from sklearn.model_selection import cross_val_score\n",
        "from sklearn.model_selection import LeaveOneOut\n",
        "from sklearn.metrics import classification_report\n",
        "from sklearn.metrics import accuracy_score, confusion_matrix,roc_auc_score,f1_score\n",
        "from sklearn.svm import SVC\n",
        "\n",
        "\n",
        "from sklearn.ensemble import RandomForestClassifier\n",
        "from sklearn.svm import LinearSVC\n",
        "from sklearn.pipeline import make_pipeline\n",
        "from sklearn.model_selection import cross_val_score\n",
        "from sklearn.model_selection import cross_validate\n",
        "from sklearn.feature_extraction.text import TfidfVectorizer\n",
        "from sklearn.pipeline import Pipeline"
      ],
      "execution_count": 154,
      "outputs": []
    },
    {
      "cell_type": "markdown",
      "metadata": {
        "id": "a76ZJQe_gbpI"
      },
      "source": [
        "#Intitialisation"
      ]
    },
    {
      "cell_type": "code",
      "metadata": {
        "id": "o1EmV5YIgikT"
      },
      "source": [
        "# Havent used yet\n",
        "result = pd.DataFrame(columns = (\"classifers\",\"Training\",\"Testing\"))\n",
        "classifier, train_scores, test_scores = [],[],[]"
      ],
      "execution_count": 32,
      "outputs": []
    },
    {
      "cell_type": "markdown",
      "metadata": {
        "id": "WQHy9-D-jB4S"
      },
      "source": [
        "#Cross validation "
      ]
    },
    {
      "cell_type": "code",
      "metadata": {
        "id": "pUnQk0HKgo4I"
      },
      "source": [
        "#Cross validation with K fold=5\n",
        "k_fold = KFold(n_splits=5, shuffle=True,random_state=1)"
      ],
      "execution_count": 33,
      "outputs": []
    },
    {
      "cell_type": "markdown",
      "metadata": {
        "id": "9wrIuu7QjX7S"
      },
      "source": [
        "#Baselines"
      ]
    },
    {
      "cell_type": "markdown",
      "metadata": {
        "id": "EAxJ6Xw2gqyk"
      },
      "source": [
        "##Random Forest Classifier with oversampling data"
      ]
    },
    {
      "cell_type": "code",
      "metadata": {
        "colab": {
          "base_uri": "https://localhost:8080/"
        },
        "id": "34uXjE3OoodI",
        "outputId": "dbead747-6fcd-47a8-97d7-f23d18275cdb"
      },
      "source": [
        "# tokenize charecters\n",
        "dftrain['Sequences']  = dftrain['Sequences'] .map(lambda x: cleanData(x))\n",
        "dftrain['Sequences']"
      ],
      "execution_count": 34,
      "outputs": [
        {
          "output_type": "execute_result",
          "data": {
            "text/plain": [
              "0                   [F, L, P, I, V, G, R, L, I, S, G, L, L]\n",
              "1         [A, P, Q, M, K, T, R, D, V, L, E, R, T, H, K, ...\n",
              "2         [K, R, G, L, W, E, S, L, K, R, K, A, T, K, L, ...\n",
              "3         [T, N, Y, G, N, G, V, G, V, P, D, A, I, M, A, ...\n",
              "4         [R, A, D, T, Q, T, Y, Q, P, Y, N, K, D, W, I, ...\n",
              "                                ...                        \n",
              "218683    [I, M, G, P, V, L, G, L, V, S, N, A, L, G, G, ...\n",
              "218684    [F, F, H, H, I, F, R, G, I, V, H, V, G, K, T, ...\n",
              "218685        [I, I, G, H, L, I, K, T, A, L, G, F, L, G, L]\n",
              "218686    [F, F, P, T, I, A, G, L, T, K, L, F, C, A, I, ...\n",
              "218687              [P, K, R, K, S, A, T, K, G, D, E, P, A]\n",
              "Name: Sequences, Length: 218688, dtype: object"
            ]
          },
          "metadata": {
            "tags": []
          },
          "execution_count": 34
        }
      ]
    },
    {
      "cell_type": "code",
      "metadata": {
        "id": "Gf5A_tOb9qPA"
      },
      "source": [
        "rfs = RandomForestClassifier()"
      ],
      "execution_count": 35,
      "outputs": []
    },
    {
      "cell_type": "code",
      "metadata": {
        "id": "pxBPOmt29oXf"
      },
      "source": [
        "X_rs=dftrain['Sequences'] \n",
        "y_rs=dftrain['Labels'] "
      ],
      "execution_count": 36,
      "outputs": []
    },
    {
      "cell_type": "code",
      "metadata": {
        "id": "JLM11XDMnBFw"
      },
      "source": [
        "X_train, X_test, y_train, y_test = train_test_split(X_rs, y_rs, stratify=y_rs, \n",
        "    test_size=0.2, shuffle=True)"
      ],
      "execution_count": 67,
      "outputs": []
    },
    {
      "cell_type": "code",
      "metadata": {
        "id": "CL6q7VjMbCbX"
      },
      "source": [
        "#TFIDI Tokenizor\n",
        "\n",
        "def dummy(doc):\n",
        "    return doc\n",
        "tfidf = TfidfVectorizer(tokenizer=dummy,preprocessor=dummy,lowercase=False)    "
      ],
      "execution_count": 86,
      "outputs": []
    },
    {
      "cell_type": "code",
      "metadata": {
        "colab": {
          "base_uri": "https://localhost:8080/"
        },
        "id": "iUlhwYgywJ3w",
        "outputId": "9d204f70-7c64-46d7-be55-640c8965f420"
      },
      "source": [
        "X_train = tfidf.fit_transform(X_train)\n",
        "X_test = tfidf.transform(X_test)\n",
        "\n",
        "rfs.fit(X_train,y_train)\n",
        "y_pred = rfs.predict(X_test)\n",
        "accuracy_score(y_test, y_pred)"
      ],
      "execution_count": 69,
      "outputs": [
        {
          "output_type": "execute_result",
          "data": {
            "text/plain": [
              "0.992363619735699"
            ]
          },
          "metadata": {
            "tags": []
          },
          "execution_count": 69
        }
      ]
    },
    {
      "cell_type": "code",
      "metadata": {
        "colab": {
          "base_uri": "https://localhost:8080/"
        },
        "id": "G2-Qt_ZqyOk4",
        "outputId": "7ded7e60-bf21-4d26-9e62-5d307b972d57"
      },
      "source": [
        "print(classification_report(y_test, y_pred))"
      ],
      "execution_count": 70,
      "outputs": [
        {
          "output_type": "stream",
          "text": [
            "              precision    recall  f1-score   support\n",
            "\n",
            "           0       1.00      0.98      0.99     21869\n",
            "           1       0.98      1.00      0.99     21869\n",
            "\n",
            "    accuracy                           0.99     43738\n",
            "   macro avg       0.99      0.99      0.99     43738\n",
            "weighted avg       0.99      0.99      0.99     43738\n",
            "\n"
          ],
          "name": "stdout"
        }
      ]
    },
    {
      "cell_type": "markdown",
      "metadata": {
        "id": "3Ohvs9ssyaPz"
      },
      "source": [
        "As we can see , Definetly model is overfitting data"
      ]
    },
    {
      "cell_type": "code",
      "metadata": {
        "id": "6Q-nyoSoFHIb"
      },
      "source": [
        "scores = cross_validate(clf_rf1, X_rs, y_rs, scoring=['accuracy','f1','precision','roc_auc'], cv=k_fold, return_train_score=True)"
      ],
      "execution_count": 42,
      "outputs": []
    },
    {
      "cell_type": "code",
      "metadata": {
        "colab": {
          "base_uri": "https://localhost:8080/"
        },
        "id": "tCswhRF6iRv9",
        "outputId": "64f4c7a5-56af-4abe-add2-58ac7716b0f7"
      },
      "source": [
        "print(\"Reg: Test Accuracy: %0.4f (+/- %0.4f)\" % (scores['test_accuracy'].mean(), scores['test_accuracy'].std()))\n",
        "print(\"Reg: Test f1 score: %0.4f (+/- %0.4f)\" % (scores['test_f1'].mean(), scores['test_f1'].std()))\n",
        "print(\"Reg: Test precision: %0.4f (+/- %0.4f)\" % (scores['test_precision'].mean(), scores['test_precision'].std()))\n",
        "print(\"Reg: Test roc_auc: %0.4f (+/- %0.4f)\" % (scores['test_roc_auc'].mean(), scores['test_roc_auc'].std()))"
      ],
      "execution_count": 44,
      "outputs": [
        {
          "output_type": "stream",
          "text": [
            "Reg: Test Accuracy: 0.9928 (+/- 0.0003)\n",
            "Reg: Test f1 score: 0.9929 (+/- 0.0003)\n",
            "Reg: Test precision: 0.9859 (+/- 0.0006)\n",
            "Reg: Test roc_auc: 0.9953 (+/- 0.0002)\n"
          ],
          "name": "stdout"
        }
      ]
    },
    {
      "cell_type": "markdown",
      "metadata": {
        "id": "XzgmasMqypmp"
      },
      "source": [
        "##Random Forest Classifier with Undersampling data"
      ]
    },
    {
      "cell_type": "code",
      "metadata": {
        "colab": {
          "base_uri": "https://localhost:8080/"
        },
        "id": "3asuqxHWjMuz",
        "outputId": "0a7a2dea-27c4-4a26-a3f2-a30a669064de"
      },
      "source": [
        "# tokenize charecters\n",
        "dftrain_u['Sequences']  = dftrain_u['Sequences'] .map(lambda x: cleanData(x))\n",
        "dftrain_u['Sequences']"
      ],
      "execution_count": 78,
      "outputs": [
        {
          "output_type": "execute_result",
          "data": {
            "text/plain": [
              "0        [M, R, T, E, Q, L, T, A, K, A, M, E, K, V, N, ...\n",
              "1        [M, A, A, A, Q, V, K, N, E, K, I, G, N, P, K, ...\n",
              "2        [M, K, N, L, I, K, N, K, I, K, L, S, T, Y, N, ...\n",
              "3        [M, I, R, R, R, K, K, V, R, K, L, R, G, S, H, ...\n",
              "4        [M, A, I, L, A, K, A, V, G, R, R, K, E, A, V, ...\n",
              "                               ...                        \n",
              "10523    [G, L, W, S, K, I, K, E, V, G, K, E, A, A, K, ...\n",
              "10524    [V, L, E, V, Y, Y, T, S, L, R, C, R, C, V, Q, ...\n",
              "10525                 [G, I, H, R, I, L, K, Y, G, K, P, S]\n",
              "10526    [K, L, G, I, D, V, S, Q, P, T, S, T, S, S, F, ...\n",
              "10527                       [G, G, G, G, G, G, H, L, V, A]\n",
              "Name: Sequences, Length: 10528, dtype: object"
            ]
          },
          "metadata": {
            "tags": []
          },
          "execution_count": 78
        }
      ]
    },
    {
      "cell_type": "code",
      "metadata": {
        "id": "Io0UUDs908m-"
      },
      "source": [
        "X_rsu=dftrain_u['Sequences'] \n",
        "y_rsu=dftrain_u['Labels'] "
      ],
      "execution_count": 80,
      "outputs": []
    },
    {
      "cell_type": "code",
      "metadata": {
        "id": "PYONUPZW1Dyq"
      },
      "source": [
        "X_train, X_test, y_train, y_test = train_test_split(X_rsu, y_rsu, stratify=y_rsu, \n",
        "    test_size=0.2, shuffle=True)"
      ],
      "execution_count": 81,
      "outputs": []
    },
    {
      "cell_type": "code",
      "metadata": {
        "colab": {
          "base_uri": "https://localhost:8080/"
        },
        "id": "mr4tJ2Hc1I8F",
        "outputId": "8cf649a8-b8b2-4836-ca73-b0e8abdc8d59"
      },
      "source": [
        "X_train = tfidf.fit_transform(X_train)\n",
        "X_test = tfidf.transform(X_test)\n",
        "\n",
        "rfs.fit(X_train,y_train)\n",
        "y_pred = rfs.predict(X_test)\n",
        "accuracy_score(y_test, y_pred)"
      ],
      "execution_count": 82,
      "outputs": [
        {
          "output_type": "execute_result",
          "data": {
            "text/plain": [
              "0.9344729344729344"
            ]
          },
          "metadata": {
            "tags": []
          },
          "execution_count": 82
        }
      ]
    },
    {
      "cell_type": "code",
      "metadata": {
        "colab": {
          "base_uri": "https://localhost:8080/"
        },
        "id": "YrrQyGSe1VUC",
        "outputId": "32886c60-8f0e-4acf-efd8-7be2f50037ad"
      },
      "source": [
        "print(classification_report(y_test, y_pred))"
      ],
      "execution_count": 83,
      "outputs": [
        {
          "output_type": "stream",
          "text": [
            "              precision    recall  f1-score   support\n",
            "\n",
            "           0       0.94      0.93      0.93      1053\n",
            "           1       0.93      0.94      0.94      1053\n",
            "\n",
            "    accuracy                           0.93      2106\n",
            "   macro avg       0.93      0.93      0.93      2106\n",
            "weighted avg       0.93      0.93      0.93      2106\n",
            "\n"
          ],
          "name": "stdout"
        }
      ]
    },
    {
      "cell_type": "markdown",
      "metadata": {
        "id": "Mvx0itSQ1iiX"
      },
      "source": [
        "Since the data is less, I would like to see the effects of hyperparameters"
      ]
    },
    {
      "cell_type": "code",
      "metadata": {
        "colab": {
          "base_uri": "https://localhost:8080/"
        },
        "id": "_Zogw3XN1ivz",
        "outputId": "42b791d1-fb2c-49ac-fb52-1d76cb0cf4ff"
      },
      "source": [
        "X_train, X_test, y_train, y_test = train_test_split(X_rsu, y_rsu, stratify=y_rsu, \n",
        "    test_size=0.2, shuffle=True)\n",
        "\n",
        "\n",
        "parameters = {\n",
        "  'model__max_depth': [None,10,20,50],\n",
        "  'model__n_estimators':[100,500,1000,1500,2000]\n",
        "  }\n",
        "\n",
        "pipeline = Pipeline([('tfidf', tfidf),('model',rfs)])\n",
        "\n",
        "grid = GridSearchCV(pipeline, cv=k_fold, n_jobs=-1, param_grid=parameters)\n",
        "grid.fit(X_train, y_train)\n",
        "print('finished')\n",
        "\n"
      ],
      "execution_count": 96,
      "outputs": [
        {
          "output_type": "stream",
          "text": [
            "finished\n"
          ],
          "name": "stdout"
        }
      ]
    },
    {
      "cell_type": "code",
      "metadata": {
        "id": "1lleEOMt3V85"
      },
      "source": [
        "#to try with few more parameters, Not tried\n",
        "parameters = {\n",
        "  'model__n_estimators':[100,500,1000,1500,3500],\n",
        "  'model__max_features': ['auto', 'sqrt', 'log2'],\n",
        "  'model__min_samples_split': [2,5,10,15,20],\n",
        "  'model__max_depth': [None,10,20,30,40,50],\n",
        "  'model__min_samples_leaf' : [1,2,5,10,15]\n",
        "  }"
      ],
      "execution_count": null,
      "outputs": []
    },
    {
      "cell_type": "code",
      "metadata": {
        "colab": {
          "base_uri": "https://localhost:8080/"
        },
        "id": "pDszOjz5BA3P",
        "outputId": "fc00b8a1-fa02-4101-e1a8-0048c717699c"
      },
      "source": [
        "print(\"Best parameters set found on development set:\")\n",
        "print()\n",
        "print(grid.best_params_)"
      ],
      "execution_count": 97,
      "outputs": [
        {
          "output_type": "stream",
          "text": [
            "Best parameters set found on development set:\n",
            "\n",
            "{'model__max_depth': None, 'model__n_estimators': 500}\n"
          ],
          "name": "stdout"
        }
      ]
    },
    {
      "cell_type": "code",
      "metadata": {
        "colab": {
          "base_uri": "https://localhost:8080/"
        },
        "id": "AzVQC8JoBHix",
        "outputId": "a8c966cd-b3c7-4495-bbb0-62b89e1d248c"
      },
      "source": [
        "print(\"Grid scores on development set:\")\n",
        "print()\n",
        "means = grid.cv_results_['mean_test_score']\n",
        "stds = grid.cv_results_['std_test_score']\n",
        "for mean, std, params in zip(means, stds, grid.cv_results_['params']):\n",
        "    print(\"%0.3f (+/-%0.03f) for %r\"\n",
        "          % (mean, std * 2, params))"
      ],
      "execution_count": 98,
      "outputs": [
        {
          "output_type": "stream",
          "text": [
            "Grid scores on development set:\n",
            "\n",
            "0.936 (+/-0.013) for {'model__max_depth': None, 'model__n_estimators': 100}\n",
            "0.936 (+/-0.010) for {'model__max_depth': None, 'model__n_estimators': 500}\n",
            "0.936 (+/-0.011) for {'model__max_depth': None, 'model__n_estimators': 1000}\n",
            "0.936 (+/-0.012) for {'model__max_depth': None, 'model__n_estimators': 1500}\n",
            "0.935 (+/-0.011) for {'model__max_depth': None, 'model__n_estimators': 2000}\n",
            "0.932 (+/-0.010) for {'model__max_depth': 10, 'model__n_estimators': 100}\n",
            "0.931 (+/-0.011) for {'model__max_depth': 10, 'model__n_estimators': 500}\n",
            "0.931 (+/-0.008) for {'model__max_depth': 10, 'model__n_estimators': 1000}\n",
            "0.931 (+/-0.010) for {'model__max_depth': 10, 'model__n_estimators': 1500}\n",
            "0.930 (+/-0.010) for {'model__max_depth': 10, 'model__n_estimators': 2000}\n",
            "0.935 (+/-0.014) for {'model__max_depth': 20, 'model__n_estimators': 100}\n",
            "0.935 (+/-0.011) for {'model__max_depth': 20, 'model__n_estimators': 500}\n",
            "0.935 (+/-0.011) for {'model__max_depth': 20, 'model__n_estimators': 1000}\n",
            "0.935 (+/-0.011) for {'model__max_depth': 20, 'model__n_estimators': 1500}\n",
            "0.935 (+/-0.011) for {'model__max_depth': 20, 'model__n_estimators': 2000}\n",
            "0.934 (+/-0.010) for {'model__max_depth': 50, 'model__n_estimators': 100}\n",
            "0.935 (+/-0.009) for {'model__max_depth': 50, 'model__n_estimators': 500}\n",
            "0.936 (+/-0.010) for {'model__max_depth': 50, 'model__n_estimators': 1000}\n",
            "0.936 (+/-0.011) for {'model__max_depth': 50, 'model__n_estimators': 1500}\n",
            "0.935 (+/-0.011) for {'model__max_depth': 50, 'model__n_estimators': 2000}\n"
          ],
          "name": "stdout"
        }
      ]
    },
    {
      "cell_type": "code",
      "metadata": {
        "colab": {
          "base_uri": "https://localhost:8080/",
          "height": 69
        },
        "id": "wrdMWGEuBf6M",
        "outputId": "145fcdaf-b218-47c8-f194-c7afa2542d6e"
      },
      "source": [
        "classification_report(grid.best_estimator_.predict(X_test), y_test)\n"
      ],
      "execution_count": 100,
      "outputs": [
        {
          "output_type": "execute_result",
          "data": {
            "application/vnd.google.colaboratory.intrinsic+json": {
              "type": "string"
            },
            "text/plain": [
              "'              precision    recall  f1-score   support\\n\\n           0       0.92      0.94      0.93      1033\\n           1       0.94      0.93      0.94      1073\\n\\n    accuracy                           0.93      2106\\n   macro avg       0.93      0.93      0.93      2106\\nweighted avg       0.93      0.93      0.93      2106\\n'"
            ]
          },
          "metadata": {
            "tags": []
          },
          "execution_count": 100
        }
      ]
    },
    {
      "cell_type": "code",
      "metadata": {
        "id": "JloQZ0FitRCo"
      },
      "source": [
        ""
      ],
      "execution_count": null,
      "outputs": []
    },
    {
      "cell_type": "markdown",
      "metadata": {
        "id": "XAfcR181q9t3"
      },
      "source": [
        "##SMOTE\n",
        "This is another Technnique in oversampling :  we can try later\n",
        "This has to be done after transform data"
      ]
    },
    {
      "cell_type": "code",
      "metadata": {
        "colab": {
          "base_uri": "https://localhost:8080/"
        },
        "id": "ZF_jkI21rD5-",
        "outputId": "96d42461-7d6e-4465-89d8-e8b9ae9c54ec"
      },
      "source": [
        "# tokenize charecters\n",
        "df['Sequences']  = df['Sequences'] .map(lambda x: cleanData(x))0"
      ],
      "execution_count": null,
      "outputs": [
        {
          "output_type": "execute_result",
          "data": {
            "text/plain": [
              "0         [R, T, C, E, N, L, A, D, K, Y, R, G, P, C, F, ...\n",
              "1         [V, F, G, T, L, G, S, T, D, D, S, L, F, G, R, ...\n",
              "2         [G, I, F, S, K, K, A, G, K, G, F, K, K, K, S, ...\n",
              "3         [R, I, G, S, F, L, G, A, L, A, S, K, L, P, T, ...\n",
              "4                      [G, I, H, D, I, L, K, Y, G, K, P, A]\n",
              "                                ...                        \n",
              "114603    [M, E, K, C, E, G, I, V, I, R, Q, T, S, Y, R, ...\n",
              "114604    [M, D, R, L, V, I, G, G, R, E, L, K, N, R, L, ...\n",
              "114605    [M, K, V, K, V, F, D, L, N, G, Q, P, V, D, E, ...\n",
              "114606    [M, S, T, N, L, H, W, Q, S, F, G, Q, G, P, D, ...\n",
              "114607    [M, Q, L, T, N, K, K, I, V, V, T, G, V, S, S, ...\n",
              "Name: Sequences, Length: 114608, dtype: object"
            ]
          },
          "metadata": {
            "tags": []
          },
          "execution_count": 300
        }
      ]
    },
    {
      "cell_type": "code",
      "metadata": {
        "colab": {
          "base_uri": "https://localhost:8080/"
        },
        "id": "uHPHAQM8rLwk",
        "outputId": "9b4672ae-8ba6-4f33-c662-2f18f2eb2026"
      },
      "source": [
        "#TfidfVectorizer\n",
        "\n",
        "X_s=df['Sequences'] \n",
        "y_s=df['Labels'] \n",
        "\n",
        "x_transform_s,word_s = tfdi(X_s)"
      ],
      "execution_count": null,
      "outputs": [
        {
          "output_type": "stream",
          "text": [
            "/usr/local/lib/python3.7/dist-packages/sklearn/feature_extraction/text.py:507: UserWarning: The parameter 'token_pattern' will not be used since 'tokenizer' is not None'\n",
            "  warnings.warn(\"The parameter 'token_pattern' will not be used\"\n"
          ],
          "name": "stderr"
        }
      ]
    },
    {
      "cell_type": "code",
      "metadata": {
        "colab": {
          "base_uri": "https://localhost:8080/"
        },
        "id": "d1DIAxFHsH28",
        "outputId": "2235ed83-8a18-42bf-d5b2-bd7bdb44c602"
      },
      "source": [
        "# Imbalance data with SMOTE\n",
        "from imblearn.over_sampling import SMOTE\n",
        "\n",
        "sm =  SMOTE(sampling_strategy='minority')\n",
        "X_res_s, y_res_s = sm.fit_sample(x_transform_s , y_s)"
      ],
      "execution_count": null,
      "outputs": [
        {
          "output_type": "stream",
          "text": [
            "/usr/local/lib/python3.7/dist-packages/sklearn/utils/deprecation.py:87: FutureWarning: Function safe_indexing is deprecated; safe_indexing is deprecated in version 0.22 and will be removed in version 0.24.\n",
            "  warnings.warn(msg, category=FutureWarning)\n"
          ],
          "name": "stderr"
        }
      ]
    },
    {
      "cell_type": "code",
      "metadata": {
        "colab": {
          "base_uri": "https://localhost:8080/"
        },
        "id": "fSpNyqqysYfW",
        "outputId": "72c41287-9e74-41e0-85ae-1d52acc3f866"
      },
      "source": [
        "print('Original dataset shape {}'.format(Counter(y_s)))\n",
        "print('Resampled dataset shape {}'.format(Counter(y_res_s)))"
      ],
      "execution_count": null,
      "outputs": [
        {
          "output_type": "stream",
          "text": [
            "Original dataset shape Counter({0: 109344, 1: 5264})\n",
            "Resampled dataset shape Counter({1: 109344, 0: 109344})\n"
          ],
          "name": "stdout"
        }
      ]
    },
    {
      "cell_type": "code",
      "metadata": {
        "id": "aOH3jYL1qePj"
      },
      "source": [
        "# SMOTE data\n",
        "\n",
        "X_train, X_test, y_train, y_test = train_test_split(X_res_s, y_res_s,\n",
        "    stratify=y_res_s, \n",
        "    test_size=0.2, shuffle=True)"
      ],
      "execution_count": null,
      "outputs": []
    },
    {
      "cell_type": "code",
      "metadata": {
        "colab": {
          "base_uri": "https://localhost:8080/"
        },
        "id": "xOmbCQQQr1YV",
        "outputId": "3b61a6da-071a-4d84-be2d-34d7f908aced"
      },
      "source": [
        "rfs = RandomForestClassifier()\n",
        "rfs.fit(X_train,y_train)\n",
        "y_pred = rfs.predict(X_test)\n",
        "accuracy_score(y_test, y_pred)"
      ],
      "execution_count": null,
      "outputs": [
        {
          "output_type": "execute_result",
          "data": {
            "text/plain": [
              "0.9807718688554575"
            ]
          },
          "metadata": {
            "tags": []
          },
          "execution_count": 310
        }
      ]
    },
    {
      "cell_type": "code",
      "metadata": {
        "colab": {
          "base_uri": "https://localhost:8080/"
        },
        "id": "hpGjqj1jvVW2",
        "outputId": "e3977b94-fd2f-4afe-8257-cf2d024c080b"
      },
      "source": [
        "from sklearn.metrics import scorer, accuracy_score, f1_score, confusion_matrix, roc_auc_score\n",
        "print('ROCAUC score:',roc_auc_score(y_test, y_pred))\n",
        "print('Accuracy score:',accuracy_score(y_test, y_pred))\n",
        "print('F1 score:',f1_score(y_test, y_pred))"
      ],
      "execution_count": null,
      "outputs": [
        {
          "output_type": "stream",
          "text": [
            "ROCAUC score: 0.9807718688554574\n",
            "Accuracy score: 0.9807718688554575\n",
            "F1 score: 0.980823167255729\n"
          ],
          "name": "stdout"
        },
        {
          "output_type": "stream",
          "text": [
            "/usr/local/lib/python3.7/dist-packages/sklearn/utils/deprecation.py:144: FutureWarning: The sklearn.metrics.scorer module is  deprecated in version 0.22 and will be removed in version 0.24. The corresponding classes / functions should instead be imported from sklearn.metrics. Anything that cannot be imported from sklearn.metrics is now part of the private API.\n",
            "  warnings.warn(message, FutureWarning)\n"
          ],
          "name": "stderr"
        }
      ]
    },
    {
      "cell_type": "code",
      "metadata": {
        "colab": {
          "base_uri": "https://localhost:8080/"
        },
        "id": "x4K3Ar9-vtBG",
        "outputId": "37bd018e-3677-4baf-eef2-a8d12d95a524"
      },
      "source": [
        "from sklearn.metrics import classification_report\n",
        "print(classification_report(y_test, y_pred))"
      ],
      "execution_count": null,
      "outputs": [
        {
          "output_type": "stream",
          "text": [
            "              precision    recall  f1-score   support\n",
            "\n",
            "           0       0.98      0.98      0.98     21869\n",
            "           1       0.98      0.98      0.98     21869\n",
            "\n",
            "    accuracy                           0.98     43738\n",
            "   macro avg       0.98      0.98      0.98     43738\n",
            "weighted avg       0.98      0.98      0.98     43738\n",
            "\n"
          ],
          "name": "stdout"
        }
      ]
    },
    {
      "cell_type": "markdown",
      "metadata": {
        "id": "X9IdaQLThOC7"
      },
      "source": [
        "##SVM classifier"
      ]
    },
    {
      "cell_type": "markdown",
      "metadata": {
        "id": "sQxgJypN27cR"
      },
      "source": [
        "### Penalized SVM\n",
        "\n",
        " Penalize Algorithms (Cost-Sensitive Training)\n",
        "The tactic is to use penalized learning algorithms that increase the cost of classification mistakes on the minority class.\n",
        "\n",
        "A popular algorithm for this technique is Penalized-SVM.\n",
        "\n",
        "During training, we can use the argument class_weight=’balanced’ to penalize mistakes on the minority class by an amount proportional to how under-represented it is.\n",
        "\n",
        "We also want to include the argument probability=True if we want to enable probability estimates for SVM algorithms.\n",
        "\n",
        "Let’s train a model using Penalized-SVM on the **original imbalanced dataset**:"
      ]
    },
    {
      "cell_type": "code",
      "metadata": {
        "colab": {
          "base_uri": "https://localhost:8080/"
        },
        "id": "65D14TK86HeQ",
        "outputId": "1f23cccc-8998-40ed-c6f4-17f89547af36"
      },
      "source": [
        "#Take dataframe with original dataset\n",
        "\n",
        "# tokenize charecters\n",
        "df['Sequences']  = df['Sequences'] .map(lambda x: cleanData(x))\n",
        "print(df['Sequences'].shape)\n",
        "df['Sequences']"
      ],
      "execution_count": 143,
      "outputs": [
        {
          "output_type": "stream",
          "text": [
            "(172996,)\n"
          ],
          "name": "stdout"
        },
        {
          "output_type": "execute_result",
          "data": {
            "text/plain": [
              "0                   [F, L, P, I, V, G, R, L, I, S, G, L, L]\n",
              "1         [A, P, Q, M, K, T, R, D, V, L, E, R, T, H, K, ...\n",
              "2         [K, R, G, L, W, E, S, L, K, R, K, A, T, K, L, ...\n",
              "3         [T, N, Y, G, N, G, V, G, V, P, D, A, I, M, A, ...\n",
              "4         [R, A, D, T, Q, T, Y, Q, P, Y, N, K, D, W, I, ...\n",
              "                                ...                        \n",
              "172991    [M, H, E, M, S, I, A, E, G, I, V, Q, L, L, E, ...\n",
              "172992    [M, A, P, K, K, K, E, V, T, R, I, A, K, L, N, ...\n",
              "172993    [M, P, L, D, V, A, L, K, K, K, Y, Y, D, E, V, ...\n",
              "172994    [M, I, G, L, N, H, Y, L, I, V, S, G, L, L, F, ...\n",
              "172995    [M, E, L, K, L, S, N, E, K, G, E, A, A, G, Q, ...\n",
              "Name: Sequences, Length: 172996, dtype: object"
            ]
          },
          "metadata": {
            "tags": []
          },
          "execution_count": 143
        }
      ]
    },
    {
      "cell_type": "code",
      "metadata": {
        "id": "MbORkfUpZMHr"
      },
      "source": [
        "X=df['Sequences']\n",
        "y=df['Labels'] "
      ],
      "execution_count": 144,
      "outputs": []
    },
    {
      "cell_type": "code",
      "metadata": {
        "id": "0FJa2rSd6dt5"
      },
      "source": [
        "X_train, X_test, y_train, y_test = train_test_split(X,y,stratify=y, \n",
        "    test_size=0.2, shuffle=True)\n",
        "\n",
        "X_train = tfidf.fit_transform(X_train)\n",
        "X_test = tfidf.transform(X_test)"
      ],
      "execution_count": 148,
      "outputs": []
    },
    {
      "cell_type": "code",
      "metadata": {
        "id": "oZ7HKFxcekWS"
      },
      "source": [
        "#SVM\n",
        "svc=SVC(random_state=0, tol=1e-5,class_weight='balanced', probability=True)\n"
      ],
      "execution_count": 146,
      "outputs": []
    },
    {
      "cell_type": "code",
      "metadata": {
        "colab": {
          "base_uri": "https://localhost:8080/"
        },
        "id": "zELZVYHgfqFw",
        "outputId": "04255cba-b278-4b6e-bc88-c0c0f83795b9"
      },
      "source": [
        "svc.fit(X_train,y_train)\n",
        "y_pred = svc.predict(X_test)\n",
        "accuracy_score(y_test, y_pred)"
      ],
      "execution_count": 149,
      "outputs": [
        {
          "output_type": "execute_result",
          "data": {
            "text/plain": [
              "0.9722543352601156"
            ]
          },
          "metadata": {
            "tags": []
          },
          "execution_count": 149
        }
      ]
    },
    {
      "cell_type": "markdown",
      "metadata": {
        "id": "8q4D8sLcMKAx"
      },
      "source": [
        "We can see that positive samples F1 score is 67% only."
      ]
    },
    {
      "cell_type": "code",
      "metadata": {
        "id": "fWee1fcOK-Xp",
        "colab": {
          "base_uri": "https://localhost:8080/"
        },
        "outputId": "dbee56d7-efb5-4ede-c1c1-31eeb0527f18"
      },
      "source": [
        "from sklearn.metrics import classification_report\n",
        "print(classification_report(y_test, y_pred))"
      ],
      "execution_count": 150,
      "outputs": [
        {
          "output_type": "stream",
          "text": [
            "              precision    recall  f1-score   support\n",
            "\n",
            "           0       1.00      0.97      0.99     33547\n",
            "           1       0.53      0.91      0.67      1053\n",
            "\n",
            "    accuracy                           0.97     34600\n",
            "   macro avg       0.76      0.94      0.83     34600\n",
            "weighted avg       0.98      0.97      0.98     34600\n",
            "\n"
          ],
          "name": "stdout"
        }
      ]
    },
    {
      "cell_type": "code",
      "metadata": {
        "colab": {
          "base_uri": "https://localhost:8080/"
        },
        "id": "TzFeuXiyMclA",
        "outputId": "d5ce9180-1153-4a8f-9650-874e929e3bb1"
      },
      "source": [
        "print('ROCAUC score:',roc_auc_score(y_test, y_pred ))\n",
        "print('Accuracy score:',accuracy_score(y_test, y_pred ))\n",
        "print('F1 score:',f1_score(y_test, y_pred ))\n",
        "print(confusion_matrix(y_test, y_pred))"
      ],
      "execution_count": 156,
      "outputs": [
        {
          "output_type": "stream",
          "text": [
            "ROCAUC score: 0.9410785695600036\n",
            "Accuracy score: 0.9722543352601156\n",
            "F1 score: 0.6657381615598886\n",
            "[[32684   863]\n",
            " [   97   956]]\n"
          ],
          "name": "stdout"
        }
      ]
    },
    {
      "cell_type": "markdown",
      "metadata": {
        "id": "iLhWm-fJi8Mt"
      },
      "source": [
        "SVM module is taking 1hr to execute, So we dicided to use Linear SVC where the kernel is linear, but it is much faster than svm model."
      ]
    },
    {
      "cell_type": "code",
      "metadata": {
        "colab": {
          "base_uri": "https://localhost:8080/"
        },
        "id": "eZvm9cePjJ8D",
        "outputId": "0cbe0f71-e92e-435e-ff54-ca2c61d14cc0"
      },
      "source": [
        "#Linear SVC\n",
        "\n",
        "svlc=LinearSVC(random_state=0, tol=1e-5,class_weight='balanced')\n",
        "svlc.fit(X_train,y_train)\n",
        "y_pred = svlc.predict(X_test)\n",
        "print(classification_report(y_test, y_pred))\n",
        "print('ROCAUC score:',roc_auc_score(y_test, y_pred ))\n",
        "print('Accuracy score:',accuracy_score(y_test, y_pred ))\n",
        "print('F1 score:',f1_score(y_test, y_pred ))\n",
        "print(confusion_matrix(y_test, y_pred))"
      ],
      "execution_count": 158,
      "outputs": [
        {
          "output_type": "stream",
          "text": [
            "              precision    recall  f1-score   support\n",
            "\n",
            "           0       1.00      0.93      0.96     33547\n",
            "           1       0.28      0.90      0.43      1053\n",
            "\n",
            "    accuracy                           0.93     34600\n",
            "   macro avg       0.64      0.91      0.69     34600\n",
            "weighted avg       0.97      0.93      0.94     34600\n",
            "\n",
            "ROCAUC score: 0.911965653437817\n",
            "Accuracy score: 0.9265028901734104\n",
            "F1 score: 0.4260889189799142\n",
            "[[31113  2434]\n",
            " [  109   944]]\n"
          ],
          "name": "stdout"
        }
      ]
    },
    {
      "cell_type": "markdown",
      "metadata": {
        "id": "TCzUsiIpOJbz"
      },
      "source": [
        "###Tune parameters"
      ]
    },
    {
      "cell_type": "code",
      "metadata": {
        "colab": {
          "base_uri": "https://localhost:8080/"
        },
        "id": "xcQye8H5L9Yq",
        "outputId": "37d7b7ec-9a73-4720-f5cb-26456a64fc5d"
      },
      "source": [
        "X=df['Sequences']\n",
        "y=df['Labels'] \n",
        "\n",
        "X_train, X_test, y_train, y_test = train_test_split(X,y,stratify=y, \n",
        "    test_size=0.2, shuffle=True)\n",
        "\n",
        "parameters = {\n",
        "  'model__C':[0.1,1,10,100]\n",
        "  }\n",
        "\n",
        "pipeline = Pipeline([('tfidf', tfidf),('model',svlc)])\n",
        "\n",
        "grid = GridSearchCV(pipeline, cv=k_fold, n_jobs=-1, param_grid=parameters)\n",
        "grid.fit(X_train, y_train)\n",
        "print('finished')"
      ],
      "execution_count": 160,
      "outputs": [
        {
          "output_type": "stream",
          "text": [
            "/usr/local/lib/python3.7/dist-packages/joblib/externals/loky/process_executor.py:691: UserWarning: A worker stopped while some jobs were given to the executor. This can be caused by a too short worker timeout or by a memory leak.\n",
            "  \"timeout or by a memory leak.\", UserWarning\n"
          ],
          "name": "stderr"
        },
        {
          "output_type": "stream",
          "text": [
            "finished\n"
          ],
          "name": "stdout"
        },
        {
          "output_type": "stream",
          "text": [
            "/usr/local/lib/python3.7/dist-packages/sklearn/svm/_base.py:947: ConvergenceWarning: Liblinear failed to converge, increase the number of iterations.\n",
            "  \"the number of iterations.\", ConvergenceWarning)\n"
          ],
          "name": "stderr"
        }
      ]
    },
    {
      "cell_type": "code",
      "metadata": {
        "id": "Xo8VEhtky1Mm",
        "colab": {
          "base_uri": "https://localhost:8080/"
        },
        "outputId": "8c9c12f3-ded8-425e-c100-2e3b34dcfc8c"
      },
      "source": [
        "print(\"Best parameters set found on development set:\")\n",
        "print()\n",
        "print(grid.best_params_)"
      ],
      "execution_count": 162,
      "outputs": [
        {
          "output_type": "stream",
          "text": [
            "Best parameters set found on development set:\n",
            "\n",
            "{'model__C': 100}\n"
          ],
          "name": "stdout"
        }
      ]
    },
    {
      "cell_type": "code",
      "metadata": {
        "id": "qoNyMEwuy2-P",
        "colab": {
          "base_uri": "https://localhost:8080/"
        },
        "outputId": "b387b526-7664-43dc-f056-8546c867ec14"
      },
      "source": [
        "print(\"Grid scores on development set:\")\n",
        "print()\n",
        "means = grid.cv_results_['mean_test_score']\n",
        "stds = grid.cv_results_['std_test_score']\n",
        "for mean, std, params in zip(means, stds, grid.cv_results_['params']):\n",
        "    print(\"%0.3f (+/-%0.03f) for %r\"\n",
        "          % (mean, std * 2, params))"
      ],
      "execution_count": 163,
      "outputs": [
        {
          "output_type": "stream",
          "text": [
            "Grid scores on development set:\n",
            "\n",
            "0.927 (+/-0.004) for {'model__C': 0.1}\n",
            "0.927 (+/-0.003) for {'model__C': 1}\n",
            "0.931 (+/-0.004) for {'model__C': 10}\n",
            "0.964 (+/-0.005) for {'model__C': 100}\n"
          ],
          "name": "stdout"
        }
      ]
    },
    {
      "cell_type": "code",
      "metadata": {
        "id": "bDj8_mzBtThq",
        "outputId": "b63a2a80-6e01-42e9-85f6-e0c5e98e6963",
        "colab": {
          "base_uri": "https://localhost:8080/"
        }
      },
      "source": [
        "y_pred=grid.best_estimator_.predict(X_test)\n",
        "print(classification_report(y_test, y_pred))\n",
        "print(confusion_matrix(y_test, y_pred))"
      ],
      "execution_count": 172,
      "outputs": [
        {
          "output_type": "stream",
          "text": [
            "              precision    recall  f1-score   support\n",
            "\n",
            "           0       0.99      0.97      0.98     33547\n",
            "           1       0.45      0.75      0.56      1053\n",
            "\n",
            "    accuracy                           0.96     34600\n",
            "   macro avg       0.72      0.86      0.77     34600\n",
            "weighted avg       0.98      0.96      0.97     34600\n",
            "\n",
            "[[32562   985]\n",
            " [  261   792]]\n"
          ],
          "name": "stdout"
        }
      ]
    },
    {
      "cell_type": "markdown",
      "metadata": {
        "id": "dyc-c5unucuQ"
      },
      "source": [
        "We can see that scores have been improved with hyperparameter tuning"
      ]
    },
    {
      "cell_type": "markdown",
      "metadata": {
        "id": "UqNPSHYHiFfm"
      },
      "source": [
        "##Neural Network"
      ]
    },
    {
      "cell_type": "code",
      "metadata": {
        "id": "WKH81sHyiIwa"
      },
      "source": [
        "#implement\n",
        "\n",
        "from sklearn.neural_network import MLPClassifier\n",
        "\n",
        "Nnw=MLPClassifier(alpha=1e-05, hidden_layer_sizes=(5, 2), random_state=1)#Adam\n"
      ],
      "execution_count": null,
      "outputs": []
    },
    {
      "cell_type": "code",
      "metadata": {
        "colab": {
          "base_uri": "https://localhost:8080/"
        },
        "id": "SN3w1UUsAZyc",
        "outputId": "5c4e08da-9109-4131-bd96-610018d06ac4"
      },
      "source": [
        "Nnw.fit(X_train,y_train)\n",
        "y_pred = Nnw.predict(X_test)\n",
        "accuracy_score(y_test, y_pred)"
      ],
      "execution_count": null,
      "outputs": [
        {
          "output_type": "execute_result",
          "data": {
            "text/plain": [
              "0.9285289679454937"
            ]
          },
          "metadata": {
            "tags": []
          },
          "execution_count": 180
        }
      ]
    },
    {
      "cell_type": "markdown",
      "metadata": {
        "id": "6Ry30ECeiKYi"
      },
      "source": [
        "###Tune parameters"
      ]
    },
    {
      "cell_type": "code",
      "metadata": {
        "id": "XWBOgmPjiOku"
      },
      "source": [
        "#to do Hyper parameter search using Grid search"
      ],
      "execution_count": null,
      "outputs": []
    },
    {
      "cell_type": "markdown",
      "metadata": {
        "id": "RLRbP3gKiXQq"
      },
      "source": [
        "### Final Neural Network Model"
      ]
    },
    {
      "cell_type": "code",
      "metadata": {
        "id": "BYsLC1eEia73"
      },
      "source": [
        "# implement with best Hyperparameters and calculate score"
      ],
      "execution_count": null,
      "outputs": []
    },
    {
      "cell_type": "code",
      "metadata": {
        "id": "-Z_jjcLbn6Jd"
      },
      "source": [
        "y_pred = Nnw.predict(X_test)\n",
        "print(\"Test accuracy\",Nnw.score(X_test, y_test))\n",
        "print(\"Train accuracy\",Nnw.score(X_train, y_train))\n",
        "\n",
        "classifier.append(\"NNW\")\n",
        "train_scores.append(Nnw.score(X_train, y_train))\n",
        "test_scores.append(Nnw.score(X_test, y_test))"
      ],
      "execution_count": null,
      "outputs": []
    },
    {
      "cell_type": "markdown",
      "metadata": {
        "id": "HYOfgD9bjS5w"
      },
      "source": [
        "# Improvements : Ensemble method with Crossvalidation"
      ]
    },
    {
      "cell_type": "code",
      "metadata": {
        "id": "I5RxG6x5kZ4g"
      },
      "source": [
        "##### Trying to improve with the ensemble of all predictors\n",
        "from sklearn.ensemble import VotingRegressor\n",
        "\n",
        "Reg_vote = VotingRegressor(\n",
        "    estimators=[\n",
        "        ('rfs', rfs), # Random Forest\n",
        "        ('svc', svc), # SVC\n",
        "        ('Nn', Nnw), # Neural Network\n",
        "          ])\n",
        "Reg_vote.fit(X_train, y_train)\n",
        "Reg_vote.score(X_val, y_val)"
      ],
      "execution_count": null,
      "outputs": []
    },
    {
      "cell_type": "code",
      "metadata": {
        "id": "NyGPBstzkrW6"
      },
      "source": [
        "scores = cross_val_score(Reg_vote, X_train, y_train, cv=k_fold)\n",
        "print(\"Reg: Accuracy: %0.4f (+/- %0.4f)\" % (scores.mean(), scores.std()))"
      ],
      "execution_count": null,
      "outputs": []
    }
  ]
}
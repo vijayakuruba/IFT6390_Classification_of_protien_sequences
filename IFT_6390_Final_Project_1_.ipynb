{
  "nbformat": 4,
  "nbformat_minor": 0,
  "metadata": {
    "kernelspec": {
      "display_name": "Python 3",
      "language": "python",
      "name": "python3"
    },
    "language_info": {
      "codemirror_mode": {
        "name": "ipython",
        "version": 3
      },
      "file_extension": ".py",
      "mimetype": "text/x-python",
      "name": "python",
      "nbconvert_exporter": "python",
      "pygments_lexer": "ipython3",
      "version": "3.6.12"
    },
    "colab": {
      "name": "IFT 6390_Final_Project -1 .ipynb",
      "provenance": [],
      "collapsed_sections": [],
      "machine_shape": "hm",
      "include_colab_link": true
    }
  },
  "cells": [
    {
      "cell_type": "markdown",
      "metadata": {
        "id": "view-in-github",
        "colab_type": "text"
      },
      "source": [
        "<a href=\"https://colab.research.google.com/github/vijayakuruba/IFT6390_Classification_of_AMP_sequences/blob/main/IFT_6390_Final_Project_1_.ipynb\" target=\"_parent\"><img src=\"https://colab.research.google.com/assets/colab-badge.svg\" alt=\"Open In Colab\"/></a>"
      ]
    },
    {
      "cell_type": "markdown",
      "metadata": {
        "id": "9mSwy9yaanTh"
      },
      "source": [
        "# IFT6390: Final Project\n",
        "\n",
        "The final project pertains to the problem of finding novel [antimicrobial peptides](https://en.wikipedia.org/wiki/Antimicrobial_peptides) (AMP) which may turn out to be key in the fight against antibiotics resistance. The World Health Organization qualifies antibiotic resistance as one of the [''biggest threats to global health, food security, and development today''](https://www.who.int/news-room/fact-sheets/detail/antibiotic-resistance).\n",
        "\n",
        "Given the limited time frame of this project, I have scoped down the problems to two main tracks:\n",
        "\n",
        "1. **Classification**: classifying protein sequences as AMP or non-AMP: a binary classification problem\n",
        "  1.1 You are allowed to use Scikit-learn. You need to provide the following baselines: Random Forest, SVM, Neural Network. Use TF-IDF as a baseline feature extractor (you can use sklearn) for each of those.  \n",
        "2. **Generation**: Given a corpus of AMP sequences, learn a character-level language model. You should implement a baseline using a Markov model. Then implement a sequential model using an RNN or LSTM. \n",
        "\n",
        "You should pick one of the two options. Choose your own adventure. You can work in teams of **three people max**."
      ]
    },
    {
      "cell_type": "markdown",
      "metadata": {
        "id": "XHaAlZgaay2P"
      },
      "source": [
        "# Dataset\n",
        "\n",
        "The dataset in this project comes from two open source projects: amPEPpy and AMPlify."
      ]
    },
    {
      "cell_type": "code",
      "metadata": {
        "id": "SPkBZUw2a4Pw",
        "colab": {
          "base_uri": "https://localhost:8080/"
        },
        "outputId": "8727b045-7a4a-4d49-f8b2-57eb7ebf32d7"
      },
      "source": [
        "!pip install biopython\n",
        "!wget https://raw.githubusercontent.com/bcgsc/AMPlify/master/data/AMP_20190407.fa\n",
        "!wget https://raw.githubusercontent.com/bcgsc/AMPlify/master/data/non_AMP_20190413.fa\n",
        "!wget https://raw.githubusercontent.com/tlawrence3/amPEPpy/master/training_data/M_model_train_AMP_sequence.numbered.fasta\n",
        "!wget https://raw.githubusercontent.com/tlawrence3/amPEPpy/master/training_data/M_model_train_nonAMP_sequence.numbered.fasta"
      ],
      "execution_count": null,
      "outputs": [
        {
          "output_type": "stream",
          "text": [
            "Collecting biopython\n",
            "\u001b[?25l  Downloading https://files.pythonhosted.org/packages/3a/cd/0098eaff841850c01da928c7f509b72fd3e1f51d77b772e24de9e2312471/biopython-1.78-cp37-cp37m-manylinux1_x86_64.whl (2.3MB)\n",
            "\u001b[K     |████████████████████████████████| 2.3MB 6.9MB/s \n",
            "\u001b[?25hRequirement already satisfied: numpy in /usr/local/lib/python3.7/dist-packages (from biopython) (1.19.5)\n",
            "Installing collected packages: biopython\n",
            "Successfully installed biopython-1.78\n",
            "--2021-04-23 14:52:30--  https://raw.githubusercontent.com/bcgsc/AMPlify/master/data/AMP_20190407.fa\n",
            "Resolving raw.githubusercontent.com (raw.githubusercontent.com)... 185.199.108.133, 185.199.109.133, 185.199.110.133, ...\n",
            "Connecting to raw.githubusercontent.com (raw.githubusercontent.com)|185.199.108.133|:443... connected.\n",
            "HTTP request sent, awaiting response... 200 OK\n",
            "Length: 166037 (162K) [text/plain]\n",
            "Saving to: ‘AMP_20190407.fa’\n",
            "\n",
            "AMP_20190407.fa     100%[===================>] 162.15K  --.-KB/s    in 0.02s   \n",
            "\n",
            "2021-04-23 14:52:30 (8.85 MB/s) - ‘AMP_20190407.fa’ saved [166037/166037]\n",
            "\n",
            "--2021-04-23 14:52:30--  https://raw.githubusercontent.com/bcgsc/AMPlify/master/data/non_AMP_20190413.fa\n",
            "Resolving raw.githubusercontent.com (raw.githubusercontent.com)... 185.199.108.133, 185.199.109.133, 185.199.110.133, ...\n",
            "Connecting to raw.githubusercontent.com (raw.githubusercontent.com)|185.199.108.133|:443... connected.\n",
            "HTTP request sent, awaiting response... 200 OK\n",
            "Length: 186539 (182K) [text/plain]\n",
            "Saving to: ‘non_AMP_20190413.fa’\n",
            "\n",
            "non_AMP_20190413.fa 100%[===================>] 182.17K  --.-KB/s    in 0.02s   \n",
            "\n",
            "2021-04-23 14:52:30 (11.6 MB/s) - ‘non_AMP_20190413.fa’ saved [186539/186539]\n",
            "\n",
            "--2021-04-23 14:52:30--  https://raw.githubusercontent.com/tlawrence3/amPEPpy/master/training_data/M_model_train_AMP_sequence.numbered.fasta\n",
            "Resolving raw.githubusercontent.com (raw.githubusercontent.com)... 185.199.108.133, 185.199.109.133, 185.199.111.133, ...\n",
            "Connecting to raw.githubusercontent.com (raw.githubusercontent.com)|185.199.108.133|:443... connected.\n",
            "HTTP request sent, awaiting response... 200 OK\n",
            "Length: 182506 (178K) [text/plain]\n",
            "Saving to: ‘M_model_train_AMP_sequence.numbered.fasta’\n",
            "\n",
            "M_model_train_AMP_s 100%[===================>] 178.23K  --.-KB/s    in 0.01s   \n",
            "\n",
            "2021-04-23 14:52:31 (11.7 MB/s) - ‘M_model_train_AMP_sequence.numbered.fasta’ saved [182506/182506]\n",
            "\n",
            "--2021-04-23 14:52:31--  https://raw.githubusercontent.com/tlawrence3/amPEPpy/master/training_data/M_model_train_nonAMP_sequence.numbered.fasta\n",
            "Resolving raw.githubusercontent.com (raw.githubusercontent.com)... 185.199.110.133, 185.199.109.133, 185.199.111.133, ...\n",
            "Connecting to raw.githubusercontent.com (raw.githubusercontent.com)|185.199.110.133|:443... connected.\n",
            "HTTP request sent, awaiting response... 200 OK\n",
            "Length: 28767041 (27M) [text/plain]\n",
            "Saving to: ‘M_model_train_nonAMP_sequence.numbered.fasta’\n",
            "\n",
            "M_model_train_nonAM 100%[===================>]  27.43M  --.-KB/s    in 0.1s    \n",
            "\n",
            "2021-04-23 14:52:31 (192 MB/s) - ‘M_model_train_nonAMP_sequence.numbered.fasta’ saved [28767041/28767041]\n",
            "\n"
          ],
          "name": "stdout"
        }
      ]
    },
    {
      "cell_type": "code",
      "metadata": {
        "id": "gw9YWiZMa_V-"
      },
      "source": [
        "from Bio import SeqIO\n",
        "import matplotlib.pyplot as plt"
      ],
      "execution_count": null,
      "outputs": []
    },
    {
      "cell_type": "code",
      "metadata": {
        "id": "OJnps8NibCAB"
      },
      "source": [
        "def fasta_to_str_set(name):\n",
        "  return {str(rec.seq) for rec in SeqIO.parse(name, 'fasta')}"
      ],
      "execution_count": null,
      "outputs": []
    },
    {
      "cell_type": "code",
      "metadata": {
        "id": "LNNE4j8BbEIm"
      },
      "source": [
        "positive_examples = fasta_to_str_set('AMP_20190407.fa').union(fasta_to_str_set('M_model_train_AMP_sequence.numbered.fasta'))\n",
        "negative_examples = fasta_to_str_set('non_AMP_20190413.fa').union(fasta_to_str_set('M_model_train_nonAMP_sequence.numbered.fasta'))"
      ],
      "execution_count": 184,
      "outputs": []
    },
    {
      "cell_type": "markdown",
      "metadata": {
        "id": "f8RqlzTWbG7M"
      },
      "source": [
        "Once we have merged the two data sources, the positive class has:"
      ]
    },
    {
      "cell_type": "code",
      "metadata": {
        "colab": {
          "base_uri": "https://localhost:8080/"
        },
        "id": "SVGpbwnBbJTP",
        "outputId": "b9021db6-213f-41ec-e88e-b88dbb096217"
      },
      "source": [
        "print(f\"{len(positive_examples)} examples\")"
      ],
      "execution_count": 185,
      "outputs": [
        {
          "output_type": "stream",
          "text": [
            "5264 examples\n"
          ],
          "name": "stdout"
        }
      ]
    },
    {
      "cell_type": "markdown",
      "metadata": {
        "id": "f2hwUdjKbM6O"
      },
      "source": [
        "and the negative class (non-AMPs) has:"
      ]
    },
    {
      "cell_type": "code",
      "metadata": {
        "colab": {
          "base_uri": "https://localhost:8080/"
        },
        "id": "lfdCfD9abPcm",
        "outputId": "c4c59221-aaa9-4d0a-adab-a096cff65218"
      },
      "source": [
        "print(f\"{len(negative_examples)} examples\")"
      ],
      "execution_count": 186,
      "outputs": [
        {
          "output_type": "stream",
          "text": [
            "167732 examples\n"
          ],
          "name": "stdout"
        }
      ]
    },
    {
      "cell_type": "markdown",
      "metadata": {
        "id": "DEkWmk9ObVcu"
      },
      "source": [
        "We have way more non-AMPs than AMP. This will be a challenge. Furthermore, the distribution of the sequence lengths varies a lot between the two classes. You should probably do something about this."
      ]
    },
    {
      "cell_type": "code",
      "metadata": {
        "colab": {
          "base_uri": "https://localhost:8080/"
        },
        "id": "Kokty1MfLVIY",
        "outputId": "7b115935-5ced-4545-86bc-a4edf3a7ea85"
      },
      "source": [
        "import numpy as np\n",
        "\n",
        "lenp=[]\n",
        "for seq in positive_examples:\n",
        "    lenp.append(len(seq))\n",
        "ulenp=np.unique(lenp)\n",
        "print(ulenp)"
      ],
      "execution_count": 187,
      "outputs": [
        {
          "output_type": "stream",
          "text": [
            "[  2   4   5   6   7   8   9  10  11  12  13  14  15  16  17  18  19  20\n",
            "  21  22  23  24  25  26  27  28  29  30  31  32  33  34  35  36  37  38\n",
            "  39  40  41  42  43  44  45  46  47  48  49  50  51  52  53  54  55  56\n",
            "  57  58  59  60  61  62  63  64  65  66  67  68  69  70  71  72  73  74\n",
            "  75  76  77  78  79  80  81  82  83  84  85  86  87  88  89  90  91  92\n",
            "  93  94  95  96  97  98  99 100 101 102 103 104 106 107 108 109 110 111\n",
            " 112 113 114 116 117 118 119 120 121 122 123 124 125 126 127 128 129 130\n",
            " 131 133 134 135 136 137 138 140 141 142 143 146 148 149 150 152 153 154\n",
            " 155 157 158 161 163 164 166 169 172 174 177 183 185 187 188 190 191 192\n",
            " 194 198 200 201 204 206 207 208 215 219 220 221 222 225 226 230 231 235\n",
            " 239 241 243 244 245 247 255]\n"
          ],
          "name": "stdout"
        }
      ]
    },
    {
      "cell_type": "code",
      "metadata": {
        "colab": {
          "base_uri": "https://localhost:8080/"
        },
        "id": "Dj17gzp1OyPe",
        "outputId": "f70755b9-9fbb-4175-98a6-3df1a002dad7"
      },
      "source": [
        "lenn=[]\n",
        "for seq in negative_examples:\n",
        "    lenn.append(len(seq))\n",
        "print(np.unique(lenn))"
      ],
      "execution_count": 188,
      "outputs": [
        {
          "output_type": "stream",
          "text": [
            "[  2   3   4   5   6   7   8   9  10  11  12  13  14  15  16  17  18  19\n",
            "  20  21  22  23  24  25  26  27  28  29  30  31  32  33  34  35  36  37\n",
            "  38  39  40  41  42  43  44  45  46  47  48  49  50  51  52  53  54  55\n",
            "  56  57  58  59  60  61  62  63  64  65  66  67  68  69  70  71  72  73\n",
            "  74  75  76  77  78  79  80  81  82  83  84  85  86  87  88  89  90  91\n",
            "  92  93  94  95  96  97  98  99 100 101 102 103 104 105 106 107 108 109\n",
            " 110 111 112 113 114 115 116 117 118 119 120 121 122 123 124 125 126 127\n",
            " 128 129 130 131 132 133 134 135 136 137 138 139 140 141 142 143 144 145\n",
            " 146 147 148 149 150 151 152 153 154 155 156 157 158 159 160 161 162 163\n",
            " 164 165 166 167 168 169 170 171 172 173 174 175 176 177 178 179 180 181\n",
            " 182 183 184 185 186 187 188 189 190 191 192 193 194 195 196 197 198 199\n",
            " 200 201 202 203 204 205 206 207 208 209 210 211 212 213 214 215 216 217\n",
            " 218 219 220 221 222 223 224 225 226 227 228 229 230 231 232 233 234 235\n",
            " 236 237 238 239 240 241 242 243 244 245 246 247 248 249 250 251 252 253\n",
            " 254 255]\n"
          ],
          "name": "stdout"
        }
      ]
    },
    {
      "cell_type": "code",
      "metadata": {
        "colab": {
          "base_uri": "https://localhost:8080/"
        },
        "id": "DSobTIPwRT1K",
        "outputId": "115698ff-d532-4fa3-a0a1-6900f69a8cf2"
      },
      "source": [
        "negative_examples_new=[]\n",
        "for i in ulenp:\n",
        "    for seq in negative_examples: \n",
        "        if len(seq)==i:\n",
        "           negative_examples_new.append(seq)\n",
        "\n",
        "print(len(negative_examples_new))"
      ],
      "execution_count": 189,
      "outputs": [
        {
          "output_type": "stream",
          "text": [
            "109344\n"
          ],
          "name": "stdout"
        }
      ]
    },
    {
      "cell_type": "code",
      "metadata": {
        "colab": {
          "base_uri": "https://localhost:8080/",
          "height": 298
        },
        "id": "H8UdYhyjV5Cg",
        "outputId": "002745b2-6fce-46c0-a39b-da54fcd43669"
      },
      "source": [
        "#Original dataset\n",
        "\n",
        "fig, axes = plt.subplots(1,2)\n",
        "axes[0].hist([len(seq) for seq in positive_examples])\n",
        "axes[0].set_title('Positive Sequence Lengths')\n",
        "axes[1].hist([len(seq) for seq in negative_examples])\n",
        "axes[1].set_title('Negative Sequence Lengths')"
      ],
      "execution_count": 190,
      "outputs": [
        {
          "output_type": "execute_result",
          "data": {
            "text/plain": [
              "Text(0.5, 1.0, 'Negative Sequence Lengths')"
            ]
          },
          "metadata": {
            "tags": []
          },
          "execution_count": 190
        },
        {
          "output_type": "display_data",
          "data": {
            "image/png": "[encoded data removed]",
            "text/plain": [
              "<Figure size 432x288 with 2 Axes>"
            ]
          },
          "metadata": {
            "tags": [],
            "needs_background": "light"
          }
        }
      ]
    },
    {
      "cell_type": "code",
      "metadata": {
        "colab": {
          "base_uri": "https://localhost:8080/",
          "height": 298
        },
        "id": "-8uAVlDdbYTw",
        "outputId": "423bacb8-bb8f-4486-90c0-d2fb139a0a6a"
      },
      "source": [
        "# after removing sequences in Non AMP whose length is not in postivie sample \n",
        "\n",
        "fig, axes = plt.subplots(1,2)\n",
        "axes[0].hist([len(seq) for seq in positive_examples])\n",
        "axes[0].set_title('Positive Sequence Lengths')\n",
        "axes[1].hist([len(seq) for seq in negative_examples_new])\n",
        "axes[1].set_title('Negative Sequence Lengths')"
      ],
      "execution_count": 191,
      "outputs": [
        {
          "output_type": "execute_result",
          "data": {
            "text/plain": [
              "Text(0.5, 1.0, 'Negative Sequence Lengths')"
            ]
          },
          "metadata": {
            "tags": []
          },
          "execution_count": 191
        },
        {
          "output_type": "display_data",
          "data": {
            "image/png": "[encoded data removed]",
            "text/plain": [
              "<Figure size 432x288 with 2 Axes>"
            ]
          },
          "metadata": {
            "tags": [],
            "needs_background": "light"
          }
        }
      ]
    },
    {
      "cell_type": "markdown",
      "metadata": {
        "id": "sg4rjr7NbaoP"
      },
      "source": [
        "Let's have a look at the data. For example, the first AMP in the dataset is:"
      ]
    },
    {
      "cell_type": "code",
      "metadata": {
        "colab": {
          "base_uri": "https://localhost:8080/",
          "height": 35
        },
        "id": "KF4zdceQbcFp",
        "outputId": "bdc9d3af-8358-4172-eb95-a9d131328d05"
      },
      "source": [
        "list(positive_examples)[0]"
      ],
      "execution_count": 195,
      "outputs": [
        {
          "output_type": "execute_result",
          "data": {
            "application/vnd.google.colaboratory.intrinsic+json": {
              "type": "string"
            },
            "text/plain": [
              "'RTCENLADKYRGPCFSGCDTHCTTKENAVSGRCRDDFRCWCTKRC'"
            ]
          },
          "metadata": {
            "tags": []
          },
          "execution_count": 195
        }
      ]
    },
    {
      "cell_type": "markdown",
      "metadata": {
        "id": "bzPbw8Q0beyh"
      },
      "source": [
        "This string describes the sequence of [amino acids](https://en.wikipedia.org/wiki/Amino_acid) present in the given AMP. There are $20$ possible such *standard* amino acids present in the genetic code. To know more about the meaning of each of those letter, see [this section](https://en.wikipedia.org/wiki/Amino_acid#Table_of_standard_amino_acid_abbreviations_and_properties) of the Wikipedia page on amino acids.\n",
        "\n",
        "A non-AMP looks like:"
      ]
    },
    {
      "cell_type": "code",
      "metadata": {
        "id": "t64mv7WTbm8m",
        "colab": {
          "base_uri": "https://localhost:8080/",
          "height": 52
        },
        "outputId": "26170c63-d1a7-432a-924c-f2133594629b"
      },
      "source": [
        "list(negative_examples)[0]"
      ],
      "execution_count": 193,
      "outputs": [
        {
          "output_type": "execute_result",
          "data": {
            "application/vnd.google.colaboratory.intrinsic+json": {
              "type": "string"
            },
            "text/plain": [
              "'MEAFRTHTGIGVPLRRSNVDTDQIIPAVYLKRVTRTGFEDGLFAAWRNDPSFVLNLPPFDRGSVLVAGPDFGTGSSREHAVWALMDYGFRVVISSRFADIFRGNAGKAGLLAAEVNQNDVELLWKLIEQNPGLEITVNLQDRNIIAGTVMVPFTIDDYTAWRLLEGLDDIGLTLRKQSEIEDYERRRPSWKPRTLPV'"
            ]
          },
          "metadata": {
            "tags": []
          },
          "execution_count": 193
        }
      ]
    },
    {
      "cell_type": "code",
      "metadata": {
        "id": "he8snbbCpUDZ"
      },
      "source": [
        "import pandas as pd \n",
        "df_p=pd.DataFrame(positive_examples,columns=['Sequences'])\n",
        "df_p['Labels']=1\n",
        "df_n=pd.DataFrame(negative_examples_new,columns=['Sequences'])\n",
        "df_n['Labels']=0\n"
      ],
      "execution_count": 196,
      "outputs": []
    },
    {
      "cell_type": "code",
      "metadata": {
        "colab": {
          "base_uri": "https://localhost:8080/",
          "height": 35
        },
        "id": "j6HdV8BPbhhX",
        "outputId": "b1e40fef-7989-4f8e-f213-dd0f3530c866"
      },
      "source": [
        "df_n['Sequences'][100]"
      ],
      "execution_count": 221,
      "outputs": [
        {
          "output_type": "execute_result",
          "data": {
            "application/vnd.google.colaboratory.intrinsic+json": {
              "type": "string"
            },
            "text/plain": [
              "'DRNFLRF'"
            ]
          },
          "metadata": {
            "tags": []
          },
          "execution_count": 221
        }
      ]
    },
    {
      "cell_type": "code",
      "metadata": {
        "colab": {
          "base_uri": "https://localhost:8080/"
        },
        "id": "VbOO1_91wijs",
        "outputId": "583b514f-7044-460b-db3a-4fac229aaf29"
      },
      "source": [
        "print('positive_examples shape is:', df_p.shape)\n",
        "print('negative_examples shape is:', df_n.shape)"
      ],
      "execution_count": 222,
      "outputs": [
        {
          "output_type": "stream",
          "text": [
            "positive_examples shape is: (5264, 2)\n",
            "negative_examples shape is: (109344, 2)\n"
          ],
          "name": "stdout"
        }
      ]
    },
    {
      "cell_type": "code",
      "metadata": {
        "colab": {
          "base_uri": "https://localhost:8080/",
          "height": 418
        },
        "id": "1S3fKmx8wI_L",
        "outputId": "94a0f88a-adbb-4d78-ddb0-3e26e4c4e899"
      },
      "source": [
        "df=pd.DataFrame()\n",
        "df=df.append(df_p,ignore_index=True)\n",
        "df=df.append(df_n,ignore_index=True)\n",
        "print(df.shape)\n",
        "df"
      ],
      "execution_count": 224,
      "outputs": [
        {
          "output_type": "stream",
          "text": [
            "(114608, 2)\n"
          ],
          "name": "stdout"
        },
        {
          "output_type": "execute_result",
          "data": {
            "text/html": [
              "<div>\n",
              "<style scoped>\n",
              "    .dataframe tbody tr th:only-of-type {\n",
              "        vertical-align: middle;\n",
              "    }\n",
              "\n",
              "    .dataframe tbody tr th {\n",
              "        vertical-align: top;\n",
              "    }\n",
              "\n",
              "    .dataframe thead th {\n",
              "        text-align: right;\n",
              "    }\n",
              "</style>\n",
              "<table border=\"1\" class=\"dataframe\">\n",
              "  <thead>\n",
              "    <tr style=\"text-align: right;\">\n",
              "      <th></th>\n",
              "      <th>Sequences</th>\n",
              "      <th>Labels</th>\n",
              "    </tr>\n",
              "  </thead>\n",
              "  <tbody>\n",
              "    <tr>\n",
              "      <th>0</th>\n",
              "      <td>RTCENLADKYRGPCFSGCDTHCTTKENAVSGRCRDDFRCWCTKRC</td>\n",
              "      <td>1</td>\n",
              "    </tr>\n",
              "    <tr>\n",
              "      <th>1</th>\n",
              "      <td>VFGTLGSTDDSLFGRYKQDIFNDHRGHLQGQAYGSR</td>\n",
              "      <td>1</td>\n",
              "    </tr>\n",
              "    <tr>\n",
              "      <th>2</th>\n",
              "      <td>GIFSKKAGKGFKKKSPKAPTPKATKMASECSEPGQALQEKKKR</td>\n",
              "      <td>1</td>\n",
              "    </tr>\n",
              "    <tr>\n",
              "      <th>3</th>\n",
              "      <td>RIGSFLGALASKLPTLISWIKNR</td>\n",
              "      <td>1</td>\n",
              "    </tr>\n",
              "    <tr>\n",
              "      <th>4</th>\n",
              "      <td>GIHDILKYGKPA</td>\n",
              "      <td>1</td>\n",
              "    </tr>\n",
              "    <tr>\n",
              "      <th>...</th>\n",
              "      <td>...</td>\n",
              "      <td>...</td>\n",
              "    </tr>\n",
              "    <tr>\n",
              "      <th>114603</th>\n",
              "      <td>MEKCEGIVIRQTSYRESDKIVRMYTREFGKIGVVARGAKKTKSRLA...</td>\n",
              "      <td>0</td>\n",
              "    </tr>\n",
              "    <tr>\n",
              "      <th>114604</th>\n",
              "      <td>MDRLVIGGRELKNRLFIGSGKFADERVIRDIVAQTGVEVVTVALRR...</td>\n",
              "      <td>0</td>\n",
              "    </tr>\n",
              "    <tr>\n",
              "      <th>114605</th>\n",
              "      <td>MKVKVFDLNGQPVDEIELPRVFLTPFRPDLIRRAVIASWTHRIQPQ...</td>\n",
              "      <td>0</td>\n",
              "    </tr>\n",
              "    <tr>\n",
              "      <th>114606</th>\n",
              "      <td>MSTNLHWQSFGQGPDLVLLHGWGMNGAVWQQTVESLQADFCVHVVD...</td>\n",
              "      <td>0</td>\n",
              "    </tr>\n",
              "    <tr>\n",
              "      <th>114607</th>\n",
              "      <td>MQLTNKKIVVTGVSSGIGAETARVLRSHGATVIGVDRNMPSLTLDA...</td>\n",
              "      <td>0</td>\n",
              "    </tr>\n",
              "  </tbody>\n",
              "</table>\n",
              "<p>114608 rows × 2 columns</p>\n",
              "</div>"
            ],
            "text/plain": [
              "                                                Sequences  Labels\n",
              "0           RTCENLADKYRGPCFSGCDTHCTTKENAVSGRCRDDFRCWCTKRC       1\n",
              "1                    VFGTLGSTDDSLFGRYKQDIFNDHRGHLQGQAYGSR       1\n",
              "2             GIFSKKAGKGFKKKSPKAPTPKATKMASECSEPGQALQEKKKR       1\n",
              "3                                 RIGSFLGALASKLPTLISWIKNR       1\n",
              "4                                            GIHDILKYGKPA       1\n",
              "...                                                   ...     ...\n",
              "114603  MEKCEGIVIRQTSYRESDKIVRMYTREFGKIGVVARGAKKTKSRLA...       0\n",
              "114604  MDRLVIGGRELKNRLFIGSGKFADERVIRDIVAQTGVEVVTVALRR...       0\n",
              "114605  MKVKVFDLNGQPVDEIELPRVFLTPFRPDLIRRAVIASWTHRIQPQ...       0\n",
              "114606  MSTNLHWQSFGQGPDLVLLHGWGMNGAVWQQTVESLQADFCVHVVD...       0\n",
              "114607  MQLTNKKIVVTGVSSGIGAETARVLRSHGATVIGVDRNMPSLTLDA...       0\n",
              "\n",
              "[114608 rows x 2 columns]"
            ]
          },
          "metadata": {
            "tags": []
          },
          "execution_count": 224
        }
      ]
    },
    {
      "cell_type": "markdown",
      "metadata": {
        "id": "So_a8rk1pDQ2"
      },
      "source": [
        "#Data Preprocessing"
      ]
    },
    {
      "cell_type": "markdown",
      "metadata": {
        "id": "VRueWhFrnUXD"
      },
      "source": [
        "Imbalanced data is managed with Randoam oversampling and SMOTE techniques"
      ]
    },
    {
      "cell_type": "code",
      "metadata": {
        "id": "XPeSVDUjaAgE"
      },
      "source": [
        "X = df['Sequences']\n",
        "y=  df['Labels'] \n"
      ],
      "execution_count": 253,
      "outputs": []
    },
    {
      "cell_type": "code",
      "metadata": {
        "id": "RHNekzKobLLP"
      },
      "source": [
        "X = X.values.reshape(-1,1)"
      ],
      "execution_count": 254,
      "outputs": []
    },
    {
      "cell_type": "code",
      "metadata": {
        "colab": {
          "base_uri": "https://localhost:8080/"
        },
        "id": "eeUxrmrDgzX0",
        "outputId": "b8033a2e-ebcd-439e-b077-5ff454b415a6"
      },
      "source": [
        "from imblearn.over_sampling import RandomOverSampler\n",
        "os =  RandomOverSampler(sampling_strategy='minority')\n",
        "X_res, y_res = os.fit_sample(X , y)"
      ],
      "execution_count": 257,
      "outputs": [
        {
          "output_type": "stream",
          "text": [
            "/usr/local/lib/python3.7/dist-packages/sklearn/utils/deprecation.py:87: FutureWarning: Function safe_indexing is deprecated; safe_indexing is deprecated in version 0.22 and will be removed in version 0.24.\n",
            "  warnings.warn(msg, category=FutureWarning)\n"
          ],
          "name": "stderr"
        }
      ]
    },
    {
      "cell_type": "code",
      "metadata": {
        "colab": {
          "base_uri": "https://localhost:8080/"
        },
        "id": "qVCTegWNg8iB",
        "outputId": "47f13d4a-79d6-41c0-817a-13c2428b6ab1"
      },
      "source": [
        "X_res.shape,y_res.shape"
      ],
      "execution_count": 258,
      "outputs": [
        {
          "output_type": "execute_result",
          "data": {
            "text/plain": [
              "((218688, 1), (218688,))"
            ]
          },
          "metadata": {
            "tags": []
          },
          "execution_count": 258
        }
      ]
    },
    {
      "cell_type": "code",
      "metadata": {
        "colab": {
          "base_uri": "https://localhost:8080/"
        },
        "id": "EdgQvNXWiBOe",
        "outputId": "fe48c687-3453-4833-c632-0a35a95b6130"
      },
      "source": [
        "from collections import Counter\n",
        "\n",
        "print('Original dataset shape {}'.format(Counter(y)))\n",
        "print('Resampled dataset shape {}'.format(Counter(y_res)))"
      ],
      "execution_count": 259,
      "outputs": [
        {
          "output_type": "stream",
          "text": [
            "Original dataset shape Counter({0: 109344, 1: 5264})\n",
            "Resampled dataset shape Counter({1: 109344, 0: 109344})\n"
          ],
          "name": "stdout"
        }
      ]
    },
    {
      "cell_type": "code",
      "metadata": {
        "id": "niZL6-COwaJo"
      },
      "source": [
        "dftrain=pd.DataFrame(X_res)\n",
        "dftrain.columns =['Sequences']\n",
        "dftrain['Labels']=y_res"
      ],
      "execution_count": 208,
      "outputs": []
    },
    {
      "cell_type": "code",
      "metadata": {
        "colab": {
          "base_uri": "https://localhost:8080/",
          "height": 402
        },
        "id": "SBeS4fibifcC",
        "outputId": "8966171b-0967-470d-8e3f-262402edd6f6"
      },
      "source": [
        "dftrain"
      ],
      "execution_count": 273,
      "outputs": [
        {
          "output_type": "execute_result",
          "data": {
            "text/html": [
              "<div>\n",
              "<style scoped>\n",
              "    .dataframe tbody tr th:only-of-type {\n",
              "        vertical-align: middle;\n",
              "    }\n",
              "\n",
              "    .dataframe tbody tr th {\n",
              "        vertical-align: top;\n",
              "    }\n",
              "\n",
              "    .dataframe thead th {\n",
              "        text-align: right;\n",
              "    }\n",
              "</style>\n",
              "<table border=\"1\" class=\"dataframe\">\n",
              "  <thead>\n",
              "    <tr style=\"text-align: right;\">\n",
              "      <th></th>\n",
              "      <th>Sequences</th>\n",
              "      <th>Labels</th>\n",
              "    </tr>\n",
              "  </thead>\n",
              "  <tbody>\n",
              "    <tr>\n",
              "      <th>0</th>\n",
              "      <td>RTCENLADKYRGPCFSGCDTHCTTKENAVSGRCRDDFRCWCTKRC</td>\n",
              "      <td>1</td>\n",
              "    </tr>\n",
              "    <tr>\n",
              "      <th>1</th>\n",
              "      <td>VFGTLGSTDDSLFGRYKQDIFNDHRGHLQGQAYGSR</td>\n",
              "      <td>1</td>\n",
              "    </tr>\n",
              "    <tr>\n",
              "      <th>2</th>\n",
              "      <td>GIFSKKAGKGFKKKSPKAPTPKATKMASECSEPGQALQEKKKR</td>\n",
              "      <td>1</td>\n",
              "    </tr>\n",
              "    <tr>\n",
              "      <th>3</th>\n",
              "      <td>RIGSFLGALASKLPTLISWIKNR</td>\n",
              "      <td>1</td>\n",
              "    </tr>\n",
              "    <tr>\n",
              "      <th>4</th>\n",
              "      <td>GIHDILKYGKPA</td>\n",
              "      <td>1</td>\n",
              "    </tr>\n",
              "    <tr>\n",
              "      <th>...</th>\n",
              "      <td>...</td>\n",
              "      <td>...</td>\n",
              "    </tr>\n",
              "    <tr>\n",
              "      <th>218683</th>\n",
              "      <td>ALGGLLADVVKSKEQPA</td>\n",
              "      <td>1</td>\n",
              "    </tr>\n",
              "    <tr>\n",
              "      <th>218684</th>\n",
              "      <td>GFGCPNNYACHQHCKSIRGYCGGYCAGWFRLRCTCYRCG</td>\n",
              "      <td>1</td>\n",
              "    </tr>\n",
              "    <tr>\n",
              "      <th>218685</th>\n",
              "      <td>GLICESCRKIIQKLEDMVGPQPNEDTVTQAASRVCDKMKILRGVCK...</td>\n",
              "      <td>1</td>\n",
              "    </tr>\n",
              "    <tr>\n",
              "      <th>218686</th>\n",
              "      <td>NNEAQCEQAGGICSKDHCFHLHTRAFGHCQRGVPCRT</td>\n",
              "      <td>1</td>\n",
              "    </tr>\n",
              "    <tr>\n",
              "      <th>218687</th>\n",
              "      <td>ALRLAIRKR</td>\n",
              "      <td>1</td>\n",
              "    </tr>\n",
              "  </tbody>\n",
              "</table>\n",
              "<p>218688 rows × 2 columns</p>\n",
              "</div>"
            ],
            "text/plain": [
              "                                                Sequences  Labels\n",
              "0           RTCENLADKYRGPCFSGCDTHCTTKENAVSGRCRDDFRCWCTKRC       1\n",
              "1                    VFGTLGSTDDSLFGRYKQDIFNDHRGHLQGQAYGSR       1\n",
              "2             GIFSKKAGKGFKKKSPKAPTPKATKMASECSEPGQALQEKKKR       1\n",
              "3                                 RIGSFLGALASKLPTLISWIKNR       1\n",
              "4                                            GIHDILKYGKPA       1\n",
              "...                                                   ...     ...\n",
              "218683                                  ALGGLLADVVKSKEQPA       1\n",
              "218684            GFGCPNNYACHQHCKSIRGYCGGYCAGWFRLRCTCYRCG       1\n",
              "218685  GLICESCRKIIQKLEDMVGPQPNEDTVTQAASRVCDKMKILRGVCK...       1\n",
              "218686              NNEAQCEQAGGICSKDHCFHLHTRAFGHCQRGVPCRT       1\n",
              "218687                                          ALRLAIRKR       1\n",
              "\n",
              "[218688 rows x 2 columns]"
            ]
          },
          "metadata": {
            "tags": []
          },
          "execution_count": 273
        }
      ]
    },
    {
      "cell_type": "code",
      "metadata": {
        "id": "DxZnjaY94T0p"
      },
      "source": [
        "#positive_examples=dftrain.query['Labels'==1]\n",
        "\n",
        "options = [1]  \n",
        "    \n",
        "# selecting rows based on condition  \n",
        "datap = dftrain[dftrain['Labels'].isin(options)]  \n",
        "positive_examples=datap['Sequences']"
      ],
      "execution_count": 264,
      "outputs": []
    },
    {
      "cell_type": "code",
      "metadata": {
        "colab": {
          "base_uri": "https://localhost:8080/"
        },
        "id": "0PBF6C6eaXqe",
        "outputId": "76181829-170d-48a0-8982-414d9ad6c467"
      },
      "source": [
        "positive_examples"
      ],
      "execution_count": 270,
      "outputs": [
        {
          "output_type": "execute_result",
          "data": {
            "text/plain": [
              "0             RTCENLADKYRGPCFSGCDTHCTTKENAVSGRCRDDFRCWCTKRC\n",
              "1                      VFGTLGSTDDSLFGRYKQDIFNDHRGHLQGQAYGSR\n",
              "2               GIFSKKAGKGFKKKSPKAPTPKATKMASECSEPGQALQEKKKR\n",
              "3                                   RIGSFLGALASKLPTLISWIKNR\n",
              "4                                              GIHDILKYGKPA\n",
              "                                ...                        \n",
              "218683                                    ALGGLLADVVKSKEQPA\n",
              "218684              GFGCPNNYACHQHCKSIRGYCGGYCAGWFRLRCTCYRCG\n",
              "218685    GLICESCRKIIQKLEDMVGPQPNEDTVTQAASRVCDKMKILRGVCK...\n",
              "218686                NNEAQCEQAGGICSKDHCFHLHTRAFGHCQRGVPCRT\n",
              "218687                                            ALRLAIRKR\n",
              "Name: Sequences, Length: 109344, dtype: object"
            ]
          },
          "metadata": {
            "tags": []
          },
          "execution_count": 270
        }
      ]
    },
    {
      "cell_type": "code",
      "metadata": {
        "id": "-DuAzLjqBigS"
      },
      "source": [
        "#positive_examples=dftrain.query['Labels'==1]\n",
        "\n",
        "options = [0]  \n",
        "    \n",
        "# selecting rows based on condition  \n",
        "datan = dftrain[dftrain['Labels'].isin(options)]  \n",
        "negative_examples=datan['Sequences']"
      ],
      "execution_count": 268,
      "outputs": []
    },
    {
      "cell_type": "code",
      "metadata": {
        "colab": {
          "base_uri": "https://localhost:8080/"
        },
        "id": "yB3sFVH9aTh_",
        "outputId": "729dfe27-c5f9-449d-e2f2-45d564c6e730"
      },
      "source": [
        "negative_examples"
      ],
      "execution_count": 269,
      "outputs": [
        {
          "output_type": "execute_result",
          "data": {
            "text/plain": [
              "5264                                                     GW\n",
              "5265                                                   LWSG\n",
              "5266                                                   YLRF\n",
              "5267                                                   YMRF\n",
              "5268                                                   GSWD\n",
              "                                ...                        \n",
              "114603    MEKCEGIVIRQTSYRESDKIVRMYTREFGKIGVVARGAKKTKSRLA...\n",
              "114604    MDRLVIGGRELKNRLFIGSGKFADERVIRDIVAQTGVEVVTVALRR...\n",
              "114605    MKVKVFDLNGQPVDEIELPRVFLTPFRPDLIRRAVIASWTHRIQPQ...\n",
              "114606    MSTNLHWQSFGQGPDLVLLHGWGMNGAVWQQTVESLQADFCVHVVD...\n",
              "114607    MQLTNKKIVVTGVSSGIGAETARVLRSHGATVIGVDRNMPSLTLDA...\n",
              "Name: Sequences, Length: 109344, dtype: object"
            ]
          },
          "metadata": {
            "tags": []
          },
          "execution_count": 269
        }
      ]
    },
    {
      "cell_type": "code",
      "metadata": {
        "colab": {
          "base_uri": "https://localhost:8080/",
          "height": 298
        },
        "id": "B4wdQEONA2u7",
        "outputId": "cff6a294-0466-4c23-d7a1-c1a41f3efe91"
      },
      "source": [
        "\n",
        "fig, axes = plt.subplots(1,2)\n",
        "axes[0].hist([len(seq) for seq in positive_examples])\n",
        "axes[0].set_title('Positive Sequence Lengths')\n",
        "axes[1].hist([len(seq) for seq in negative_examples])\n",
        "axes[1].set_title('Negative Sequence Lengths')"
      ],
      "execution_count": 271,
      "outputs": [
        {
          "output_type": "execute_result",
          "data": {
            "text/plain": [
              "Text(0.5, 1.0, 'Negative Sequence Lengths')"
            ]
          },
          "metadata": {
            "tags": []
          },
          "execution_count": 271
        },
        {
          "output_type": "display_data",
          "data": {
            "image/png": "[encoded data removed]",
            "text/plain": [
              "<Figure size 432x288 with 2 Axes>"
            ]
          },
          "metadata": {
            "tags": [],
            "needs_background": "light"
          }
        }
      ]
    },
    {
      "cell_type": "markdown",
      "metadata": {
        "id": "o_2my11AoWlM"
      },
      "source": [
        "#Tokenize Charecters"
      ]
    },
    {
      "cell_type": "code",
      "metadata": {
        "id": "XVNDxicexlch"
      },
      "source": [
        "# pre processing data\n",
        "def cleanData(sentence):\n",
        "    processedList = \"\"\n",
        "    \n",
        "# Tokenize sequence to charecters\n",
        "    sentence=list(sentence)\n",
        "  \n",
        "    return sentence"
      ],
      "execution_count": 274,
      "outputs": []
    },
    {
      "cell_type": "markdown",
      "metadata": {
        "id": "pVe7jkxSocqF"
      },
      "source": [
        "#TFIDI"
      ]
    },
    {
      "cell_type": "code",
      "metadata": {
        "id": "1IQmt0UH20Vr"
      },
      "source": [
        "from sklearn.feature_extraction.text import TfidfVectorizer\n",
        "\n",
        "def dummy(doc):\n",
        "    return doc\n",
        "\n",
        "def tfdi(X):    \n",
        "\n",
        "    vectorizer = TfidfVectorizer(tokenizer=dummy,preprocessor=dummy,lowercase=False)\n",
        "    vectorizer.fit(X)\n",
        "    x_transform = vectorizer.transform(X)\n",
        "    word = vectorizer.get_feature_names()\n",
        "    return x_transform,word\n"
      ],
      "execution_count": 278,
      "outputs": []
    },
    {
      "cell_type": "markdown",
      "metadata": {
        "id": "UVQtP871nsXy"
      },
      "source": [
        "SMOTE techniques is used after Vectorizing the data"
      ]
    },
    {
      "cell_type": "code",
      "metadata": {
        "colab": {
          "base_uri": "https://localhost:8080/"
        },
        "id": "uZ7p_zKZkc6X",
        "outputId": "226d0bac-e55e-4774-ea0f-74b4982af8b9"
      },
      "source": [
        "# Imbalance data with SMOTE\n",
        "from imblearn.over_sampling import SMOTE\n",
        "\n",
        "#Original Data\n",
        "\n",
        "X_s=df['Sequences'] \n",
        "y_s=df['Labels']\n",
        "\n",
        "x_transform_s,word_s = tfdi(X)\n",
        "\n",
        "sm =  SMOTE(sampling_strategy='minority')\n",
        "X_res_s, y_res_s = sm.fit_sample(x_transform_s , y)"
      ],
      "execution_count": 287,
      "outputs": [
        {
          "output_type": "stream",
          "text": [
            "/usr/local/lib/python3.7/dist-packages/sklearn/feature_extraction/text.py:507: UserWarning: The parameter 'token_pattern' will not be used since 'tokenizer' is not None'\n",
            "  warnings.warn(\"The parameter 'token_pattern' will not be used\"\n",
            "/usr/local/lib/python3.7/dist-packages/sklearn/utils/deprecation.py:87: FutureWarning: Function safe_indexing is deprecated; safe_indexing is deprecated in version 0.22 and will be removed in version 0.24.\n",
            "  warnings.warn(msg, category=FutureWarning)\n"
          ],
          "name": "stderr"
        }
      ]
    },
    {
      "cell_type": "code",
      "metadata": {
        "colab": {
          "base_uri": "https://localhost:8080/"
        },
        "id": "PlBSXMY6ZwvC",
        "outputId": "5808d0cf-abda-4166-cabe-2ff77563366b"
      },
      "source": [
        "print('Original dataset shape {}'.format(Counter(y)))\n",
        "print('Resampled dataset shape {}'.format(Counter(y_res_s)))"
      ],
      "execution_count": 288,
      "outputs": [
        {
          "output_type": "stream",
          "text": [
            "Original dataset shape Counter({0: 109344, 1: 5264})\n",
            "Resampled dataset shape Counter({1: 109344, 0: 109344})\n"
          ],
          "name": "stdout"
        }
      ]
    },
    {
      "cell_type": "markdown",
      "metadata": {
        "id": "NN76-Ny4gEEE"
      },
      "source": [
        "#Train_Test_Split"
      ]
    },
    {
      "cell_type": "code",
      "metadata": {
        "id": "TE5DgLbPgLEC"
      },
      "source": [
        "\n",
        "from sklearn.model_selection import KFold\n",
        "from sklearn.model_selection import train_test_split\n",
        "from sklearn.model_selection import GridSearchCV\n",
        "import xgboost\n",
        "from sklearn.ensemble import VotingRegressor\n",
        "from sklearn.model_selection import cross_val_score\n",
        "from sklearn.model_selection import LeaveOneOut\n",
        "from sklearn.metrics import classification_report\n",
        "from sklearn.metrics import accuracy_score, confusion_matrix\n",
        "from sklearn.svm import SVC\n",
        "\n",
        "\n",
        "from sklearn.ensemble import RandomForestClassifier\n",
        "from sklearn.svm import LinearSVC"
      ],
      "execution_count": 289,
      "outputs": []
    },
    {
      "cell_type": "code",
      "metadata": {
        "id": "cF7197oVEMfW"
      },
      "source": [
        "#Random sampler\n",
        "\n",
        "X_train, X_test, y_train, y_test = train_test_split(x_transform , y,\n",
        "    stratify=y, \n",
        "    test_size=0.2, shuffle=True)"
      ],
      "execution_count": 284,
      "outputs": []
    },
    {
      "cell_type": "markdown",
      "metadata": {
        "id": "a76ZJQe_gbpI"
      },
      "source": [
        "#Intitialisation"
      ]
    },
    {
      "cell_type": "code",
      "metadata": {
        "id": "o1EmV5YIgikT"
      },
      "source": [
        "result = pd.DataFrame(columns = (\"classifers\",\"Training\",\"Testing\"))\n",
        "classifier, train_scores, test_scores = [],[],[]"
      ],
      "execution_count": null,
      "outputs": []
    },
    {
      "cell_type": "markdown",
      "metadata": {
        "id": "WQHy9-D-jB4S"
      },
      "source": [
        "#Cross validation "
      ]
    },
    {
      "cell_type": "code",
      "metadata": {
        "id": "pUnQk0HKgo4I"
      },
      "source": [
        "#We will decide to go for K fold=5 or LOOCV\n",
        "k_fold = KFold(n_splits=5, shuffle=True,random_state=1)"
      ],
      "execution_count": null,
      "outputs": []
    },
    {
      "cell_type": "markdown",
      "metadata": {
        "id": "9wrIuu7QjX7S"
      },
      "source": [
        "#Baselines"
      ]
    },
    {
      "cell_type": "markdown",
      "metadata": {
        "id": "EAxJ6Xw2gqyk"
      },
      "source": [
        "##Random Forest Classifier"
      ]
    },
    {
      "cell_type": "markdown",
      "metadata": {
        "id": "3TwffMknmwUx"
      },
      "source": [
        "## Randomoversampling"
      ]
    },
    {
      "cell_type": "code",
      "metadata": {
        "colab": {
          "base_uri": "https://localhost:8080/"
        },
        "id": "34uXjE3OoodI",
        "outputId": "f89985e3-4a91-4692-c8f0-bf2609aba82e"
      },
      "source": [
        "# tokenize charecters\n",
        "dftrain['Sequences']  = dftrain['Sequences'] .map(lambda x: cleanData(x))\n",
        "dftrain['Sequences']"
      ],
      "execution_count": 294,
      "outputs": [
        {
          "output_type": "execute_result",
          "data": {
            "text/plain": [
              "0         [R, T, C, E, N, L, A, D, K, Y, R, G, P, C, F, ...\n",
              "1         [V, F, G, T, L, G, S, T, D, D, S, L, F, G, R, ...\n",
              "2         [G, I, F, S, K, K, A, G, K, G, F, K, K, K, S, ...\n",
              "3         [R, I, G, S, F, L, G, A, L, A, S, K, L, P, T, ...\n",
              "4                      [G, I, H, D, I, L, K, Y, G, K, P, A]\n",
              "                                ...                        \n",
              "218683    [A, L, G, G, L, L, A, D, V, V, K, S, K, E, Q, ...\n",
              "218684    [G, F, G, C, P, N, N, Y, A, C, H, Q, H, C, K, ...\n",
              "218685    [G, L, I, C, E, S, C, R, K, I, I, Q, K, L, E, ...\n",
              "218686    [N, N, E, A, Q, C, E, Q, A, G, G, I, C, S, K, ...\n",
              "218687                          [A, L, R, L, A, I, R, K, R]\n",
              "Name: Sequences, Length: 218688, dtype: object"
            ]
          },
          "metadata": {
            "tags": []
          },
          "execution_count": 294
        }
      ]
    },
    {
      "cell_type": "code",
      "metadata": {
        "colab": {
          "base_uri": "https://localhost:8080/"
        },
        "id": "UT-7psXum7bl",
        "outputId": "1798e05b-c022-4adf-90be-3d24d741778b"
      },
      "source": [
        "#TfidfVectorizer\n",
        "\n",
        "X_rs=dftrain['Sequences'] \n",
        "y_rs=dftrain['Labels'] \n",
        "\n",
        "x_transform_r,word_r = tfdi(X_rs)"
      ],
      "execution_count": 295,
      "outputs": [
        {
          "output_type": "stream",
          "text": [
            "/usr/local/lib/python3.7/dist-packages/sklearn/feature_extraction/text.py:507: UserWarning: The parameter 'token_pattern' will not be used since 'tokenizer' is not None'\n",
            "  warnings.warn(\"The parameter 'token_pattern' will not be used\"\n"
          ],
          "name": "stderr"
        }
      ]
    },
    {
      "cell_type": "code",
      "metadata": {
        "colab": {
          "base_uri": "https://localhost:8080/",
          "height": 281
        },
        "id": "Pq6167nhm-bV",
        "outputId": "d7e48aa9-f49a-4f61-ac5a-45079fa3e1a2"
      },
      "source": [
        "import numpy as np\n",
        "\n",
        "TFIDF_mean = np.mean(x_transform_r, axis=0)\n",
        "\n",
        "TFIDF_mean = np.array(TFIDF_mean)[0].tolist()\n",
        "\n",
        "# Feature_importance=top_feats(TFIDF_mean ,Word, Imp_Feat)\n",
        "\n",
        "topn_ids = np.argsort(TFIDF_mean)[::-1][:1000]\n",
        "names = np.array(word_r)\n",
        "# print(names[topn_ids])\n",
        "top_feats = [(word_r[i], TFIDF_mean[i]) for i in topn_ids]\n",
        "df_feat = pd.DataFrame(top_feats, index=names[topn_ids])\n",
        "df_feat.columns = ['FEATURE', 'Feat_IMP_value']\n",
        "\n",
        "Feature_importance = df_feat\n",
        "df_feat[:20].plot.bar(y='Feat_IMP_value', title='Feature Importances', rot=90)\n",
        "plt.ylabel('Relative Feature Importance  ')\n",
        "New_FI_index = Feature_importance.reset_index()\n",
        "del New_FI_index['index']\n",
        "plt.show()\n",
        "#plt.savefig('feature_Importance.png')"
      ],
      "execution_count": 296,
      "outputs": [
        {
          "output_type": "display_data",
          "data": {
            "image/png": "[encoded data removed]",
            "text/plain": [
              "<Figure size 432x288 with 1 Axes>"
            ]
          },
          "metadata": {
            "tags": [],
            "needs_background": "light"
          }
        }
      ]
    },
    {
      "cell_type": "code",
      "metadata": {
        "id": "aLz4NTqWnBSB"
      },
      "source": [
        "X_train, X_test, y_train, y_test = train_test_split(x_transform_r , y_rs,\n",
        "    stratify=y_rs, \n",
        "    test_size=0.2, shuffle=True)"
      ],
      "execution_count": 297,
      "outputs": []
    },
    {
      "cell_type": "code",
      "metadata": {
        "id": "3Rf4Y1nlEz_K"
      },
      "source": [
        "rfs = RandomForestClassifier()"
      ],
      "execution_count": 298,
      "outputs": []
    },
    {
      "cell_type": "markdown",
      "metadata": {
        "id": "yOypzIRFrCAH"
      },
      "source": [
        ""
      ]
    },
    {
      "cell_type": "code",
      "metadata": {
        "id": "bg2bllAZHvv5",
        "colab": {
          "base_uri": "https://localhost:8080/"
        },
        "outputId": "f8115e00-7d26-44ee-d071-ebb5ea90c2ca"
      },
      "source": [
        "rfs.fit(X_train,y_train)\n",
        "y_pred = rfs.predict(X_test)\n",
        "accuracy_score(y_test, y_pred)"
      ],
      "execution_count": 299,
      "outputs": [
        {
          "output_type": "execute_result",
          "data": {
            "text/plain": [
              "0.9925236636334538"
            ]
          },
          "metadata": {
            "tags": []
          },
          "execution_count": 299
        }
      ]
    },
    {
      "cell_type": "markdown",
      "metadata": {
        "id": "XAfcR181q9t3"
      },
      "source": [
        "##SMOTE"
      ]
    },
    {
      "cell_type": "code",
      "metadata": {
        "id": "ZF_jkI21rD5-",
        "outputId": "96d42461-7d6e-4465-89d8-e8b9ae9c54ec",
        "colab": {
          "base_uri": "https://localhost:8080/"
        }
      },
      "source": [
        "# tokenize charecters\n",
        "df['Sequences']  = df['Sequences'] .map(lambda x: cleanData(x))\n",
        "df['Sequences']"
      ],
      "execution_count": 300,
      "outputs": [
        {
          "output_type": "execute_result",
          "data": {
            "text/plain": [
              "0         [R, T, C, E, N, L, A, D, K, Y, R, G, P, C, F, ...\n",
              "1         [V, F, G, T, L, G, S, T, D, D, S, L, F, G, R, ...\n",
              "2         [G, I, F, S, K, K, A, G, K, G, F, K, K, K, S, ...\n",
              "3         [R, I, G, S, F, L, G, A, L, A, S, K, L, P, T, ...\n",
              "4                      [G, I, H, D, I, L, K, Y, G, K, P, A]\n",
              "                                ...                        \n",
              "114603    [M, E, K, C, E, G, I, V, I, R, Q, T, S, Y, R, ...\n",
              "114604    [M, D, R, L, V, I, G, G, R, E, L, K, N, R, L, ...\n",
              "114605    [M, K, V, K, V, F, D, L, N, G, Q, P, V, D, E, ...\n",
              "114606    [M, S, T, N, L, H, W, Q, S, F, G, Q, G, P, D, ...\n",
              "114607    [M, Q, L, T, N, K, K, I, V, V, T, G, V, S, S, ...\n",
              "Name: Sequences, Length: 114608, dtype: object"
            ]
          },
          "metadata": {
            "tags": []
          },
          "execution_count": 300
        }
      ]
    },
    {
      "cell_type": "code",
      "metadata": {
        "id": "uHPHAQM8rLwk",
        "outputId": "9b4672ae-8ba6-4f33-c662-2f18f2eb2026",
        "colab": {
          "base_uri": "https://localhost:8080/"
        }
      },
      "source": [
        "#TfidfVectorizer\n",
        "\n",
        "X_s=df['Sequences'] \n",
        "y_s=df['Labels'] \n",
        "\n",
        "x_transform_s,word_s = tfdi(X_s)"
      ],
      "execution_count": 301,
      "outputs": [
        {
          "output_type": "stream",
          "text": [
            "/usr/local/lib/python3.7/dist-packages/sklearn/feature_extraction/text.py:507: UserWarning: The parameter 'token_pattern' will not be used since 'tokenizer' is not None'\n",
            "  warnings.warn(\"The parameter 'token_pattern' will not be used\"\n"
          ],
          "name": "stderr"
        }
      ]
    },
    {
      "cell_type": "code",
      "metadata": {
        "id": "03FfOflKrWww",
        "outputId": "13c03e67-b2d3-4839-aa46-7b1922fe10d6",
        "colab": {
          "base_uri": "https://localhost:8080/",
          "height": 281
        }
      },
      "source": [
        "import numpy as np\n",
        "\n",
        "TFIDF_mean = np.mean(x_transform_s, axis=0)\n",
        "\n",
        "TFIDF_mean = np.array(TFIDF_mean)[0].tolist()\n",
        "\n",
        "# Feature_importance=top_feats(TFIDF_mean ,Word, Imp_Feat)\n",
        "\n",
        "topn_ids = np.argsort(TFIDF_mean)[::-1][:1000]\n",
        "names = np.array(word_s)\n",
        "# print(names[topn_ids])\n",
        "top_feats = [(word_s[i], TFIDF_mean[i]) for i in topn_ids]\n",
        "df_feat = pd.DataFrame(top_feats, index=names[topn_ids])\n",
        "df_feat.columns = ['FEATURE', 'Feat_IMP_value']\n",
        "\n",
        "Feature_importance = df_feat\n",
        "df_feat[:20].plot.bar(y='Feat_IMP_value', title='Feature Importances', rot=90)\n",
        "plt.ylabel('Relative Feature Importance  ')\n",
        "New_FI_index = Feature_importance.reset_index()\n",
        "del New_FI_index['index']\n",
        "plt.show()\n",
        "#plt.savefig('feature_Importance.png')"
      ],
      "execution_count": 302,
      "outputs": [
        {
          "output_type": "display_data",
          "data": {
            "image/png": "[encoded data removed]",
            "text/plain": [
              "<Figure size 432x288 with 1 Axes>"
            ]
          },
          "metadata": {
            "tags": [],
            "needs_background": "light"
          }
        }
      ]
    },
    {
      "cell_type": "code",
      "metadata": {
        "id": "d1DIAxFHsH28",
        "outputId": "2235ed83-8a18-42bf-d5b2-bd7bdb44c602",
        "colab": {
          "base_uri": "https://localhost:8080/"
        }
      },
      "source": [
        "# Imbalance data with SMOTE\n",
        "from imblearn.over_sampling import SMOTE\n",
        "\n",
        "sm =  SMOTE(sampling_strategy='minority')\n",
        "X_res_s, y_res_s = sm.fit_sample(x_transform_s , y_s)"
      ],
      "execution_count": 305,
      "outputs": [
        {
          "output_type": "stream",
          "text": [
            "/usr/local/lib/python3.7/dist-packages/sklearn/utils/deprecation.py:87: FutureWarning: Function safe_indexing is deprecated; safe_indexing is deprecated in version 0.22 and will be removed in version 0.24.\n",
            "  warnings.warn(msg, category=FutureWarning)\n"
          ],
          "name": "stderr"
        }
      ]
    },
    {
      "cell_type": "code",
      "metadata": {
        "id": "fSpNyqqysYfW",
        "outputId": "72c41287-9e74-41e0-85ae-1d52acc3f866",
        "colab": {
          "base_uri": "https://localhost:8080/"
        }
      },
      "source": [
        "print('Original dataset shape {}'.format(Counter(y_s)))\n",
        "print('Resampled dataset shape {}'.format(Counter(y_res_s)))"
      ],
      "execution_count": 306,
      "outputs": [
        {
          "output_type": "stream",
          "text": [
            "Original dataset shape Counter({0: 109344, 1: 5264})\n",
            "Resampled dataset shape Counter({1: 109344, 0: 109344})\n"
          ],
          "name": "stdout"
        }
      ]
    },
    {
      "cell_type": "code",
      "metadata": {
        "id": "aOH3jYL1qePj"
      },
      "source": [
        "# SMOTE data\n",
        "\n",
        "X_train, X_test, y_train, y_test = train_test_split(X_res_s, y_res_s,\n",
        "    stratify=y_res_s, \n",
        "    test_size=0.2, shuffle=True)"
      ],
      "execution_count": 309,
      "outputs": []
    },
    {
      "cell_type": "code",
      "metadata": {
        "id": "xOmbCQQQr1YV",
        "outputId": "3b61a6da-071a-4d84-be2d-34d7f908aced",
        "colab": {
          "base_uri": "https://localhost:8080/"
        }
      },
      "source": [
        "rfs = RandomForestClassifier()\n",
        "rfs.fit(X_train,y_train)\n",
        "y_pred = rfs.predict(X_test)\n",
        "accuracy_score(y_test, y_pred)"
      ],
      "execution_count": 310,
      "outputs": [
        {
          "output_type": "execute_result",
          "data": {
            "text/plain": [
              "0.9807718688554575"
            ]
          },
          "metadata": {
            "tags": []
          },
          "execution_count": 310
        }
      ]
    },
    {
      "cell_type": "markdown",
      "metadata": {
        "id": "YZc06du0g4CV"
      },
      "source": [
        "###Tune parameters"
      ]
    },
    {
      "cell_type": "code",
      "metadata": {
        "id": "MYBHCU6behsr"
      },
      "source": [
        "#to do Hyper parameter search using Grid search\n",
        "tuned_parameters = [\n",
        "  {'n_estimators': [100,500,1000,1500,3500]},\n",
        "    {'max_features': ['auto', 'sqrt', 'log2']},\n",
        "      {'max_depth': [None,10,20,30,40,50]},\n",
        "    {'min_samples_split': [2,5,10,15,20]},\n",
        "      {'min_samples_leaf': [1,2,5,10,15]},\n",
        "]\n",
        "\n",
        "grid_search = GridSearchCV(rfs,tuned_parameters,cv=k_fold,)\n",
        "grid_search.fit(X_train,y_train);\n",
        "print('Finished!')"
      ],
      "execution_count": null,
      "outputs": []
    },
    {
      "cell_type": "code",
      "metadata": {
        "id": "bZvBOqrDuB0e"
      },
      "source": [
        "print(\"Best parameters set found on development set:\")\n",
        "print()\n",
        "print(grid_search.best_params_)"
      ],
      "execution_count": null,
      "outputs": []
    },
    {
      "cell_type": "code",
      "metadata": {
        "id": "V5GqTN-puDau"
      },
      "source": [
        "print(\"Grid scores on development set:\")\n",
        "print()\n",
        "means = grid_search.cv_results_['mean_test_score']\n",
        "stds = grid_search.cv_results_['std_test_score']\n",
        "for mean, std, params in zip(means, stds, grid_search.cv_results_['params']):\n",
        "    print(\"%0.3f (+/-%0.03f) for %r\"\n",
        "          % (mean, std * 2, params))"
      ],
      "execution_count": null,
      "outputs": []
    },
    {
      "cell_type": "markdown",
      "metadata": {
        "id": "GDVVXh2khC8Q"
      },
      "source": [
        "### Final Random forest Model"
      ]
    },
    {
      "cell_type": "code",
      "metadata": {
        "id": "3n-vnmvChGi-"
      },
      "source": [
        "# implement with best Hyperparameters and calculate score"
      ],
      "execution_count": null,
      "outputs": []
    },
    {
      "cell_type": "code",
      "metadata": {
        "id": "-rPxUL2UoOWE"
      },
      "source": [
        "y_pred = rfs.predict(X_test)\n",
        "print(\"Test accuracy\",rfs.score(X_test, y_test))\n",
        "print(\"Train accuracy\",rfs.score(X_train, y_train))\n",
        "\n",
        "classifier.append(\"RFS\")\n",
        "train_scores.append(rfs.score(X_train, y_train))\n",
        "test_scores.append(rfs.score(X_test, y_test))"
      ],
      "execution_count": null,
      "outputs": []
    },
    {
      "cell_type": "markdown",
      "metadata": {
        "id": "X9IdaQLThOC7"
      },
      "source": [
        "##SVM classifier"
      ]
    },
    {
      "cell_type": "code",
      "metadata": {
        "id": "oZ7HKFxcekWS"
      },
      "source": [
        "#SVM\n",
        "svc=SVC(random_state=0, tol=1e-5)\n"
      ],
      "execution_count": null,
      "outputs": []
    },
    {
      "cell_type": "code",
      "metadata": {
        "colab": {
          "base_uri": "https://localhost:8080/"
        },
        "id": "zELZVYHgfqFw",
        "outputId": "91fe223e-31a7-43ee-f23b-b516f03985dc"
      },
      "source": [
        "svc.fit(X_train,y_train)\n",
        "y_pred = svc.predict(X_test)\n",
        "accuracy_score(y_test, y_pred)"
      ],
      "execution_count": null,
      "outputs": [
        {
          "output_type": "execute_result",
          "data": {
            "text/plain": [
              "0.9662764644016645"
            ]
          },
          "metadata": {
            "tags": []
          },
          "execution_count": 166
        }
      ]
    },
    {
      "cell_type": "markdown",
      "metadata": {
        "id": "o8FZIcjQhU8W"
      },
      "source": [
        "###Tune parameters"
      ]
    },
    {
      "cell_type": "code",
      "metadata": {
        "id": "TzFpUsSPhZnx"
      },
      "source": [
        "#to do Hyper parameter search using Grid search\n",
        "\n",
        "tuned_parameters = [  {'kernel': ['linear', 'poly', 'rbf', 'sigmoid'],\n",
        "                          'gamma': np.logspace(-1, -2, num=50),\n",
        "                           'C': np.logspace(0, 3, num=50)}]\n",
        "\n",
        "grid_search = GridSearchCV(svc,tuned_parameters,cv=k_fold,)\n",
        "grid_search.fit(X_train,y_train);\n",
        "print('Finished!')                          "
      ],
      "execution_count": null,
      "outputs": []
    },
    {
      "cell_type": "code",
      "metadata": {
        "id": "Xo8VEhtky1Mm"
      },
      "source": [
        "print(\"Best parameters set found on development set:\")\n",
        "print()\n",
        "print(grid_search.best_params_)"
      ],
      "execution_count": null,
      "outputs": []
    },
    {
      "cell_type": "code",
      "metadata": {
        "id": "qoNyMEwuy2-P"
      },
      "source": [
        "print(\"Grid scores on development set:\")\n",
        "print()\n",
        "means = grid_search.cv_results_['mean_test_score']\n",
        "stds = grid_search.cv_results_['std_test_score']\n",
        "for mean, std, params in zip(means, stds, grid_search.cv_results_['params']):\n",
        "    print(\"%0.3f (+/-%0.03f) for %r\"\n",
        "          % (mean, std * 2, params))"
      ],
      "execution_count": null,
      "outputs": []
    },
    {
      "cell_type": "markdown",
      "metadata": {
        "id": "OHG7Vb0mhb0b"
      },
      "source": [
        "### Final SVC Model"
      ]
    },
    {
      "cell_type": "markdown",
      "metadata": {
        "id": "bb8L7n6dv0Y5"
      },
      "source": [
        ""
      ]
    },
    {
      "cell_type": "code",
      "metadata": {
        "id": "b5rUU4rshegf"
      },
      "source": [
        "# implement with best Hyperparameters and calculate score"
      ],
      "execution_count": null,
      "outputs": []
    },
    {
      "cell_type": "code",
      "metadata": {
        "id": "e08pkccDoEOp"
      },
      "source": [
        "y_pred = svc.predict(X_test)\n",
        "print(\"Test accuracy\",svc.score(X_test, y_test))\n",
        "print(\"Train accuracy\",svc.score(X_train, y_train))\n",
        "\n",
        "classifier.append(\"SVC\")\n",
        "train_scores.append(svc.score(X_train, y_train))\n",
        "test_scores.append(svc.score(X_test, y_test))"
      ],
      "execution_count": null,
      "outputs": []
    },
    {
      "cell_type": "markdown",
      "metadata": {
        "id": "UqNPSHYHiFfm"
      },
      "source": [
        "##Neural Network"
      ]
    },
    {
      "cell_type": "code",
      "metadata": {
        "id": "WKH81sHyiIwa"
      },
      "source": [
        "#implement\n",
        "\n",
        "from sklearn.neural_network import MLPClassifier\n",
        "\n",
        "Nnw=MLPClassifier(alpha=1e-05, hidden_layer_sizes=(5, 2), random_state=1)#Adam\n"
      ],
      "execution_count": null,
      "outputs": []
    },
    {
      "cell_type": "code",
      "metadata": {
        "colab": {
          "base_uri": "https://localhost:8080/"
        },
        "id": "SN3w1UUsAZyc",
        "outputId": "5c4e08da-9109-4131-bd96-610018d06ac4"
      },
      "source": [
        "Nnw.fit(X_train,y_train)\n",
        "y_pred = Nnw.predict(X_test)\n",
        "accuracy_score(y_test, y_pred)"
      ],
      "execution_count": null,
      "outputs": [
        {
          "output_type": "execute_result",
          "data": {
            "text/plain": [
              "0.9285289679454937"
            ]
          },
          "metadata": {
            "tags": []
          },
          "execution_count": 180
        }
      ]
    },
    {
      "cell_type": "markdown",
      "metadata": {
        "id": "6Ry30ECeiKYi"
      },
      "source": [
        "###Tune parameters"
      ]
    },
    {
      "cell_type": "code",
      "metadata": {
        "id": "XWBOgmPjiOku"
      },
      "source": [
        "#to do Hyper parameter search using Grid search"
      ],
      "execution_count": null,
      "outputs": []
    },
    {
      "cell_type": "markdown",
      "metadata": {
        "id": "RLRbP3gKiXQq"
      },
      "source": [
        "### Final Neural Network Model"
      ]
    },
    {
      "cell_type": "code",
      "metadata": {
        "id": "BYsLC1eEia73"
      },
      "source": [
        "# implement with best Hyperparameters and calculate score"
      ],
      "execution_count": null,
      "outputs": []
    },
    {
      "cell_type": "code",
      "metadata": {
        "id": "-Z_jjcLbn6Jd"
      },
      "source": [
        "y_pred = Nnw.predict(X_test)\n",
        "print(\"Test accuracy\",Nnw.score(X_test, y_test))\n",
        "print(\"Train accuracy\",Nnw.score(X_train, y_train))\n",
        "\n",
        "classifier.append(\"NNW\")\n",
        "train_scores.append(Nnw.score(X_train, y_train))\n",
        "test_scores.append(Nnw.score(X_test, y_test))"
      ],
      "execution_count": null,
      "outputs": []
    },
    {
      "cell_type": "markdown",
      "metadata": {
        "id": "HYOfgD9bjS5w"
      },
      "source": [
        "# Improvements : Ensemble method with Crossvalidation"
      ]
    },
    {
      "cell_type": "code",
      "metadata": {
        "id": "I5RxG6x5kZ4g"
      },
      "source": [
        "##### Trying to improve with the ensemble of all predictors\n",
        "from sklearn.ensemble import VotingRegressor\n",
        "\n",
        "Reg_vote = VotingRegressor(\n",
        "    estimators=[\n",
        "        ('rfs', rfs), # Random Forest\n",
        "        ('svc', svc), # SVC\n",
        "        ('Nn', Nnw), # Neural Network\n",
        "          ])\n",
        "Reg_vote.fit(X_train, y_train)\n",
        "Reg_vote.score(X_val, y_val)"
      ],
      "execution_count": null,
      "outputs": []
    },
    {
      "cell_type": "code",
      "metadata": {
        "id": "NyGPBstzkrW6"
      },
      "source": [
        "scores = cross_val_score(Reg_vote, X_train, y_train, cv=k_fold)\n",
        "print(\"Reg: Accuracy: %0.4f (+/- %0.4f)\" % (scores.mean(), scores.std()))"
      ],
      "execution_count": null,
      "outputs": []
    }
  ]
}
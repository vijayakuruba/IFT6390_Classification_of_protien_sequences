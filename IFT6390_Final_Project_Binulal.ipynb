{
 "cells": [
  {
   "cell_type": "markdown",
   "metadata": {
    "id": "7UmUHbiGiEMW"
   },
   "source": [
    "# IFT6390: Final Project\n",
    "\n",
    "The final project pertains to the problem of finding novel [antimicrobial peptides](https://en.wikipedia.org/wiki/Antimicrobial_peptides) (AMP) which may turn out to be key in the fight against antibiotics resistance. The World Health Organization qualifies antibiotic resistance as one of the [''biggest threats to global health, food security, and development today''](https://www.who.int/news-room/fact-sheets/detail/antibiotic-resistance).\n",
    "\n",
    "Given the limited time frame of this project, I have scoped down the problems to two main tracks:\n",
    "\n",
    "1. **Classification**: classifying protein sequences as AMP or non-AMP: a binary classification problem\n",
    "\n",
    "    1.1 You are allowed to use Scikit-learn. You need to provide the following baselines: Random Forest, SVM, Neural Network. Use TF-IDF as a baseline feature extractor (you can use sklearn) for each of those.  \n",
    "2. **Generation**: Given a corpus of AMP sequences, learn a character-level language model. You should implement a baseline using a Markov model. Then implement a sequential model using an RNN or LSTM. \n",
    "\n",
    "You should pick one of the two options. Choose your own adventure. You can work in teams of **three people max**.\n",
    "\n",
    "---\n",
    "Le projet final a trait au problème de découverte de [peptides antimicrobien](https://fr.wikipedia.org/wiki/Peptide_antimicrobien) qui pourraient s'avérer utile dans la bataille contre la résistance antibiotique. L'Organisation mondiale de la Santé estime que la résistance antibiotique est l'une des plus [grande menace à la santé globale, la sécurité alimentaire ainsi que le dévelopment de nos jours](https://www.who.int/news-room/fact-sheets/detail/antibiotic-resistance).\n",
    "\n",
    "Étant donnée la durée limitée de ce projet, j'ai établi les deux directions de recherche suivantes: \n",
    "\n",
    "1. **Classification**: classifier les séquence de peptides antimicrobiens (AMPS) et non-antimicrobiens (non-AMP).\n",
    "\n",
    "  1.1 Vous pouvez utiliser Scikit-learn. Vous devez toutefois fournir des points de comparaisons avec les algorithmes suivants: forêts aléatoires (random forest), SVM, réseaux de neurones. De plus, utilisez TF-IDF (scikit-learn) pour transformer les séquences de textes en vecteurs de charactéristiques.\n",
    "\n",
    "2.**Modèle génératif**: étant donné un ensemble de séquences d'AMPs, apprendre un modèle de langage au niveaux des charactères. Vous devez également implémenter un modèle Markoviens pour fins de comparaison. Implémentez ensuite le modèle génératif avec un RNN ou un LSTM (voir démo de Viet). \n",
    "\n",
    "Vous devez choisir une des deux options. Vous pouvez travailler en équipe de trois personnes maximum. \n",
    "\n",
    "\n",
    "\n",
    "\n",
    "\n"
   ]
  },
  {
   "cell_type": "markdown",
   "metadata": {
    "id": "UYGrjhhbiRiF"
   },
   "source": [
    "# Dataset\n",
    "\n",
    "The dataset in this project comes from two open source projects: amPEPpy and AMPlify. \n",
    "\n",
    "---\n",
    "\n",
    "L'ensemble de données provient des projets amPEPpy et AMPlify. "
   ]
  },
  {
   "cell_type": "code",
   "execution_count": 3,
   "metadata": {
    "colab": {
     "base_uri": "https://localhost:8080/"
    },
    "id": "tktJPs8MhLOr",
    "outputId": "dd79e8a9-0392-450f-90e0-9d1480181e14"
   },
   "outputs": [
    {
     "name": "stdout",
     "output_type": "stream",
     "text": [
      "Defaulting to user installation because normal site-packages is not writeable\n",
      "Requirement already satisfied: biopython in /usr/local/lib/python3.8/dist-packages (1.78)\n",
      "Requirement already satisfied: numpy in /usr/local/lib/python3.8/dist-packages (from biopython) (1.19.5)\n",
      "--2021-04-25 04:57:24--  https://raw.githubusercontent.com/bcgsc/AMPlify/master/data/AMP_20190407.fa\n",
      "Resolving raw.githubusercontent.com (raw.githubusercontent.com)... 185.199.109.133, 185.199.108.133, 185.199.111.133, ...\n",
      "Connecting to raw.githubusercontent.com (raw.githubusercontent.com)|185.199.109.133|:443... connected.\n",
      "HTTP request sent, awaiting response... 200 OK\n",
      "Length: 166037 (162K) [text/plain]\n",
      "Saving to: ‘AMP_20190407.fa’\n",
      "\n",
      "AMP_20190407.fa     100%[===================>] 162.15K  --.-KB/s    in 0.05s   \n",
      "\n",
      "2021-04-25 04:57:24 (3.13 MB/s) - ‘AMP_20190407.fa’ saved [166037/166037]\n",
      "\n",
      "--2021-04-25 04:57:24--  https://raw.githubusercontent.com/bcgsc/AMPlify/master/data/non_AMP_20190413.fa\n",
      "Resolving raw.githubusercontent.com (raw.githubusercontent.com)... 185.199.109.133, 185.199.108.133, 185.199.111.133, ...\n",
      "Connecting to raw.githubusercontent.com (raw.githubusercontent.com)|185.199.109.133|:443... connected.\n",
      "HTTP request sent, awaiting response... 200 OK\n",
      "Length: 186539 (182K) [text/plain]\n",
      "Saving to: ‘non_AMP_20190413.fa’\n",
      "\n",
      "non_AMP_20190413.fa 100%[===================>] 182.17K  --.-KB/s    in 0.05s   \n",
      "\n",
      "2021-04-25 04:57:24 (3.32 MB/s) - ‘non_AMP_20190413.fa’ saved [186539/186539]\n",
      "\n",
      "--2021-04-25 04:57:25--  https://raw.githubusercontent.com/tlawrence3/amPEPpy/master/training_data/M_model_train_AMP_sequence.numbered.fasta\n",
      "Resolving raw.githubusercontent.com (raw.githubusercontent.com)... 185.199.109.133, 185.199.108.133, 185.199.111.133, ...\n",
      "Connecting to raw.githubusercontent.com (raw.githubusercontent.com)|185.199.109.133|:443... connected.\n",
      "HTTP request sent, awaiting response... 200 OK\n",
      "Length: 182506 (178K) [text/plain]\n",
      "Saving to: ‘M_model_train_AMP_sequence.numbered.fasta’\n",
      "\n",
      "M_model_train_AMP_s 100%[===================>] 178.23K  --.-KB/s    in 0.05s   \n",
      "\n",
      "2021-04-25 04:57:25 (3.53 MB/s) - ‘M_model_train_AMP_sequence.numbered.fasta’ saved [182506/182506]\n",
      "\n",
      "--2021-04-25 04:57:25--  https://raw.githubusercontent.com/tlawrence3/amPEPpy/master/training_data/M_model_train_nonAMP_sequence.numbered.fasta\n",
      "Resolving raw.githubusercontent.com (raw.githubusercontent.com)... 185.199.109.133, 185.199.108.133, 185.199.111.133, ...\n",
      "Connecting to raw.githubusercontent.com (raw.githubusercontent.com)|185.199.109.133|:443... connected.\n",
      "HTTP request sent, awaiting response... 200 OK\n",
      "Length: 28767041 (27M) [text/plain]\n",
      "Saving to: ‘M_model_train_nonAMP_sequence.numbered.fasta’\n",
      "\n",
      "M_model_train_nonAM 100%[===================>]  27.43M  9.76MB/s    in 2.8s    \n",
      "\n",
      "2021-04-25 04:57:28 (9.76 MB/s) - ‘M_model_train_nonAMP_sequence.numbered.fasta’ saved [28767041/28767041]\n",
      "\n"
     ]
    }
   ],
   "source": [
    "!pip install biopython\n",
    "!wget https://raw.githubusercontent.com/bcgsc/AMPlify/master/data/AMP_20190407.fa\n",
    "!wget https://raw.githubusercontent.com/bcgsc/AMPlify/master/data/non_AMP_20190413.fa\n",
    "!wget https://raw.githubusercontent.com/tlawrence3/amPEPpy/master/training_data/M_model_train_AMP_sequence.numbered.fasta\n",
    "!wget https://raw.githubusercontent.com/tlawrence3/amPEPpy/master/training_data/M_model_train_nonAMP_sequence.numbered.fasta"
   ]
  },
  {
   "cell_type": "code",
   "execution_count": 215,
   "metadata": {
    "id": "HQgO-_AxhaKS"
   },
   "outputs": [],
   "source": [
    "from Bio import SeqIO\n",
    "import matplotlib.pyplot as plt"
   ]
  },
  {
   "cell_type": "code",
   "execution_count": 216,
   "metadata": {
    "id": "svHX_fr4hPQg"
   },
   "outputs": [],
   "source": [
    "def fasta_to_str_set(name):\n",
    "  return {str(rec.seq) for rec in SeqIO.parse(name, 'fasta')}"
   ]
  },
  {
   "cell_type": "code",
   "execution_count": 217,
   "metadata": {
    "id": "due0S5wYhQ-5"
   },
   "outputs": [],
   "source": [
    "positive_examples = fasta_to_str_set('AMP_20190407.fa')\n",
    "#.union(fasta_to_str_set('M_model_train_AMP_sequence.numbered.fasta'))\n",
    "#positive_examples = fasta_to_str_set('M_model_train_AMP_sequence.numbered.fasta')\n",
    "negative_examples = fasta_to_str_set('non_AMP_20190413.fa')\n",
    "#.union(fasta_to_str_set('M_model_train_nonAMP_sequence.numbered.fasta'))\n",
    "#negative_examples = fasta_to_str_set('M_model_train_nonAMP_sequence.numbered.fasta')"
   ]
  },
  {
   "cell_type": "markdown",
   "metadata": {
    "id": "0cfO3VqZikeU"
   },
   "source": [
    "Once we have merged the two data sources, the positive class has:\n",
    "\n",
    "---\n",
    "\n",
    "Une fois les sources de données combinées, la classe positive a:"
   ]
  },
  {
   "cell_type": "code",
   "execution_count": 218,
   "metadata": {
    "colab": {
     "base_uri": "https://localhost:8080/"
    },
    "id": "nMv1E41mhrLB",
    "outputId": "e6ee9694-a484-4c61-e98a-b81071823bb4"
   },
   "outputs": [
    {
     "name": "stdout",
     "output_type": "stream",
     "text": [
      "4173 examples\n"
     ]
    }
   ],
   "source": [
    "print(f\"{len(positive_examples)} examples\")"
   ]
  },
  {
   "cell_type": "markdown",
   "metadata": {
    "id": "XMvOwI8cjAAK"
   },
   "source": [
    "and the negative class (non-AMPs) has:"
   ]
  },
  {
   "cell_type": "code",
   "execution_count": 219,
   "metadata": {
    "colab": {
     "base_uri": "https://localhost:8080/"
    },
    "id": "chlRMLqli5uE",
    "outputId": "87d533f1-e986-4c9f-9593-33320afeacc4"
   },
   "outputs": [
    {
     "name": "stdout",
     "output_type": "stream",
     "text": [
      "4173 examples\n"
     ]
    }
   ],
   "source": [
    "print(f\"{len(negative_examples)} examples\")"
   ]
  },
  {
   "cell_type": "markdown",
   "metadata": {
    "id": "WwJd8DiSjyHv"
   },
   "source": [
    "We have way more non-AMPs than AMP. This will be a challenge. Furthermore, the distribution of the sequence lengths varies a lot between the two classes. You should probably do something about this.\n",
    "\n",
    "---\n",
    "\n",
    "Nous avons également beaucoup plus de non-AMPs que d'AMPs. C'est là le défi. De plus, la distribution de la longeur des séquences varie beaucoup entre les deux classes. Vous devrez tenter de palier à ce problème. "
   ]
  },
  {
   "cell_type": "code",
   "execution_count": 220,
   "metadata": {
    "colab": {
     "base_uri": "https://localhost:8080/",
     "height": 298
    },
    "id": "eL4FBivbjDc4",
    "outputId": "32a1ba8e-1b73-48bd-d10c-2f1a8d320b5d"
   },
   "outputs": [
    {
     "data": {
      "text/plain": [
       "Text(0.5, 1.0, 'Negative Sequence Lengths')"
      ]
     },
     "execution_count": 220,
     "metadata": {},
     "output_type": "execute_result"
    },
    {
     "data": {
      "image/png": "[encoded data removed]",
      "text/plain": [
       "<Figure size 432x288 with 2 Axes>"
      ]
     },
     "metadata": {
      "needs_background": "light"
     },
     "output_type": "display_data"
    }
   ],
   "source": [
    "fig, axes = plt.subplots(1,2)\n",
    "axes[0].hist([len(seq) for seq in positive_examples])\n",
    "axes[0].set_title('Positive Sequence Lengths')\n",
    "axes[1].hist([len(seq) for seq in negative_examples])\n",
    "axes[1].set_title('Negative Sequence Lengths')"
   ]
  },
  {
   "cell_type": "code",
   "execution_count": 221,
   "metadata": {},
   "outputs": [],
   "source": [
    "#positive_examples = fasta_to_str_set('AMP_20190407.fa')\n",
    "#.union(fasta_to_str_set('M_model_train_AMP_sequence.numbered.fasta'))\n",
    "#positive_examples = fasta_to_str_set('M_model_train_AMP_sequence.numbered.fasta')\n",
    "#negative_examples = fasta_to_str_set('non_AMP_20190413.fa')\n",
    "#.union(fasta_to_str_set('M_model_train_nonAMP_sequence.numbered.fasta'))\n",
    "#negative_examples = fasta_to_str_set('M_model_train_nonAMP_sequence.numbered.fasta')"
   ]
  },
  {
   "cell_type": "code",
   "execution_count": 222,
   "metadata": {},
   "outputs": [],
   "source": [
    "#print(f\"{len(positive_examples)} examples\")"
   ]
  },
  {
   "cell_type": "code",
   "execution_count": 223,
   "metadata": {},
   "outputs": [],
   "source": [
    "#print(f\"{len(negative_examples)} examples\")"
   ]
  },
  {
   "cell_type": "code",
   "execution_count": 224,
   "metadata": {},
   "outputs": [],
   "source": [
    "#fig, axes = plt.subplots(1,2)\n",
    "#axes[0].hist([len(seq) for seq in positive_examples])\n",
    "#axes[0].set_title('Positive Sequence Lengths')\n",
    "#axes[1].hist([len(seq) for seq in negative_examples])\n",
    "#axes[1].set_title('Negative Sequence Lengths')"
   ]
  },
  {
   "cell_type": "markdown",
   "metadata": {
    "id": "gPqDJ5_JkYVH"
   },
   "source": [
    "Let's have a look at the data. For example, the first AMP in the dataset is: \n",
    "\n",
    "---\n",
    "\n",
    "Jettons un coup d'oeil aux données. Le premier exemple d'AMP est:"
   ]
  },
  {
   "cell_type": "code",
   "execution_count": 225,
   "metadata": {
    "colab": {
     "base_uri": "https://localhost:8080/",
     "height": 35
    },
    "id": "jmPKW4ICjSk4",
    "outputId": "df51c7b6-b1de-4b85-9f7c-d3aa7e4240ea"
   },
   "outputs": [
    {
     "data": {
      "text/plain": [
       "'AVNIPFKVHFRCKAAFC'"
      ]
     },
     "execution_count": 225,
     "metadata": {},
     "output_type": "execute_result"
    }
   ],
   "source": [
    "list(positive_examples)[0]"
   ]
  },
  {
   "cell_type": "markdown",
   "metadata": {
    "id": "cBOQwaD9kwoG"
   },
   "source": [
    "This string describes the sequence of [amino acids](https://en.wikipedia.org/wiki/Amino_acid) present in the given AMP. There are $20$ possible such *standard* amino acids present in the genetic code. To know more about the meaning of each of those letter, see [this section](https://en.wikipedia.org/wiki/Amino_acid#Table_of_standard_amino_acid_abbreviations_and_properties) of the Wikipedia page on amino acids.\n",
    "\n",
    "A non-AMP looks like:\n",
    "\n",
    "---\n",
    "\n",
    "Cette séquence décrit les amino acides présent dans l'AMP donné. Il y a $20$ aminos acides standard dans le code génétique. Pour en connaître plus sur la signification de chaque lettre, voir la page [wikipedia](https://en.wikipedia.org/wiki/Amino_acid#Table_of_standard_amino_acid_abbreviations_and_properties). "
   ]
  },
  {
   "cell_type": "code",
   "execution_count": 226,
   "metadata": {
    "colab": {
     "base_uri": "https://localhost:8080/",
     "height": 35
    },
    "id": "QMcOXgdbkh-p",
    "outputId": "3ce3e122-3236-4ae5-a7f2-8889f55fd615"
   },
   "outputs": [
    {
     "data": {
      "text/plain": [
       "'YRRRQCPPWCSGEPCRKGTC'"
      ]
     },
     "execution_count": 226,
     "metadata": {},
     "output_type": "execute_result"
    }
   ],
   "source": [
    "list(negative_examples)[0]"
   ]
  },
  {
   "cell_type": "markdown",
   "metadata": {
    "id": "8oh0vDvMLsN9"
   },
   "source": [
    "# Deliverables\n",
    "\n",
    "You should provide a Colab notebook containing your code, figures and analysis. The code should be runnable and the figures reproducible. What I'm looking for in your report is to understand the thought process that led you to model your problem in a particular way. I want to see how you go about validating your results: discuss limitations, what can go wrong, what went wrong and how you addressed those issues. The final accuracy number is less important than how you got there. For each algorithm, also please provide a quick math overview of how it works under the hood.\n",
    "\n",
    "The due date (firm) is April 30th. \n",
    "\n",
    "---\n",
    "\n",
    "Vous devez remettre un cahier Colab contenant votre code, figures et analyses. Le code doit être exécutable et doit pouvoir reproduire les figures. Le point auquel sur lequel je vais m'attarder le plus est de comprendre le développement de vos idées. Je veux pouvoir comprendre comment vous avez validé vos résultats: en discutant les limitations, qu'est-ce qui peut mal tourner et comment s'attaquer aux problèmes. La précision finale du modèle est moins importante que l'analyse de votre approche elle-même. Pour chaque algorithme, veuillez également fournir un survol mathématique des concepts principaux. \n",
    "\n",
    "La date finale (ferme) est le 30 avril. "
   ]
  },
  {
   "cell_type": "markdown",
   "metadata": {},
   "source": [
    "# Dataset"
   ]
  },
  {
   "cell_type": "code",
   "execution_count": 227,
   "metadata": {},
   "outputs": [],
   "source": [
    "from sklearn.feature_extraction.text import TfidfVectorizer"
   ]
  },
  {
   "cell_type": "code",
   "execution_count": 228,
   "metadata": {},
   "outputs": [],
   "source": [
    "def dummy(doc):\n",
    "    return doc"
   ]
  },
  {
   "cell_type": "code",
   "execution_count": 229,
   "metadata": {},
   "outputs": [],
   "source": [
    "vectorizer = TfidfVectorizer(tokenizer=dummy,preprocessor=dummy,lowercase=False)     "
   ]
  },
  {
   "cell_type": "code",
   "execution_count": 230,
   "metadata": {},
   "outputs": [
    {
     "name": "stdout",
     "output_type": "stream",
     "text": [
      "(4173, 20)\n",
      "4173\n",
      "20\n"
     ]
    }
   ],
   "source": [
    "X1 = vectorizer.fit_transform(positive_examples)\n",
    "print(X1.shape)\n",
    "features1 = vectorizer.get_feature_names()\n",
    "print(len(positive_examples))\n",
    "print(len(features))"
   ]
  },
  {
   "cell_type": "code",
   "execution_count": 231,
   "metadata": {},
   "outputs": [
    {
     "data": {
      "text/plain": [
       "'GFGPAFHSVSNFAKKHKTA'"
      ]
     },
     "execution_count": 231,
     "metadata": {},
     "output_type": "execute_result"
    }
   ],
   "source": [
    "list(positive_examples)[1]"
   ]
  },
  {
   "cell_type": "code",
   "execution_count": 232,
   "metadata": {},
   "outputs": [
    {
     "name": "stdout",
     "output_type": "stream",
     "text": [
      "['A', 'C', 'D', 'E', 'F', 'G', 'H', 'I', 'K', 'L', 'M', 'N', 'P', 'Q', 'R', 'S', 'T', 'V', 'W', 'Y']\n"
     ]
    }
   ],
   "source": [
    "print(features1)"
   ]
  },
  {
   "cell_type": "code",
   "execution_count": 233,
   "metadata": {},
   "outputs": [
    {
     "name": "stdout",
     "output_type": "stream",
     "text": [
      "(4173, 20)\n",
      "4173\n",
      "20\n"
     ]
    }
   ],
   "source": [
    "X2 = vectorizer.fit_transform(negative_examples)\n",
    "print(X2.shape)\n",
    "features2 = vectorizer.get_feature_names()\n",
    "print(len(negative_examples))\n",
    "print(len(features2))"
   ]
  },
  {
   "cell_type": "code",
   "execution_count": 234,
   "metadata": {},
   "outputs": [
    {
     "name": "stdout",
     "output_type": "stream",
     "text": [
      "['A', 'C', 'D', 'E', 'F', 'G', 'H', 'I', 'K', 'L', 'M', 'N', 'P', 'Q', 'R', 'S', 'T', 'V', 'W', 'Y']\n"
     ]
    }
   ],
   "source": [
    "print(features1)"
   ]
  },
  {
   "cell_type": "code",
   "execution_count": 235,
   "metadata": {},
   "outputs": [
    {
     "data": {
      "image/png": "[encoded data removed]",
      "text/plain": [
       "<Figure size 432x288 with 2 Axes>"
      ]
     },
     "metadata": {
      "needs_background": "light"
     },
     "output_type": "display_data"
    }
   ],
   "source": [
    "fig, axes = plt.subplots(1,2)\n",
    "axes[0].hist([len(seq) for seq in positive_examples])\n",
    "axes[0].set_title('Positive Sequence Lengths')\n",
    "axes[1].hist([len(seq) for seq in negative_examples])\n",
    "axes[1].set_title('Negative Sequence Lengths')\n",
    "plt.show()"
   ]
  },
  {
   "cell_type": "code",
   "execution_count": 285,
   "metadata": {},
   "outputs": [
    {
     "name": "stdout",
     "output_type": "stream",
     "text": [
      "(8346, 3)\n"
     ]
    }
   ],
   "source": [
    "import pandas as pd \n",
    "df_orig_p=pd.DataFrame(positive_examples,columns=['Sequence'])\n",
    "df_orig_p['Label']=1\n",
    "df_orig_p['SqLen'] = np.array([len(seq) for seq in positive_examples])\n",
    "df_orig_n=pd.DataFrame(negative_examples,columns=['Sequence'])\n",
    "df_orig_n['SqLen'] = np.array([len(seq) for seq in negative_examples])\n",
    "df_orig_n['Label']=0\n",
    "\n",
    "df=pd.DataFrame()\n",
    "df=df.append(df_orig_p,ignore_index=True)\n",
    "df=df.append(df_orig_n,ignore_index=True)\n",
    "print(df.shape)"
   ]
  },
  {
   "cell_type": "code",
   "execution_count": 286,
   "metadata": {},
   "outputs": [
    {
     "data": {
      "text/plain": [
       "Index(['Sequence', 'Label', 'SqLen'], dtype='object')"
      ]
     },
     "execution_count": 286,
     "metadata": {},
     "output_type": "execute_result"
    }
   ],
   "source": [
    "df.columns"
   ]
  },
  {
   "cell_type": "code",
   "execution_count": 287,
   "metadata": {},
   "outputs": [
    {
     "data": {
      "text/html": [
       "<div>\n",
       "<style scoped>\n",
       "    .dataframe tbody tr th:only-of-type {\n",
       "        vertical-align: middle;\n",
       "    }\n",
       "\n",
       "    .dataframe tbody tr th {\n",
       "        vertical-align: top;\n",
       "    }\n",
       "\n",
       "    .dataframe thead th {\n",
       "        text-align: right;\n",
       "    }\n",
       "</style>\n",
       "<table border=\"1\" class=\"dataframe\">\n",
       "  <thead>\n",
       "    <tr style=\"text-align: right;\">\n",
       "      <th></th>\n",
       "      <th>Sequence</th>\n",
       "      <th>Label</th>\n",
       "      <th>SqLen</th>\n",
       "    </tr>\n",
       "  </thead>\n",
       "  <tbody>\n",
       "    <tr>\n",
       "      <th>0</th>\n",
       "      <td>AVNIPFKVHFRCKAAFC</td>\n",
       "      <td>1</td>\n",
       "      <td>17</td>\n",
       "    </tr>\n",
       "    <tr>\n",
       "      <th>1</th>\n",
       "      <td>GFGPAFHSVSNFAKKHKTA</td>\n",
       "      <td>1</td>\n",
       "      <td>19</td>\n",
       "    </tr>\n",
       "    <tr>\n",
       "      <th>2</th>\n",
       "      <td>ELPKLPDDKVLIRSRSNCPKGKVWNGFDCKSPFAFS</td>\n",
       "      <td>1</td>\n",
       "      <td>36</td>\n",
       "    </tr>\n",
       "    <tr>\n",
       "      <th>3</th>\n",
       "      <td>FLPIIGKLLSG</td>\n",
       "      <td>1</td>\n",
       "      <td>11</td>\n",
       "    </tr>\n",
       "    <tr>\n",
       "      <th>4</th>\n",
       "      <td>KPAWCWYTLAMCGAGYDSGTCDYMYSHCFGIKHHSSGSSSYHC</td>\n",
       "      <td>1</td>\n",
       "      <td>43</td>\n",
       "    </tr>\n",
       "  </tbody>\n",
       "</table>\n",
       "</div>"
      ],
      "text/plain": [
       "                                      Sequence  Label  SqLen\n",
       "0                            AVNIPFKVHFRCKAAFC      1     17\n",
       "1                          GFGPAFHSVSNFAKKHKTA      1     19\n",
       "2         ELPKLPDDKVLIRSRSNCPKGKVWNGFDCKSPFAFS      1     36\n",
       "3                                  FLPIIGKLLSG      1     11\n",
       "4  KPAWCWYTLAMCGAGYDSGTCDYMYSHCFGIKHHSSGSSSYHC      1     43"
      ]
     },
     "execution_count": 287,
     "metadata": {},
     "output_type": "execute_result"
    }
   ],
   "source": [
    "df.head()"
   ]
  },
  {
   "cell_type": "code",
   "execution_count": 288,
   "metadata": {},
   "outputs": [
    {
     "data": {
      "text/plain": [
       "44"
      ]
     },
     "execution_count": 288,
     "metadata": {},
     "output_type": "execute_result"
    }
   ],
   "source": [
    "len(\"MSKLVQAISDAVQAGQNQDWAKLGTSIVGIVENGVGILGKLFGF\")"
   ]
  },
  {
   "cell_type": "code",
   "execution_count": 289,
   "metadata": {},
   "outputs": [
    {
     "data": {
      "text/plain": [
       "17"
      ]
     },
     "execution_count": 289,
     "metadata": {},
     "output_type": "execute_result"
    }
   ],
   "source": [
    "len(\"AVNIPFKVHFRCKAAFC\")"
   ]
  },
  {
   "cell_type": "code",
   "execution_count": 290,
   "metadata": {},
   "outputs": [],
   "source": [
    "# pre processing data\n",
    "def cleanData(sentence):\n",
    "    # Tokenize sequence to charecters\n",
    "    sentence=list(sentence)\n",
    "    return sentence\n",
    "\n",
    "df['Sequence']  = df['Sequence'] .map(lambda x: cleanData(x))"
   ]
  },
  {
   "cell_type": "code",
   "execution_count": 291,
   "metadata": {},
   "outputs": [],
   "source": [
    "X = df.Sequence\n",
    "y = df.Label"
   ]
  },
  {
   "cell_type": "code",
   "execution_count": 307,
   "metadata": {},
   "outputs": [
    {
     "data": {
      "text/plain": [
       "0    [A, V, N, I, P, F, K, V, H, F, R, C, K, A, A, ...\n",
       "1    [G, F, G, P, A, F, H, S, V, S, N, F, A, K, K, ...\n",
       "2    [E, L, P, K, L, P, D, D, K, V, L, I, R, S, R, ...\n",
       "3                    [F, L, P, I, I, G, K, L, L, S, G]\n",
       "4    [K, P, A, W, C, W, Y, T, L, A, M, C, G, A, G, ...\n",
       "Name: Sequence, dtype: object"
      ]
     },
     "execution_count": 307,
     "metadata": {},
     "output_type": "execute_result"
    }
   ],
   "source": [
    "X.head()"
   ]
  },
  {
   "cell_type": "code",
   "execution_count": 308,
   "metadata": {},
   "outputs": [
    {
     "data": {
      "text/plain": [
       "0    1\n",
       "1    1\n",
       "2    1\n",
       "3    1\n",
       "4    1\n",
       "Name: Label, dtype: int64"
      ]
     },
     "execution_count": 308,
     "metadata": {},
     "output_type": "execute_result"
    }
   ],
   "source": [
    "y.head()"
   ]
  },
  {
   "cell_type": "code",
   "execution_count": 302,
   "metadata": {},
   "outputs": [],
   "source": [
    "from sklearn.model_selection import train_test_split\n",
    "\n",
    "from sklearn.ensemble import RandomForestClassifier\n",
    "\n",
    "from sklearn.model_selection import KFold\n",
    "from sklearn.model_selection import cross_validate\n",
    "from sklearn.model_selection import GridSearchCV\n",
    "\n",
    "from sklearn.metrics import classification_report\n",
    "\n",
    "from sklearn.pipeline import Pipeline"
   ]
  },
  {
   "cell_type": "code",
   "execution_count": 293,
   "metadata": {},
   "outputs": [],
   "source": [
    "X_train, X_test, y_train, y_test = train_test_split(X, y, stratify=y, test_size=0.2, shuffle=True)"
   ]
  },
  {
   "cell_type": "code",
   "execution_count": 294,
   "metadata": {},
   "outputs": [],
   "source": [
    "def dummy(doc):\n",
    "    return doc\n",
    "\n",
    "tfidf = TfidfVectorizer(tokenizer=dummy,preprocessor=dummy,lowercase=False)    "
   ]
  },
  {
   "cell_type": "code",
   "execution_count": 295,
   "metadata": {},
   "outputs": [],
   "source": [
    "X_train = tfidf.fit_transform(X_train)\n",
    "X_test = tfidf.transform(X_test)"
   ]
  },
  {
   "cell_type": "code",
   "execution_count": 310,
   "metadata": {},
   "outputs": [
    {
     "data": {
      "text/plain": [
       "['A',\n",
       " 'C',\n",
       " 'D',\n",
       " 'E',\n",
       " 'F',\n",
       " 'G',\n",
       " 'H',\n",
       " 'I',\n",
       " 'K',\n",
       " 'L',\n",
       " 'M',\n",
       " 'N',\n",
       " 'P',\n",
       " 'Q',\n",
       " 'R',\n",
       " 'S',\n",
       " 'T',\n",
       " 'V',\n",
       " 'W',\n",
       " 'Y']"
      ]
     },
     "execution_count": 310,
     "metadata": {},
     "output_type": "execute_result"
    }
   ],
   "source": [
    "tfidf.get_feature_names()"
   ]
  },
  {
   "cell_type": "code",
   "execution_count": 311,
   "metadata": {},
   "outputs": [
    {
     "data": {
      "text/plain": [
       "20"
      ]
     },
     "execution_count": 311,
     "metadata": {},
     "output_type": "execute_result"
    }
   ],
   "source": [
    "len(tfidf.get_feature_names())"
   ]
  },
  {
   "cell_type": "code",
   "execution_count": 296,
   "metadata": {},
   "outputs": [
    {
     "name": "stdout",
     "output_type": "stream",
     "text": [
      "              precision    recall  f1-score   support\n",
      "\n",
      "           0       0.86      0.90      0.88       835\n",
      "           1       0.90      0.85      0.87       835\n",
      "\n",
      "    accuracy                           0.88      1670\n",
      "   macro avg       0.88      0.88      0.88      1670\n",
      "weighted avg       0.88      0.88      0.88      1670\n",
      "\n"
     ]
    }
   ],
   "source": [
    "rfs = RandomForestClassifier()\n",
    "\n",
    "rfs.fit(X_train,y_train)\n",
    "\n",
    "y_pred = rfs.predict(X_test)\n",
    "\n",
    "print(classification_report(y_test, y_pred))"
   ]
  },
  {
   "cell_type": "code",
   "execution_count": 312,
   "metadata": {},
   "outputs": [],
   "source": [
    "#positive_examples = fasta_to_str_set('AMP_20190407.fa')\n",
    "#.union(fasta_to_str_set('M_model_train_AMP_sequence.numbered.fasta'))\n",
    "positive_examples = fasta_to_str_set('M_model_train_AMP_sequence.numbered.fasta')\n",
    "#negative_examples = fasta_to_str_set('non_AMP_20190413.fa')\n",
    "#.union(fasta_to_str_set('M_model_train_nonAMP_sequence.numbered.fasta'))\n",
    "negative_examples = fasta_to_str_set('M_model_train_nonAMP_sequence.numbered.fasta')"
   ]
  },
  {
   "cell_type": "code",
   "execution_count": 313,
   "metadata": {},
   "outputs": [
    {
     "data": {
      "text/plain": [
       "Text(0.5, 1.0, 'Negative Sequence Lengths')"
      ]
     },
     "execution_count": 313,
     "metadata": {},
     "output_type": "execute_result"
    },
    {
     "data": {
      "image/png": "[encoded data removed]",
      "text/plain": [
       "<Figure size 432x288 with 2 Axes>"
      ]
     },
     "metadata": {
      "needs_background": "light"
     },
     "output_type": "display_data"
    }
   ],
   "source": [
    "fig, axes = plt.subplots(1,2)\n",
    "axes[0].hist([len(seq) for seq in positive_examples])\n",
    "axes[0].set_title('Positive Sequence Lengths')\n",
    "axes[1].hist([len(seq) for seq in negative_examples])\n",
    "axes[1].set_title('Negative Sequence Lengths')"
   ]
  },
  {
   "cell_type": "code",
   "execution_count": 314,
   "metadata": {},
   "outputs": [
    {
     "name": "stdout",
     "output_type": "stream",
     "text": [
      "(170059, 3)\n"
     ]
    }
   ],
   "source": [
    "df_orig_p1 = pd.DataFrame(positive_examples,columns=['Sequence'])\n",
    "df_orig_p1['Label'] = 1\n",
    "df_orig_p1['SqLen'] = np.array([len(seq) for seq in positive_examples])\n",
    "\n",
    "df_orig_n1 = pd.DataFrame(negative_examples,columns=['Sequence'])\n",
    "df_orig_n1['SqLen'] = np.array([len(seq) for seq in negative_examples])\n",
    "df_orig_n1['Label'] = 0\n",
    "\n",
    "df1 = pd.DataFrame()\n",
    "df1 = df1.append(df_orig_p1,ignore_index=True)\n",
    "df1 = df1.append(df_orig_n1,ignore_index=True)\n",
    "print(df1.shape)"
   ]
  },
  {
   "cell_type": "code",
   "execution_count": 315,
   "metadata": {},
   "outputs": [],
   "source": [
    "df1['Sequence']  = df1['Sequence'] .map(lambda x: cleanData(x))\n",
    "\n",
    "X = df1.Sequence\n",
    "y = df1.Label\n",
    "\n",
    "X_train, X_test, y_train, y_test = train_test_split(X, y, stratify=y, test_size=0.2, shuffle=True)\n",
    "\n",
    "X_train = tfidf.fit_transform(X_train)\n",
    "X_test = tfidf.transform(X_test)"
   ]
  },
  {
   "cell_type": "code",
   "execution_count": 316,
   "metadata": {},
   "outputs": [
    {
     "data": {
      "text/plain": [
       "['A',\n",
       " 'C',\n",
       " 'D',\n",
       " 'E',\n",
       " 'F',\n",
       " 'G',\n",
       " 'H',\n",
       " 'I',\n",
       " 'K',\n",
       " 'L',\n",
       " 'M',\n",
       " 'N',\n",
       " 'P',\n",
       " 'Q',\n",
       " 'R',\n",
       " 'S',\n",
       " 'T',\n",
       " 'V',\n",
       " 'W',\n",
       " 'Y']"
      ]
     },
     "execution_count": 316,
     "metadata": {},
     "output_type": "execute_result"
    }
   ],
   "source": [
    "tfidf.get_feature_names()"
   ]
  },
  {
   "cell_type": "code",
   "execution_count": 317,
   "metadata": {},
   "outputs": [
    {
     "data": {
      "text/plain": [
       "20"
      ]
     },
     "execution_count": 317,
     "metadata": {},
     "output_type": "execute_result"
    }
   ],
   "source": [
    "len(tfidf.get_feature_names())"
   ]
  },
  {
   "cell_type": "code",
   "execution_count": 318,
   "metadata": {},
   "outputs": [
    {
     "name": "stdout",
     "output_type": "stream",
     "text": [
      "              precision    recall  f1-score   support\n",
      "\n",
      "           0       0.99      1.00      0.99     33358\n",
      "           1       0.70      0.50      0.58       654\n",
      "\n",
      "    accuracy                           0.99     34012\n",
      "   macro avg       0.84      0.75      0.79     34012\n",
      "weighted avg       0.98      0.99      0.99     34012\n",
      "\n"
     ]
    }
   ],
   "source": [
    "rfs = RandomForestClassifier()\n",
    "\n",
    "rfs.fit(X_train,y_train)\n",
    "\n",
    "y_pred = rfs.predict(X_test)\n",
    "\n",
    "print(classification_report(y_test, y_pred))"
   ]
  },
  {
   "cell_type": "code",
   "execution_count": 241,
   "metadata": {},
   "outputs": [
    {
     "data": {
      "text/html": [
       "<div>\n",
       "<style scoped>\n",
       "    .dataframe tbody tr th:only-of-type {\n",
       "        vertical-align: middle;\n",
       "    }\n",
       "\n",
       "    .dataframe tbody tr th {\n",
       "        vertical-align: top;\n",
       "    }\n",
       "\n",
       "    .dataframe thead th {\n",
       "        text-align: right;\n",
       "    }\n",
       "</style>\n",
       "<table border=\"1\" class=\"dataframe\">\n",
       "  <thead>\n",
       "    <tr style=\"text-align: right;\">\n",
       "      <th></th>\n",
       "      <th>Sequences</th>\n",
       "      <th>Labels</th>\n",
       "      <th>SqLen</th>\n",
       "    </tr>\n",
       "  </thead>\n",
       "  <tbody>\n",
       "    <tr>\n",
       "      <th>0</th>\n",
       "      <td>AVNIPFKVHFRCKAAFC</td>\n",
       "      <td>1</td>\n",
       "      <td>17</td>\n",
       "    </tr>\n",
       "    <tr>\n",
       "      <th>1</th>\n",
       "      <td>GFGPAFHSVSNFAKKHKTA</td>\n",
       "      <td>1</td>\n",
       "      <td>19</td>\n",
       "    </tr>\n",
       "    <tr>\n",
       "      <th>2</th>\n",
       "      <td>ELPKLPDDKVLIRSRSNCPKGKVWNGFDCKSPFAFS</td>\n",
       "      <td>1</td>\n",
       "      <td>36</td>\n",
       "    </tr>\n",
       "    <tr>\n",
       "      <th>3</th>\n",
       "      <td>FLPIIGKLLSG</td>\n",
       "      <td>1</td>\n",
       "      <td>11</td>\n",
       "    </tr>\n",
       "    <tr>\n",
       "      <th>4</th>\n",
       "      <td>KPAWCWYTLAMCGAGYDSGTCDYMYSHCFGIKHHSSGSSSYHC</td>\n",
       "      <td>1</td>\n",
       "      <td>43</td>\n",
       "    </tr>\n",
       "    <tr>\n",
       "      <th>...</th>\n",
       "      <td>...</td>\n",
       "      <td>...</td>\n",
       "      <td>...</td>\n",
       "    </tr>\n",
       "    <tr>\n",
       "      <th>8341</th>\n",
       "      <td>KNWAVLVAGSDGLPNYRHHADV</td>\n",
       "      <td>0</td>\n",
       "      <td>22</td>\n",
       "    </tr>\n",
       "    <tr>\n",
       "      <th>8342</th>\n",
       "      <td>SCADAYKSCDSLKCCNNRTCMCSMIGTNCTCRKK</td>\n",
       "      <td>0</td>\n",
       "      <td>34</td>\n",
       "    </tr>\n",
       "    <tr>\n",
       "      <th>8343</th>\n",
       "      <td>VAILGAAGGIGQPLSLLMKDDLFNINAGIVK</td>\n",
       "      <td>0</td>\n",
       "      <td>31</td>\n",
       "    </tr>\n",
       "    <tr>\n",
       "      <th>8344</th>\n",
       "      <td>VVSCADILAVAAR</td>\n",
       "      <td>0</td>\n",
       "      <td>13</td>\n",
       "    </tr>\n",
       "    <tr>\n",
       "      <th>8345</th>\n",
       "      <td>MPTITSYFCLLLAALTLTLALFIGLSKRQLI</td>\n",
       "      <td>0</td>\n",
       "      <td>31</td>\n",
       "    </tr>\n",
       "  </tbody>\n",
       "</table>\n",
       "<p>8346 rows × 3 columns</p>\n",
       "</div>"
      ],
      "text/plain": [
       "                                        Sequences  Labels  SqLen\n",
       "0                               AVNIPFKVHFRCKAAFC       1     17\n",
       "1                             GFGPAFHSVSNFAKKHKTA       1     19\n",
       "2            ELPKLPDDKVLIRSRSNCPKGKVWNGFDCKSPFAFS       1     36\n",
       "3                                     FLPIIGKLLSG       1     11\n",
       "4     KPAWCWYTLAMCGAGYDSGTCDYMYSHCFGIKHHSSGSSSYHC       1     43\n",
       "...                                           ...     ...    ...\n",
       "8341                       KNWAVLVAGSDGLPNYRHHADV       0     22\n",
       "8342           SCADAYKSCDSLKCCNNRTCMCSMIGTNCTCRKK       0     34\n",
       "8343              VAILGAAGGIGQPLSLLMKDDLFNINAGIVK       0     31\n",
       "8344                                VVSCADILAVAAR       0     13\n",
       "8345              MPTITSYFCLLLAALTLTLALFIGLSKRQLI       0     31\n",
       "\n",
       "[8346 rows x 3 columns]"
      ]
     },
     "execution_count": 241,
     "metadata": {},
     "output_type": "execute_result"
    }
   ],
   "source": [
    "df2 = df[df['SqLen'] < 201]\n",
    "df2.reset_index(drop=True, inplace=True)\n",
    "df2"
   ]
  },
  {
   "cell_type": "code",
   "execution_count": 242,
   "metadata": {},
   "outputs": [
    {
     "data": {
      "text/plain": [
       "Text(0.5, 1.0, 'Negative Sequence Lengths')"
      ]
     },
     "execution_count": 242,
     "metadata": {},
     "output_type": "execute_result"
    },
    {
     "data": {
      "image/png": "[encoded data removed]",
      "text/plain": [
       "<Figure size 432x288 with 2 Axes>"
      ]
     },
     "metadata": {
      "needs_background": "light"
     },
     "output_type": "display_data"
    }
   ],
   "source": [
    "fig, axes = plt.subplots(1,2)\n",
    "axes[0].hist(df2[df2['Labels'] == 1].SqLen)\n",
    "axes[0].set_title('Positive Sequence Lengths')\n",
    "axes[1].hist(df2[df2['Labels'] == 0].SqLen)\n",
    "axes[1].set_title('Negative Sequence Lengths')"
   ]
  },
  {
   "cell_type": "code",
   "execution_count": null,
   "metadata": {},
   "outputs": [],
   "source": []
  },
  {
   "cell_type": "markdown",
   "metadata": {},
   "source": [
    "Keep Test data seperate"
   ]
  },
  {
   "cell_type": "markdown",
   "metadata": {},
   "source": [
    "Try score function from amPEPpy"
   ]
  },
  {
   "cell_type": "markdown",
   "metadata": {},
   "source": [
    "# Code from https://github.com/tlawrence3/amPEPpy/blob/master/amPEPpy/amPEP.py\n",
    "from datetime import date\n",
    "\n",
    "def score(fasta_handle):\n",
    "    CTD = {'hydrophobicity': {1: ['R', 'K', 'E', 'D', 'Q', 'N'], 2: ['G', 'A', 'S', 'T', 'P', 'H', 'Y'], 3: ['C', 'L', 'V', 'I', 'M', 'F', 'W']},\n",
    "           'normalized.van.der.waals': {1: ['G', 'A', 'S', 'T', 'P', 'D', 'C'], 2: ['N', 'V', 'E', 'Q', 'I', 'L'], 3: ['M', 'H', 'K', 'F', 'R', 'Y', 'W']},\n",
    "           'polarity': {1: ['L', 'I', 'F', 'W', 'C', 'M', 'V', 'Y'], 2: ['P', 'A', 'T', 'G', 'S'], 3: ['H', 'Q', 'R', 'K', 'N', 'E', 'D']},\n",
    "           'polarizability': {1: ['G', 'A', 'S', 'D', 'T'], 2: ['C', 'P', 'N', 'V', 'E', 'Q', 'I', 'L'], 3: ['K', 'M', 'H', 'F', 'R', 'Y', 'W']},\n",
    "           'charge': {1: ['K', 'R'], 2: ['A', 'N', 'C', 'Q', 'G', 'H', 'I', 'L', 'M', 'F', 'P', 'S', 'T', 'W', 'Y', 'V'], 3: ['D', 'E']},\n",
    "           'secondary': {1: ['E', 'A', 'L', 'M', 'Q', 'K', 'R', 'H'], 2: ['V', 'I', 'Y', 'C', 'W', 'F', 'T'], 3: ['G', 'N', 'P', 'S', 'D']},\n",
    "           'solvent': {1: ['A', 'L', 'F', 'C', 'G', 'I', 'V', 'W'], 2: ['R', 'K', 'Q', 'E', 'N', 'D'], 3: ['M', 'S', 'P', 'T', 'H', 'Y']}}\n",
    "    header = []\n",
    "    groups = [1, 2, 3]\n",
    "    values = [0, 25, 50, 75, 100]\n",
    "    for AAproperty in CTD:\n",
    "        for types in groups:\n",
    "            for numbers in values:\n",
    "                label = \"\"\n",
    "                label = label.join(\"{}.{}.{}\".format(AAproperty, types, numbers))\n",
    "                header.append(label)\n",
    "    All_groups = []\n",
    "    Sequence_names = []\n",
    "    for sequences in SeqIO.parse(fasta_handle, \"fasta\"):\n",
    "        sequence_name = sequences.id\n",
    "        Sequence_names.append(sequence_name)\n",
    "        sequence = str(sequences.seq)\n",
    "        sequence=sequence.replace(\"*\",\"\")\n",
    "        sequencelength=len(sequence)\n",
    "        Sequence_group = []\n",
    "        for AAproperty in CTD:\n",
    "            propvalues = \"\"\n",
    "            for letter in sequence:\n",
    "                if letter in CTD[AAproperty][1]:\n",
    "                    propvalues += \"1\"\n",
    "                elif letter in CTD[AAproperty][2]:\n",
    "                    propvalues += \"2\"\n",
    "                elif letter in CTD[AAproperty][3]:\n",
    "                    propvalues += \"3\"\n",
    "            abpos_1 = [i for i in range(len(propvalues)) if propvalues.startswith(\"1\", i)]\n",
    "            abpos_1 = [x+1 for x in abpos_1]\n",
    "            abpos_1.insert(0, \"-\")\n",
    "            abpos_2 = [i for i in range(len(propvalues)) if propvalues.startswith(\"2\", i)]\n",
    "            abpos_2 = [x+1 for x in abpos_2]\n",
    "            abpos_2.insert(0, \"-\")\n",
    "            abpos_3 = [i for i in range(len(propvalues)) if propvalues.startswith(\"3\", i)]\n",
    "            abpos_3 = [x+1 for x in abpos_3]\n",
    "            abpos_3.insert(0, \"-\")\n",
    "            property_group1_length = propvalues.count(\"1\")\n",
    "            if property_group1_length == 0:\n",
    "                Sequence_group.extend([0, 0, 0, 0, 0])\n",
    "            elif property_group1_length == 1:\n",
    "                Sequence_group.append((abpos_1[1]/sequencelength)*100)\n",
    "                Sequence_group.append((abpos_1[1]/sequencelength)*100)\n",
    "                Sequence_group.append((abpos_1[1]/sequencelength)*100)\n",
    "                Sequence_group.append((abpos_1[1]/sequencelength)*100)\n",
    "                Sequence_group.append((abpos_1[1]/sequencelength)*100)\n",
    "            elif property_group1_length == 2:\n",
    "                Sequence_group.append((abpos_1[1]/sequencelength)*100)\n",
    "                Sequence_group.append((abpos_1[1]/sequencelength)*100)\n",
    "                Sequence_group.append((abpos_1[round((0.5*property_group1_length)-0.1)]/sequencelength)*100)\n",
    "                Sequence_group.append((abpos_1[round((0.75*property_group1_length)-0.1)]/sequencelength)*100)\n",
    "                Sequence_group.append((abpos_1[property_group1_length]/sequencelength)*100)\n",
    "            else:\n",
    "                Sequence_group.append((abpos_1[1]/sequencelength)*100)\n",
    "                Sequence_group.append((abpos_1[round((0.25*property_group1_length)-0.1)]/sequencelength)*100)\n",
    "                Sequence_group.append((abpos_1[round((0.5*property_group1_length)-0.1)]/sequencelength)*100)\n",
    "                Sequence_group.append((abpos_1[round((0.75*property_group1_length)-0.1)]/sequencelength)*100)\n",
    "                Sequence_group.append((abpos_1[property_group1_length]/sequencelength)*100)\n",
    "\n",
    "            property_group2_length = propvalues.count(\"2\")\n",
    "            if property_group2_length == 0:\n",
    "                Sequence_group.extend([0, 0, 0, 0, 0])\n",
    "            elif property_group2_length == 1:\n",
    "                Sequence_group.append((abpos_2[1]/sequencelength)*100)\n",
    "                Sequence_group.append((abpos_2[1]/sequencelength)*100)\n",
    "                Sequence_group.append((abpos_2[1]/sequencelength)*100)\n",
    "                Sequence_group.append((abpos_2[1]/sequencelength)*100)\n",
    "                Sequence_group.append((abpos_2[1]/sequencelength)*100)\n",
    "            elif property_group2_length == 2:\n",
    "                Sequence_group.append((abpos_2[1]/sequencelength)*100)\n",
    "                Sequence_group.append((abpos_2[1]/sequencelength)*100)\n",
    "                Sequence_group.append((abpos_2[round((0.5*property_group2_length)-0.1)]/sequencelength)*100)\n",
    "                Sequence_group.append((abpos_2[round((0.75*property_group2_length)-0.1)]/sequencelength)*100)\n",
    "                Sequence_group.append((abpos_2[property_group2_length]/sequencelength)*100)\n",
    "            else:\n",
    "                Sequence_group.append((abpos_2[1]/sequencelength)*100)\n",
    "                Sequence_group.append((abpos_2[round((0.25*property_group2_length)-0.1)]/sequencelength)*100)\n",
    "                Sequence_group.append((abpos_2[round((0.5*property_group2_length)-0.1)]/sequencelength)*100)\n",
    "                Sequence_group.append((abpos_2[round((0.75*property_group2_length)-0.1)]/sequencelength)*100)\n",
    "                Sequence_group.append((abpos_2[property_group2_length]/sequencelength)*100)\n",
    "\n",
    "            property_group3_length = propvalues.count(\"3\")\n",
    "            if property_group3_length == 0:\n",
    "                Sequence_group.extend([0, 0, 0, 0, 0])\n",
    "            elif property_group3_length == 1:\n",
    "                Sequence_group.append((abpos_3[1]/sequencelength)*100)\n",
    "                Sequence_group.append((abpos_3[1]/sequencelength)*100)\n",
    "                Sequence_group.append((abpos_3[1]/sequencelength)*100)\n",
    "                Sequence_group.append((abpos_3[1]/sequencelength)*100)\n",
    "                Sequence_group.append((abpos_3[1]/sequencelength)*100)\n",
    "            elif property_group3_length == 2:\n",
    "                Sequence_group.append((abpos_3[1]/sequencelength)*100)\n",
    "                Sequence_group.append((abpos_3[1]/sequencelength)*100)\n",
    "                Sequence_group.append((abpos_3[round((0.5*property_group3_length)-0.1)]/sequencelength)*100)\n",
    "                Sequence_group.append((abpos_3[round((0.75*property_group3_length)-0.1)]/sequencelength)*100)\n",
    "                Sequence_group.append((abpos_3[property_group3_length]/sequencelength)*100)\n",
    "            else:\n",
    "                Sequence_group.append((abpos_3[1]/sequencelength)*100)\n",
    "                Sequence_group.append((abpos_3[round((0.25*property_group3_length)-0.1)]/sequencelength)*100)\n",
    "                Sequence_group.append((abpos_3[round((0.5*property_group3_length)-0.1)]/sequencelength)*100)\n",
    "                Sequence_group.append((abpos_3[round((0.75*property_group3_length)-0.1)]/sequencelength)*100)\n",
    "                Sequence_group.append((abpos_3[property_group3_length]/sequencelength)*100)\n",
    "        All_groups.append(Sequence_group)\n",
    "\n",
    "    Property_dataframe = pd.DataFrame.from_dict(All_groups)\n",
    "    Property_dataframe.columns = header\n",
    "    Property_dataframe.index = Sequence_names\n",
    "    Property_dataframe.to_csv(f'{date.today().strftime(\"%Y%m%d\")}_scored_features.csv', index=True, index_label=\"sequence_name\")\n",
    "    return Property_dataframe"
   ]
  },
  {
   "cell_type": "markdown",
   "metadata": {},
   "source": [
    "score('AMP_20190407.fa')"
   ]
  },
  {
   "cell_type": "markdown",
   "metadata": {},
   "source": [
    "score('M_model_train_AMP_sequence.numbered.fasta')"
   ]
  },
  {
   "cell_type": "markdown",
   "metadata": {},
   "source": [
    "score('non_AMP_20190413.fa')"
   ]
  },
  {
   "cell_type": "markdown",
   "metadata": {},
   "source": [
    "score('M_model_train_nonAMP_sequence.numbered.fasta')"
   ]
  },
  {
   "cell_type": "code",
   "execution_count": null,
   "metadata": {},
   "outputs": [],
   "source": []
  }
 ],
 "metadata": {
  "colab": {
   "collapsed_sections": [],
   "name": "IFT6390 Final Project.ipynb",
   "provenance": [],
   "toc_visible": true
  },
  "kernelspec": {
   "display_name": "Python 3",
   "language": "python",
   "name": "python3"
  },
  "language_info": {
   "codemirror_mode": {
    "name": "ipython",
    "version": 3
   },
   "file_extension": ".py",
   "mimetype": "text/x-python",
   "name": "python",
   "nbconvert_exporter": "python",
   "pygments_lexer": "ipython3",
   "version": "3.8.6"
  }
 },
 "nbformat": 4,
 "nbformat_minor": 4
}
